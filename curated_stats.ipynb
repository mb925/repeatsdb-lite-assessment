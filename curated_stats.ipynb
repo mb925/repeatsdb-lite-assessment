{
 "cells": [
  {
   "cell_type": "code",
   "execution_count": 1,
   "outputs": [],
   "source": [
    "from functools import reduce\n",
    "import pandas as pd\n",
    "import json"
   ],
   "metadata": {
    "collapsed": false,
    "ExecuteTime": {
     "end_time": "2023-09-27T13:58:46.762904362Z",
     "start_time": "2023-09-27T13:58:45.928255499Z"
    }
   }
  },
  {
   "cell_type": "code",
   "execution_count": 2,
   "outputs": [],
   "source": [
    "# Get info such as number of pdb, units...\n",
    "f = open('data/entries.json')\n",
    "pdbs_list = pd.read_csv('data/input.txt', sep=' ')\n",
    "\n",
    "data = json.load(f)\n",
    "data = pd.DataFrame.from_records(data)\n",
    "data = data.loc[data['class'] != \"\"]\n",
    "data = pd.merge(data, pdbs_list, on=['pdb_id', 'pdb_chain'], how='right')"
   ],
   "metadata": {
    "collapsed": false,
    "ExecuteTime": {
     "end_time": "2023-09-27T13:58:48.500015360Z",
     "start_time": "2023-09-27T13:58:46.764709159Z"
    }
   }
  },
  {
   "cell_type": "code",
   "execution_count": 3,
   "outputs": [
    {
     "name": "stderr",
     "output_type": "stream",
     "text": [
      "/tmp/ipykernel_3912146/186686533.py:4: FutureWarning: The frame.append method is deprecated and will be removed from pandas in a future version. Use pandas.concat instead.\n",
      "  pdbs_top = pdbs_top.append(pdbs_top.sum(numeric_only=True), ignore_index=True).fillna('Total')\n",
      "/tmp/ipykernel_3912146/186686533.py:7: FutureWarning: The frame.append method is deprecated and will be removed from pandas in a future version. Use pandas.concat instead.\n",
      "  pdbs_cl = pdbs_cl.append(pdbs_cl.sum(numeric_only=True), ignore_index=True).fillna('Total')\n"
     ]
    }
   ],
   "source": [
    " # pdb chains\n",
    "pdbs_top = data.groupby(['repeatsdb_id','class_topology'])['class_topology'].size().reset_index(name='PDB chains')\n",
    "pdbs_top = pdbs_top.groupby(['class_topology']).size().reset_index(name='PDB chains')\n",
    "pdbs_top = pdbs_top.append(pdbs_top.sum(numeric_only=True), ignore_index=True).fillna('Total')\n",
    "pdbs_cl = data.groupby(['repeatsdb_id','class'])['class'].size().reset_index(name='PDB chains')\n",
    "pdbs_cl = pdbs_cl.groupby(['class']).size().reset_index(name='PDB chains')\n",
    "pdbs_cl = pdbs_cl.append(pdbs_cl.sum(numeric_only=True), ignore_index=True).fillna('Total')"
   ],
   "metadata": {
    "collapsed": false,
    "ExecuteTime": {
     "end_time": "2023-09-27T13:58:48.725747880Z",
     "start_time": "2023-09-27T13:58:48.508980883Z"
    }
   }
  },
  {
   "cell_type": "code",
   "execution_count": 4,
   "outputs": [
    {
     "name": "stderr",
     "output_type": "stream",
     "text": [
      "/tmp/ipykernel_3912146/1279149853.py:4: FutureWarning: The frame.append method is deprecated and will be removed from pandas in a future version. Use pandas.concat instead.\n",
      "  regions_top = regions_top.append(regions_top.sum(numeric_only=True), ignore_index=True).fillna('Total')\n",
      "/tmp/ipykernel_3912146/1279149853.py:7: FutureWarning: The frame.append method is deprecated and will be removed from pandas in a future version. Use pandas.concat instead.\n",
      "  regions_cl = regions_cl.append(regions_cl.sum(numeric_only=True), ignore_index=True).fillna('Total')\n"
     ]
    }
   ],
   "source": [
    " # regions\n",
    "regions_top = data.groupby(['region_id','class_topology'])['class_topology'].size().reset_index(name='Regions')\n",
    "regions_top = regions_top.groupby(['class_topology']).size().reset_index(name='Regions')\n",
    "regions_top = regions_top.append(regions_top.sum(numeric_only=True), ignore_index=True).fillna('Total')\n",
    "regions_cl = data.groupby(['region_id','class'])['class'].size().reset_index(name='Regions')\n",
    "regions_cl = regions_cl.groupby(['class']).size().reset_index(name='Regions')\n",
    "regions_cl = regions_cl.append(regions_cl.sum(numeric_only=True), ignore_index=True).fillna('Total')"
   ],
   "metadata": {
    "collapsed": false,
    "ExecuteTime": {
     "end_time": "2023-09-27T13:58:48.769098611Z",
     "start_time": "2023-09-27T13:58:48.740489785Z"
    }
   }
  },
  {
   "cell_type": "code",
   "execution_count": 5,
   "outputs": [
    {
     "name": "stderr",
     "output_type": "stream",
     "text": [
      "/tmp/ipykernel_3912146/3976614780.py:4: FutureWarning: The frame.append method is deprecated and will be removed from pandas in a future version. Use pandas.concat instead.\n",
      "  units_top = units_top.append(units_top.sum(numeric_only=True), ignore_index=True).fillna('Total')\n",
      "/tmp/ipykernel_3912146/3976614780.py:6: FutureWarning: The frame.append method is deprecated and will be removed from pandas in a future version. Use pandas.concat instead.\n",
      "  units_cl = units_cl.append(units_cl.sum(numeric_only=True), ignore_index=True).fillna('Total')\n"
     ]
    }
   ],
   "source": [
    " # units\n",
    "units = data.loc[data['type'] == 'unit']\n",
    "units_top = units.groupby(['class_topology'])['class_topology'].size().reset_index(name='Units')\n",
    "units_top = units_top.append(units_top.sum(numeric_only=True), ignore_index=True).fillna('Total')\n",
    "units_cl = units.groupby(['class'])['class'].size().reset_index(name='Units')\n",
    "units_cl = units_cl.append(units_cl.sum(numeric_only=True), ignore_index=True).fillna('Total')"
   ],
   "metadata": {
    "collapsed": false,
    "ExecuteTime": {
     "end_time": "2023-09-27T13:58:49.003240919Z",
     "start_time": "2023-09-27T13:58:48.770629905Z"
    }
   }
  },
  {
   "cell_type": "code",
   "execution_count": 6,
   "outputs": [
    {
     "name": "stderr",
     "output_type": "stream",
     "text": [
      "/tmp/ipykernel_3912146/3446545794.py:3: FutureWarning: Dropping of nuisance columns in DataFrame reductions (with 'numeric_only=None') is deprecated; in a future version this will raise TypeError.  Select only valid columns before calling the reduction.\n",
      "  avg_units_top = avg_units_top.append(avg_units_top.mean().round(2), ignore_index=True).fillna('Total')\n",
      "/tmp/ipykernel_3912146/3446545794.py:3: FutureWarning: The frame.append method is deprecated and will be removed from pandas in a future version. Use pandas.concat instead.\n",
      "  avg_units_top = avg_units_top.append(avg_units_top.mean().round(2), ignore_index=True).fillna('Total')\n",
      "/tmp/ipykernel_3912146/3446545794.py:5: FutureWarning: The frame.append method is deprecated and will be removed from pandas in a future version. Use pandas.concat instead.\n",
      "  avg_units_cl = avg_units_cl.append({'class': 'Total', 'Unit len': avg_units_cl['Unit len'].mean()}, ignore_index=True)\n"
     ]
    }
   ],
   "source": [
    " # avg_units_len\n",
    "avg_units_top = units.groupby(['class_topology'])['region_average_unit_length'].mean().round(2).reset_index(name='Unit len')\n",
    "avg_units_top = avg_units_top.append(avg_units_top.mean().round(2), ignore_index=True).fillna('Total')\n",
    "avg_units_cl = units.groupby(['class'])['region_average_unit_length'].mean().round(2).reset_index(name='Unit len')\n",
    "avg_units_cl = avg_units_cl.append({'class': 'Total', 'Unit len': avg_units_cl['Unit len'].mean()}, ignore_index=True)"
   ],
   "metadata": {
    "collapsed": false,
    "ExecuteTime": {
     "end_time": "2023-09-27T13:58:49.173515813Z",
     "start_time": "2023-09-27T13:58:49.001789875Z"
    }
   }
  },
  {
   "cell_type": "code",
   "execution_count": 7,
   "outputs": [
    {
     "name": "stdout",
     "output_type": "stream",
     "text": [
      "   class_topology  Unit len STD\n",
      "0             2.2         0.000\n",
      "1             3.1         5.390\n",
      "2             3.2         2.020\n",
      "3             3.3         5.010\n",
      "4             3.4         3.530\n",
      "5             3.6         6.610\n",
      "6             4.1         3.970\n",
      "7            4.10         2.940\n",
      "8             4.2         9.720\n",
      "9             4.3         4.790\n",
      "10            4.4         6.200\n",
      "11            4.5         1.610\n",
      "12            4.6         8.260\n",
      "13            4.7         0.000\n",
      "14            4.9         2.490\n",
      "15            5.1        20.990\n",
      "16            5.2        25.790\n",
      "17            5.3        13.920\n",
      "18            5.4        20.110\n",
      "19            5.5        10.890\n",
      "20          Total         7.712\n"
     ]
    },
    {
     "name": "stderr",
     "output_type": "stream",
     "text": [
      "/tmp/ipykernel_3912146/1260490437.py:4: FutureWarning: The frame.append method is deprecated and will be removed from pandas in a future version. Use pandas.concat instead.\n",
      "  std_units_top = std_units_top.append({'class_topology': 'Total', 'Unit len STD': std_units_top['Unit len STD'].mean()}, ignore_index=True)\n",
      "/tmp/ipykernel_3912146/1260490437.py:8: FutureWarning: The frame.append method is deprecated and will be removed from pandas in a future version. Use pandas.concat instead.\n",
      "  std_units_cl = std_units_cl.append({'class': 'Total', 'Unit len STD': std_units_cl['Unit len STD'].mean()}, ignore_index=True).fillna('Total')\n"
     ]
    }
   ],
   "source": [
    "# std\n",
    "std_units_top = units.groupby(['class_topology'])['region_average_unit_length'].std().round(2).reset_index(\n",
    "    name='Unit len STD')\n",
    "std_units_top = std_units_top.append({'class_topology': 'Total', 'Unit len STD': std_units_top['Unit len STD'].mean()}, ignore_index=True)\n",
    "print(std_units_top)\n",
    "std_units_cl = units.groupby(['class'])['region_average_unit_length'].std().round(2).reset_index(\n",
    "    name='Unit len STD')\n",
    "std_units_cl = std_units_cl.append({'class': 'Total', 'Unit len STD': std_units_cl['Unit len STD'].mean()}, ignore_index=True).fillna('Total')\n"
   ],
   "metadata": {
    "collapsed": false,
    "ExecuteTime": {
     "end_time": "2023-09-27T13:58:50.778183095Z",
     "start_time": "2023-09-27T13:58:49.178197486Z"
    }
   }
  },
  {
   "cell_type": "code",
   "execution_count": 8,
   "outputs": [
    {
     "name": "stderr",
     "output_type": "stream",
     "text": [
      "/tmp/ipykernel_3912146/1853083527.py:9: FutureWarning: The frame.append method is deprecated and will be removed from pandas in a future version. Use pandas.concat instead.\n",
      "  uniprot_top = uniprot_top.append(uniprot_top.sum(numeric_only=True), ignore_index=True).fillna('Total')\n",
      "/tmp/ipykernel_3912146/1853083527.py:12: FutureWarning: The frame.append method is deprecated and will be removed from pandas in a future version. Use pandas.concat instead.\n",
      "  uniprot_cl = uniprot_cl.append(uniprot_cl.sum(numeric_only=True), ignore_index=True).fillna('Total')\n"
     ]
    }
   ],
   "source": [
    "# uniprot\n",
    "uniprot = pd.read_csv('data/pdb_chain_uniprot.tsv',  sep='\\t', header=1, index_col='SP_PRIMARY').reset_index()\n",
    "uniprot['repeatsdb_id']=uniprot['PDB'] + uniprot['CHAIN']\n",
    "up = uniprot[['SP_PRIMARY', 'repeatsdb_id']]\n",
    "\n",
    "uniprot_pdb = data.merge(up, how='left', on='repeatsdb_id')\n",
    "uniprot_top = uniprot_pdb.groupby(['SP_PRIMARY','class_topology'])['class_topology'].size().reset_index(name='UniProt')\n",
    "uniprot_top = uniprot_top.groupby(['class_topology'])['class_topology'].size().reset_index(name='UniProt')\n",
    "uniprot_top = uniprot_top.append(uniprot_top.sum(numeric_only=True), ignore_index=True).fillna('Total')\n",
    "uniprot_cl = uniprot_pdb.groupby(['SP_PRIMARY', 'class'])['class'].size().reset_index(name='UniProt')\n",
    "uniprot_cl = uniprot_cl.groupby(['class'])['class'].size().reset_index(name='UniProt')\n",
    "uniprot_cl = uniprot_cl.append(uniprot_cl.sum(numeric_only=True), ignore_index=True).fillna('Total')"
   ],
   "metadata": {
    "collapsed": false,
    "ExecuteTime": {
     "end_time": "2023-09-27T13:58:51.931056298Z",
     "start_time": "2023-09-27T13:58:50.780682962Z"
    }
   }
  },
  {
   "cell_type": "code",
   "execution_count": 9,
   "outputs": [],
   "source": [
    "class_table = reduce(lambda x, y: pd.merge(x, y, on='class', how='outer'), [pdbs_cl, regions_cl, units_cl, avg_units_cl, std_units_cl, uniprot_cl])\n",
    "class_table.to_csv(\"tables/classes_count.csv\",index=False)"
   ],
   "metadata": {
    "collapsed": false,
    "ExecuteTime": {
     "end_time": "2023-09-27T13:58:52.175344314Z",
     "start_time": "2023-09-27T13:58:52.131713657Z"
    }
   }
  },
  {
   "cell_type": "markdown",
   "source": [
    "Table 1. Class overview of the curated RepeatsDB\n",
    "Total number of PDB chains, regions etc. Multiple PDB chains can map to the same UniProt protein. Unit len AVG is calculated as the average of means of  PDB chain unit lengths in a specific class."
   ],
   "metadata": {
    "collapsed": false
   }
  },
  {
   "cell_type": "markdown",
   "source": [
    "A PDB can contain units of multiple classes, e.g. class 3 and 4. For this reason even if the total number of unique PDBs is 3840, in this table we have a total of 3480 (each class is counted singularly)."
   ],
   "metadata": {
    "collapsed": false
   }
  },
  {
   "cell_type": "code",
   "execution_count": null,
   "outputs": [],
   "source": [
    "topology_table = reduce(lambda x, y: pd.merge(x, y, on='class_topology', how='outer'), [pdbs_top, regions_top, units_top, avg_units_top, std_units_top, uniprot_top])\n",
    "topology_table.to_csv(\"tables/topologies_count.csv\",index=False)"
   ],
   "metadata": {
    "collapsed": false
   }
  },
  {
   "cell_type": "markdown",
   "source": [
    "Table 2. Topology overview of the curated RepeatsDB\n",
    "Total number of PDB chains, regions etc.\n",
    "A PDB can contain units of multiple topologies, e.g. class 3.3 and 3.6. For this reason even if the total number of unique PDBs is 3840, and total classes are 3480, in this table we have a total of 3533 (each topology is counted singularly).\n"
   ],
   "metadata": {
    "collapsed": false
   }
  }
 ],
 "metadata": {
  "kernelspec": {
   "display_name": "Python 3",
   "language": "python",
   "name": "python3"
  },
  "language_info": {
   "codemirror_mode": {
    "name": "ipython",
    "version": 2
   },
   "file_extension": ".py",
   "mimetype": "text/x-python",
   "name": "python",
   "nbconvert_exporter": "python",
   "pygments_lexer": "ipython2",
   "version": "2.7.6"
  }
 },
 "nbformat": 4,
 "nbformat_minor": 0
}
