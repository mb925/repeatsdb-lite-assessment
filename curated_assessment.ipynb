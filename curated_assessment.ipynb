{
 "cells": [
  {
   "cell_type": "code",
   "execution_count": 118,
   "outputs": [],
   "source": [
    "import pandas as pd\n",
    "import numpy as np\n",
    "import math\n",
    "from plotly.subplots import make_subplots\n",
    "import plotly.graph_objects as go\n",
    "from collections import Counter\n",
    "import plotly.express as px\n"
   ],
   "metadata": {
    "collapsed": false
   }
  },
  {
   "cell_type": "code",
   "execution_count": 119,
   "outputs": [],
   "source": [
    "def calc_metrics(tp, tn, fp, fn):\n",
    "    # balanced accuracy\n",
    "    se_total = tp + fn\n",
    "    sp_total = fp + tn\n",
    "\n",
    "    # Sensitivity / recall / TPR\n",
    "    se = 0\n",
    "    if se_total > 0:\n",
    "        se = tp / se_total\n",
    "\n",
    "    # Specificity / TNR\n",
    "    sp = 0\n",
    "    if sp_total > 0:\n",
    "        sp = tn / sp_total\n",
    "\n",
    "    # Balanced accuracy (Sensitivity + specificity) / 2\n",
    "    bacc = (se + sp) / 2\n",
    "\n",
    "    # Precision / PPV\n",
    "    p_total = tp + fp\n",
    "    p = 0\n",
    "    if p_total > 0:\n",
    "        p = tp / p_total\n",
    "\n",
    "    # F1 score\n",
    "    f1 = 0\n",
    "    if (p + se) > 0:\n",
    "        f1 = 2 * ((p * se)/(p+se))\n",
    "\n",
    "    # MCC\n",
    "    mcc = np.nan\n",
    "    d = math.sqrt((tp + fp)*(tp + fn)*(tn + fp)*(tn + fn))\n",
    "    if d > 0:\n",
    "        mcc = ((tp * tn) - (fp * fn)) / d\n",
    "\n",
    "    return [round(bacc, 2), round(p, 2), round(se, 2), round(sp, 2), round(f1,2), round(mcc, 2)]"
   ],
   "metadata": {
    "collapsed": false
   }
  },
  {
   "cell_type": "markdown",
   "source": [
    "Repository GitHub\n",
    "https://github.com/BioComputingUP/repeatsdb-lite-analysis"
   ],
   "metadata": {
    "collapsed": false
   }
  },
  {
   "cell_type": "markdown",
   "source": [
    "Datasets\n",
    "- RepeatsDB curated: All manually curated proteins in RepeatsDB + negatives (1821 PDB chains / 1821 UniProt proteins manually curated as not repeats)\n",
    "- 2cn2C was removed from the dataset because RDB2 lite tool could not process the pdb file\n",
    "- Date: 23/08/2022\n",
    "- SRUL RepeatsDB-lite 2 version: 22/02/2023 with PDBs annotated from 01 March until 23/08/2022."
   ],
   "metadata": {
    "collapsed": false
   }
  },
  {
   "cell_type": "code",
   "execution_count": 153,
   "outputs": [],
   "source": [
    "# dataset\n",
    "df_pos = pd.read_csv('data/binary_pdbs_classes.csv')\n",
    "df_neg = pd.read_csv('data/binary_pdb_negatives.csv')\n",
    "df = pd.concat([df_pos, df_neg])\n",
    "# df = df_pos # uncomment and comment previous line when only positives wanted\n",
    "df = df.loc[df['pdb_residue_id'].notnull()] # filter missing residues\n",
    "df"
   ],
   "metadata": {
    "collapsed": false
   }
  },
  {
   "cell_type": "code",
   "execution_count": 154,
   "outputs": [],
   "source": [
    "# REPEATSDB-LITE EVALUATION\n",
    "\n",
    "# rdb1\n",
    "df['TP_1'] = np.where((df['RDB1'] == df['CURATED']) & (df['CURATED'] == 1), 1, 0)\n",
    "df['TN_1'] = np.where((df['RDB1'] == df['CURATED']) & (df['CURATED'] == 0), 1, 0)\n",
    "df['FP_1'] = np.where((df['RDB1'] != df['CURATED']) & (df['CURATED'] == 0), 1, 0)\n",
    "df['FN_1'] = np.where((df['RDB1'] != df['CURATED']) & (df['CURATED'] == 1), 1, 0)\n",
    "\n",
    "df['TP_2'] = np.where((df['RDB2'] == df['CURATED']) & (df['CURATED'] == 1), 1, 0)\n",
    "df['TN_2'] = np.where((df['RDB2'] == df['CURATED']) & (df['CURATED'] == 0), 1, 0)\n",
    "df['FP_2'] = np.where((df['RDB2'] != df['CURATED']) & (df['CURATED'] == 0), 1, 0)\n",
    "df['FN_2'] = np.where((df['RDB2'] != df['CURATED']) & (df['CURATED'] == 1), 1, 0)\n",
    "\n",
    "df"
   ],
   "metadata": {
    "collapsed": false
   }
  },
  {
   "cell_type": "code",
   "execution_count": 155,
   "outputs": [],
   "source": [
    "df_prot = df.groupby(['pdb_id', 'pdb_chain']).agg({'CATEGORY': 'first', 'seqres_index':'count','TP_1': 'sum', 'TN_1': 'sum', 'FP_1': 'sum', 'FN_1': 'sum', 'TP_2': 'sum', 'TN_2': 'sum', 'FP_2': 'sum', 'FN_2': 'sum'})\n",
    "df_prot.reset_index(inplace=True)\n",
    "df_prot"
   ],
   "metadata": {
    "collapsed": false
   }
  },
  {
   "cell_type": "code",
   "execution_count": 156,
   "outputs": [],
   "source": [
    "# protein level matrix\n",
    "# rdb1\n",
    "df_prot_lvl = pd.DataFrame()\n",
    "df_prot_lvl['TP_1'] = np.where(((df_prot['TP_1'] > 0) | (df_prot['FP_1'] > 0)) & (df_prot['CATEGORY'] == 1), 1, 0)\n",
    "df_prot_lvl['TN_1'] = np.where(((df_prot['TP_1'] == 0) & (df_prot['FP_1'] == 0)) & (df_prot['CATEGORY'] == 0), 1, 0)\n",
    "df_prot_lvl['FP_1'] = np.where(((df_prot['TP_1'] > 0) | (df_prot['FP_1'] > 0)) & (df_prot['CATEGORY'] == 0), 1, 0)\n",
    "df_prot_lvl['FN_1'] = np.where(((df_prot['TP_1'] == 0) & (df_prot['FP_1'] == 0)) & (df_prot['CATEGORY'] == 1), 1, 0)\n",
    "\n",
    "df_prot_lvl['TP_2'] = np.where(((df_prot['TP_2'] > 0) | (df_prot['FP_2'] > 0)) & (df_prot['CATEGORY'] == 1), 1, 0)\n",
    "df_prot_lvl['TN_2'] = np.where(((df_prot['TP_2'] == 0) | (df_prot['FP_2'] == 0)) & (df_prot['CATEGORY'] == 0), 1, 0)\n",
    "df_prot_lvl['FP_2'] = np.where(((df_prot['TP_2'] > 0) | (df_prot['FP_2'] > 0)) & (df_prot['CATEGORY'] == 0), 1, 0)\n",
    "df_prot_lvl['FN_2'] = np.where(((df_prot['TP_2'] == 0) | (df_prot['FP_2'] == 0)) & (df_prot['CATEGORY'] == 1), 1, 0)\n",
    "\n"
   ],
   "metadata": {
    "collapsed": false
   }
  },
  {
   "cell_type": "code",
   "execution_count": 157,
   "outputs": [],
   "source": [
    "df_prot_lvl.columns=pd.MultiIndex.from_arrays([['RDB1', 'RDB1', 'RDB1', 'RDB1', 'RDB2', 'RDB2', 'RDB2', 'RDB2'], ['TP', 'TN', 'FP', 'FN', 'TP', 'TN', 'FP', 'FN']])\n",
    "\n",
    "# tp, tn fp, fn\n",
    "# bacc, p, se, sp, f1, mcc\n",
    "matrix1 = *df_prot_lvl['RDB1'].sum(), calc_metrics(*df_prot_lvl['RDB1'].sum())\n",
    "matrix2 = *df_prot_lvl['RDB2'].sum(), calc_metrics(*df_prot_lvl['RDB2'].sum())"
   ],
   "metadata": {
    "collapsed": false
   }
  },
  {
   "cell_type": "code",
   "execution_count": 158,
   "outputs": [],
   "source": [
    "data = []\n",
    "data.append(['RDBLITE1', matrix1[0], matrix1[1], matrix1[2], matrix1[3], len(df_prot_lvl), round(matrix1[4][0],2), round(matrix1[4][1],2), round(matrix1[4][2],2), round(matrix1[4][3],2), round(matrix1[4][4],2), round(matrix1[4][5],2)])\n",
    "data.append(['RDBLITE2',  matrix2[0], matrix2[1], matrix2[2], matrix2[3], len(df_prot_lvl), round(matrix2[4][0],2), round(matrix2[4][1],2), round(matrix2[4][2],2), round(matrix2[4][3],2), round(matrix2[4][4],2), round(matrix2[4][5],2)])\n",
    "table = pd.DataFrame(data, columns=['TOOL', 'TP', 'FP', 'TN', 'FN', 'TOTAL', 'BALANCED ACCURACY', 'PRECISION', 'RECALL', 'F-SCORE', 'MCC', 'TNR1'])\n",
    "table.to_csv('tables/table_protein_level.csv', index=False)"
   ],
   "metadata": {
    "collapsed": false
   }
  },
  {
   "cell_type": "markdown",
   "source": [
    "Table 3. Repeats detection at the protein level (PDB chains)\n",
    "Region overlap is not considered, instead it is evaluated only if the chain is predicted. Both positive and negative proteins are considered. Manually curated examples are 5261 PDB chains of which 1821 (1821 UniProt proteins) are negatives and 3440 are positives (1623 UniProt). TP is assigned when a repeated region is predicted, irrespectively the predicted region overlaps the curated one.\n",
    "TOTAL PDBs (positives, negatives) predicted by RDB1: 2887\n",
    "TOTAL PDBs (positives, negatives) predicted by RDB2: 5069\n"
   ],
   "metadata": {
    "collapsed": false
   }
  },
  {
   "cell_type": "code",
   "execution_count": 159,
   "outputs": [],
   "source": [
    "# Region overlap\n",
    "df_prot.set_index(['pdb_id', 'pdb_chain', 'seqres_index'], inplace=True)\n",
    "df_prot = df_prot.drop(columns=['CATEGORY'])\n",
    "df_prot.columns=pd.MultiIndex.from_arrays([['RDB1', 'RDB1', 'RDB1', 'RDB1', 'RDB2', 'RDB2', 'RDB2', 'RDB2'], ['TP', 'TN', 'FP', 'FN', 'TP', 'TN', 'FP', 'FN']])\n",
    "df_prot"
   ],
   "metadata": {
    "collapsed": false
   }
  },
  {
   "cell_type": "code",
   "execution_count": 160,
   "outputs": [],
   "source": [
    "# apply calc_metrics function to each row for both RDB1 and RDB2\n",
    "data = []\n",
    "for index, row in df_prot.iterrows():\n",
    "    # print(*row['RDB1'], *calc_metrics(*row['RDB1']))\n",
    "    data.append([index[0], index[1], index[2], *row[:4], *calc_metrics(*row['RDB1']), *row[4:], *calc_metrics(*row['RDB2'])])\n",
    "df_ = pd.DataFrame(data)\n",
    "df_"
   ],
   "metadata": {
    "collapsed": false
   }
  },
  {
   "cell_type": "code",
   "execution_count": 161,
   "outputs": [],
   "source": [
    "df_.columns=pd.MultiIndex.from_arrays([[None, None, None, 'RDB1', 'RDB1', 'RDB1', 'RDB1', 'RDB1', 'RDB1', 'RDB1', 'RDB1', 'RDB1', 'RDB1', 'RDB2', 'RDB2', 'RDB2', 'RDB2', 'RDB2', 'RDB2', 'RDB2', 'RDB2', 'RDB2', 'RDB2'], ['pdb_id', 'pdb_chain', 'length', 'TP', 'TN', 'FP', 'FN', 'bacc', 'p', 'se', 'sp', 'f1', 'mcc', 'TP', 'TN', 'FP', 'FN', 'bacc', 'p', 'se', 'sp', 'f1', 'mcc']])\n",
    "df_"
   ],
   "metadata": {
    "collapsed": false
   }
  },
  {
   "cell_type": "code",
   "execution_count": 162,
   "outputs": [],
   "source": [
    "df_.loc[:, ('RDB1', ['bacc', 'p', 'se', 'sp', 'f1', 'mcc'])]"
   ],
   "metadata": {
    "collapsed": false
   }
  },
  {
   "cell_type": "code",
   "execution_count": 163,
   "outputs": [],
   "source": [
    "df_.loc[:,('RDB1', ['bacc', 'p', 'se', 'sp', 'f1', 'mcc'])].boxplot(figsize=(20,10))"
   ],
   "metadata": {
    "collapsed": false
   }
  },
  {
   "cell_type": "code",
   "execution_count": 164,
   "outputs": [],
   "source": [
    "# df_.loc[:,(slice(None), ['bacc', 'p', 'se', 'sp', 'f1', 'mcc'])].boxplot(figsize=(20,10))"
   ],
   "metadata": {
    "collapsed": false
   }
  },
  {
   "cell_type": "code",
   "execution_count": 165,
   "outputs": [],
   "source": [
    "# table region overlap level (positives + negatives)\n",
    "metrics1 = df_.loc[:,('RDB1', ['bacc', 'p', 'se', 'sp', 'f1', 'mcc'])].mean().round(2)\n",
    "matrix1 = df_.loc[:,('RDB1', ['TP', 'TN', 'FP', 'FN'])].sum()\n",
    "metrics2 = df_.loc[:,('RDB2', ['bacc', 'p', 'se', 'sp', 'f1', 'mcc'])].mean().round(2)\n",
    "matrix2 = df_.loc[:,('RDB2', ['TP', 'TN', 'FP', 'FN'])].sum()"
   ],
   "metadata": {
    "collapsed": false
   }
  },
  {
   "cell_type": "code",
   "execution_count": 166,
   "outputs": [],
   "source": [
    "data = []\n",
    "data.append(['RDBLITE1', matrix1[0], matrix1[1], matrix1[2], matrix1[3], len(df), metrics1[0], metrics1[1], metrics1[2], metrics1[3], metrics1[4], metrics1[5]])\n",
    "data.append(['RDBLITE2',  matrix2[0], matrix2[1], matrix2[2], matrix2[3], len(df), metrics2[0], metrics2[1], metrics2[2], metrics2[3], metrics2[4], metrics2[5]])\n",
    "table = pd.DataFrame(data, columns=['TOOL', 'TP', 'FP', 'TN', 'FN', 'TOTAL', 'BALANCED ACCURACY', 'PRECISION', 'RECALL', 'F-SCORE', 'MCC', 'TNR1'])\n",
    "# table.to_csv('tables/table_residue_overlap.csv', index=False)\n",
    "\n",
    "table"
   ],
   "metadata": {
    "collapsed": false
   }
  },
  {
   "cell_type": "markdown",
   "source": [
    "Table 4. Region overlap at the residue level\n",
    "Both positive and negative proteins are considered.\n",
    "TOTAL residues predicted by RDB1: 672384\n",
    "TOTAL residues non-repeat predicted by RDB1: 1314520\n",
    "TOTAL residues predicted by RDB2: 1284181\n",
    "TOTAL residues non-repeat predicted by RDB2: 702723\n",
    "\n",
    "TN: residues correctly predicted as not repeated\n",
    "TP: residues correctly predicted as repeated\n",
    "FP: residues incorrectly predicted as repeated\n",
    "FN: residues incorrectly predicted as not repeated"
   ],
   "metadata": {
    "collapsed": false
   }
  },
  {
   "cell_type": "code",
   "execution_count": 167,
   "outputs": [],
   "source": [
    "# to do the positive table I filter the negatives in the dataframe at the beginning\n",
    "# I don't know how to do it better without repeating the same code\n",
    "# table.to_csv('tables/table_residue_overlap_positives.csv', index=False)"
   ],
   "metadata": {
    "collapsed": false
   }
  },
  {
   "cell_type": "markdown",
   "source": [
    "Table 5. Region overlap at the residue level for the positive class\n",
    "TOTAL residues predicted by RDB1: 485808\n",
    "TOTAL residues non-repeat predicted by RDB1: 817302\n",
    "TOTAL residues predicted by RDB2: 907297\n",
    "TOTAL residues non-repeat predicted by RDB2: 395813\n",
    "\n",
    "TN: residues correctly predicted as not repeated\n",
    "TP: residues correctly predicted as repeated\n",
    "FP: residues incorrectly predicted as repeated\n",
    "FN: residues incorrectly predicted as not repeated"
   ],
   "metadata": {
    "collapsed": false
   }
  },
  {
   "cell_type": "markdown",
   "source": [
    "All the following plots have been calculated filtering PDBs with duplicate class or topology."
   ],
   "metadata": {
    "collapsed": false
   }
  },
  {
   "cell_type": "code",
   "execution_count": 168,
   "outputs": [],
   "source": [
    "# PLOTS: GROUP BY TOPOLOGY, CALC METRICS AND PLOT\n",
    "\n",
    "# remove the ones with 2 topologies definition for simplification\n",
    "df_topologies = df[~df[\"topologies\"].astype(str).str.contains(';')]\n",
    "df_topologies = df_topologies[df_topologies[\"topologies\"].notna()]\n",
    "df_topologies['topologies'] = df_topologies['topologies'].astype(str)\n",
    "df_topologies\n"
   ],
   "metadata": {
    "collapsed": false
   }
  },
  {
   "cell_type": "code",
   "execution_count": 169,
   "outputs": [],
   "source": [
    "df_top = df_topologies.groupby(['topologies']).agg({'TP_1': 'sum', 'TN_1': 'sum', 'FP_1': 'sum', 'FN_1': 'sum', 'TP_2': 'sum', 'TN_2': 'sum', 'FP_2': 'sum', 'FN_2': 'sum'})\n",
    "\n",
    "\n",
    "df_top.columns=pd.MultiIndex.from_arrays([['RDB1', 'RDB1', 'RDB1', 'RDB1', 'RDB2', 'RDB2', 'RDB2', 'RDB2'], ['TP', 'TN', 'FP', 'FN', 'TP', 'TN', 'FP', 'FN']])\n",
    "df_top"
   ],
   "metadata": {
    "collapsed": false
   }
  },
  {
   "cell_type": "code",
   "execution_count": 170,
   "outputs": [],
   "source": [
    "# apply calc_metrics function to each row for both RDB1 and RDB2\n",
    "data = []\n",
    "for index, row in df_top.iterrows():\n",
    "    data.append([index, *row[:4], *calc_metrics(*row['RDB1']), *row[4:], *calc_metrics(*row['RDB2'])])\n",
    "df_top = pd.DataFrame(data)\n",
    "df_top"
   ],
   "metadata": {
    "collapsed": false
   }
  },
  {
   "cell_type": "code",
   "execution_count": 171,
   "outputs": [],
   "source": [
    "# # # plot\n",
    "df_top.rename(columns={0: 'topologies'}, inplace=True)\n",
    "df_top[['c', 't']] = df_top['topologies'].str.split('.', expand=True)\n",
    "df_top[\"t\"] = pd.to_numeric(df_top[\"t\"])\n",
    "df_top = df_top.sort_values(['c', 't'])\n",
    "df_top"
   ],
   "metadata": {
    "collapsed": false
   }
  },
  {
   "cell_type": "code",
   "execution_count": 172,
   "outputs": [],
   "source": [
    "df_top.columns=pd.MultiIndex.from_arrays([['id', 'RDB1', 'RDB1', 'RDB1', 'RDB1', 'RDB1', 'RDB1', 'RDB1', 'RDB1', 'RDB1', 'RDB1', 'RDB2', 'RDB2', 'RDB2', 'RDB2', 'RDB2', 'RDB2', 'RDB2', 'RDB2', 'RDB2', 'RDB2', 'id', 'id'], ['topologies', 'TP', 'TN', 'FP', 'FN', 'bacc', 'p', 'se', 'sp', 'f1', 'mcc', 'TP', 'TN', 'FP', 'FN', 'bacc', 'p', 'se', 'sp', 'f1', 'mcc', 'c', 't']])\n",
    "df_top"
   ],
   "metadata": {
    "collapsed": false
   }
  },
  {
   "cell_type": "code",
   "execution_count": 173,
   "outputs": [],
   "source": [
    "# table topologies\n",
    "df_1 = df_top.copy()\n",
    "df_1.columns = pd.MultiIndex.from_arrays([['topologies', 'TP', 'TN', 'FP', 'FN', 'bacc', 'p', 'se', 'sp', 'f1', 'mcc', 'TP', 'TN', 'FP', 'FN', 'bacc', 'p', 'se', 'sp', 'f1', 'mcc', 'c', 't']])\n",
    "df_1 = df_1.iloc[:,0:11]\n",
    "df_1['tool'] = 'RDBLITE1'\n",
    "\n",
    "df_2 = df_top.copy()\n",
    "df_2.columns = pd.MultiIndex.from_arrays([['topologies', 'TP', 'TN', 'FP', 'FN', 'bacc', 'p', 'se', 'sp', 'f1', 'mcc', 'TP', 'TN', 'FP', 'FN', 'bacc', 'p', 'se', 'sp', 'f1', 'mcc', 'c', 't']])\n",
    "df_2 = df_2.iloc[:,11:21]\n",
    "df_2['tool'] = 'RDBLITE2'\n",
    "df_2['topologies'] = df_1['topologies']\n",
    "\n",
    "cols = list(df_2.columns)\n",
    "cols = [cols[-1]] + cols[:-1]\n",
    "df_2 = df_2[cols]\n",
    "df_merge_top = pd.concat([df_1, df_2]).sort_index()\n",
    "df_merge_top.to_csv('tables/table_topologies.csv', index=False)"
   ],
   "metadata": {
    "collapsed": false
   }
  },
  {
   "cell_type": "markdown",
   "source": [
    "Table 6. Region overlap at the residue level for the different topologies for RepeatsDB-lite2. Class and topology are associated only to repeat residues. Not repeated residues do not have class-topology association. To be able to consider not repeated residues in this table, class and topology have been associated with the PDB and not the single residue. PDBs with 2 different classes were removed since they were a small part of the total (~100) and to be able to include negative residues in the analysis. E.g. this is why the only PDB of class 2.2 (5yfpH) disappears in this analysis (because it had 2 topologies: 2.2 and 3.3)"
   ],
   "metadata": {
    "collapsed": false
   }
  },
  {
   "cell_type": "code",
   "execution_count": 319,
   "outputs": [],
   "source": [
    "# plot\n",
    "x = ['3.1 β-solenoid', '3.2 α/β solenoid',\n",
    "     '3.3 Alpha-solenoid', '3.4 β hairpins', '3.6 Box', '4.1 TIM-barrel', '4.2 β-barrel/β-hairpins',\n",
    "     '4.3 Beta-trefoil', '4.4 Propeller', '4.5 α/β prism',\n",
    "     '4.6 α-barrel', '4.7 α/β barrel','4.9 α/β trefoil',  '4.10 Aligned prism',\n",
    "     '5.1 α-beads', '5.2 β-beads', '5.3 α/β-beads', '5.4 β sandwich beads', '5.5 α/β sandwich beads']\n",
    "fig = make_subplots(rows=2, cols=1)"
   ],
   "metadata": {
    "collapsed": false
   }
  },
  {
   "cell_type": "markdown",
   "source": [],
   "metadata": {
    "collapsed": false
   }
  },
  {
   "cell_type": "code",
   "execution_count": 320,
   "outputs": [],
   "source": [
    "# RDBL 1\n",
    "\n",
    "fig1 = make_subplots(rows=1, cols=1)\n",
    "fig1.add_trace(go.Bar(\n",
    "    y= df_top[('RDB1','bacc')].values.tolist(),\n",
    "    x=x,\n",
    "    name='accuracy',\n",
    "    marker_color='#EDAE49'\n",
    "), row=1, col=1)\n",
    "fig1.add_trace(go.Bar(\n",
    "    y=df_top[('RDB1','p')].values.tolist(),\n",
    "    x=x,\n",
    "    name='precision',\n",
    "    marker_color='#D1495B'\n",
    "), row=1, col=1)\n",
    "fig1.add_trace(go.Bar(\n",
    "    y=df_top[('RDB1','se')].values.tolist(),\n",
    "    x=x,\n",
    "    name='recall',\n",
    "    marker_color='#00798C'\n",
    "), row=1, col=1)\n",
    "fig1.add_trace(go.Bar(\n",
    "    y=df_top[('RDB2','f1')].values.tolist(),\n",
    "    x=x,\n",
    "    name='f-score',\n",
    "    marker_color='#003D5B'\n",
    "), row=1, col=1)\n",
    "# fig1.write_image(\"plots/a_p_r_m_dataset_rdb1.png\")"
   ],
   "metadata": {
    "collapsed": false
   }
  },
  {
   "cell_type": "markdown",
   "source": [
    "Figure 1. Region overlap evaluation of RepeatsDB-lite1 & 2 against curated annotations. Class 3.6 is always predicted as not repeated by RDB1. For this reason accuracy is > 0, but not precision and recall."
   ],
   "metadata": {
    "collapsed": false
   }
  },
  {
   "cell_type": "code",
   "execution_count": 321,
   "outputs": [],
   "source": [
    "# RDBL 2\n",
    "\n",
    "fig2 = make_subplots(rows=1, cols=1)\n",
    "fig2.add_trace(go.Bar(\n",
    "    y= df_top[('RDB2','bacc')].values.tolist(),\n",
    "    x=x,\n",
    "    name='accuracy',\n",
    "    marker_color='#EDAE49'\n",
    "), row=1, col=1)\n",
    "fig2.add_trace(go.Bar(\n",
    "    y=df_top[('RDB2','p')].values.tolist(),\n",
    "    x=x,\n",
    "    name='precision',\n",
    "    marker_color='#D1495B'\n",
    "), row=1, col=1)\n",
    "fig2.add_trace(go.Bar(\n",
    "    y=df_top[('RDB2','se')].values.tolist(),\n",
    "    x=x,\n",
    "    name='recall',\n",
    "    marker_color='#00798C'\n",
    "), row=1, col=1)\n",
    "fig2.add_trace(go.Bar(\n",
    "    y=df_top[('RDB2','f1')].values.tolist(),\n",
    "    x=x,\n",
    "    name='f-score',\n",
    "    marker_color='#003D5B'\n",
    "), row=1, col=1)\n",
    "# fig2.write_image(\"plots/a_p_r_m_dataset_rdb2.png\")"
   ],
   "metadata": {
    "collapsed": false
   }
  },
  {
   "cell_type": "markdown",
   "source": [
    "Figure 2. Region overlap evaluation of RepeatsDB-lite1 & 2 against curated annotations at the target level (distribution)."
   ],
   "metadata": {
    "collapsed": false
   }
  },
  {
   "cell_type": "code",
   "execution_count": 322,
   "outputs": [],
   "source": [
    "# RDBL 3\n",
    "fig.add_trace(go.Bar(\n",
    "    y= np.array(df_top[('RDB2','bacc')].values.tolist()) -  np.array(df_top[('RDB1','bacc')].values.tolist()),\n",
    "    x=x,\n",
    "    name='accuracy',\n",
    "    marker_color='#EDAE49'\n",
    "), row=1, col=1)\n",
    "fig.add_trace(go.Bar(\n",
    "    y=np.array(df_top[('RDB2','p')].values.tolist()) - np.array(df_top[('RDB1','p')].values.tolist()),\n",
    "    x=x,\n",
    "    name='precision',\n",
    "    marker_color='#D1495B'\n",
    "), row=1, col=1)\n",
    "fig.add_trace(go.Bar(\n",
    "    y=np.array(df_top[('RDB2','se')].values.tolist()) - np.array(df_top[('RDB1','se')].values.tolist()),\n",
    "    x=x,\n",
    "    name='recall',\n",
    "    marker_color='#00798C'\n",
    "), row=1, col=1)\n",
    "fig.add_trace(go.Bar(\n",
    "    y=np.array(df_top[('RDB2','f1')].values.tolist()) - np.array(df_top[('RDB1','f1')].values.tolist()),\n",
    "    x=x,\n",
    "    name='f-score',\n",
    "    marker_color='#003D5B'\n",
    "), row=1, col=1)"
   ],
   "metadata": {
    "collapsed": false
   }
  },
  {
   "cell_type": "code",
   "execution_count": 323,
   "outputs": [],
   "source": [
    "# PDBS distribution\n",
    "df_pdbs = pd.DataFrame.from_dict(Counter(df_topologies['topologies']), orient='index', columns=['#PDBs'])\n",
    "\n",
    "fig.add_trace(go.Bar(\n",
    "    y=df_pdbs['#PDBs'].values.tolist(),\n",
    "    x=x,\n",
    "    name='PDBs',\n",
    "    marker_color='#003D5F'\n",
    "), row=2, col=1)\n",
    "fig.update_layout(width=1300, height=920, plot_bgcolor = \"white\", paper_bgcolor = \"white\",  font_color=\"black\", font=dict(\n",
    "        size=20))\n",
    "\n",
    "fig.write_image(\"plots/a_p_r_m_dataset_rdb3.png\")"
   ],
   "metadata": {
    "collapsed": false
   }
  },
  {
   "cell_type": "markdown",
   "source": [
    "Figure 3.\n",
    "Region overlap evaluation of delta RepeatsDB-lite2 - RepeatsDB-lite1 against curated annotations at the target level (distribution).\n",
    "PDBs distribution over the different topologies. The plot shows PDBs distribution by topology, highlighting less represented (e.g. 4.3, 3.7, 5.1) and more represented (e.g. 3.3, 4.4) topologies."
   ],
   "metadata": {
    "collapsed": false
   }
  },
  {
   "cell_type": "markdown",
   "source": [
    "The following plots are calculated at the region level for all PDBs. PDB residues can be predicted as repeated by one method and not the other and still be considered for the analysis. If a PDB residue is not predicted as repeated then it will be considered as TN or FN depending on the comparison with the curation."
   ],
   "metadata": {
    "collapsed": false
   }
  },
  {
   "cell_type": "code",
   "execution_count": 313,
   "outputs": [],
   "source": [
    "# boxplots PDB - topologies\n",
    "# apply calc_metrics function to each row for both RDB1 and RDB2\n",
    "data = []\n",
    "for index, row in df_prot.iterrows():\n",
    "    # print(*row['RDB1'], *calc_metrics(*row['RDB1']))\n",
    "    data.append([index[0], index[1], index[2], *row[:4], *calc_metrics(*row['RDB1']), *row[4:], *calc_metrics(*row['RDB2'])])\n",
    "df_classes = pd.DataFrame(data)\n",
    "df_classes\n",
    "df_classes.rename(columns={0: 'pdb_id'}, inplace=True)\n",
    "df_classes.rename(columns={1: 'pdb_chain'}, inplace=True)\n",
    "df_boxplots = df_classes.merge(df_topologies, how='right', on=['pdb_id', 'pdb_chain'])\n",
    "df_boxplots"
   ],
   "metadata": {
    "collapsed": false
   }
  },
  {
   "cell_type": "code",
   "execution_count": 235,
   "outputs": [],
   "source": [
    "# accuracy\n",
    "df_boxplots.rename(columns={7: 'a1'}, inplace=True)\n",
    "df_boxplots.rename(columns={17: 'a2'}, inplace=True)\n",
    "df_plot1 = df_boxplots[['a1', 'topologies']].rename(columns={\"a1\": \"accuracy\"})\n",
    "df_plot2 = df_boxplots[['a2', 'topologies']].rename(columns={\"a2\": \"accuracy\"})\n",
    "df_plot1['tool'] = 'RepeatsDB-lite1'\n",
    "df_plot2['tool'] = 'RepeatsDB-lite2'\n",
    "\n",
    "df_final = pd.concat([df_plot1, df_plot2])\n",
    "df_final = df_final.sort_values(by=['topologies'], ascending=True)\n",
    "df_final[['class','subclass']] = df_final['topologies'].str.split('.',expand=True)\n",
    "\n",
    "fig = px.box(df_final, x=\"topologies\", y=\"accuracy\", color='tool')\n",
    "fig.update_layout(width=1000)\n",
    "fig.write_image(\"plots/accuracy_pdbs.png\")"
   ],
   "metadata": {
    "collapsed": false
   }
  },
  {
   "cell_type": "markdown",
   "source": [
    "Figure 3. Accuracy evaluation of RepeatsDB-lite1 & 2 at target level for RepeatsDB classes."
   ],
   "metadata": {
    "collapsed": false
   }
  },
  {
   "cell_type": "code",
   "execution_count": 83,
   "outputs": [],
   "source": [
    "fig = px.box(df_final, x=\"class\", y=\"accuracy\", color='tool')\n",
    "fig.update_layout(width=1000)\n",
    "fig.write_image(\"plots/accuracy_pdbs_classes.png\")"
   ],
   "metadata": {
    "collapsed": false,
    "ExecuteTime": {
     "end_time": "2023-09-14T09:58:49.293868928Z",
     "start_time": "2023-09-14T09:58:40.565845829Z"
    }
   }
  },
  {
   "cell_type": "markdown",
   "source": [
    "Figure 4. Accuracy evaluation of RepeatsDB-lite1 & 2 at target level for RepeatsDB topologies.  Class 4.7 results are explained by the fact that it has only one PDB."
   ],
   "metadata": {
    "collapsed": false
   }
  },
  {
   "cell_type": "code",
   "execution_count": 84,
   "outputs": [],
   "source": [
    "# precision\n",
    "df_boxplots.rename(columns={8: 'p1'}, inplace=True)\n",
    "df_boxplots.rename(columns={18: 'p2'}, inplace=True)\n",
    "df_plot1 = df_boxplots[['p1', 'topologies']].rename(columns={'p1': \"precision\"})\n",
    "df_plot2 = df_boxplots[['p2', 'topologies']].rename(columns={'p2': \"precision\"})\n",
    "df_plot1['tool'] = 'RepeatsDB-lite1'\n",
    "df_plot2['tool'] = 'RepeatsDB-lite2'\n",
    "df_final = pd.concat([df_plot1, df_plot2])\n",
    "df_final = df_final.sort_values(by=['topologies'], ascending=True)\n",
    "df_final[['class','subclass']] = df_final['topologies'].str.split('.',expand=True)\n",
    "\n",
    "\n",
    "fig = px.box(df_final, x=\"topologies\", y=\"precision\", color='tool')\n",
    "fig.update_layout(width=1000)\n",
    "fig.write_image(\"plots/precision_pdbs.png\")"
   ],
   "metadata": {
    "collapsed": false,
    "ExecuteTime": {
     "end_time": "2023-09-14T09:59:02.673404058Z",
     "start_time": "2023-09-14T09:58:49.298552443Z"
    }
   }
  },
  {
   "cell_type": "markdown",
   "source": [
    "Figure 5. Precision evaluation of RepeatsDB-lite1 & 2 at target level for RepeatsDB classes."
   ],
   "metadata": {
    "collapsed": false
   }
  },
  {
   "cell_type": "code",
   "execution_count": 85,
   "outputs": [],
   "source": [
    "fig = px.box(df_final, x=\"class\", y=\"precision\", color='tool')\n",
    "fig.update_layout(width=1000)\n",
    "fig.write_image(\"plots/precision_pdbs_classes.png\")"
   ],
   "metadata": {
    "collapsed": false,
    "ExecuteTime": {
     "end_time": "2023-09-14T09:59:12.060896140Z",
     "start_time": "2023-09-14T09:59:02.716343090Z"
    }
   }
  },
  {
   "cell_type": "markdown",
   "source": [
    "Figure 6. Precision evaluation of RepeatsDB-lite1 & 2 at target level for RepeatsDB topologies."
   ],
   "metadata": {
    "collapsed": false
   }
  },
  {
   "cell_type": "code",
   "execution_count": 86,
   "outputs": [],
   "source": [
    "# recall\n",
    "df_boxplots.rename(columns={9: 'r1'}, inplace=True)\n",
    "df_boxplots.rename(columns={19: 'r2'}, inplace=True)\n",
    "df_plot1 = df_boxplots[['r1', 'topologies']].rename(columns={\"r1\": \"recall\"})\n",
    "df_plot2 = df_boxplots[['r2', 'topologies']].rename(columns={\"r2\": \"recall\"})\n",
    "df_plot1['tool'] = 'RepeatsDB-lite1'\n",
    "df_plot2['tool'] = 'RepeatsDB-lite2'\n",
    "df_final = pd.concat([df_plot1, df_plot2])\n",
    "df_final = df_final.sort_values(by=['topologies'], ascending=True)\n",
    "df_final[['class','subclass']] = df_final['topologies'].str.split('.',expand=True)\n",
    "\n",
    "\n",
    "fig = px.box(df_final, x=\"topologies\", y=\"recall\", color='tool')\n",
    "fig.update_layout(width=1000)\n",
    "fig.write_image(\"plots/recall_pdbs.png\")"
   ],
   "metadata": {
    "collapsed": false,
    "ExecuteTime": {
     "end_time": "2023-09-14T09:59:23.073222983Z",
     "start_time": "2023-09-14T09:59:11.106476781Z"
    }
   }
  },
  {
   "cell_type": "markdown",
   "source": [
    "Figure 7. Recall evaluation of RepeatsDB-lite1 & 2 at target level for RepeatsDB classes."
   ],
   "metadata": {
    "collapsed": false
   }
  },
  {
   "cell_type": "code",
   "execution_count": 87,
   "outputs": [],
   "source": [
    "fig = px.box(df_final, x=\"class\", y=\"recall\", color='tool')\n",
    "fig.update_layout(width=1000)\n",
    "fig.write_image(\"plots/recall_pdbs_classes.png\")"
   ],
   "metadata": {
    "collapsed": false,
    "ExecuteTime": {
     "end_time": "2023-09-14T09:59:30.924676370Z",
     "start_time": "2023-09-14T09:59:23.075548782Z"
    }
   }
  },
  {
   "cell_type": "markdown",
   "source": [
    "Figure 8. Recall evaluation of RepeatsDB-lite1 & 2 at target level for RepeatsDB topologies."
   ],
   "metadata": {
    "collapsed": false
   }
  },
  {
   "cell_type": "code",
   "execution_count": 88,
   "outputs": [],
   "source": [
    "# F score\n",
    "df_boxplots.rename(columns={10: 'f1'}, inplace=True)\n",
    "df_boxplots.rename(columns={20: 'f2'}, inplace=True)\n",
    "df_f1 = df_boxplots[['f1', 'topologies']].rename(columns={\"f1\": \"f-score\"})\n",
    "df_f2 = df_boxplots[['f2', 'topologies']].rename(columns={\"f2\": \"f-score\"})\n",
    "df_f1['tool'] = 'RepeatsDB-lite1'\n",
    "df_f2['tool'] = 'RepeatsDB-lite2'\n",
    "df_final = pd.concat([df_f1, df_f2])\n",
    "df_final = df_final.sort_values(by=['topologies'], ascending=True)\n",
    "df_final[['class','subclass']] = df_final['topologies'].str.split('.',expand=True)\n",
    "\n",
    "fig = px.box(df_final, x=\"topologies\", y=\"f-score\", color='tool')\n",
    "fig.update_layout(width=1000, plot_bgcolor = \"white\", paper_bgcolor = \"white\",  font_color=\"black\")\n",
    "fig.write_image(\"plots/f-score_pdbs.png\")"
   ],
   "metadata": {
    "collapsed": false,
    "ExecuteTime": {
     "end_time": "2023-09-14T09:59:46.213209214Z",
     "start_time": "2023-09-14T09:59:30.968452805Z"
    }
   }
  },
  {
   "cell_type": "markdown",
   "source": [
    "Figure 9. F-score evaluation of RepeatsDB-lite1 & 2 at target level for RepeatsDB classes."
   ],
   "metadata": {
    "collapsed": false
   }
  },
  {
   "cell_type": "code",
   "execution_count": 89,
   "outputs": [],
   "source": [
    "fig = px.box(df_final, x=\"class\", y=\"f-score\", color='tool')\n",
    "fig.update_layout(width=1000, plot_bgcolor = \"white\", paper_bgcolor = \"white\",  font_color=\"black\")\n",
    "fig.write_image(\"plots/f-score_pdbs_classes.png\")"
   ],
   "metadata": {
    "collapsed": false,
    "ExecuteTime": {
     "end_time": "2023-09-14T09:59:57.580509029Z",
     "start_time": "2023-09-14T09:59:46.215632721Z"
    }
   }
  },
  {
   "cell_type": "markdown",
   "source": [
    "Figure 10. F-score evaluation of RepeatsDB-lite1 & 2 at target level for RepeatsDB topologies."
   ],
   "metadata": {
    "collapsed": false
   }
  },
  {
   "cell_type": "code",
   "execution_count": null,
   "outputs": [],
   "source": [
    "# f1 by method\n",
    "fig = px.box(df_final, x=\"tool\", y=\"f-score\")\n",
    "fig.write_image(\"plots/f-score_by_method.png\")"
   ],
   "metadata": {
    "collapsed": false
   }
  },
  {
   "cell_type": "markdown",
   "source": [
    "Figure 10. Boxplot distribution of F-score values of RepeatsDB-lite1 & 2 by method."
   ],
   "metadata": {
    "collapsed": false
   }
  }
 ],
 "metadata": {
  "kernelspec": {
   "display_name": "Python 3",
   "language": "python",
   "name": "python3"
  },
  "language_info": {
   "codemirror_mode": {
    "name": "ipython",
    "version": 2
   },
   "file_extension": ".py",
   "mimetype": "text/x-python",
   "name": "python",
   "nbconvert_exporter": "python",
   "pygments_lexer": "ipython2",
   "version": "2.7.6"
  }
 },
 "nbformat": 4,
 "nbformat_minor": 0
}
