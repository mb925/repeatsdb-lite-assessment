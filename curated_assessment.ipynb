{
 "cells": [
  {
   "cell_type": "code",
   "execution_count": 105,
   "metadata": {
    "collapsed": true,
    "ExecuteTime": {
     "end_time": "2023-05-08T14:39:33.451279742Z",
     "start_time": "2023-05-08T14:39:31.719134895Z"
    }
   },
   "outputs": [
    {
     "name": "stderr",
     "output_type": "stream",
     "text": [
      "/tmp/ipykernel_58216/3691328379.py:5: DtypeWarning: Columns (3,13,15) have mixed types. Specify dtype option on import or set low_memory=False.\n",
      "  df_pos = pd.read_csv('data/binary_pdbs_classes.csv')\n",
      "/tmp/ipykernel_58216/3691328379.py:6: DtypeWarning: Columns (3) have mixed types. Specify dtype option on import or set low_memory=False.\n",
      "  df_neg = pd.read_csv('data/binary_pdb_negatives.csv')\n"
     ]
    },
    {
     "data": {
      "text/plain": "       pdb_id pdb_chain  seqres_index pdb_residue_id REGION  CURATED  RDB1   \n2        3u3w         B             3            3.0      0        0     1  \\\n3        3u3w         B             4            4.0      0        0     1   \n4        3u3w         B             5            5.0      0        0     1   \n5        3u3w         B             6            6.0      0        0     1   \n6        3u3w         B             7            7.0      0        0     1   \n...       ...       ...           ...            ...    ...      ...   ...   \n733045   6b9i         A           284          284.0    NaN        0     0   \n733046   6b9i         A           285          285.0    NaN        0     0   \n733047   6b9i         A           286          286.0    NaN        0     0   \n733048   6b9i         A           287          287.0    NaN        0     0   \n733049   6b9i         A           288          288.0    NaN        0     0   \n\n        RDB2  CATEGORY UNIT_CURATED   UNIT_RDB1 UNIT_RDB2    PDB classes   \n2          0         1            0  3u3wB_3_21         0  3u3wB       3  \\\n3          0         1            0  3u3wB_3_21         0  3u3wB       3   \n4          0         1            0  3u3wB_3_21         0  3u3wB       3   \n5          0         1            0  3u3wB_3_21         0  3u3wB       3   \n6          0         1            0  3u3wB_3_21         0  3u3wB       3   \n...      ...       ...          ...         ...       ...    ...     ...   \n733045     0         0            0           0         0  6b9iA     NaN   \n733046     0         0            0           0         0  6b9iA     NaN   \n733047     0         0            0           0         0  6b9iA     NaN   \n733048     0         0            0           0         0  6b9iA     NaN   \n733049     0         0            0           0         0  6b9iA     NaN   \n\n            classes_names topologies topologies_names  \n2       Elongated repeats        3.3   Alpha-solenoid  \n3       Elongated repeats        3.3   Alpha-solenoid  \n4       Elongated repeats        3.3   Alpha-solenoid  \n5       Elongated repeats        3.3   Alpha-solenoid  \n6       Elongated repeats        3.3   Alpha-solenoid  \n...                   ...        ...              ...  \n733045                NaN        NaN              NaN  \n733046                NaN        NaN              NaN  \n733047                NaN        NaN              NaN  \n733048                NaN        NaN              NaN  \n733049                NaN        NaN              NaN  \n\n[1986904 rows x 17 columns]",
      "text/html": "<div>\n<style scoped>\n    .dataframe tbody tr th:only-of-type {\n        vertical-align: middle;\n    }\n\n    .dataframe tbody tr th {\n        vertical-align: top;\n    }\n\n    .dataframe thead th {\n        text-align: right;\n    }\n</style>\n<table border=\"1\" class=\"dataframe\">\n  <thead>\n    <tr style=\"text-align: right;\">\n      <th></th>\n      <th>pdb_id</th>\n      <th>pdb_chain</th>\n      <th>seqres_index</th>\n      <th>pdb_residue_id</th>\n      <th>REGION</th>\n      <th>CURATED</th>\n      <th>RDB1</th>\n      <th>RDB2</th>\n      <th>CATEGORY</th>\n      <th>UNIT_CURATED</th>\n      <th>UNIT_RDB1</th>\n      <th>UNIT_RDB2</th>\n      <th>PDB</th>\n      <th>classes</th>\n      <th>classes_names</th>\n      <th>topologies</th>\n      <th>topologies_names</th>\n    </tr>\n  </thead>\n  <tbody>\n    <tr>\n      <th>2</th>\n      <td>3u3w</td>\n      <td>B</td>\n      <td>3</td>\n      <td>3.0</td>\n      <td>0</td>\n      <td>0</td>\n      <td>1</td>\n      <td>0</td>\n      <td>1</td>\n      <td>0</td>\n      <td>3u3wB_3_21</td>\n      <td>0</td>\n      <td>3u3wB</td>\n      <td>3</td>\n      <td>Elongated repeats</td>\n      <td>3.3</td>\n      <td>Alpha-solenoid</td>\n    </tr>\n    <tr>\n      <th>3</th>\n      <td>3u3w</td>\n      <td>B</td>\n      <td>4</td>\n      <td>4.0</td>\n      <td>0</td>\n      <td>0</td>\n      <td>1</td>\n      <td>0</td>\n      <td>1</td>\n      <td>0</td>\n      <td>3u3wB_3_21</td>\n      <td>0</td>\n      <td>3u3wB</td>\n      <td>3</td>\n      <td>Elongated repeats</td>\n      <td>3.3</td>\n      <td>Alpha-solenoid</td>\n    </tr>\n    <tr>\n      <th>4</th>\n      <td>3u3w</td>\n      <td>B</td>\n      <td>5</td>\n      <td>5.0</td>\n      <td>0</td>\n      <td>0</td>\n      <td>1</td>\n      <td>0</td>\n      <td>1</td>\n      <td>0</td>\n      <td>3u3wB_3_21</td>\n      <td>0</td>\n      <td>3u3wB</td>\n      <td>3</td>\n      <td>Elongated repeats</td>\n      <td>3.3</td>\n      <td>Alpha-solenoid</td>\n    </tr>\n    <tr>\n      <th>5</th>\n      <td>3u3w</td>\n      <td>B</td>\n      <td>6</td>\n      <td>6.0</td>\n      <td>0</td>\n      <td>0</td>\n      <td>1</td>\n      <td>0</td>\n      <td>1</td>\n      <td>0</td>\n      <td>3u3wB_3_21</td>\n      <td>0</td>\n      <td>3u3wB</td>\n      <td>3</td>\n      <td>Elongated repeats</td>\n      <td>3.3</td>\n      <td>Alpha-solenoid</td>\n    </tr>\n    <tr>\n      <th>6</th>\n      <td>3u3w</td>\n      <td>B</td>\n      <td>7</td>\n      <td>7.0</td>\n      <td>0</td>\n      <td>0</td>\n      <td>1</td>\n      <td>0</td>\n      <td>1</td>\n      <td>0</td>\n      <td>3u3wB_3_21</td>\n      <td>0</td>\n      <td>3u3wB</td>\n      <td>3</td>\n      <td>Elongated repeats</td>\n      <td>3.3</td>\n      <td>Alpha-solenoid</td>\n    </tr>\n    <tr>\n      <th>...</th>\n      <td>...</td>\n      <td>...</td>\n      <td>...</td>\n      <td>...</td>\n      <td>...</td>\n      <td>...</td>\n      <td>...</td>\n      <td>...</td>\n      <td>...</td>\n      <td>...</td>\n      <td>...</td>\n      <td>...</td>\n      <td>...</td>\n      <td>...</td>\n      <td>...</td>\n      <td>...</td>\n      <td>...</td>\n    </tr>\n    <tr>\n      <th>733045</th>\n      <td>6b9i</td>\n      <td>A</td>\n      <td>284</td>\n      <td>284.0</td>\n      <td>NaN</td>\n      <td>0</td>\n      <td>0</td>\n      <td>0</td>\n      <td>0</td>\n      <td>0</td>\n      <td>0</td>\n      <td>0</td>\n      <td>6b9iA</td>\n      <td>NaN</td>\n      <td>NaN</td>\n      <td>NaN</td>\n      <td>NaN</td>\n    </tr>\n    <tr>\n      <th>733046</th>\n      <td>6b9i</td>\n      <td>A</td>\n      <td>285</td>\n      <td>285.0</td>\n      <td>NaN</td>\n      <td>0</td>\n      <td>0</td>\n      <td>0</td>\n      <td>0</td>\n      <td>0</td>\n      <td>0</td>\n      <td>0</td>\n      <td>6b9iA</td>\n      <td>NaN</td>\n      <td>NaN</td>\n      <td>NaN</td>\n      <td>NaN</td>\n    </tr>\n    <tr>\n      <th>733047</th>\n      <td>6b9i</td>\n      <td>A</td>\n      <td>286</td>\n      <td>286.0</td>\n      <td>NaN</td>\n      <td>0</td>\n      <td>0</td>\n      <td>0</td>\n      <td>0</td>\n      <td>0</td>\n      <td>0</td>\n      <td>0</td>\n      <td>6b9iA</td>\n      <td>NaN</td>\n      <td>NaN</td>\n      <td>NaN</td>\n      <td>NaN</td>\n    </tr>\n    <tr>\n      <th>733048</th>\n      <td>6b9i</td>\n      <td>A</td>\n      <td>287</td>\n      <td>287.0</td>\n      <td>NaN</td>\n      <td>0</td>\n      <td>0</td>\n      <td>0</td>\n      <td>0</td>\n      <td>0</td>\n      <td>0</td>\n      <td>0</td>\n      <td>6b9iA</td>\n      <td>NaN</td>\n      <td>NaN</td>\n      <td>NaN</td>\n      <td>NaN</td>\n    </tr>\n    <tr>\n      <th>733049</th>\n      <td>6b9i</td>\n      <td>A</td>\n      <td>288</td>\n      <td>288.0</td>\n      <td>NaN</td>\n      <td>0</td>\n      <td>0</td>\n      <td>0</td>\n      <td>0</td>\n      <td>0</td>\n      <td>0</td>\n      <td>0</td>\n      <td>6b9iA</td>\n      <td>NaN</td>\n      <td>NaN</td>\n      <td>NaN</td>\n      <td>NaN</td>\n    </tr>\n  </tbody>\n</table>\n<p>1986904 rows × 17 columns</p>\n</div>"
     },
     "execution_count": 105,
     "metadata": {},
     "output_type": "execute_result"
    }
   ],
   "source": [
    "import pandas as pd\n",
    "import numpy as np\n",
    "import math\n",
    "\n",
    "# dataset\n",
    "df_pos = pd.read_csv('data/binary_pdbs_classes.csv')\n",
    "df_neg = pd.read_csv('data/binary_pdb_negatives.csv')\n",
    "df = pd.concat([df_pos, df_neg])\n",
    "df = df.loc[df['pdb_residue_id'].notnull()] # filter missing residues\n",
    "df"
   ]
  },
  {
   "cell_type": "code",
   "execution_count": 106,
   "outputs": [],
   "source": [
    "# REPEATSDB-LITE EVALUATION (generate tables)\n",
    "# Repeats detection at the protein level (PDB chains)\n",
    "df['curat'] = df.groupby('PDB')['CURATED'].transform('max')\n",
    "df['pred1'] = df.groupby('PDB')['RDB1'].transform('max')\n",
    "df['pred2'] = df.groupby('PDB')['RDB2'].transform('max')\n",
    "\n",
    "# rdb1\n",
    "df['TP_1'] = np.where((df['pred1'] == df['curat']) & (df['curat'] == 1), '1', '0')\n",
    "df['TN_1'] = np.where((df['pred1'] == df['curat']) & (df['curat'] == 0), '1', '0')\n",
    "df['FP_1'] = np.where((df['pred1'] != df['curat']) & (df['curat'] == 0), '1', '0')\n",
    "df['FN_1'] = np.where((df['pred1'] == df['curat']) & (df['curat'] == 1), '1', '0')\n",
    "\n",
    "# rdb2\n",
    "df['TP_2'] = np.where((df['pred2'] == df['curat']) & (df['curat'] == 1), '1', '0')\n",
    "df['TN_2'] = np.where((df['pred2'] == df['curat']) & (df['curat'] == 0), '1', '0')\n",
    "df['FP_2'] = np.where((df['pred2'] != df['curat']) & (df['curat'] == 0), '1', '0')\n",
    "df['FN_2'] = np.where((df['pred2'] == df['curat']) & (df['curat'] == 1), '1', '0')"
   ],
   "metadata": {
    "collapsed": false,
    "ExecuteTime": {
     "end_time": "2023-05-08T14:39:33.840857924Z",
     "start_time": "2023-05-08T14:39:33.462767041Z"
    }
   }
  },
  {
   "cell_type": "code",
   "execution_count": 107,
   "outputs": [
    {
     "data": {
      "text/plain": "5068"
     },
     "execution_count": 107,
     "metadata": {},
     "output_type": "execute_result"
    }
   ],
   "source": [
    "tp1 = len(df.loc[df['TP_1'] == '1'].groupby('PDB'))\n",
    "tn1 = len(df.loc[df['TN_1'] == '1'].groupby('PDB'))\n",
    "fp1 = len(df.loc[df['FP_1'] == '1'].groupby('PDB'))\n",
    "fn1 = len(df.loc[df['FN_1'] == '1'].groupby('PDB'))\n",
    "total1 = len(list(df.loc[(df['pred1'] == 1)]['PDB'].drop_duplicates()))\n",
    "\n",
    "tp2 = len(df.loc[df['TP_2'] == '1'].groupby('PDB'))\n",
    "tn2 = len(df.loc[df['TN_2'] == '1'].groupby('PDB'))\n",
    "fp2 = len(df.loc[df['FP_2'] == '1'].groupby('PDB'))\n",
    "fn2 = len(df.loc[df['FN_2'] == '1'].groupby('PDB'))\n",
    "total2 = len(list(df.loc[(df['pred2'] == 1)]['PDB'].drop_duplicates()))\n",
    "total2"
   ],
   "metadata": {
    "collapsed": false,
    "ExecuteTime": {
     "end_time": "2023-05-08T14:39:36.121404619Z",
     "start_time": "2023-05-08T14:39:33.917987924Z"
    }
   }
  },
  {
   "cell_type": "code",
   "execution_count": 108,
   "outputs": [],
   "source": [
    "# accuracy1, accuracy2, precision1, precision2, recall1, recall2, f_score1, f_score2, mcc1, mcc2, tnr1, tnr2\n",
    "def calc_metrics(tp1, fp1, tn1, fn1, tp2, fp2, tn2, fn2):\n",
    "    # balanced accuracy\n",
    "    se1_total = tp1 + fn1\n",
    "    se2_total = tp2 + fn2\n",
    "    sp1_total = fp1 + tn1\n",
    "    sp2_total = fp2 + tn2\n",
    "    if se1_total == 0 or sp1_total == 0:\n",
    "        accuracy1 = 0\n",
    "    else:\n",
    "        accuracy1 = round(((tp1 / se1_total) + (tn1 / sp1_total)) / 2, 2)\n",
    "\n",
    "    if se2_total == 0 or sp2_total == 0:\n",
    "        accuracy2 = 0\n",
    "    else:\n",
    "        accuracy2 = round(((tp2 / se2_total) + (tn2 / sp2_total)) / 2,2)\n",
    "\n",
    "\n",
    "    p1_total = tp1 + fp1\n",
    "    p2_total = tp2 + fp2\n",
    "    r1_total = tp2 + fn2\n",
    "    r2_total = tp2 + fn2\n",
    "\n",
    "    if p1_total == 0:\n",
    "        precision1 = 0\n",
    "    else:\n",
    "        precision1 = round(tp1 / p1_total, 2)\n",
    "    if p2_total == 0:\n",
    "        precision2 = 0\n",
    "    else:\n",
    "        precision2 = round(tp2 / p2_total, 2)\n",
    "    if r1_total == 0:\n",
    "        recall1 = 0\n",
    "    else:\n",
    "        recall1 = round(tp1 / r1_total, 2)\n",
    "    if r2_total == 0:\n",
    "        recall2 = 0\n",
    "    else:\n",
    "        recall2 = round(tp2 / r2_total, 2)\n",
    "\n",
    "    if precision1 == 0 and recall1 == 0:\n",
    "        f_score1 = 0\n",
    "    else:\n",
    "        f_score1 = round(2 * ((precision1 * recall1)/(precision1+recall1)),2)\n",
    "    if precision2 == 0 and recall2 == 0:\n",
    "        f_score2 = 0\n",
    "    else:\n",
    "        f_score2 = round(2 * ((precision2 * recall2)/(precision2+recall2)), 2)\n",
    "\n",
    "    d1 = math.sqrt((tp1 + fp1)*(tp1 + fn1)*(tn1 + fp1)*(tn1 + fn1))\n",
    "    d2 = math.sqrt((tp2 + fp2)*(tp2 + fn2)*(tn2 + fp2)*(tn2 + fn2))\n",
    "    if d1 == 0:\n",
    "        mcc1 = 'n.a.'\n",
    "    else:\n",
    "        mcc1 = round(((tp1 * tn1) - (fp1 * fn1)) / d1, 2)\n",
    "    if d1 == 0:\n",
    "        mcc2 = 'n.a.'\n",
    "    else:\n",
    "        mcc2 = round(((tp2 * tn2) - (fp2 * fn2)) / d2, 2)\n",
    "\n",
    "    tnr1 = round(tn1 / (tn1 + fp1),2)\n",
    "    tnr2 = round(tn2 / (tn2 + fp2),2)\n",
    "    return [accuracy1, accuracy2, precision1, precision2, recall1, recall2, f_score1, f_score2, mcc1, mcc2, tnr1, tnr2]"
   ],
   "metadata": {
    "collapsed": false,
    "ExecuteTime": {
     "end_time": "2023-05-08T14:39:36.131205030Z",
     "start_time": "2023-05-08T14:39:36.126635491Z"
    }
   }
  },
  {
   "cell_type": "code",
   "execution_count": 109,
   "outputs": [
    {
     "data": {
      "text/plain": "       TOOL    TP    FP   TN    FN  TOTAL  BALANCED ACCURACY  PRECISION   \n0  RDBLITE1  1841  1045  774  1841   2886               0.46       0.64  \\\n1  RDBLITE2  3377  1691  128  3377   5068               0.29       0.67   \n\n   RECALL  F-SCORE   MCC  TNR1  \n0    0.27     0.38 -0.07  0.43  \n1    0.50     0.57 -0.36  0.07  ",
      "text/html": "<div>\n<style scoped>\n    .dataframe tbody tr th:only-of-type {\n        vertical-align: middle;\n    }\n\n    .dataframe tbody tr th {\n        vertical-align: top;\n    }\n\n    .dataframe thead th {\n        text-align: right;\n    }\n</style>\n<table border=\"1\" class=\"dataframe\">\n  <thead>\n    <tr style=\"text-align: right;\">\n      <th></th>\n      <th>TOOL</th>\n      <th>TP</th>\n      <th>FP</th>\n      <th>TN</th>\n      <th>FN</th>\n      <th>TOTAL</th>\n      <th>BALANCED ACCURACY</th>\n      <th>PRECISION</th>\n      <th>RECALL</th>\n      <th>F-SCORE</th>\n      <th>MCC</th>\n      <th>TNR1</th>\n    </tr>\n  </thead>\n  <tbody>\n    <tr>\n      <th>0</th>\n      <td>RDBLITE1</td>\n      <td>1841</td>\n      <td>1045</td>\n      <td>774</td>\n      <td>1841</td>\n      <td>2886</td>\n      <td>0.46</td>\n      <td>0.64</td>\n      <td>0.27</td>\n      <td>0.38</td>\n      <td>-0.07</td>\n      <td>0.43</td>\n    </tr>\n    <tr>\n      <th>1</th>\n      <td>RDBLITE2</td>\n      <td>3377</td>\n      <td>1691</td>\n      <td>128</td>\n      <td>3377</td>\n      <td>5068</td>\n      <td>0.29</td>\n      <td>0.67</td>\n      <td>0.50</td>\n      <td>0.57</td>\n      <td>-0.36</td>\n      <td>0.07</td>\n    </tr>\n  </tbody>\n</table>\n</div>"
     },
     "execution_count": 109,
     "metadata": {},
     "output_type": "execute_result"
    }
   ],
   "source": [
    "# write table protein level\n",
    "metrics = calc_metrics(tp1, fp1, tn1, fn1, tp2, fp2, tn2, fn2)\n",
    "data = []\n",
    "data.append(['RDBLITE1', tp1, fp1, tn1, fn1, total1, metrics[0], metrics[2], metrics[4], metrics[6], metrics[8], metrics[10]])\n",
    "data.append(['RDBLITE2',  tp2, fp2, tn2, fn2, total2, metrics[1], metrics[3], metrics[5], metrics[7], metrics[9], metrics[11]])\n",
    "table = pd.DataFrame(data, columns=['TOOL', 'TP', 'FP', 'TN', 'FN', 'TOTAL', 'BALANCED ACCURACY', 'PRECISION', 'RECALL', 'F-SCORE', 'MCC', 'TNR1'])\n",
    "table.to_csv('tables/table_protein_level.csv', index=False)\n",
    "table"
   ],
   "metadata": {
    "collapsed": false,
    "ExecuteTime": {
     "end_time": "2023-05-08T14:39:36.166141713Z",
     "start_time": "2023-05-08T14:39:36.129702523Z"
    }
   }
  },
  {
   "cell_type": "code",
   "execution_count": 110,
   "outputs": [],
   "source": [
    "# Region overlap at the residue level\n",
    "\n",
    "tp1 = len(df.loc[(df['CURATED'] == 1) & (df['RDB1'] == 1)])\n",
    "tn1 = len(df.loc[(df['CURATED'] == 0) & (df['RDB1'] == 0)])\n",
    "fp1 = len(df.loc[(df['CURATED'] == 0) & (df['RDB1'] == 1)])\n",
    "fn1 = len(df.loc[(df['CURATED'] == 1) & (df['RDB1'] == 0)])\n",
    "total1 = len(df.loc[(df['RDB1'] == 1)])\n",
    "\n",
    "tp2 = len(df.loc[(df['CURATED'] == 1) & (df['RDB2'] == 1)])\n",
    "tn2 = len(df.loc[(df['CURATED'] == 0) & (df['RDB2'] == 0)])\n",
    "fp2 = len(df.loc[(df['CURATED'] == 0) & (df['RDB2'] == 1)])\n",
    "fn2 = len(df.loc[(df['CURATED'] == 1) & (df['RDB2'] == 0)])\n",
    "total2 = len(df.loc[(df['RDB2'] == 1)])\n",
    "\n",
    "# write table residue level\n",
    "metrics = calc_metrics(tp1, fp1, tn1, fn1, tp2, fp2, tn2, fn2)\n",
    "data = []\n",
    "data.append(['RDBLITE1', tp1, fp1, tn1, fn1, total1, metrics[0], metrics[2], metrics[4], metrics[6], metrics[8], metrics[10]])\n",
    "data.append(['RDBLITE2', tp2, fp2, tn2, fn2, total2,  metrics[1], metrics[3], metrics[5], metrics[7], metrics[9], metrics[11]])\n",
    "table = pd.DataFrame(data, columns=['TOOL', 'TP', 'FP', 'TN', 'FN', 'TOTAL', 'BALANCED ACCURACY', 'PRECISION', 'RECALL', 'F-SCORE', 'MCC', 'TNR1'])\n",
    "table.to_csv('tables/table_positives_negatives.csv', index=False)\n"
   ],
   "metadata": {
    "collapsed": false,
    "ExecuteTime": {
     "end_time": "2023-05-08T14:39:37.212816398Z",
     "start_time": "2023-05-08T14:39:36.170145185Z"
    }
   }
  },
  {
   "cell_type": "code",
   "execution_count": 114,
   "outputs": [
    {
     "data": {
      "text/plain": "       TOOL      TP      FP      TN      FN   TOTAL  BALANCED ACCURACY   \n0  RDBLITE1  451973   33835  259493  557809  485808               0.67  \\\n1  RDBLITE2  768967  138330  154998  240815  907297               0.64   \n\n   PRECISION  RECALL  F-SCORE   MCC  TNR1  \n0       0.93    0.45     0.61  0.29  0.88  \n1       0.85    0.76     0.80  0.26  0.53  ",
      "text/html": "<div>\n<style scoped>\n    .dataframe tbody tr th:only-of-type {\n        vertical-align: middle;\n    }\n\n    .dataframe tbody tr th {\n        vertical-align: top;\n    }\n\n    .dataframe thead th {\n        text-align: right;\n    }\n</style>\n<table border=\"1\" class=\"dataframe\">\n  <thead>\n    <tr style=\"text-align: right;\">\n      <th></th>\n      <th>TOOL</th>\n      <th>TP</th>\n      <th>FP</th>\n      <th>TN</th>\n      <th>FN</th>\n      <th>TOTAL</th>\n      <th>BALANCED ACCURACY</th>\n      <th>PRECISION</th>\n      <th>RECALL</th>\n      <th>F-SCORE</th>\n      <th>MCC</th>\n      <th>TNR1</th>\n    </tr>\n  </thead>\n  <tbody>\n    <tr>\n      <th>0</th>\n      <td>RDBLITE1</td>\n      <td>451973</td>\n      <td>33835</td>\n      <td>259493</td>\n      <td>557809</td>\n      <td>485808</td>\n      <td>0.67</td>\n      <td>0.93</td>\n      <td>0.45</td>\n      <td>0.61</td>\n      <td>0.29</td>\n      <td>0.88</td>\n    </tr>\n    <tr>\n      <th>1</th>\n      <td>RDBLITE2</td>\n      <td>768967</td>\n      <td>138330</td>\n      <td>154998</td>\n      <td>240815</td>\n      <td>907297</td>\n      <td>0.64</td>\n      <td>0.85</td>\n      <td>0.76</td>\n      <td>0.80</td>\n      <td>0.26</td>\n      <td>0.53</td>\n    </tr>\n  </tbody>\n</table>\n</div>"
     },
     "execution_count": 114,
     "metadata": {},
     "output_type": "execute_result"
    }
   ],
   "source": [
    "# Region overlap at the residue level for the positive class (category = 1)\n",
    "\n",
    "tp1 = len(df.loc[(df['CURATED'] == 1) & (df['RDB1'] == 1) & (df['CATEGORY'] == 1)])\n",
    "tn1 = len(df.loc[(df['CURATED'] == 0) & (df['RDB1'] == 0) & (df['CATEGORY'] == 1)])\n",
    "fp1 = len(df.loc[(df['CURATED'] == 0) & (df['RDB1'] == 1) & (df['CATEGORY'] == 1)])\n",
    "fn1 = len(df.loc[(df['CURATED'] == 1) & (df['RDB1'] == 0) & (df['CATEGORY'] == 1)])\n",
    "total1 = len(df.loc[(df['RDB1'] == 1) & (df['CATEGORY'] == 1)])\n",
    "\n",
    "tp2 = len(df.loc[(df['CURATED'] == 1) & (df['RDB2'] == 1) & (df['CATEGORY'] == 1)])\n",
    "tn2 = len(df.loc[(df['CURATED'] == 0) & (df['RDB2'] == 0) & (df['CATEGORY'] == 1)])\n",
    "fp2 = len(df.loc[(df['CURATED'] == 0) & (df['RDB2'] == 1) & (df['CATEGORY'] == 1)])\n",
    "fn2 = len(df.loc[(df['CURATED'] == 1) & (df['RDB2'] == 0) & (df['CATEGORY'] == 1)])\n",
    "total2 = len(df.loc[(df['RDB2'] == 1) & (df['CATEGORY'] == 1)])\n",
    "\n",
    "# write table residue level\n",
    "metrics = calc_metrics(tp1, fp1, tn1, fn1, tp2, fp2, tn2, fn2)\n",
    "data = []\n",
    "data.append(['RDBLITE1', tp1, fp1, tn1, fn1, total1, metrics[0], metrics[2], metrics[4], metrics[6], metrics[8], metrics[10]])\n",
    "data.append(['RDBLITE2', tp2, fp2, tn2, fn2, total2,  metrics[1], metrics[3], metrics[5], metrics[7], metrics[9], metrics[11]])\n",
    "table = pd.DataFrame(data, columns=['TOOL', 'TP', 'FP', 'TN', 'FN', 'TOTAL', 'BALANCED ACCURACY', 'PRECISION', 'RECALL', 'F-SCORE', 'MCC', 'TNR1'])\n",
    "table.to_csv('tables/table_positives.csv', index=False)\n",
    "table\n"
   ],
   "metadata": {
    "collapsed": false,
    "ExecuteTime": {
     "end_time": "2023-05-08T14:42:57.342577932Z",
     "start_time": "2023-05-08T14:42:56.688182253Z"
    }
   }
  },
  {
   "cell_type": "code",
   "execution_count": 111,
   "outputs": [],
   "source": [
    "# REPEATSDB-LITE EVALUATION (generate plots)\n",
    "# Region overlap\n",
    "# rdb1\n",
    "df['TRUE_PRED'] = np.where((df['pred1'] == df['curat']), '1', '0')"
   ],
   "metadata": {
    "collapsed": false,
    "ExecuteTime": {
     "end_time": "2023-05-08T14:39:37.876191191Z",
     "start_time": "2023-05-08T14:39:37.875088109Z"
    }
   }
  }
 ],
 "metadata": {
  "kernelspec": {
   "display_name": "Python 3",
   "language": "python",
   "name": "python3"
  },
  "language_info": {
   "codemirror_mode": {
    "name": "ipython",
    "version": 2
   },
   "file_extension": ".py",
   "mimetype": "text/x-python",
   "name": "python",
   "nbconvert_exporter": "python",
   "pygments_lexer": "ipython2",
   "version": "2.7.6"
  }
 },
 "nbformat": 4,
 "nbformat_minor": 0
}
