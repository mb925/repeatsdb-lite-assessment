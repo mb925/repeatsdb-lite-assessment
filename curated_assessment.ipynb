{
 "cells": [
  {
   "cell_type": "code",
   "execution_count": 72,
   "outputs": [],
   "source": [
    "import pandas as pd\n",
    "import numpy as np\n",
    "import math"
   ],
   "metadata": {
    "collapsed": false
   }
  },
  {
   "cell_type": "code",
   "execution_count": 73,
   "outputs": [],
   "source": [
    "def calc_metrics(tp, tn, fp, fn):\n",
    "    # balanced accuracy\n",
    "    se_total = tp + fn\n",
    "    sp_total = fp + tn\n",
    "\n",
    "    # Sensitivity / recall / TPR\n",
    "    se = 0\n",
    "    if se_total > 0:\n",
    "        se = tp / se_total\n",
    "\n",
    "    # Specificity / TNR\n",
    "    sp = 0\n",
    "    if sp_total > 0:\n",
    "        sp = tn / sp_total\n",
    "\n",
    "    # Balanced accuracy (Sensitivity + specificity) / 2\n",
    "    bacc = (se + sp) / 2\n",
    "\n",
    "    # Precision / PPV\n",
    "    p_total = tp + fp\n",
    "    p = 0\n",
    "    if p_total > 0:\n",
    "        p = tp / p_total\n",
    "\n",
    "    # F1 score\n",
    "    f1 = 0\n",
    "    if (p + se) > 0:\n",
    "        f1 = 2 * ((p * se)/(p+se))\n",
    "\n",
    "    # MCC\n",
    "    mcc = np.nan\n",
    "    d = math.sqrt((tp + fp)*(tp + fn)*(tn + fp)*(tn + fn))\n",
    "    if d > 0:\n",
    "        mcc = ((tp * tn) - (fp * fn)) / d\n",
    "\n",
    "    return [bacc, p, se, sp, f1, mcc]"
   ],
   "metadata": {
    "collapsed": false
   }
  },
  {
   "cell_type": "code",
   "execution_count": 74,
   "outputs": [],
   "source": [
    "# dataset\n",
    "df_pos = pd.read_csv('data/binary_pdbs_classes.csv')\n",
    "df_neg = pd.read_csv('data/binary_pdb_negatives.csv')\n",
    "df = pd.concat([df_pos, df_neg])\n",
    "df = df.loc[df['pdb_residue_id'].notnull()] # filter missing residues\n",
    "df"
   ],
   "metadata": {
    "collapsed": false
   }
  },
  {
   "cell_type": "code",
   "execution_count": 75,
   "outputs": [],
   "source": [
    "# REPEATSDB-LITE EVALUATION (generate tables)\n",
    "# Repeats detection at the protein level (PDB chains)\n",
    "\n",
    "# rdb1\n",
    "df['TP_1'] = np.where((df['RDB1'] == df['CURATED']) & (df['CURATED'] == 1), 1, 0)\n",
    "df['TN_1'] = np.where((df['RDB1'] == df['CURATED']) & (df['CURATED'] == 0), 1, 0)\n",
    "df['FP_1'] = np.where((df['RDB1'] != df['CURATED']) & (df['CURATED'] == 0), 1, 0)\n",
    "df['FN_1'] = np.where((df['RDB1'] != df['CURATED']) & (df['CURATED'] == 1), 1, 0)\n",
    "\n",
    "df['TP_2'] = np.where((df['RDB2'] == df['CURATED']) & (df['CURATED'] == 1), 1, 0)\n",
    "df['TN_2'] = np.where((df['RDB2'] == df['CURATED']) & (df['CURATED'] == 0), 1, 0)\n",
    "df['FP_2'] = np.where((df['RDB2'] != df['CURATED']) & (df['CURATED'] == 0), 1, 0)\n",
    "df['FN_2'] = np.where((df['RDB2'] != df['CURATED']) & (df['CURATED'] == 1), 1, 0)\n",
    "\n",
    "df"
   ],
   "metadata": {
    "collapsed": false
   }
  },
  {
   "cell_type": "code",
   "execution_count": 76,
   "outputs": [],
   "source": [
    "df_prot = df.groupby(['pdb_id', 'pdb_chain']).agg({'CATEGORY': 'first', 'seqres_index':'count','TP_1': 'sum', 'TN_1': 'sum', 'FP_1': 'sum', 'FN_1': 'sum', 'TP_2': 'sum', 'TN_2': 'sum', 'FP_2': 'sum', 'FN_2': 'sum'})\n",
    "df_prot.reset_index(inplace=True)\n",
    "df_prot.set_index(['pdb_id', 'pdb_chain', 'seqres_index'], inplace=True)\n",
    "\n",
    "df_prot"
   ],
   "metadata": {
    "collapsed": false
   }
  },
  {
   "cell_type": "code",
   "execution_count": 77,
   "outputs": [],
   "source": [
    "df_prot.columns=pd.MultiIndex.from_arrays([['CATEGORY','RDB1', 'RDB1', 'RDB1', 'RDB1', 'RDB2', 'RDB2', 'RDB2', 'RDB2'], ['CATEGORY','TP', 'TN', 'FP', 'FN', 'TP', 'TN', 'FP', 'FN']])\n",
    "df_prot"
   ],
   "metadata": {
    "collapsed": false
   }
  },
  {
   "cell_type": "code",
   "execution_count": 78,
   "outputs": [],
   "source": [
    "# tp, tn fp, fn\n",
    "# bacc, p, se, sp, f1, mcc\n",
    "print(*df_prot['RDB1'].sum(), calc_metrics(*df_prot['RDB1'].sum()))\n",
    "print(*df_prot['RDB2'].sum(), calc_metrics(*df_prot['RDB2'].sum()))"
   ],
   "metadata": {
    "collapsed": false
   }
  },
  {
   "cell_type": "code",
   "execution_count": 79,
   "outputs": [],
   "source": [
    "# apply calc_metrics function to each row for both RDB1 and RDB2\n",
    "data = []\n",
    "for index, row in df_prot.iterrows():\n",
    "    # print(*row['RDB1'], *calc_metrics(*row['RDB1']))\n",
    "    data.append([index[0], index[1], index[2], *row[:4], *calc_metrics(*row['RDB1']), *row[4:], *calc_metrics(*row['RDB2'])])\n",
    "df_ = pd.DataFrame(data)\n",
    "df_"
   ],
   "metadata": {
    "collapsed": false
   }
  },
  {
   "cell_type": "code",
   "execution_count": null,
   "outputs": [],
   "source": [
    "df_.columns=pd.MultiIndex.from_arrays([[None, None, None, None, 'RDB1', 'RDB1', 'RDB1', 'RDB1', 'RDB1', 'RDB1', 'RDB1', 'RDB1', 'RDB1', 'RDB1', 'RDB2', 'RDB2', 'RDB2', 'RDB2', 'RDB2', 'RDB2', 'RDB2', 'RDB2', 'RDB2', 'RDB2'], ['pdb_id', 'pdb_chain', 'length', 'CATEGORY','TP', 'TN', 'FP', 'FN', 'bacc', 'p', 'se', 'sp', 'f1', 'mcc', 'TP', 'TN', 'FP', 'FN', 'bacc', 'p', 'se', 'sp', 'f1', 'mcc']])\n",
    "df_"
   ],
   "metadata": {
    "collapsed": false
   }
  },
  {
   "cell_type": "code",
   "execution_count": null,
   "outputs": [],
   "source": [
    "df_.loc[:, ('RDB1', ['bacc', 'p', 'se', 'sp', 'f1', 'mcc'])]"
   ],
   "metadata": {
    "collapsed": false
   }
  },
  {
   "cell_type": "code",
   "execution_count": null,
   "outputs": [],
   "source": [
    "df_.loc[:,('RDB1', ['bacc', 'p', 'se', 'sp', 'f1', 'mcc'])].boxplot(figsize=(20,10))\n",
    "\n",
    "\n"
   ],
   "metadata": {
    "collapsed": false
   }
  },
  {
   "cell_type": "code",
   "execution_count": null,
   "outputs": [],
   "source": [
    "df_.loc[:,(slice(None), ['bacc', 'p', 'se', 'sp', 'f1', 'mcc'])].boxplot(figsize=(20,10))"
   ],
   "metadata": {
    "collapsed": false
   }
  }
 ],
 "metadata": {
  "kernelspec": {
   "display_name": "Python 3",
   "language": "python",
   "name": "python3"
  },
  "language_info": {
   "codemirror_mode": {
    "name": "ipython",
    "version": 2
   },
   "file_extension": ".py",
   "mimetype": "text/x-python",
   "name": "python",
   "nbconvert_exporter": "python",
   "pygments_lexer": "ipython2",
   "version": "2.7.6"
  }
 },
 "nbformat": 4,
 "nbformat_minor": 0
}
