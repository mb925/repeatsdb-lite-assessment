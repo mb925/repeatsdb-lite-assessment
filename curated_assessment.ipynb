{
 "cells": [
  {
   "cell_type": "code",
   "execution_count": 178,
   "outputs": [],
   "source": [
    "import pandas as pd\n",
    "import numpy as np\n",
    "import math"
   ],
   "metadata": {
    "collapsed": false,
    "ExecuteTime": {
     "end_time": "2023-05-12T10:56:21.183014330Z",
     "start_time": "2023-05-12T10:56:21.112668925Z"
    }
   }
  },
  {
   "cell_type": "code",
   "execution_count": 179,
   "outputs": [],
   "source": [
    "def calc_metrics(tp, tn, fp, fn):\n",
    "    # balanced accuracy\n",
    "    se_total = tp + fn\n",
    "    sp_total = fp + tn\n",
    "\n",
    "    # Sensitivity / recall / TPR\n",
    "    se = 0\n",
    "    if se_total > 0:\n",
    "        se = tp / se_total\n",
    "\n",
    "    # Specificity / TNR\n",
    "    sp = 0\n",
    "    if sp_total > 0:\n",
    "        sp = tn / sp_total\n",
    "\n",
    "    # Balanced accuracy (Sensitivity + specificity) / 2\n",
    "    bacc = (se + sp) / 2\n",
    "\n",
    "    # Precision / PPV\n",
    "    p_total = tp + fp\n",
    "    p = 0\n",
    "    if p_total > 0:\n",
    "        p = tp / p_total\n",
    "\n",
    "    # F1 score\n",
    "    f1 = 0\n",
    "    if (p + se) > 0:\n",
    "        f1 = 2 * ((p * se)/(p+se))\n",
    "\n",
    "    # MCC\n",
    "    mcc = np.nan\n",
    "    d = math.sqrt((tp + fp)*(tp + fn)*(tn + fp)*(tn + fn))\n",
    "    if d > 0:\n",
    "        mcc = ((tp * tn) - (fp * fn)) / d\n",
    "\n",
    "    return [bacc, p, se, sp, f1, mcc]"
   ],
   "metadata": {
    "collapsed": false,
    "ExecuteTime": {
     "end_time": "2023-05-12T10:56:21.183222809Z",
     "start_time": "2023-05-12T10:56:21.155228535Z"
    }
   }
  },
  {
   "cell_type": "code",
   "execution_count": 180,
   "outputs": [
    {
     "name": "stderr",
     "output_type": "stream",
     "text": [
      "/tmp/ipykernel_35132/3585571110.py:2: DtypeWarning: Columns (3,13,15) have mixed types. Specify dtype option on import or set low_memory=False.\n",
      "  df_pos = pd.read_csv('data/binary_pdbs_classes.csv')\n",
      "/tmp/ipykernel_35132/3585571110.py:3: DtypeWarning: Columns (3) have mixed types. Specify dtype option on import or set low_memory=False.\n",
      "  df_neg = pd.read_csv('data/binary_pdb_negatives.csv')\n"
     ]
    },
    {
     "data": {
      "text/plain": "       pdb_id pdb_chain  seqres_index pdb_residue_id REGION  CURATED  RDB1  \\\n2        3u3w         B             3            3.0      0        0     1   \n3        3u3w         B             4            4.0      0        0     1   \n4        3u3w         B             5            5.0      0        0     1   \n5        3u3w         B             6            6.0      0        0     1   \n6        3u3w         B             7            7.0      0        0     1   \n...       ...       ...           ...            ...    ...      ...   ...   \n733045   6b9i         A           284          284.0    NaN        0     0   \n733046   6b9i         A           285          285.0    NaN        0     0   \n733047   6b9i         A           286          286.0    NaN        0     0   \n733048   6b9i         A           287          287.0    NaN        0     0   \n733049   6b9i         A           288          288.0    NaN        0     0   \n\n        RDB2  CATEGORY UNIT_CURATED   UNIT_RDB1 UNIT_RDB2    PDB classes  \\\n2          0         1            0  3u3wB_3_21         0  3u3wB       3   \n3          0         1            0  3u3wB_3_21         0  3u3wB       3   \n4          0         1            0  3u3wB_3_21         0  3u3wB       3   \n5          0         1            0  3u3wB_3_21         0  3u3wB       3   \n6          0         1            0  3u3wB_3_21         0  3u3wB       3   \n...      ...       ...          ...         ...       ...    ...     ...   \n733045     0         0            0           0         0  6b9iA     NaN   \n733046     0         0            0           0         0  6b9iA     NaN   \n733047     0         0            0           0         0  6b9iA     NaN   \n733048     0         0            0           0         0  6b9iA     NaN   \n733049     0         0            0           0         0  6b9iA     NaN   \n\n            classes_names topologies topologies_names  \n2       Elongated repeats        3.3   Alpha-solenoid  \n3       Elongated repeats        3.3   Alpha-solenoid  \n4       Elongated repeats        3.3   Alpha-solenoid  \n5       Elongated repeats        3.3   Alpha-solenoid  \n6       Elongated repeats        3.3   Alpha-solenoid  \n...                   ...        ...              ...  \n733045                NaN        NaN              NaN  \n733046                NaN        NaN              NaN  \n733047                NaN        NaN              NaN  \n733048                NaN        NaN              NaN  \n733049                NaN        NaN              NaN  \n\n[1986904 rows x 17 columns]",
      "text/html": "<div>\n<style scoped>\n    .dataframe tbody tr th:only-of-type {\n        vertical-align: middle;\n    }\n\n    .dataframe tbody tr th {\n        vertical-align: top;\n    }\n\n    .dataframe thead th {\n        text-align: right;\n    }\n</style>\n<table border=\"1\" class=\"dataframe\">\n  <thead>\n    <tr style=\"text-align: right;\">\n      <th></th>\n      <th>pdb_id</th>\n      <th>pdb_chain</th>\n      <th>seqres_index</th>\n      <th>pdb_residue_id</th>\n      <th>REGION</th>\n      <th>CURATED</th>\n      <th>RDB1</th>\n      <th>RDB2</th>\n      <th>CATEGORY</th>\n      <th>UNIT_CURATED</th>\n      <th>UNIT_RDB1</th>\n      <th>UNIT_RDB2</th>\n      <th>PDB</th>\n      <th>classes</th>\n      <th>classes_names</th>\n      <th>topologies</th>\n      <th>topologies_names</th>\n    </tr>\n  </thead>\n  <tbody>\n    <tr>\n      <th>2</th>\n      <td>3u3w</td>\n      <td>B</td>\n      <td>3</td>\n      <td>3.0</td>\n      <td>0</td>\n      <td>0</td>\n      <td>1</td>\n      <td>0</td>\n      <td>1</td>\n      <td>0</td>\n      <td>3u3wB_3_21</td>\n      <td>0</td>\n      <td>3u3wB</td>\n      <td>3</td>\n      <td>Elongated repeats</td>\n      <td>3.3</td>\n      <td>Alpha-solenoid</td>\n    </tr>\n    <tr>\n      <th>3</th>\n      <td>3u3w</td>\n      <td>B</td>\n      <td>4</td>\n      <td>4.0</td>\n      <td>0</td>\n      <td>0</td>\n      <td>1</td>\n      <td>0</td>\n      <td>1</td>\n      <td>0</td>\n      <td>3u3wB_3_21</td>\n      <td>0</td>\n      <td>3u3wB</td>\n      <td>3</td>\n      <td>Elongated repeats</td>\n      <td>3.3</td>\n      <td>Alpha-solenoid</td>\n    </tr>\n    <tr>\n      <th>4</th>\n      <td>3u3w</td>\n      <td>B</td>\n      <td>5</td>\n      <td>5.0</td>\n      <td>0</td>\n      <td>0</td>\n      <td>1</td>\n      <td>0</td>\n      <td>1</td>\n      <td>0</td>\n      <td>3u3wB_3_21</td>\n      <td>0</td>\n      <td>3u3wB</td>\n      <td>3</td>\n      <td>Elongated repeats</td>\n      <td>3.3</td>\n      <td>Alpha-solenoid</td>\n    </tr>\n    <tr>\n      <th>5</th>\n      <td>3u3w</td>\n      <td>B</td>\n      <td>6</td>\n      <td>6.0</td>\n      <td>0</td>\n      <td>0</td>\n      <td>1</td>\n      <td>0</td>\n      <td>1</td>\n      <td>0</td>\n      <td>3u3wB_3_21</td>\n      <td>0</td>\n      <td>3u3wB</td>\n      <td>3</td>\n      <td>Elongated repeats</td>\n      <td>3.3</td>\n      <td>Alpha-solenoid</td>\n    </tr>\n    <tr>\n      <th>6</th>\n      <td>3u3w</td>\n      <td>B</td>\n      <td>7</td>\n      <td>7.0</td>\n      <td>0</td>\n      <td>0</td>\n      <td>1</td>\n      <td>0</td>\n      <td>1</td>\n      <td>0</td>\n      <td>3u3wB_3_21</td>\n      <td>0</td>\n      <td>3u3wB</td>\n      <td>3</td>\n      <td>Elongated repeats</td>\n      <td>3.3</td>\n      <td>Alpha-solenoid</td>\n    </tr>\n    <tr>\n      <th>...</th>\n      <td>...</td>\n      <td>...</td>\n      <td>...</td>\n      <td>...</td>\n      <td>...</td>\n      <td>...</td>\n      <td>...</td>\n      <td>...</td>\n      <td>...</td>\n      <td>...</td>\n      <td>...</td>\n      <td>...</td>\n      <td>...</td>\n      <td>...</td>\n      <td>...</td>\n      <td>...</td>\n      <td>...</td>\n    </tr>\n    <tr>\n      <th>733045</th>\n      <td>6b9i</td>\n      <td>A</td>\n      <td>284</td>\n      <td>284.0</td>\n      <td>NaN</td>\n      <td>0</td>\n      <td>0</td>\n      <td>0</td>\n      <td>0</td>\n      <td>0</td>\n      <td>0</td>\n      <td>0</td>\n      <td>6b9iA</td>\n      <td>NaN</td>\n      <td>NaN</td>\n      <td>NaN</td>\n      <td>NaN</td>\n    </tr>\n    <tr>\n      <th>733046</th>\n      <td>6b9i</td>\n      <td>A</td>\n      <td>285</td>\n      <td>285.0</td>\n      <td>NaN</td>\n      <td>0</td>\n      <td>0</td>\n      <td>0</td>\n      <td>0</td>\n      <td>0</td>\n      <td>0</td>\n      <td>0</td>\n      <td>6b9iA</td>\n      <td>NaN</td>\n      <td>NaN</td>\n      <td>NaN</td>\n      <td>NaN</td>\n    </tr>\n    <tr>\n      <th>733047</th>\n      <td>6b9i</td>\n      <td>A</td>\n      <td>286</td>\n      <td>286.0</td>\n      <td>NaN</td>\n      <td>0</td>\n      <td>0</td>\n      <td>0</td>\n      <td>0</td>\n      <td>0</td>\n      <td>0</td>\n      <td>0</td>\n      <td>6b9iA</td>\n      <td>NaN</td>\n      <td>NaN</td>\n      <td>NaN</td>\n      <td>NaN</td>\n    </tr>\n    <tr>\n      <th>733048</th>\n      <td>6b9i</td>\n      <td>A</td>\n      <td>287</td>\n      <td>287.0</td>\n      <td>NaN</td>\n      <td>0</td>\n      <td>0</td>\n      <td>0</td>\n      <td>0</td>\n      <td>0</td>\n      <td>0</td>\n      <td>0</td>\n      <td>6b9iA</td>\n      <td>NaN</td>\n      <td>NaN</td>\n      <td>NaN</td>\n      <td>NaN</td>\n    </tr>\n    <tr>\n      <th>733049</th>\n      <td>6b9i</td>\n      <td>A</td>\n      <td>288</td>\n      <td>288.0</td>\n      <td>NaN</td>\n      <td>0</td>\n      <td>0</td>\n      <td>0</td>\n      <td>0</td>\n      <td>0</td>\n      <td>0</td>\n      <td>0</td>\n      <td>6b9iA</td>\n      <td>NaN</td>\n      <td>NaN</td>\n      <td>NaN</td>\n      <td>NaN</td>\n    </tr>\n  </tbody>\n</table>\n<p>1986904 rows × 17 columns</p>\n</div>"
     },
     "execution_count": 180,
     "metadata": {},
     "output_type": "execute_result"
    }
   ],
   "source": [
    "# dataset\n",
    "df_pos = pd.read_csv('data/binary_pdbs_classes.csv')\n",
    "df_neg = pd.read_csv('data/binary_pdb_negatives.csv')\n",
    "df = pd.concat([df_pos, df_neg])\n",
    "df = df.loc[df['pdb_residue_id'].notnull()] # filter missing residues\n",
    "df"
   ],
   "metadata": {
    "collapsed": false,
    "ExecuteTime": {
     "end_time": "2023-05-12T10:56:23.176510385Z",
     "start_time": "2023-05-12T10:56:21.155432683Z"
    }
   }
  },
  {
   "cell_type": "code",
   "execution_count": 181,
   "outputs": [
    {
     "data": {
      "text/plain": "       pdb_id pdb_chain  seqres_index pdb_residue_id REGION  CURATED  RDB1  \\\n2        3u3w         B             3            3.0      0        0     1   \n3        3u3w         B             4            4.0      0        0     1   \n4        3u3w         B             5            5.0      0        0     1   \n5        3u3w         B             6            6.0      0        0     1   \n6        3u3w         B             7            7.0      0        0     1   \n...       ...       ...           ...            ...    ...      ...   ...   \n733045   6b9i         A           284          284.0    NaN        0     0   \n733046   6b9i         A           285          285.0    NaN        0     0   \n733047   6b9i         A           286          286.0    NaN        0     0   \n733048   6b9i         A           287          287.0    NaN        0     0   \n733049   6b9i         A           288          288.0    NaN        0     0   \n\n        RDB2  CATEGORY UNIT_CURATED  ... topologies topologies_names TP_1  \\\n2          0         1            0  ...        3.3   Alpha-solenoid    0   \n3          0         1            0  ...        3.3   Alpha-solenoid    0   \n4          0         1            0  ...        3.3   Alpha-solenoid    0   \n5          0         1            0  ...        3.3   Alpha-solenoid    0   \n6          0         1            0  ...        3.3   Alpha-solenoid    0   \n...      ...       ...          ...  ...        ...              ...  ...   \n733045     0         0            0  ...        NaN              NaN    0   \n733046     0         0            0  ...        NaN              NaN    0   \n733047     0         0            0  ...        NaN              NaN    0   \n733048     0         0            0  ...        NaN              NaN    0   \n733049     0         0            0  ...        NaN              NaN    0   \n\n       TN_1 FP_1 FN_1 TP_2  TN_2  FP_2  FN_2  \n2         0    1    0    0     1     0     0  \n3         0    1    0    0     1     0     0  \n4         0    1    0    0     1     0     0  \n5         0    1    0    0     1     0     0  \n6         0    1    0    0     1     0     0  \n...     ...  ...  ...  ...   ...   ...   ...  \n733045    1    0    0    0     1     0     0  \n733046    1    0    0    0     1     0     0  \n733047    1    0    0    0     1     0     0  \n733048    1    0    0    0     1     0     0  \n733049    1    0    0    0     1     0     0  \n\n[1986904 rows x 25 columns]",
      "text/html": "<div>\n<style scoped>\n    .dataframe tbody tr th:only-of-type {\n        vertical-align: middle;\n    }\n\n    .dataframe tbody tr th {\n        vertical-align: top;\n    }\n\n    .dataframe thead th {\n        text-align: right;\n    }\n</style>\n<table border=\"1\" class=\"dataframe\">\n  <thead>\n    <tr style=\"text-align: right;\">\n      <th></th>\n      <th>pdb_id</th>\n      <th>pdb_chain</th>\n      <th>seqres_index</th>\n      <th>pdb_residue_id</th>\n      <th>REGION</th>\n      <th>CURATED</th>\n      <th>RDB1</th>\n      <th>RDB2</th>\n      <th>CATEGORY</th>\n      <th>UNIT_CURATED</th>\n      <th>...</th>\n      <th>topologies</th>\n      <th>topologies_names</th>\n      <th>TP_1</th>\n      <th>TN_1</th>\n      <th>FP_1</th>\n      <th>FN_1</th>\n      <th>TP_2</th>\n      <th>TN_2</th>\n      <th>FP_2</th>\n      <th>FN_2</th>\n    </tr>\n  </thead>\n  <tbody>\n    <tr>\n      <th>2</th>\n      <td>3u3w</td>\n      <td>B</td>\n      <td>3</td>\n      <td>3.0</td>\n      <td>0</td>\n      <td>0</td>\n      <td>1</td>\n      <td>0</td>\n      <td>1</td>\n      <td>0</td>\n      <td>...</td>\n      <td>3.3</td>\n      <td>Alpha-solenoid</td>\n      <td>0</td>\n      <td>0</td>\n      <td>1</td>\n      <td>0</td>\n      <td>0</td>\n      <td>1</td>\n      <td>0</td>\n      <td>0</td>\n    </tr>\n    <tr>\n      <th>3</th>\n      <td>3u3w</td>\n      <td>B</td>\n      <td>4</td>\n      <td>4.0</td>\n      <td>0</td>\n      <td>0</td>\n      <td>1</td>\n      <td>0</td>\n      <td>1</td>\n      <td>0</td>\n      <td>...</td>\n      <td>3.3</td>\n      <td>Alpha-solenoid</td>\n      <td>0</td>\n      <td>0</td>\n      <td>1</td>\n      <td>0</td>\n      <td>0</td>\n      <td>1</td>\n      <td>0</td>\n      <td>0</td>\n    </tr>\n    <tr>\n      <th>4</th>\n      <td>3u3w</td>\n      <td>B</td>\n      <td>5</td>\n      <td>5.0</td>\n      <td>0</td>\n      <td>0</td>\n      <td>1</td>\n      <td>0</td>\n      <td>1</td>\n      <td>0</td>\n      <td>...</td>\n      <td>3.3</td>\n      <td>Alpha-solenoid</td>\n      <td>0</td>\n      <td>0</td>\n      <td>1</td>\n      <td>0</td>\n      <td>0</td>\n      <td>1</td>\n      <td>0</td>\n      <td>0</td>\n    </tr>\n    <tr>\n      <th>5</th>\n      <td>3u3w</td>\n      <td>B</td>\n      <td>6</td>\n      <td>6.0</td>\n      <td>0</td>\n      <td>0</td>\n      <td>1</td>\n      <td>0</td>\n      <td>1</td>\n      <td>0</td>\n      <td>...</td>\n      <td>3.3</td>\n      <td>Alpha-solenoid</td>\n      <td>0</td>\n      <td>0</td>\n      <td>1</td>\n      <td>0</td>\n      <td>0</td>\n      <td>1</td>\n      <td>0</td>\n      <td>0</td>\n    </tr>\n    <tr>\n      <th>6</th>\n      <td>3u3w</td>\n      <td>B</td>\n      <td>7</td>\n      <td>7.0</td>\n      <td>0</td>\n      <td>0</td>\n      <td>1</td>\n      <td>0</td>\n      <td>1</td>\n      <td>0</td>\n      <td>...</td>\n      <td>3.3</td>\n      <td>Alpha-solenoid</td>\n      <td>0</td>\n      <td>0</td>\n      <td>1</td>\n      <td>0</td>\n      <td>0</td>\n      <td>1</td>\n      <td>0</td>\n      <td>0</td>\n    </tr>\n    <tr>\n      <th>...</th>\n      <td>...</td>\n      <td>...</td>\n      <td>...</td>\n      <td>...</td>\n      <td>...</td>\n      <td>...</td>\n      <td>...</td>\n      <td>...</td>\n      <td>...</td>\n      <td>...</td>\n      <td>...</td>\n      <td>...</td>\n      <td>...</td>\n      <td>...</td>\n      <td>...</td>\n      <td>...</td>\n      <td>...</td>\n      <td>...</td>\n      <td>...</td>\n      <td>...</td>\n      <td>...</td>\n    </tr>\n    <tr>\n      <th>733045</th>\n      <td>6b9i</td>\n      <td>A</td>\n      <td>284</td>\n      <td>284.0</td>\n      <td>NaN</td>\n      <td>0</td>\n      <td>0</td>\n      <td>0</td>\n      <td>0</td>\n      <td>0</td>\n      <td>...</td>\n      <td>NaN</td>\n      <td>NaN</td>\n      <td>0</td>\n      <td>1</td>\n      <td>0</td>\n      <td>0</td>\n      <td>0</td>\n      <td>1</td>\n      <td>0</td>\n      <td>0</td>\n    </tr>\n    <tr>\n      <th>733046</th>\n      <td>6b9i</td>\n      <td>A</td>\n      <td>285</td>\n      <td>285.0</td>\n      <td>NaN</td>\n      <td>0</td>\n      <td>0</td>\n      <td>0</td>\n      <td>0</td>\n      <td>0</td>\n      <td>...</td>\n      <td>NaN</td>\n      <td>NaN</td>\n      <td>0</td>\n      <td>1</td>\n      <td>0</td>\n      <td>0</td>\n      <td>0</td>\n      <td>1</td>\n      <td>0</td>\n      <td>0</td>\n    </tr>\n    <tr>\n      <th>733047</th>\n      <td>6b9i</td>\n      <td>A</td>\n      <td>286</td>\n      <td>286.0</td>\n      <td>NaN</td>\n      <td>0</td>\n      <td>0</td>\n      <td>0</td>\n      <td>0</td>\n      <td>0</td>\n      <td>...</td>\n      <td>NaN</td>\n      <td>NaN</td>\n      <td>0</td>\n      <td>1</td>\n      <td>0</td>\n      <td>0</td>\n      <td>0</td>\n      <td>1</td>\n      <td>0</td>\n      <td>0</td>\n    </tr>\n    <tr>\n      <th>733048</th>\n      <td>6b9i</td>\n      <td>A</td>\n      <td>287</td>\n      <td>287.0</td>\n      <td>NaN</td>\n      <td>0</td>\n      <td>0</td>\n      <td>0</td>\n      <td>0</td>\n      <td>0</td>\n      <td>...</td>\n      <td>NaN</td>\n      <td>NaN</td>\n      <td>0</td>\n      <td>1</td>\n      <td>0</td>\n      <td>0</td>\n      <td>0</td>\n      <td>1</td>\n      <td>0</td>\n      <td>0</td>\n    </tr>\n    <tr>\n      <th>733049</th>\n      <td>6b9i</td>\n      <td>A</td>\n      <td>288</td>\n      <td>288.0</td>\n      <td>NaN</td>\n      <td>0</td>\n      <td>0</td>\n      <td>0</td>\n      <td>0</td>\n      <td>0</td>\n      <td>...</td>\n      <td>NaN</td>\n      <td>NaN</td>\n      <td>0</td>\n      <td>1</td>\n      <td>0</td>\n      <td>0</td>\n      <td>0</td>\n      <td>1</td>\n      <td>0</td>\n      <td>0</td>\n    </tr>\n  </tbody>\n</table>\n<p>1986904 rows × 25 columns</p>\n</div>"
     },
     "execution_count": 181,
     "metadata": {},
     "output_type": "execute_result"
    }
   ],
   "source": [
    "# REPEATSDB-LITE EVALUATION (generate tables)\n",
    "# Repeats detection at the protein level (PDB chains)\n",
    "\n",
    "# rdb1\n",
    "df['TP_1'] = np.where((df['RDB1'] == df['CURATED']) & (df['CURATED'] == 1), 1, 0)\n",
    "df['TN_1'] = np.where((df['RDB1'] == df['CURATED']) & (df['CURATED'] == 0), 1, 0)\n",
    "df['FP_1'] = np.where((df['RDB1'] != df['CURATED']) & (df['CURATED'] == 0), 1, 0)\n",
    "df['FN_1'] = np.where((df['RDB1'] != df['CURATED']) & (df['CURATED'] == 1), 1, 0)\n",
    "\n",
    "df['TP_2'] = np.where((df['RDB2'] == df['CURATED']) & (df['CURATED'] == 1), 1, 0)\n",
    "df['TN_2'] = np.where((df['RDB2'] == df['CURATED']) & (df['CURATED'] == 0), 1, 0)\n",
    "df['FP_2'] = np.where((df['RDB2'] != df['CURATED']) & (df['CURATED'] == 0), 1, 0)\n",
    "df['FN_2'] = np.where((df['RDB2'] != df['CURATED']) & (df['CURATED'] == 1), 1, 0)\n",
    "\n",
    "df"
   ],
   "metadata": {
    "collapsed": false,
    "ExecuteTime": {
     "end_time": "2023-05-12T10:56:23.654500196Z",
     "start_time": "2023-05-12T10:56:23.179939766Z"
    }
   }
  },
  {
   "cell_type": "code",
   "execution_count": 182,
   "outputs": [
    {
     "data": {
      "text/plain": "     pdb_id pdb_chain  CATEGORY  seqres_index  TP_1  TN_1  FP_1  FN_1  TP_2  \\\n0      102l         A         0           163     0    71    92     0     0   \n1      13pk         A         0           415     0   346    69     0     0   \n2      1a0t         P         1           413     0     2     0   411   353   \n3      1a0t         Q         1           413   256     0     2   155   192   \n4      1a12         A         1           401   357    18     0    26   357   \n...     ...       ...       ...           ...   ...   ...   ...   ...   ...   \n5252   7w3h         a         1           373     0   161     0   212   155   \n5253   7w3i         a         1           373     0   161     0   212   152   \n5254   7w3j         a         1           373     0   161     0   212   194   \n5255   7w3k         a         1           373     0   161     0   212   204   \n5256   7wgo         A         0           276     0   182    94     0     0   \n\n      TN_2  FP_2  FN_2  \n0       49   114     0  \n1      217   198     0  \n2        2     0    58  \n3        2     0   219  \n4        6    12    26  \n...    ...   ...   ...  \n5252    70    91    57  \n5253    58   103    60  \n5254   156     5    18  \n5255   104    57     8  \n5256    88   188     0  \n\n[5257 rows x 12 columns]",
      "text/html": "<div>\n<style scoped>\n    .dataframe tbody tr th:only-of-type {\n        vertical-align: middle;\n    }\n\n    .dataframe tbody tr th {\n        vertical-align: top;\n    }\n\n    .dataframe thead th {\n        text-align: right;\n    }\n</style>\n<table border=\"1\" class=\"dataframe\">\n  <thead>\n    <tr style=\"text-align: right;\">\n      <th></th>\n      <th>pdb_id</th>\n      <th>pdb_chain</th>\n      <th>CATEGORY</th>\n      <th>seqres_index</th>\n      <th>TP_1</th>\n      <th>TN_1</th>\n      <th>FP_1</th>\n      <th>FN_1</th>\n      <th>TP_2</th>\n      <th>TN_2</th>\n      <th>FP_2</th>\n      <th>FN_2</th>\n    </tr>\n  </thead>\n  <tbody>\n    <tr>\n      <th>0</th>\n      <td>102l</td>\n      <td>A</td>\n      <td>0</td>\n      <td>163</td>\n      <td>0</td>\n      <td>71</td>\n      <td>92</td>\n      <td>0</td>\n      <td>0</td>\n      <td>49</td>\n      <td>114</td>\n      <td>0</td>\n    </tr>\n    <tr>\n      <th>1</th>\n      <td>13pk</td>\n      <td>A</td>\n      <td>0</td>\n      <td>415</td>\n      <td>0</td>\n      <td>346</td>\n      <td>69</td>\n      <td>0</td>\n      <td>0</td>\n      <td>217</td>\n      <td>198</td>\n      <td>0</td>\n    </tr>\n    <tr>\n      <th>2</th>\n      <td>1a0t</td>\n      <td>P</td>\n      <td>1</td>\n      <td>413</td>\n      <td>0</td>\n      <td>2</td>\n      <td>0</td>\n      <td>411</td>\n      <td>353</td>\n      <td>2</td>\n      <td>0</td>\n      <td>58</td>\n    </tr>\n    <tr>\n      <th>3</th>\n      <td>1a0t</td>\n      <td>Q</td>\n      <td>1</td>\n      <td>413</td>\n      <td>256</td>\n      <td>0</td>\n      <td>2</td>\n      <td>155</td>\n      <td>192</td>\n      <td>2</td>\n      <td>0</td>\n      <td>219</td>\n    </tr>\n    <tr>\n      <th>4</th>\n      <td>1a12</td>\n      <td>A</td>\n      <td>1</td>\n      <td>401</td>\n      <td>357</td>\n      <td>18</td>\n      <td>0</td>\n      <td>26</td>\n      <td>357</td>\n      <td>6</td>\n      <td>12</td>\n      <td>26</td>\n    </tr>\n    <tr>\n      <th>...</th>\n      <td>...</td>\n      <td>...</td>\n      <td>...</td>\n      <td>...</td>\n      <td>...</td>\n      <td>...</td>\n      <td>...</td>\n      <td>...</td>\n      <td>...</td>\n      <td>...</td>\n      <td>...</td>\n      <td>...</td>\n    </tr>\n    <tr>\n      <th>5252</th>\n      <td>7w3h</td>\n      <td>a</td>\n      <td>1</td>\n      <td>373</td>\n      <td>0</td>\n      <td>161</td>\n      <td>0</td>\n      <td>212</td>\n      <td>155</td>\n      <td>70</td>\n      <td>91</td>\n      <td>57</td>\n    </tr>\n    <tr>\n      <th>5253</th>\n      <td>7w3i</td>\n      <td>a</td>\n      <td>1</td>\n      <td>373</td>\n      <td>0</td>\n      <td>161</td>\n      <td>0</td>\n      <td>212</td>\n      <td>152</td>\n      <td>58</td>\n      <td>103</td>\n      <td>60</td>\n    </tr>\n    <tr>\n      <th>5254</th>\n      <td>7w3j</td>\n      <td>a</td>\n      <td>1</td>\n      <td>373</td>\n      <td>0</td>\n      <td>161</td>\n      <td>0</td>\n      <td>212</td>\n      <td>194</td>\n      <td>156</td>\n      <td>5</td>\n      <td>18</td>\n    </tr>\n    <tr>\n      <th>5255</th>\n      <td>7w3k</td>\n      <td>a</td>\n      <td>1</td>\n      <td>373</td>\n      <td>0</td>\n      <td>161</td>\n      <td>0</td>\n      <td>212</td>\n      <td>204</td>\n      <td>104</td>\n      <td>57</td>\n      <td>8</td>\n    </tr>\n    <tr>\n      <th>5256</th>\n      <td>7wgo</td>\n      <td>A</td>\n      <td>0</td>\n      <td>276</td>\n      <td>0</td>\n      <td>182</td>\n      <td>94</td>\n      <td>0</td>\n      <td>0</td>\n      <td>88</td>\n      <td>188</td>\n      <td>0</td>\n    </tr>\n  </tbody>\n</table>\n<p>5257 rows × 12 columns</p>\n</div>"
     },
     "execution_count": 182,
     "metadata": {},
     "output_type": "execute_result"
    }
   ],
   "source": [
    "df_prot = df.groupby(['pdb_id', 'pdb_chain']).agg({'CATEGORY': 'first', 'seqres_index':'count','TP_1': 'sum', 'TN_1': 'sum', 'FP_1': 'sum', 'FN_1': 'sum', 'TP_2': 'sum', 'TN_2': 'sum', 'FP_2': 'sum', 'FN_2': 'sum'})\n",
    "df_prot.reset_index(inplace=True)\n",
    "df_prot"
   ],
   "metadata": {
    "collapsed": false,
    "ExecuteTime": {
     "end_time": "2023-05-12T10:56:23.881754350Z",
     "start_time": "2023-05-12T10:56:23.654841793Z"
    }
   }
  },
  {
   "cell_type": "code",
   "execution_count": 183,
   "outputs": [
    {
     "ename": "ValueError",
     "evalue": "Length mismatch: Expected axis has 9 elements, new values have 8 elements",
     "output_type": "error",
     "traceback": [
      "\u001B[0;31m---------------------------------------------------------------------------\u001B[0m",
      "\u001B[0;31mValueError\u001B[0m                                Traceback (most recent call last)",
      "Input \u001B[0;32mIn [183]\u001B[0m, in \u001B[0;36m<cell line: 2>\u001B[0;34m()\u001B[0m\n\u001B[1;32m      1\u001B[0m df_prot\u001B[38;5;241m.\u001B[39mset_index([\u001B[38;5;124m'\u001B[39m\u001B[38;5;124mpdb_id\u001B[39m\u001B[38;5;124m'\u001B[39m, \u001B[38;5;124m'\u001B[39m\u001B[38;5;124mpdb_chain\u001B[39m\u001B[38;5;124m'\u001B[39m, \u001B[38;5;124m'\u001B[39m\u001B[38;5;124mseqres_index\u001B[39m\u001B[38;5;124m'\u001B[39m], inplace\u001B[38;5;241m=\u001B[39m\u001B[38;5;28;01mTrue\u001B[39;00m)\n\u001B[0;32m----> 2\u001B[0m df_prot\u001B[38;5;241m.\u001B[39mcolumns\u001B[38;5;241m=\u001B[39mpd\u001B[38;5;241m.\u001B[39mMultiIndex\u001B[38;5;241m.\u001B[39mfrom_arrays([[\u001B[38;5;124m'\u001B[39m\u001B[38;5;124mRDB1\u001B[39m\u001B[38;5;124m'\u001B[39m, \u001B[38;5;124m'\u001B[39m\u001B[38;5;124mRDB1\u001B[39m\u001B[38;5;124m'\u001B[39m, \u001B[38;5;124m'\u001B[39m\u001B[38;5;124mRDB1\u001B[39m\u001B[38;5;124m'\u001B[39m, \u001B[38;5;124m'\u001B[39m\u001B[38;5;124mRDB1\u001B[39m\u001B[38;5;124m'\u001B[39m, \u001B[38;5;124m'\u001B[39m\u001B[38;5;124mRDB2\u001B[39m\u001B[38;5;124m'\u001B[39m, \u001B[38;5;124m'\u001B[39m\u001B[38;5;124mRDB2\u001B[39m\u001B[38;5;124m'\u001B[39m, \u001B[38;5;124m'\u001B[39m\u001B[38;5;124mRDB2\u001B[39m\u001B[38;5;124m'\u001B[39m, \u001B[38;5;124m'\u001B[39m\u001B[38;5;124mRDB2\u001B[39m\u001B[38;5;124m'\u001B[39m], [\u001B[38;5;124m'\u001B[39m\u001B[38;5;124mTP\u001B[39m\u001B[38;5;124m'\u001B[39m, \u001B[38;5;124m'\u001B[39m\u001B[38;5;124mTN\u001B[39m\u001B[38;5;124m'\u001B[39m, \u001B[38;5;124m'\u001B[39m\u001B[38;5;124mFP\u001B[39m\u001B[38;5;124m'\u001B[39m, \u001B[38;5;124m'\u001B[39m\u001B[38;5;124mFN\u001B[39m\u001B[38;5;124m'\u001B[39m, \u001B[38;5;124m'\u001B[39m\u001B[38;5;124mTP\u001B[39m\u001B[38;5;124m'\u001B[39m, \u001B[38;5;124m'\u001B[39m\u001B[38;5;124mTN\u001B[39m\u001B[38;5;124m'\u001B[39m, \u001B[38;5;124m'\u001B[39m\u001B[38;5;124mFP\u001B[39m\u001B[38;5;124m'\u001B[39m, \u001B[38;5;124m'\u001B[39m\u001B[38;5;124mFN\u001B[39m\u001B[38;5;124m'\u001B[39m]])\n\u001B[1;32m      3\u001B[0m df_prot\n\u001B[1;32m      4\u001B[0m df_prot\n",
      "File \u001B[0;32m~/miniconda3/lib/python3.9/site-packages/pandas/core/generic.py:5588\u001B[0m, in \u001B[0;36mNDFrame.__setattr__\u001B[0;34m(self, name, value)\u001B[0m\n\u001B[1;32m   5586\u001B[0m \u001B[38;5;28;01mtry\u001B[39;00m:\n\u001B[1;32m   5587\u001B[0m     \u001B[38;5;28mobject\u001B[39m\u001B[38;5;241m.\u001B[39m\u001B[38;5;21m__getattribute__\u001B[39m(\u001B[38;5;28mself\u001B[39m, name)\n\u001B[0;32m-> 5588\u001B[0m     \u001B[38;5;28;01mreturn\u001B[39;00m \u001B[38;5;28;43mobject\u001B[39;49m\u001B[38;5;241;43m.\u001B[39;49m\u001B[38;5;21;43m__setattr__\u001B[39;49m\u001B[43m(\u001B[49m\u001B[38;5;28;43mself\u001B[39;49m\u001B[43m,\u001B[49m\u001B[43m \u001B[49m\u001B[43mname\u001B[49m\u001B[43m,\u001B[49m\u001B[43m \u001B[49m\u001B[43mvalue\u001B[49m\u001B[43m)\u001B[49m\n\u001B[1;32m   5589\u001B[0m \u001B[38;5;28;01mexcept\u001B[39;00m \u001B[38;5;167;01mAttributeError\u001B[39;00m:\n\u001B[1;32m   5590\u001B[0m     \u001B[38;5;28;01mpass\u001B[39;00m\n",
      "File \u001B[0;32m~/miniconda3/lib/python3.9/site-packages/pandas/_libs/properties.pyx:70\u001B[0m, in \u001B[0;36mpandas._libs.properties.AxisProperty.__set__\u001B[0;34m()\u001B[0m\n",
      "File \u001B[0;32m~/miniconda3/lib/python3.9/site-packages/pandas/core/generic.py:769\u001B[0m, in \u001B[0;36mNDFrame._set_axis\u001B[0;34m(self, axis, labels)\u001B[0m\n\u001B[1;32m    767\u001B[0m \u001B[38;5;28;01mdef\u001B[39;00m \u001B[38;5;21m_set_axis\u001B[39m(\u001B[38;5;28mself\u001B[39m, axis: \u001B[38;5;28mint\u001B[39m, labels: Index) \u001B[38;5;241m-\u001B[39m\u001B[38;5;241m>\u001B[39m \u001B[38;5;28;01mNone\u001B[39;00m:\n\u001B[1;32m    768\u001B[0m     labels \u001B[38;5;241m=\u001B[39m ensure_index(labels)\n\u001B[0;32m--> 769\u001B[0m     \u001B[38;5;28;43mself\u001B[39;49m\u001B[38;5;241;43m.\u001B[39;49m\u001B[43m_mgr\u001B[49m\u001B[38;5;241;43m.\u001B[39;49m\u001B[43mset_axis\u001B[49m\u001B[43m(\u001B[49m\u001B[43maxis\u001B[49m\u001B[43m,\u001B[49m\u001B[43m \u001B[49m\u001B[43mlabels\u001B[49m\u001B[43m)\u001B[49m\n\u001B[1;32m    770\u001B[0m     \u001B[38;5;28mself\u001B[39m\u001B[38;5;241m.\u001B[39m_clear_item_cache()\n",
      "File \u001B[0;32m~/miniconda3/lib/python3.9/site-packages/pandas/core/internals/managers.py:214\u001B[0m, in \u001B[0;36mBaseBlockManager.set_axis\u001B[0;34m(self, axis, new_labels)\u001B[0m\n\u001B[1;32m    212\u001B[0m \u001B[38;5;28;01mdef\u001B[39;00m \u001B[38;5;21mset_axis\u001B[39m(\u001B[38;5;28mself\u001B[39m, axis: \u001B[38;5;28mint\u001B[39m, new_labels: Index) \u001B[38;5;241m-\u001B[39m\u001B[38;5;241m>\u001B[39m \u001B[38;5;28;01mNone\u001B[39;00m:\n\u001B[1;32m    213\u001B[0m     \u001B[38;5;66;03m# Caller is responsible for ensuring we have an Index object.\u001B[39;00m\n\u001B[0;32m--> 214\u001B[0m     \u001B[38;5;28;43mself\u001B[39;49m\u001B[38;5;241;43m.\u001B[39;49m\u001B[43m_validate_set_axis\u001B[49m\u001B[43m(\u001B[49m\u001B[43maxis\u001B[49m\u001B[43m,\u001B[49m\u001B[43m \u001B[49m\u001B[43mnew_labels\u001B[49m\u001B[43m)\u001B[49m\n\u001B[1;32m    215\u001B[0m     \u001B[38;5;28mself\u001B[39m\u001B[38;5;241m.\u001B[39maxes[axis] \u001B[38;5;241m=\u001B[39m new_labels\n",
      "File \u001B[0;32m~/miniconda3/lib/python3.9/site-packages/pandas/core/internals/base.py:69\u001B[0m, in \u001B[0;36mDataManager._validate_set_axis\u001B[0;34m(self, axis, new_labels)\u001B[0m\n\u001B[1;32m     66\u001B[0m     \u001B[38;5;28;01mpass\u001B[39;00m\n\u001B[1;32m     68\u001B[0m \u001B[38;5;28;01melif\u001B[39;00m new_len \u001B[38;5;241m!=\u001B[39m old_len:\n\u001B[0;32m---> 69\u001B[0m     \u001B[38;5;28;01mraise\u001B[39;00m \u001B[38;5;167;01mValueError\u001B[39;00m(\n\u001B[1;32m     70\u001B[0m         \u001B[38;5;124mf\u001B[39m\u001B[38;5;124m\"\u001B[39m\u001B[38;5;124mLength mismatch: Expected axis has \u001B[39m\u001B[38;5;132;01m{\u001B[39;00mold_len\u001B[38;5;132;01m}\u001B[39;00m\u001B[38;5;124m elements, new \u001B[39m\u001B[38;5;124m\"\u001B[39m\n\u001B[1;32m     71\u001B[0m         \u001B[38;5;124mf\u001B[39m\u001B[38;5;124m\"\u001B[39m\u001B[38;5;124mvalues have \u001B[39m\u001B[38;5;132;01m{\u001B[39;00mnew_len\u001B[38;5;132;01m}\u001B[39;00m\u001B[38;5;124m elements\u001B[39m\u001B[38;5;124m\"\u001B[39m\n\u001B[1;32m     72\u001B[0m     )\n",
      "\u001B[0;31mValueError\u001B[0m: Length mismatch: Expected axis has 9 elements, new values have 8 elements"
     ]
    }
   ],
   "source": [
    "df_prot.set_index(['pdb_id', 'pdb_chain', 'seqres_index'], inplace=True)\n",
    "df_prot.columns=pd.MultiIndex.from_arrays([['RDB1', 'RDB1', 'RDB1', 'RDB1', 'RDB2', 'RDB2', 'RDB2', 'RDB2'], ['TP', 'TN', 'FP', 'FN', 'TP', 'TN', 'FP', 'FN']])\n",
    "df_prot\n",
    "df_prot"
   ],
   "metadata": {
    "collapsed": false,
    "ExecuteTime": {
     "end_time": "2023-05-12T10:56:23.950482285Z",
     "start_time": "2023-05-12T10:56:23.882342140Z"
    }
   }
  },
  {
   "cell_type": "code",
   "execution_count": null,
   "outputs": [],
   "source": [
    "# tp, tn fp, fn\n",
    "# bacc, p, se, sp, f1, mcc\n",
    "print(*df_prot['RDB1'].sum(), calc_metrics(*df_prot['RDB1'].sum()))\n",
    "print(*df_prot['RDB2'].sum(), calc_metrics(*df_prot['RDB2'].sum()))"
   ],
   "metadata": {
    "collapsed": false,
    "ExecuteTime": {
     "start_time": "2023-05-12T10:56:23.907354859Z"
    }
   }
  },
  {
   "cell_type": "code",
   "execution_count": null,
   "outputs": [],
   "source": [
    "# apply calc_metrics function to each row for both RDB1 and RDB2\n",
    "data = []\n",
    "for index, row in df_prot.iterrows():\n",
    "    # print(*row['RDB1'], *calc_metrics(*row['RDB1']))\n",
    "    data.append([index[0], index[1], index[2], *row[:4], *calc_metrics(*row['RDB1']), *row[4:], *calc_metrics(*row['RDB2'])])\n",
    "df_ = pd.DataFrame(data)\n",
    "df_"
   ],
   "metadata": {
    "collapsed": false,
    "ExecuteTime": {
     "start_time": "2023-05-12T10:56:23.909236612Z"
    }
   }
  },
  {
   "cell_type": "code",
   "execution_count": null,
   "outputs": [],
   "source": [
    "df_.columns=pd.MultiIndex.from_arrays([[None, None, None, 'RDB1', 'RDB1', 'RDB1', 'RDB1', 'RDB1', 'RDB1', 'RDB1', 'RDB1', 'RDB1', 'RDB1', 'RDB2', 'RDB2', 'RDB2', 'RDB2', 'RDB2', 'RDB2', 'RDB2', 'RDB2', 'RDB2', 'RDB2'], ['pdb_id', 'pdb_chain', 'length', 'TP', 'TN', 'FP', 'FN', 'bacc', 'p', 'se', 'sp', 'f1', 'mcc', 'TP', 'TN', 'FP', 'FN', 'bacc', 'p', 'se', 'sp', 'f1', 'mcc']])\n",
    "df_"
   ],
   "metadata": {
    "collapsed": false
   }
  },
  {
   "cell_type": "code",
   "execution_count": null,
   "outputs": [],
   "source": [
    "df_.loc[:, ('RDB1', ['bacc', 'p', 'se', 'sp', 'f1', 'mcc'])]"
   ],
   "metadata": {
    "collapsed": false
   }
  },
  {
   "cell_type": "code",
   "execution_count": null,
   "outputs": [],
   "source": [
    "df_.loc[:,('RDB1', ['bacc', 'p', 'se', 'sp', 'f1', 'mcc'])].boxplot(figsize=(20,10))\n",
    "\n",
    "\n"
   ],
   "metadata": {
    "collapsed": false
   }
  },
  {
   "cell_type": "code",
   "execution_count": null,
   "outputs": [],
   "source": [
    "df_.loc[:,(slice(None), ['bacc', 'p', 'se', 'sp', 'f1', 'mcc'])].boxplot(figsize=(20,10))"
   ],
   "metadata": {
    "collapsed": false
   }
  }
 ],
 "metadata": {
  "kernelspec": {
   "display_name": "Python 3",
   "language": "python",
   "name": "python3"
  },
  "language_info": {
   "codemirror_mode": {
    "name": "ipython",
    "version": 2
   },
   "file_extension": ".py",
   "mimetype": "text/x-python",
   "name": "python",
   "nbconvert_exporter": "python",
   "pygments_lexer": "ipython2",
   "version": "2.7.6"
  }
 },
 "nbformat": 4,
 "nbformat_minor": 0
}
