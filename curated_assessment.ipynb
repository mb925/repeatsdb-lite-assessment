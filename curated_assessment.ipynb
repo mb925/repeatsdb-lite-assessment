{
 "cells": [
  {
   "cell_type": "code",
   "execution_count": 82,
   "outputs": [],
   "source": [
    "import pandas as pd\n",
    "import numpy as np\n",
    "import math\n",
    "from plotly.subplots import make_subplots\n",
    "import plotly.graph_objects as go\n",
    "from collections import Counter"
   ],
   "metadata": {
    "collapsed": false,
    "ExecuteTime": {
     "end_time": "2023-05-17T14:04:21.532812218Z",
     "start_time": "2023-05-17T14:04:21.485630543Z"
    }
   }
  },
  {
   "cell_type": "code",
   "execution_count": 2,
   "outputs": [],
   "source": [
    "def calc_metrics(tp, tn, fp, fn):\n",
    "    # balanced accuracy\n",
    "    se_total = tp + fn\n",
    "    sp_total = fp + tn\n",
    "\n",
    "    # Sensitivity / recall / TPR\n",
    "    se = 0\n",
    "    if se_total > 0:\n",
    "        se = tp / se_total\n",
    "\n",
    "    # Specificity / TNR\n",
    "    sp = 0\n",
    "    if sp_total > 0:\n",
    "        sp = tn / sp_total\n",
    "\n",
    "    # Balanced accuracy (Sensitivity + specificity) / 2\n",
    "    bacc = (se + sp) / 2\n",
    "\n",
    "    # Precision / PPV\n",
    "    p_total = tp + fp\n",
    "    p = 0\n",
    "    if p_total > 0:\n",
    "        p = tp / p_total\n",
    "\n",
    "    # F1 score\n",
    "    f1 = 0\n",
    "    if (p + se) > 0:\n",
    "        f1 = 2 * ((p * se)/(p+se))\n",
    "\n",
    "    # MCC\n",
    "    mcc = np.nan\n",
    "    d = math.sqrt((tp + fp)*(tp + fn)*(tn + fp)*(tn + fn))\n",
    "    if d > 0:\n",
    "        mcc = ((tp * tn) - (fp * fn)) / d\n",
    "\n",
    "    return [bacc, p, se, sp, f1, mcc]"
   ],
   "metadata": {
    "collapsed": false,
    "ExecuteTime": {
     "end_time": "2023-05-16T14:52:42.595277263Z",
     "start_time": "2023-05-16T14:52:42.593444270Z"
    }
   }
  },
  {
   "cell_type": "code",
   "execution_count": 3,
   "outputs": [
    {
     "name": "stderr",
     "output_type": "stream",
     "text": [
      "/tmp/ipykernel_1241110/3585571110.py:2: DtypeWarning: Columns (3,13,15) have mixed types. Specify dtype option on import or set low_memory=False.\n",
      "  df_pos = pd.read_csv('data/binary_pdbs_classes.csv')\n",
      "/tmp/ipykernel_1241110/3585571110.py:3: DtypeWarning: Columns (3) have mixed types. Specify dtype option on import or set low_memory=False.\n",
      "  df_neg = pd.read_csv('data/binary_pdb_negatives.csv')\n"
     ]
    },
    {
     "data": {
      "text/plain": "       pdb_id pdb_chain  seqres_index pdb_residue_id REGION  CURATED  RDB1  \\\n2        3u3w         B             3            3.0      0        0     1   \n3        3u3w         B             4            4.0      0        0     1   \n4        3u3w         B             5            5.0      0        0     1   \n5        3u3w         B             6            6.0      0        0     1   \n6        3u3w         B             7            7.0      0        0     1   \n...       ...       ...           ...            ...    ...      ...   ...   \n733045   6b9i         A           284          284.0    NaN        0     0   \n733046   6b9i         A           285          285.0    NaN        0     0   \n733047   6b9i         A           286          286.0    NaN        0     0   \n733048   6b9i         A           287          287.0    NaN        0     0   \n733049   6b9i         A           288          288.0    NaN        0     0   \n\n        RDB2  CATEGORY UNIT_CURATED   UNIT_RDB1 UNIT_RDB2    PDB classes  \\\n2          0         1            0  3u3wB_3_21         0  3u3wB       3   \n3          0         1            0  3u3wB_3_21         0  3u3wB       3   \n4          0         1            0  3u3wB_3_21         0  3u3wB       3   \n5          0         1            0  3u3wB_3_21         0  3u3wB       3   \n6          0         1            0  3u3wB_3_21         0  3u3wB       3   \n...      ...       ...          ...         ...       ...    ...     ...   \n733045     0         0            0           0         0  6b9iA     NaN   \n733046     0         0            0           0         0  6b9iA     NaN   \n733047     0         0            0           0         0  6b9iA     NaN   \n733048     0         0            0           0         0  6b9iA     NaN   \n733049     0         0            0           0         0  6b9iA     NaN   \n\n            classes_names topologies topologies_names  \n2       Elongated repeats        3.3   Alpha-solenoid  \n3       Elongated repeats        3.3   Alpha-solenoid  \n4       Elongated repeats        3.3   Alpha-solenoid  \n5       Elongated repeats        3.3   Alpha-solenoid  \n6       Elongated repeats        3.3   Alpha-solenoid  \n...                   ...        ...              ...  \n733045                NaN        NaN              NaN  \n733046                NaN        NaN              NaN  \n733047                NaN        NaN              NaN  \n733048                NaN        NaN              NaN  \n733049                NaN        NaN              NaN  \n\n[1986904 rows x 17 columns]",
      "text/html": "<div>\n<style scoped>\n    .dataframe tbody tr th:only-of-type {\n        vertical-align: middle;\n    }\n\n    .dataframe tbody tr th {\n        vertical-align: top;\n    }\n\n    .dataframe thead th {\n        text-align: right;\n    }\n</style>\n<table border=\"1\" class=\"dataframe\">\n  <thead>\n    <tr style=\"text-align: right;\">\n      <th></th>\n      <th>pdb_id</th>\n      <th>pdb_chain</th>\n      <th>seqres_index</th>\n      <th>pdb_residue_id</th>\n      <th>REGION</th>\n      <th>CURATED</th>\n      <th>RDB1</th>\n      <th>RDB2</th>\n      <th>CATEGORY</th>\n      <th>UNIT_CURATED</th>\n      <th>UNIT_RDB1</th>\n      <th>UNIT_RDB2</th>\n      <th>PDB</th>\n      <th>classes</th>\n      <th>classes_names</th>\n      <th>topologies</th>\n      <th>topologies_names</th>\n    </tr>\n  </thead>\n  <tbody>\n    <tr>\n      <th>2</th>\n      <td>3u3w</td>\n      <td>B</td>\n      <td>3</td>\n      <td>3.0</td>\n      <td>0</td>\n      <td>0</td>\n      <td>1</td>\n      <td>0</td>\n      <td>1</td>\n      <td>0</td>\n      <td>3u3wB_3_21</td>\n      <td>0</td>\n      <td>3u3wB</td>\n      <td>3</td>\n      <td>Elongated repeats</td>\n      <td>3.3</td>\n      <td>Alpha-solenoid</td>\n    </tr>\n    <tr>\n      <th>3</th>\n      <td>3u3w</td>\n      <td>B</td>\n      <td>4</td>\n      <td>4.0</td>\n      <td>0</td>\n      <td>0</td>\n      <td>1</td>\n      <td>0</td>\n      <td>1</td>\n      <td>0</td>\n      <td>3u3wB_3_21</td>\n      <td>0</td>\n      <td>3u3wB</td>\n      <td>3</td>\n      <td>Elongated repeats</td>\n      <td>3.3</td>\n      <td>Alpha-solenoid</td>\n    </tr>\n    <tr>\n      <th>4</th>\n      <td>3u3w</td>\n      <td>B</td>\n      <td>5</td>\n      <td>5.0</td>\n      <td>0</td>\n      <td>0</td>\n      <td>1</td>\n      <td>0</td>\n      <td>1</td>\n      <td>0</td>\n      <td>3u3wB_3_21</td>\n      <td>0</td>\n      <td>3u3wB</td>\n      <td>3</td>\n      <td>Elongated repeats</td>\n      <td>3.3</td>\n      <td>Alpha-solenoid</td>\n    </tr>\n    <tr>\n      <th>5</th>\n      <td>3u3w</td>\n      <td>B</td>\n      <td>6</td>\n      <td>6.0</td>\n      <td>0</td>\n      <td>0</td>\n      <td>1</td>\n      <td>0</td>\n      <td>1</td>\n      <td>0</td>\n      <td>3u3wB_3_21</td>\n      <td>0</td>\n      <td>3u3wB</td>\n      <td>3</td>\n      <td>Elongated repeats</td>\n      <td>3.3</td>\n      <td>Alpha-solenoid</td>\n    </tr>\n    <tr>\n      <th>6</th>\n      <td>3u3w</td>\n      <td>B</td>\n      <td>7</td>\n      <td>7.0</td>\n      <td>0</td>\n      <td>0</td>\n      <td>1</td>\n      <td>0</td>\n      <td>1</td>\n      <td>0</td>\n      <td>3u3wB_3_21</td>\n      <td>0</td>\n      <td>3u3wB</td>\n      <td>3</td>\n      <td>Elongated repeats</td>\n      <td>3.3</td>\n      <td>Alpha-solenoid</td>\n    </tr>\n    <tr>\n      <th>...</th>\n      <td>...</td>\n      <td>...</td>\n      <td>...</td>\n      <td>...</td>\n      <td>...</td>\n      <td>...</td>\n      <td>...</td>\n      <td>...</td>\n      <td>...</td>\n      <td>...</td>\n      <td>...</td>\n      <td>...</td>\n      <td>...</td>\n      <td>...</td>\n      <td>...</td>\n      <td>...</td>\n      <td>...</td>\n    </tr>\n    <tr>\n      <th>733045</th>\n      <td>6b9i</td>\n      <td>A</td>\n      <td>284</td>\n      <td>284.0</td>\n      <td>NaN</td>\n      <td>0</td>\n      <td>0</td>\n      <td>0</td>\n      <td>0</td>\n      <td>0</td>\n      <td>0</td>\n      <td>0</td>\n      <td>6b9iA</td>\n      <td>NaN</td>\n      <td>NaN</td>\n      <td>NaN</td>\n      <td>NaN</td>\n    </tr>\n    <tr>\n      <th>733046</th>\n      <td>6b9i</td>\n      <td>A</td>\n      <td>285</td>\n      <td>285.0</td>\n      <td>NaN</td>\n      <td>0</td>\n      <td>0</td>\n      <td>0</td>\n      <td>0</td>\n      <td>0</td>\n      <td>0</td>\n      <td>0</td>\n      <td>6b9iA</td>\n      <td>NaN</td>\n      <td>NaN</td>\n      <td>NaN</td>\n      <td>NaN</td>\n    </tr>\n    <tr>\n      <th>733047</th>\n      <td>6b9i</td>\n      <td>A</td>\n      <td>286</td>\n      <td>286.0</td>\n      <td>NaN</td>\n      <td>0</td>\n      <td>0</td>\n      <td>0</td>\n      <td>0</td>\n      <td>0</td>\n      <td>0</td>\n      <td>0</td>\n      <td>6b9iA</td>\n      <td>NaN</td>\n      <td>NaN</td>\n      <td>NaN</td>\n      <td>NaN</td>\n    </tr>\n    <tr>\n      <th>733048</th>\n      <td>6b9i</td>\n      <td>A</td>\n      <td>287</td>\n      <td>287.0</td>\n      <td>NaN</td>\n      <td>0</td>\n      <td>0</td>\n      <td>0</td>\n      <td>0</td>\n      <td>0</td>\n      <td>0</td>\n      <td>0</td>\n      <td>6b9iA</td>\n      <td>NaN</td>\n      <td>NaN</td>\n      <td>NaN</td>\n      <td>NaN</td>\n    </tr>\n    <tr>\n      <th>733049</th>\n      <td>6b9i</td>\n      <td>A</td>\n      <td>288</td>\n      <td>288.0</td>\n      <td>NaN</td>\n      <td>0</td>\n      <td>0</td>\n      <td>0</td>\n      <td>0</td>\n      <td>0</td>\n      <td>0</td>\n      <td>0</td>\n      <td>6b9iA</td>\n      <td>NaN</td>\n      <td>NaN</td>\n      <td>NaN</td>\n      <td>NaN</td>\n    </tr>\n  </tbody>\n</table>\n<p>1986904 rows × 17 columns</p>\n</div>"
     },
     "execution_count": 3,
     "metadata": {},
     "output_type": "execute_result"
    }
   ],
   "source": [
    "# dataset\n",
    "df_pos = pd.read_csv('data/binary_pdbs_classes.csv')\n",
    "df_neg = pd.read_csv('data/binary_pdb_negatives.csv')\n",
    "df = pd.concat([df_pos, df_neg])\n",
    "df = df.loc[df['pdb_residue_id'].notnull()] # filter missing residues\n",
    "df"
   ],
   "metadata": {
    "collapsed": false,
    "ExecuteTime": {
     "end_time": "2023-05-16T14:52:44.626085001Z",
     "start_time": "2023-05-16T14:52:42.598680503Z"
    }
   }
  },
  {
   "cell_type": "code",
   "execution_count": 4,
   "outputs": [
    {
     "data": {
      "text/plain": "       pdb_id pdb_chain  seqres_index pdb_residue_id REGION  CURATED  RDB1  \\\n2        3u3w         B             3            3.0      0        0     1   \n3        3u3w         B             4            4.0      0        0     1   \n4        3u3w         B             5            5.0      0        0     1   \n5        3u3w         B             6            6.0      0        0     1   \n6        3u3w         B             7            7.0      0        0     1   \n...       ...       ...           ...            ...    ...      ...   ...   \n733045   6b9i         A           284          284.0    NaN        0     0   \n733046   6b9i         A           285          285.0    NaN        0     0   \n733047   6b9i         A           286          286.0    NaN        0     0   \n733048   6b9i         A           287          287.0    NaN        0     0   \n733049   6b9i         A           288          288.0    NaN        0     0   \n\n        RDB2  CATEGORY UNIT_CURATED  ... topologies topologies_names TP_1  \\\n2          0         1            0  ...        3.3   Alpha-solenoid    0   \n3          0         1            0  ...        3.3   Alpha-solenoid    0   \n4          0         1            0  ...        3.3   Alpha-solenoid    0   \n5          0         1            0  ...        3.3   Alpha-solenoid    0   \n6          0         1            0  ...        3.3   Alpha-solenoid    0   \n...      ...       ...          ...  ...        ...              ...  ...   \n733045     0         0            0  ...        NaN              NaN    0   \n733046     0         0            0  ...        NaN              NaN    0   \n733047     0         0            0  ...        NaN              NaN    0   \n733048     0         0            0  ...        NaN              NaN    0   \n733049     0         0            0  ...        NaN              NaN    0   \n\n       TN_1 FP_1 FN_1 TP_2  TN_2  FP_2  FN_2  \n2         0    1    0    0     1     0     0  \n3         0    1    0    0     1     0     0  \n4         0    1    0    0     1     0     0  \n5         0    1    0    0     1     0     0  \n6         0    1    0    0     1     0     0  \n...     ...  ...  ...  ...   ...   ...   ...  \n733045    1    0    0    0     1     0     0  \n733046    1    0    0    0     1     0     0  \n733047    1    0    0    0     1     0     0  \n733048    1    0    0    0     1     0     0  \n733049    1    0    0    0     1     0     0  \n\n[1986904 rows x 25 columns]",
      "text/html": "<div>\n<style scoped>\n    .dataframe tbody tr th:only-of-type {\n        vertical-align: middle;\n    }\n\n    .dataframe tbody tr th {\n        vertical-align: top;\n    }\n\n    .dataframe thead th {\n        text-align: right;\n    }\n</style>\n<table border=\"1\" class=\"dataframe\">\n  <thead>\n    <tr style=\"text-align: right;\">\n      <th></th>\n      <th>pdb_id</th>\n      <th>pdb_chain</th>\n      <th>seqres_index</th>\n      <th>pdb_residue_id</th>\n      <th>REGION</th>\n      <th>CURATED</th>\n      <th>RDB1</th>\n      <th>RDB2</th>\n      <th>CATEGORY</th>\n      <th>UNIT_CURATED</th>\n      <th>...</th>\n      <th>topologies</th>\n      <th>topologies_names</th>\n      <th>TP_1</th>\n      <th>TN_1</th>\n      <th>FP_1</th>\n      <th>FN_1</th>\n      <th>TP_2</th>\n      <th>TN_2</th>\n      <th>FP_2</th>\n      <th>FN_2</th>\n    </tr>\n  </thead>\n  <tbody>\n    <tr>\n      <th>2</th>\n      <td>3u3w</td>\n      <td>B</td>\n      <td>3</td>\n      <td>3.0</td>\n      <td>0</td>\n      <td>0</td>\n      <td>1</td>\n      <td>0</td>\n      <td>1</td>\n      <td>0</td>\n      <td>...</td>\n      <td>3.3</td>\n      <td>Alpha-solenoid</td>\n      <td>0</td>\n      <td>0</td>\n      <td>1</td>\n      <td>0</td>\n      <td>0</td>\n      <td>1</td>\n      <td>0</td>\n      <td>0</td>\n    </tr>\n    <tr>\n      <th>3</th>\n      <td>3u3w</td>\n      <td>B</td>\n      <td>4</td>\n      <td>4.0</td>\n      <td>0</td>\n      <td>0</td>\n      <td>1</td>\n      <td>0</td>\n      <td>1</td>\n      <td>0</td>\n      <td>...</td>\n      <td>3.3</td>\n      <td>Alpha-solenoid</td>\n      <td>0</td>\n      <td>0</td>\n      <td>1</td>\n      <td>0</td>\n      <td>0</td>\n      <td>1</td>\n      <td>0</td>\n      <td>0</td>\n    </tr>\n    <tr>\n      <th>4</th>\n      <td>3u3w</td>\n      <td>B</td>\n      <td>5</td>\n      <td>5.0</td>\n      <td>0</td>\n      <td>0</td>\n      <td>1</td>\n      <td>0</td>\n      <td>1</td>\n      <td>0</td>\n      <td>...</td>\n      <td>3.3</td>\n      <td>Alpha-solenoid</td>\n      <td>0</td>\n      <td>0</td>\n      <td>1</td>\n      <td>0</td>\n      <td>0</td>\n      <td>1</td>\n      <td>0</td>\n      <td>0</td>\n    </tr>\n    <tr>\n      <th>5</th>\n      <td>3u3w</td>\n      <td>B</td>\n      <td>6</td>\n      <td>6.0</td>\n      <td>0</td>\n      <td>0</td>\n      <td>1</td>\n      <td>0</td>\n      <td>1</td>\n      <td>0</td>\n      <td>...</td>\n      <td>3.3</td>\n      <td>Alpha-solenoid</td>\n      <td>0</td>\n      <td>0</td>\n      <td>1</td>\n      <td>0</td>\n      <td>0</td>\n      <td>1</td>\n      <td>0</td>\n      <td>0</td>\n    </tr>\n    <tr>\n      <th>6</th>\n      <td>3u3w</td>\n      <td>B</td>\n      <td>7</td>\n      <td>7.0</td>\n      <td>0</td>\n      <td>0</td>\n      <td>1</td>\n      <td>0</td>\n      <td>1</td>\n      <td>0</td>\n      <td>...</td>\n      <td>3.3</td>\n      <td>Alpha-solenoid</td>\n      <td>0</td>\n      <td>0</td>\n      <td>1</td>\n      <td>0</td>\n      <td>0</td>\n      <td>1</td>\n      <td>0</td>\n      <td>0</td>\n    </tr>\n    <tr>\n      <th>...</th>\n      <td>...</td>\n      <td>...</td>\n      <td>...</td>\n      <td>...</td>\n      <td>...</td>\n      <td>...</td>\n      <td>...</td>\n      <td>...</td>\n      <td>...</td>\n      <td>...</td>\n      <td>...</td>\n      <td>...</td>\n      <td>...</td>\n      <td>...</td>\n      <td>...</td>\n      <td>...</td>\n      <td>...</td>\n      <td>...</td>\n      <td>...</td>\n      <td>...</td>\n      <td>...</td>\n    </tr>\n    <tr>\n      <th>733045</th>\n      <td>6b9i</td>\n      <td>A</td>\n      <td>284</td>\n      <td>284.0</td>\n      <td>NaN</td>\n      <td>0</td>\n      <td>0</td>\n      <td>0</td>\n      <td>0</td>\n      <td>0</td>\n      <td>...</td>\n      <td>NaN</td>\n      <td>NaN</td>\n      <td>0</td>\n      <td>1</td>\n      <td>0</td>\n      <td>0</td>\n      <td>0</td>\n      <td>1</td>\n      <td>0</td>\n      <td>0</td>\n    </tr>\n    <tr>\n      <th>733046</th>\n      <td>6b9i</td>\n      <td>A</td>\n      <td>285</td>\n      <td>285.0</td>\n      <td>NaN</td>\n      <td>0</td>\n      <td>0</td>\n      <td>0</td>\n      <td>0</td>\n      <td>0</td>\n      <td>...</td>\n      <td>NaN</td>\n      <td>NaN</td>\n      <td>0</td>\n      <td>1</td>\n      <td>0</td>\n      <td>0</td>\n      <td>0</td>\n      <td>1</td>\n      <td>0</td>\n      <td>0</td>\n    </tr>\n    <tr>\n      <th>733047</th>\n      <td>6b9i</td>\n      <td>A</td>\n      <td>286</td>\n      <td>286.0</td>\n      <td>NaN</td>\n      <td>0</td>\n      <td>0</td>\n      <td>0</td>\n      <td>0</td>\n      <td>0</td>\n      <td>...</td>\n      <td>NaN</td>\n      <td>NaN</td>\n      <td>0</td>\n      <td>1</td>\n      <td>0</td>\n      <td>0</td>\n      <td>0</td>\n      <td>1</td>\n      <td>0</td>\n      <td>0</td>\n    </tr>\n    <tr>\n      <th>733048</th>\n      <td>6b9i</td>\n      <td>A</td>\n      <td>287</td>\n      <td>287.0</td>\n      <td>NaN</td>\n      <td>0</td>\n      <td>0</td>\n      <td>0</td>\n      <td>0</td>\n      <td>0</td>\n      <td>...</td>\n      <td>NaN</td>\n      <td>NaN</td>\n      <td>0</td>\n      <td>1</td>\n      <td>0</td>\n      <td>0</td>\n      <td>0</td>\n      <td>1</td>\n      <td>0</td>\n      <td>0</td>\n    </tr>\n    <tr>\n      <th>733049</th>\n      <td>6b9i</td>\n      <td>A</td>\n      <td>288</td>\n      <td>288.0</td>\n      <td>NaN</td>\n      <td>0</td>\n      <td>0</td>\n      <td>0</td>\n      <td>0</td>\n      <td>0</td>\n      <td>...</td>\n      <td>NaN</td>\n      <td>NaN</td>\n      <td>0</td>\n      <td>1</td>\n      <td>0</td>\n      <td>0</td>\n      <td>0</td>\n      <td>1</td>\n      <td>0</td>\n      <td>0</td>\n    </tr>\n  </tbody>\n</table>\n<p>1986904 rows × 25 columns</p>\n</div>"
     },
     "execution_count": 4,
     "metadata": {},
     "output_type": "execute_result"
    }
   ],
   "source": [
    "# REPEATSDB-LITE EVALUATION (generate tables)\n",
    "\n",
    "# rdb1\n",
    "df['TP_1'] = np.where((df['RDB1'] == df['CURATED']) & (df['CURATED'] == 1), 1, 0)\n",
    "df['TN_1'] = np.where((df['RDB1'] == df['CURATED']) & (df['CURATED'] == 0), 1, 0)\n",
    "df['FP_1'] = np.where((df['RDB1'] != df['CURATED']) & (df['CURATED'] == 0), 1, 0)\n",
    "df['FN_1'] = np.where((df['RDB1'] != df['CURATED']) & (df['CURATED'] == 1), 1, 0)\n",
    "\n",
    "df['TP_2'] = np.where((df['RDB2'] == df['CURATED']) & (df['CURATED'] == 1), 1, 0)\n",
    "df['TN_2'] = np.where((df['RDB2'] == df['CURATED']) & (df['CURATED'] == 0), 1, 0)\n",
    "df['FP_2'] = np.where((df['RDB2'] != df['CURATED']) & (df['CURATED'] == 0), 1, 0)\n",
    "df['FN_2'] = np.where((df['RDB2'] != df['CURATED']) & (df['CURATED'] == 1), 1, 0)\n",
    "\n",
    "df"
   ],
   "metadata": {
    "collapsed": false,
    "ExecuteTime": {
     "end_time": "2023-05-16T14:52:45.133974254Z",
     "start_time": "2023-05-16T14:52:44.631197265Z"
    }
   }
  },
  {
   "cell_type": "code",
   "execution_count": 5,
   "outputs": [
    {
     "data": {
      "text/plain": "     pdb_id pdb_chain  CATEGORY  seqres_index  TP_1  TN_1  FP_1  FN_1  TP_2  \\\n0      102l         A         0           163     0    71    92     0     0   \n1      13pk         A         0           415     0   346    69     0     0   \n2      1a0t         P         1           413     0     2     0   411   353   \n3      1a0t         Q         1           413   256     0     2   155   192   \n4      1a12         A         1           401   357    18     0    26   357   \n...     ...       ...       ...           ...   ...   ...   ...   ...   ...   \n5252   7w3h         a         1           373     0   161     0   212   155   \n5253   7w3i         a         1           373     0   161     0   212   152   \n5254   7w3j         a         1           373     0   161     0   212   194   \n5255   7w3k         a         1           373     0   161     0   212   204   \n5256   7wgo         A         0           276     0   182    94     0     0   \n\n      TN_2  FP_2  FN_2  \n0       49   114     0  \n1      217   198     0  \n2        2     0    58  \n3        2     0   219  \n4        6    12    26  \n...    ...   ...   ...  \n5252    70    91    57  \n5253    58   103    60  \n5254   156     5    18  \n5255   104    57     8  \n5256    88   188     0  \n\n[5257 rows x 12 columns]",
      "text/html": "<div>\n<style scoped>\n    .dataframe tbody tr th:only-of-type {\n        vertical-align: middle;\n    }\n\n    .dataframe tbody tr th {\n        vertical-align: top;\n    }\n\n    .dataframe thead th {\n        text-align: right;\n    }\n</style>\n<table border=\"1\" class=\"dataframe\">\n  <thead>\n    <tr style=\"text-align: right;\">\n      <th></th>\n      <th>pdb_id</th>\n      <th>pdb_chain</th>\n      <th>CATEGORY</th>\n      <th>seqres_index</th>\n      <th>TP_1</th>\n      <th>TN_1</th>\n      <th>FP_1</th>\n      <th>FN_1</th>\n      <th>TP_2</th>\n      <th>TN_2</th>\n      <th>FP_2</th>\n      <th>FN_2</th>\n    </tr>\n  </thead>\n  <tbody>\n    <tr>\n      <th>0</th>\n      <td>102l</td>\n      <td>A</td>\n      <td>0</td>\n      <td>163</td>\n      <td>0</td>\n      <td>71</td>\n      <td>92</td>\n      <td>0</td>\n      <td>0</td>\n      <td>49</td>\n      <td>114</td>\n      <td>0</td>\n    </tr>\n    <tr>\n      <th>1</th>\n      <td>13pk</td>\n      <td>A</td>\n      <td>0</td>\n      <td>415</td>\n      <td>0</td>\n      <td>346</td>\n      <td>69</td>\n      <td>0</td>\n      <td>0</td>\n      <td>217</td>\n      <td>198</td>\n      <td>0</td>\n    </tr>\n    <tr>\n      <th>2</th>\n      <td>1a0t</td>\n      <td>P</td>\n      <td>1</td>\n      <td>413</td>\n      <td>0</td>\n      <td>2</td>\n      <td>0</td>\n      <td>411</td>\n      <td>353</td>\n      <td>2</td>\n      <td>0</td>\n      <td>58</td>\n    </tr>\n    <tr>\n      <th>3</th>\n      <td>1a0t</td>\n      <td>Q</td>\n      <td>1</td>\n      <td>413</td>\n      <td>256</td>\n      <td>0</td>\n      <td>2</td>\n      <td>155</td>\n      <td>192</td>\n      <td>2</td>\n      <td>0</td>\n      <td>219</td>\n    </tr>\n    <tr>\n      <th>4</th>\n      <td>1a12</td>\n      <td>A</td>\n      <td>1</td>\n      <td>401</td>\n      <td>357</td>\n      <td>18</td>\n      <td>0</td>\n      <td>26</td>\n      <td>357</td>\n      <td>6</td>\n      <td>12</td>\n      <td>26</td>\n    </tr>\n    <tr>\n      <th>...</th>\n      <td>...</td>\n      <td>...</td>\n      <td>...</td>\n      <td>...</td>\n      <td>...</td>\n      <td>...</td>\n      <td>...</td>\n      <td>...</td>\n      <td>...</td>\n      <td>...</td>\n      <td>...</td>\n      <td>...</td>\n    </tr>\n    <tr>\n      <th>5252</th>\n      <td>7w3h</td>\n      <td>a</td>\n      <td>1</td>\n      <td>373</td>\n      <td>0</td>\n      <td>161</td>\n      <td>0</td>\n      <td>212</td>\n      <td>155</td>\n      <td>70</td>\n      <td>91</td>\n      <td>57</td>\n    </tr>\n    <tr>\n      <th>5253</th>\n      <td>7w3i</td>\n      <td>a</td>\n      <td>1</td>\n      <td>373</td>\n      <td>0</td>\n      <td>161</td>\n      <td>0</td>\n      <td>212</td>\n      <td>152</td>\n      <td>58</td>\n      <td>103</td>\n      <td>60</td>\n    </tr>\n    <tr>\n      <th>5254</th>\n      <td>7w3j</td>\n      <td>a</td>\n      <td>1</td>\n      <td>373</td>\n      <td>0</td>\n      <td>161</td>\n      <td>0</td>\n      <td>212</td>\n      <td>194</td>\n      <td>156</td>\n      <td>5</td>\n      <td>18</td>\n    </tr>\n    <tr>\n      <th>5255</th>\n      <td>7w3k</td>\n      <td>a</td>\n      <td>1</td>\n      <td>373</td>\n      <td>0</td>\n      <td>161</td>\n      <td>0</td>\n      <td>212</td>\n      <td>204</td>\n      <td>104</td>\n      <td>57</td>\n      <td>8</td>\n    </tr>\n    <tr>\n      <th>5256</th>\n      <td>7wgo</td>\n      <td>A</td>\n      <td>0</td>\n      <td>276</td>\n      <td>0</td>\n      <td>182</td>\n      <td>94</td>\n      <td>0</td>\n      <td>0</td>\n      <td>88</td>\n      <td>188</td>\n      <td>0</td>\n    </tr>\n  </tbody>\n</table>\n<p>5257 rows × 12 columns</p>\n</div>"
     },
     "execution_count": 5,
     "metadata": {},
     "output_type": "execute_result"
    }
   ],
   "source": [
    "df_prot = df.groupby(['pdb_id', 'pdb_chain']).agg({'CATEGORY': 'first', 'seqres_index':'count','TP_1': 'sum', 'TN_1': 'sum', 'FP_1': 'sum', 'FN_1': 'sum', 'TP_2': 'sum', 'TN_2': 'sum', 'FP_2': 'sum', 'FN_2': 'sum'})\n",
    "df_prot.reset_index(inplace=True)\n",
    "df_prot"
   ],
   "metadata": {
    "collapsed": false,
    "ExecuteTime": {
     "end_time": "2023-05-16T14:52:45.404780316Z",
     "start_time": "2023-05-16T14:52:45.134174630Z"
    }
   }
  },
  {
   "cell_type": "code",
   "execution_count": 6,
   "outputs": [
    {
     "data": {
      "text/plain": "                              RDB1               RDB2               \n                                TP   TN  FP   FN   TP   TN   FP   FN\npdb_id pdb_chain seqres_index                                       \n102l   A         163             0   71  92    0    0   49  114    0\n13pk   A         415             0  346  69    0    0  217  198    0\n1a0t   P         413             0    2   0  411  353    2    0   58\n       Q         413           256    0   2  155  192    2    0  219\n1a12   A         401           357   18   0   26  357    6   12   26\n...                            ...  ...  ..  ...  ...  ...  ...  ...\n7w3h   a         373             0  161   0  212  155   70   91   57\n7w3i   a         373             0  161   0  212  152   58  103   60\n7w3j   a         373             0  161   0  212  194  156    5   18\n7w3k   a         373             0  161   0  212  204  104   57    8\n7wgo   A         276             0  182  94    0    0   88  188    0\n\n[5257 rows x 8 columns]",
      "text/html": "<div>\n<style scoped>\n    .dataframe tbody tr th:only-of-type {\n        vertical-align: middle;\n    }\n\n    .dataframe tbody tr th {\n        vertical-align: top;\n    }\n\n    .dataframe thead tr th {\n        text-align: left;\n    }\n\n    .dataframe thead tr:last-of-type th {\n        text-align: right;\n    }\n</style>\n<table border=\"1\" class=\"dataframe\">\n  <thead>\n    <tr>\n      <th></th>\n      <th></th>\n      <th></th>\n      <th colspan=\"4\" halign=\"left\">RDB1</th>\n      <th colspan=\"4\" halign=\"left\">RDB2</th>\n    </tr>\n    <tr>\n      <th></th>\n      <th></th>\n      <th></th>\n      <th>TP</th>\n      <th>TN</th>\n      <th>FP</th>\n      <th>FN</th>\n      <th>TP</th>\n      <th>TN</th>\n      <th>FP</th>\n      <th>FN</th>\n    </tr>\n    <tr>\n      <th>pdb_id</th>\n      <th>pdb_chain</th>\n      <th>seqres_index</th>\n      <th></th>\n      <th></th>\n      <th></th>\n      <th></th>\n      <th></th>\n      <th></th>\n      <th></th>\n      <th></th>\n    </tr>\n  </thead>\n  <tbody>\n    <tr>\n      <th>102l</th>\n      <th>A</th>\n      <th>163</th>\n      <td>0</td>\n      <td>71</td>\n      <td>92</td>\n      <td>0</td>\n      <td>0</td>\n      <td>49</td>\n      <td>114</td>\n      <td>0</td>\n    </tr>\n    <tr>\n      <th>13pk</th>\n      <th>A</th>\n      <th>415</th>\n      <td>0</td>\n      <td>346</td>\n      <td>69</td>\n      <td>0</td>\n      <td>0</td>\n      <td>217</td>\n      <td>198</td>\n      <td>0</td>\n    </tr>\n    <tr>\n      <th rowspan=\"2\" valign=\"top\">1a0t</th>\n      <th>P</th>\n      <th>413</th>\n      <td>0</td>\n      <td>2</td>\n      <td>0</td>\n      <td>411</td>\n      <td>353</td>\n      <td>2</td>\n      <td>0</td>\n      <td>58</td>\n    </tr>\n    <tr>\n      <th>Q</th>\n      <th>413</th>\n      <td>256</td>\n      <td>0</td>\n      <td>2</td>\n      <td>155</td>\n      <td>192</td>\n      <td>2</td>\n      <td>0</td>\n      <td>219</td>\n    </tr>\n    <tr>\n      <th>1a12</th>\n      <th>A</th>\n      <th>401</th>\n      <td>357</td>\n      <td>18</td>\n      <td>0</td>\n      <td>26</td>\n      <td>357</td>\n      <td>6</td>\n      <td>12</td>\n      <td>26</td>\n    </tr>\n    <tr>\n      <th>...</th>\n      <th>...</th>\n      <th>...</th>\n      <td>...</td>\n      <td>...</td>\n      <td>...</td>\n      <td>...</td>\n      <td>...</td>\n      <td>...</td>\n      <td>...</td>\n      <td>...</td>\n    </tr>\n    <tr>\n      <th>7w3h</th>\n      <th>a</th>\n      <th>373</th>\n      <td>0</td>\n      <td>161</td>\n      <td>0</td>\n      <td>212</td>\n      <td>155</td>\n      <td>70</td>\n      <td>91</td>\n      <td>57</td>\n    </tr>\n    <tr>\n      <th>7w3i</th>\n      <th>a</th>\n      <th>373</th>\n      <td>0</td>\n      <td>161</td>\n      <td>0</td>\n      <td>212</td>\n      <td>152</td>\n      <td>58</td>\n      <td>103</td>\n      <td>60</td>\n    </tr>\n    <tr>\n      <th>7w3j</th>\n      <th>a</th>\n      <th>373</th>\n      <td>0</td>\n      <td>161</td>\n      <td>0</td>\n      <td>212</td>\n      <td>194</td>\n      <td>156</td>\n      <td>5</td>\n      <td>18</td>\n    </tr>\n    <tr>\n      <th>7w3k</th>\n      <th>a</th>\n      <th>373</th>\n      <td>0</td>\n      <td>161</td>\n      <td>0</td>\n      <td>212</td>\n      <td>204</td>\n      <td>104</td>\n      <td>57</td>\n      <td>8</td>\n    </tr>\n    <tr>\n      <th>7wgo</th>\n      <th>A</th>\n      <th>276</th>\n      <td>0</td>\n      <td>182</td>\n      <td>94</td>\n      <td>0</td>\n      <td>0</td>\n      <td>88</td>\n      <td>188</td>\n      <td>0</td>\n    </tr>\n  </tbody>\n</table>\n<p>5257 rows × 8 columns</p>\n</div>"
     },
     "execution_count": 6,
     "metadata": {},
     "output_type": "execute_result"
    }
   ],
   "source": [
    "df_prot.set_index(['pdb_id', 'pdb_chain', 'seqres_index'], inplace=True)\n",
    "df_prot = df_prot.drop(columns=['CATEGORY'])\n",
    "df_prot.columns=pd.MultiIndex.from_arrays([['RDB1', 'RDB1', 'RDB1', 'RDB1', 'RDB2', 'RDB2', 'RDB2', 'RDB2'], ['TP', 'TN', 'FP', 'FN', 'TP', 'TN', 'FP', 'FN']])\n",
    "df_prot"
   ],
   "metadata": {
    "collapsed": false,
    "ExecuteTime": {
     "end_time": "2023-05-16T14:52:45.419544408Z",
     "start_time": "2023-05-16T14:52:45.406406648Z"
    }
   }
  },
  {
   "cell_type": "code",
   "execution_count": 7,
   "outputs": [
    {
     "name": "stdout",
     "output_type": "stream",
     "text": [
      "451973 756711 220411 557809 [0.6110115008186754, 0.672194757757472, 0.4475946293358368, 0.7744283723015141, 0.5373702714238665, 0.2345815727683996]\n",
      "768967 461908 515214 240815 [0.6171203941721346, 0.5987995461698935, 0.7615178325618797, 0.4727229557823895, 0.6704266808139451, 0.2449319979510994]\n"
     ]
    }
   ],
   "source": [
    "# tp, tn fp, fn\n",
    "# bacc, p, se, sp, f1, mcc\n",
    "print(*df_prot['RDB1'].sum(), calc_metrics(*df_prot['RDB1'].sum()))\n",
    "print(*df_prot['RDB2'].sum(), calc_metrics(*df_prot['RDB2'].sum()))"
   ],
   "metadata": {
    "collapsed": false,
    "ExecuteTime": {
     "end_time": "2023-05-16T14:52:45.454959469Z",
     "start_time": "2023-05-16T14:52:45.419821051Z"
    }
   }
  },
  {
   "cell_type": "code",
   "execution_count": 8,
   "outputs": [
    {
     "data": {
      "text/plain": "        0  1    2    3    4   5    6         7         8         9   ...   13  \\\n0     102l  A  163    0   71  92    0  0.217791  0.000000  0.000000  ...    0   \n1     13pk  A  415    0  346  69    0  0.416867  0.000000  0.000000  ...    0   \n2     1a0t  P  413    0    2   0  411  0.500000  0.000000  0.000000  ...  353   \n3     1a0t  Q  413  256    0   2  155  0.311436  0.992248  0.622871  ...  192   \n4     1a12  A  401  357   18   0   26  0.966057  1.000000  0.932115  ...  357   \n...    ... ..  ...  ...  ...  ..  ...       ...       ...       ...  ...  ...   \n5252  7w3h  a  373    0  161   0  212  0.500000  0.000000  0.000000  ...  155   \n5253  7w3i  a  373    0  161   0  212  0.500000  0.000000  0.000000  ...  152   \n5254  7w3j  a  373    0  161   0  212  0.500000  0.000000  0.000000  ...  194   \n5255  7w3k  a  373    0  161   0  212  0.500000  0.000000  0.000000  ...  204   \n5256  7wgo  A  276    0  182  94    0  0.329710  0.000000  0.000000  ...    0   \n\n       14   15   16        17        18        19        20        21  \\\n0      49  114    0  0.150307  0.000000  0.000000  0.300613  0.000000   \n1     217  198    0  0.261446  0.000000  0.000000  0.522892  0.000000   \n2       2    0   58  0.929440  1.000000  0.858881  1.000000  0.924084   \n3       2    0  219  0.733577  1.000000  0.467153  1.000000  0.636816   \n4       6   12   26  0.632724  0.967480  0.932115  0.333333  0.949468   \n...   ...  ...  ...       ...       ...       ...       ...       ...   \n5252   70   91   57  0.582957  0.630081  0.731132  0.434783  0.676856   \n5253   58  103   60  0.538615  0.596078  0.716981  0.360248  0.650964   \n5254  156    5   18  0.942019  0.974874  0.915094  0.968944  0.944039   \n5255  104   57    8  0.804113  0.781609  0.962264  0.645963  0.862579   \n5256   88  188    0  0.159420  0.000000  0.000000  0.318841  0.000000   \n\n            22  \n0          NaN  \n1          NaN  \n2     0.169202  \n3     0.065020  \n4     0.202828  \n...        ...  \n5252  0.173419  \n5253  0.082253  \n5254  0.877710  \n5255  0.657230  \n5256       NaN  \n\n[5257 rows x 23 columns]",
      "text/html": "<div>\n<style scoped>\n    .dataframe tbody tr th:only-of-type {\n        vertical-align: middle;\n    }\n\n    .dataframe tbody tr th {\n        vertical-align: top;\n    }\n\n    .dataframe thead th {\n        text-align: right;\n    }\n</style>\n<table border=\"1\" class=\"dataframe\">\n  <thead>\n    <tr style=\"text-align: right;\">\n      <th></th>\n      <th>0</th>\n      <th>1</th>\n      <th>2</th>\n      <th>3</th>\n      <th>4</th>\n      <th>5</th>\n      <th>6</th>\n      <th>7</th>\n      <th>8</th>\n      <th>9</th>\n      <th>...</th>\n      <th>13</th>\n      <th>14</th>\n      <th>15</th>\n      <th>16</th>\n      <th>17</th>\n      <th>18</th>\n      <th>19</th>\n      <th>20</th>\n      <th>21</th>\n      <th>22</th>\n    </tr>\n  </thead>\n  <tbody>\n    <tr>\n      <th>0</th>\n      <td>102l</td>\n      <td>A</td>\n      <td>163</td>\n      <td>0</td>\n      <td>71</td>\n      <td>92</td>\n      <td>0</td>\n      <td>0.217791</td>\n      <td>0.000000</td>\n      <td>0.000000</td>\n      <td>...</td>\n      <td>0</td>\n      <td>49</td>\n      <td>114</td>\n      <td>0</td>\n      <td>0.150307</td>\n      <td>0.000000</td>\n      <td>0.000000</td>\n      <td>0.300613</td>\n      <td>0.000000</td>\n      <td>NaN</td>\n    </tr>\n    <tr>\n      <th>1</th>\n      <td>13pk</td>\n      <td>A</td>\n      <td>415</td>\n      <td>0</td>\n      <td>346</td>\n      <td>69</td>\n      <td>0</td>\n      <td>0.416867</td>\n      <td>0.000000</td>\n      <td>0.000000</td>\n      <td>...</td>\n      <td>0</td>\n      <td>217</td>\n      <td>198</td>\n      <td>0</td>\n      <td>0.261446</td>\n      <td>0.000000</td>\n      <td>0.000000</td>\n      <td>0.522892</td>\n      <td>0.000000</td>\n      <td>NaN</td>\n    </tr>\n    <tr>\n      <th>2</th>\n      <td>1a0t</td>\n      <td>P</td>\n      <td>413</td>\n      <td>0</td>\n      <td>2</td>\n      <td>0</td>\n      <td>411</td>\n      <td>0.500000</td>\n      <td>0.000000</td>\n      <td>0.000000</td>\n      <td>...</td>\n      <td>353</td>\n      <td>2</td>\n      <td>0</td>\n      <td>58</td>\n      <td>0.929440</td>\n      <td>1.000000</td>\n      <td>0.858881</td>\n      <td>1.000000</td>\n      <td>0.924084</td>\n      <td>0.169202</td>\n    </tr>\n    <tr>\n      <th>3</th>\n      <td>1a0t</td>\n      <td>Q</td>\n      <td>413</td>\n      <td>256</td>\n      <td>0</td>\n      <td>2</td>\n      <td>155</td>\n      <td>0.311436</td>\n      <td>0.992248</td>\n      <td>0.622871</td>\n      <td>...</td>\n      <td>192</td>\n      <td>2</td>\n      <td>0</td>\n      <td>219</td>\n      <td>0.733577</td>\n      <td>1.000000</td>\n      <td>0.467153</td>\n      <td>1.000000</td>\n      <td>0.636816</td>\n      <td>0.065020</td>\n    </tr>\n    <tr>\n      <th>4</th>\n      <td>1a12</td>\n      <td>A</td>\n      <td>401</td>\n      <td>357</td>\n      <td>18</td>\n      <td>0</td>\n      <td>26</td>\n      <td>0.966057</td>\n      <td>1.000000</td>\n      <td>0.932115</td>\n      <td>...</td>\n      <td>357</td>\n      <td>6</td>\n      <td>12</td>\n      <td>26</td>\n      <td>0.632724</td>\n      <td>0.967480</td>\n      <td>0.932115</td>\n      <td>0.333333</td>\n      <td>0.949468</td>\n      <td>0.202828</td>\n    </tr>\n    <tr>\n      <th>...</th>\n      <td>...</td>\n      <td>...</td>\n      <td>...</td>\n      <td>...</td>\n      <td>...</td>\n      <td>...</td>\n      <td>...</td>\n      <td>...</td>\n      <td>...</td>\n      <td>...</td>\n      <td>...</td>\n      <td>...</td>\n      <td>...</td>\n      <td>...</td>\n      <td>...</td>\n      <td>...</td>\n      <td>...</td>\n      <td>...</td>\n      <td>...</td>\n      <td>...</td>\n      <td>...</td>\n    </tr>\n    <tr>\n      <th>5252</th>\n      <td>7w3h</td>\n      <td>a</td>\n      <td>373</td>\n      <td>0</td>\n      <td>161</td>\n      <td>0</td>\n      <td>212</td>\n      <td>0.500000</td>\n      <td>0.000000</td>\n      <td>0.000000</td>\n      <td>...</td>\n      <td>155</td>\n      <td>70</td>\n      <td>91</td>\n      <td>57</td>\n      <td>0.582957</td>\n      <td>0.630081</td>\n      <td>0.731132</td>\n      <td>0.434783</td>\n      <td>0.676856</td>\n      <td>0.173419</td>\n    </tr>\n    <tr>\n      <th>5253</th>\n      <td>7w3i</td>\n      <td>a</td>\n      <td>373</td>\n      <td>0</td>\n      <td>161</td>\n      <td>0</td>\n      <td>212</td>\n      <td>0.500000</td>\n      <td>0.000000</td>\n      <td>0.000000</td>\n      <td>...</td>\n      <td>152</td>\n      <td>58</td>\n      <td>103</td>\n      <td>60</td>\n      <td>0.538615</td>\n      <td>0.596078</td>\n      <td>0.716981</td>\n      <td>0.360248</td>\n      <td>0.650964</td>\n      <td>0.082253</td>\n    </tr>\n    <tr>\n      <th>5254</th>\n      <td>7w3j</td>\n      <td>a</td>\n      <td>373</td>\n      <td>0</td>\n      <td>161</td>\n      <td>0</td>\n      <td>212</td>\n      <td>0.500000</td>\n      <td>0.000000</td>\n      <td>0.000000</td>\n      <td>...</td>\n      <td>194</td>\n      <td>156</td>\n      <td>5</td>\n      <td>18</td>\n      <td>0.942019</td>\n      <td>0.974874</td>\n      <td>0.915094</td>\n      <td>0.968944</td>\n      <td>0.944039</td>\n      <td>0.877710</td>\n    </tr>\n    <tr>\n      <th>5255</th>\n      <td>7w3k</td>\n      <td>a</td>\n      <td>373</td>\n      <td>0</td>\n      <td>161</td>\n      <td>0</td>\n      <td>212</td>\n      <td>0.500000</td>\n      <td>0.000000</td>\n      <td>0.000000</td>\n      <td>...</td>\n      <td>204</td>\n      <td>104</td>\n      <td>57</td>\n      <td>8</td>\n      <td>0.804113</td>\n      <td>0.781609</td>\n      <td>0.962264</td>\n      <td>0.645963</td>\n      <td>0.862579</td>\n      <td>0.657230</td>\n    </tr>\n    <tr>\n      <th>5256</th>\n      <td>7wgo</td>\n      <td>A</td>\n      <td>276</td>\n      <td>0</td>\n      <td>182</td>\n      <td>94</td>\n      <td>0</td>\n      <td>0.329710</td>\n      <td>0.000000</td>\n      <td>0.000000</td>\n      <td>...</td>\n      <td>0</td>\n      <td>88</td>\n      <td>188</td>\n      <td>0</td>\n      <td>0.159420</td>\n      <td>0.000000</td>\n      <td>0.000000</td>\n      <td>0.318841</td>\n      <td>0.000000</td>\n      <td>NaN</td>\n    </tr>\n  </tbody>\n</table>\n<p>5257 rows × 23 columns</p>\n</div>"
     },
     "execution_count": 8,
     "metadata": {},
     "output_type": "execute_result"
    }
   ],
   "source": [
    "# apply calc_metrics function to each row for both RDB1 and RDB2\n",
    "data = []\n",
    "for index, row in df_prot.iterrows():\n",
    "    # print(*row['RDB1'], *calc_metrics(*row['RDB1']))\n",
    "    data.append([index[0], index[1], index[2], *row[:4], *calc_metrics(*row['RDB1']), *row[4:], *calc_metrics(*row['RDB2'])])\n",
    "df_ = pd.DataFrame(data)\n",
    "df_"
   ],
   "metadata": {
    "collapsed": false,
    "ExecuteTime": {
     "end_time": "2023-05-16T14:52:46.972274870Z",
     "start_time": "2023-05-16T14:52:45.896779215Z"
    }
   }
  },
  {
   "cell_type": "code",
   "execution_count": 9,
   "outputs": [
    {
     "data": {
      "text/plain": "        NaN                  RDB1                                              \\\n     pdb_id pdb_chain length   TP   TN  FP   FN      bacc         p        se   \n0      102l         A    163    0   71  92    0  0.217791  0.000000  0.000000   \n1      13pk         A    415    0  346  69    0  0.416867  0.000000  0.000000   \n2      1a0t         P    413    0    2   0  411  0.500000  0.000000  0.000000   \n3      1a0t         Q    413  256    0   2  155  0.311436  0.992248  0.622871   \n4      1a12         A    401  357   18   0   26  0.966057  1.000000  0.932115   \n...     ...       ...    ...  ...  ...  ..  ...       ...       ...       ...   \n5252   7w3h         a    373    0  161   0  212  0.500000  0.000000  0.000000   \n5253   7w3i         a    373    0  161   0  212  0.500000  0.000000  0.000000   \n5254   7w3j         a    373    0  161   0  212  0.500000  0.000000  0.000000   \n5255   7w3k         a    373    0  161   0  212  0.500000  0.000000  0.000000   \n5256   7wgo         A    276    0  182  94    0  0.329710  0.000000  0.000000   \n\n      ... RDB2                                                         \\\n      ...   TP   TN   FP   FN      bacc         p        se        sp   \n0     ...    0   49  114    0  0.150307  0.000000  0.000000  0.300613   \n1     ...    0  217  198    0  0.261446  0.000000  0.000000  0.522892   \n2     ...  353    2    0   58  0.929440  1.000000  0.858881  1.000000   \n3     ...  192    2    0  219  0.733577  1.000000  0.467153  1.000000   \n4     ...  357    6   12   26  0.632724  0.967480  0.932115  0.333333   \n...   ...  ...  ...  ...  ...       ...       ...       ...       ...   \n5252  ...  155   70   91   57  0.582957  0.630081  0.731132  0.434783   \n5253  ...  152   58  103   60  0.538615  0.596078  0.716981  0.360248   \n5254  ...  194  156    5   18  0.942019  0.974874  0.915094  0.968944   \n5255  ...  204  104   57    8  0.804113  0.781609  0.962264  0.645963   \n5256  ...    0   88  188    0  0.159420  0.000000  0.000000  0.318841   \n\n                          \n            f1       mcc  \n0     0.000000       NaN  \n1     0.000000       NaN  \n2     0.924084  0.169202  \n3     0.636816  0.065020  \n4     0.949468  0.202828  \n...        ...       ...  \n5252  0.676856  0.173419  \n5253  0.650964  0.082253  \n5254  0.944039  0.877710  \n5255  0.862579  0.657230  \n5256  0.000000       NaN  \n\n[5257 rows x 23 columns]",
      "text/html": "<div>\n<style scoped>\n    .dataframe tbody tr th:only-of-type {\n        vertical-align: middle;\n    }\n\n    .dataframe tbody tr th {\n        vertical-align: top;\n    }\n\n    .dataframe thead tr th {\n        text-align: left;\n    }\n</style>\n<table border=\"1\" class=\"dataframe\">\n  <thead>\n    <tr>\n      <th></th>\n      <th colspan=\"3\" halign=\"left\">NaN</th>\n      <th colspan=\"7\" halign=\"left\">RDB1</th>\n      <th>...</th>\n      <th colspan=\"10\" halign=\"left\">RDB2</th>\n    </tr>\n    <tr>\n      <th></th>\n      <th>pdb_id</th>\n      <th>pdb_chain</th>\n      <th>length</th>\n      <th>TP</th>\n      <th>TN</th>\n      <th>FP</th>\n      <th>FN</th>\n      <th>bacc</th>\n      <th>p</th>\n      <th>se</th>\n      <th>...</th>\n      <th>TP</th>\n      <th>TN</th>\n      <th>FP</th>\n      <th>FN</th>\n      <th>bacc</th>\n      <th>p</th>\n      <th>se</th>\n      <th>sp</th>\n      <th>f1</th>\n      <th>mcc</th>\n    </tr>\n  </thead>\n  <tbody>\n    <tr>\n      <th>0</th>\n      <td>102l</td>\n      <td>A</td>\n      <td>163</td>\n      <td>0</td>\n      <td>71</td>\n      <td>92</td>\n      <td>0</td>\n      <td>0.217791</td>\n      <td>0.000000</td>\n      <td>0.000000</td>\n      <td>...</td>\n      <td>0</td>\n      <td>49</td>\n      <td>114</td>\n      <td>0</td>\n      <td>0.150307</td>\n      <td>0.000000</td>\n      <td>0.000000</td>\n      <td>0.300613</td>\n      <td>0.000000</td>\n      <td>NaN</td>\n    </tr>\n    <tr>\n      <th>1</th>\n      <td>13pk</td>\n      <td>A</td>\n      <td>415</td>\n      <td>0</td>\n      <td>346</td>\n      <td>69</td>\n      <td>0</td>\n      <td>0.416867</td>\n      <td>0.000000</td>\n      <td>0.000000</td>\n      <td>...</td>\n      <td>0</td>\n      <td>217</td>\n      <td>198</td>\n      <td>0</td>\n      <td>0.261446</td>\n      <td>0.000000</td>\n      <td>0.000000</td>\n      <td>0.522892</td>\n      <td>0.000000</td>\n      <td>NaN</td>\n    </tr>\n    <tr>\n      <th>2</th>\n      <td>1a0t</td>\n      <td>P</td>\n      <td>413</td>\n      <td>0</td>\n      <td>2</td>\n      <td>0</td>\n      <td>411</td>\n      <td>0.500000</td>\n      <td>0.000000</td>\n      <td>0.000000</td>\n      <td>...</td>\n      <td>353</td>\n      <td>2</td>\n      <td>0</td>\n      <td>58</td>\n      <td>0.929440</td>\n      <td>1.000000</td>\n      <td>0.858881</td>\n      <td>1.000000</td>\n      <td>0.924084</td>\n      <td>0.169202</td>\n    </tr>\n    <tr>\n      <th>3</th>\n      <td>1a0t</td>\n      <td>Q</td>\n      <td>413</td>\n      <td>256</td>\n      <td>0</td>\n      <td>2</td>\n      <td>155</td>\n      <td>0.311436</td>\n      <td>0.992248</td>\n      <td>0.622871</td>\n      <td>...</td>\n      <td>192</td>\n      <td>2</td>\n      <td>0</td>\n      <td>219</td>\n      <td>0.733577</td>\n      <td>1.000000</td>\n      <td>0.467153</td>\n      <td>1.000000</td>\n      <td>0.636816</td>\n      <td>0.065020</td>\n    </tr>\n    <tr>\n      <th>4</th>\n      <td>1a12</td>\n      <td>A</td>\n      <td>401</td>\n      <td>357</td>\n      <td>18</td>\n      <td>0</td>\n      <td>26</td>\n      <td>0.966057</td>\n      <td>1.000000</td>\n      <td>0.932115</td>\n      <td>...</td>\n      <td>357</td>\n      <td>6</td>\n      <td>12</td>\n      <td>26</td>\n      <td>0.632724</td>\n      <td>0.967480</td>\n      <td>0.932115</td>\n      <td>0.333333</td>\n      <td>0.949468</td>\n      <td>0.202828</td>\n    </tr>\n    <tr>\n      <th>...</th>\n      <td>...</td>\n      <td>...</td>\n      <td>...</td>\n      <td>...</td>\n      <td>...</td>\n      <td>...</td>\n      <td>...</td>\n      <td>...</td>\n      <td>...</td>\n      <td>...</td>\n      <td>...</td>\n      <td>...</td>\n      <td>...</td>\n      <td>...</td>\n      <td>...</td>\n      <td>...</td>\n      <td>...</td>\n      <td>...</td>\n      <td>...</td>\n      <td>...</td>\n      <td>...</td>\n    </tr>\n    <tr>\n      <th>5252</th>\n      <td>7w3h</td>\n      <td>a</td>\n      <td>373</td>\n      <td>0</td>\n      <td>161</td>\n      <td>0</td>\n      <td>212</td>\n      <td>0.500000</td>\n      <td>0.000000</td>\n      <td>0.000000</td>\n      <td>...</td>\n      <td>155</td>\n      <td>70</td>\n      <td>91</td>\n      <td>57</td>\n      <td>0.582957</td>\n      <td>0.630081</td>\n      <td>0.731132</td>\n      <td>0.434783</td>\n      <td>0.676856</td>\n      <td>0.173419</td>\n    </tr>\n    <tr>\n      <th>5253</th>\n      <td>7w3i</td>\n      <td>a</td>\n      <td>373</td>\n      <td>0</td>\n      <td>161</td>\n      <td>0</td>\n      <td>212</td>\n      <td>0.500000</td>\n      <td>0.000000</td>\n      <td>0.000000</td>\n      <td>...</td>\n      <td>152</td>\n      <td>58</td>\n      <td>103</td>\n      <td>60</td>\n      <td>0.538615</td>\n      <td>0.596078</td>\n      <td>0.716981</td>\n      <td>0.360248</td>\n      <td>0.650964</td>\n      <td>0.082253</td>\n    </tr>\n    <tr>\n      <th>5254</th>\n      <td>7w3j</td>\n      <td>a</td>\n      <td>373</td>\n      <td>0</td>\n      <td>161</td>\n      <td>0</td>\n      <td>212</td>\n      <td>0.500000</td>\n      <td>0.000000</td>\n      <td>0.000000</td>\n      <td>...</td>\n      <td>194</td>\n      <td>156</td>\n      <td>5</td>\n      <td>18</td>\n      <td>0.942019</td>\n      <td>0.974874</td>\n      <td>0.915094</td>\n      <td>0.968944</td>\n      <td>0.944039</td>\n      <td>0.877710</td>\n    </tr>\n    <tr>\n      <th>5255</th>\n      <td>7w3k</td>\n      <td>a</td>\n      <td>373</td>\n      <td>0</td>\n      <td>161</td>\n      <td>0</td>\n      <td>212</td>\n      <td>0.500000</td>\n      <td>0.000000</td>\n      <td>0.000000</td>\n      <td>...</td>\n      <td>204</td>\n      <td>104</td>\n      <td>57</td>\n      <td>8</td>\n      <td>0.804113</td>\n      <td>0.781609</td>\n      <td>0.962264</td>\n      <td>0.645963</td>\n      <td>0.862579</td>\n      <td>0.657230</td>\n    </tr>\n    <tr>\n      <th>5256</th>\n      <td>7wgo</td>\n      <td>A</td>\n      <td>276</td>\n      <td>0</td>\n      <td>182</td>\n      <td>94</td>\n      <td>0</td>\n      <td>0.329710</td>\n      <td>0.000000</td>\n      <td>0.000000</td>\n      <td>...</td>\n      <td>0</td>\n      <td>88</td>\n      <td>188</td>\n      <td>0</td>\n      <td>0.159420</td>\n      <td>0.000000</td>\n      <td>0.000000</td>\n      <td>0.318841</td>\n      <td>0.000000</td>\n      <td>NaN</td>\n    </tr>\n  </tbody>\n</table>\n<p>5257 rows × 23 columns</p>\n</div>"
     },
     "execution_count": 9,
     "metadata": {},
     "output_type": "execute_result"
    }
   ],
   "source": [
    "df_.columns=pd.MultiIndex.from_arrays([[None, None, None, 'RDB1', 'RDB1', 'RDB1', 'RDB1', 'RDB1', 'RDB1', 'RDB1', 'RDB1', 'RDB1', 'RDB1', 'RDB2', 'RDB2', 'RDB2', 'RDB2', 'RDB2', 'RDB2', 'RDB2', 'RDB2', 'RDB2', 'RDB2'], ['pdb_id', 'pdb_chain', 'length', 'TP', 'TN', 'FP', 'FN', 'bacc', 'p', 'se', 'sp', 'f1', 'mcc', 'TP', 'TN', 'FP', 'FN', 'bacc', 'p', 'se', 'sp', 'f1', 'mcc']])\n",
    "df_"
   ],
   "metadata": {
    "collapsed": false,
    "ExecuteTime": {
     "end_time": "2023-05-16T14:52:47.044697729Z",
     "start_time": "2023-05-16T14:52:46.975586408Z"
    }
   }
  },
  {
   "cell_type": "code",
   "execution_count": 10,
   "outputs": [
    {
     "data": {
      "text/plain": "          RDB1                                                  \n          bacc         p        se        sp        f1       mcc\n0     0.217791  0.000000  0.000000  0.435583  0.000000       NaN\n1     0.416867  0.000000  0.000000  0.833735  0.000000       NaN\n2     0.500000  0.000000  0.000000  1.000000  0.000000       NaN\n3     0.311436  0.992248  0.622871  0.000000  0.765321 -0.054069\n4     0.966057  1.000000  0.932115  1.000000  0.964865  0.617511\n...        ...       ...       ...       ...       ...       ...\n5252  0.500000  0.000000  0.000000  1.000000  0.000000       NaN\n5253  0.500000  0.000000  0.000000  1.000000  0.000000       NaN\n5254  0.500000  0.000000  0.000000  1.000000  0.000000       NaN\n5255  0.500000  0.000000  0.000000  1.000000  0.000000       NaN\n5256  0.329710  0.000000  0.000000  0.659420  0.000000       NaN\n\n[5257 rows x 6 columns]",
      "text/html": "<div>\n<style scoped>\n    .dataframe tbody tr th:only-of-type {\n        vertical-align: middle;\n    }\n\n    .dataframe tbody tr th {\n        vertical-align: top;\n    }\n\n    .dataframe thead tr th {\n        text-align: left;\n    }\n</style>\n<table border=\"1\" class=\"dataframe\">\n  <thead>\n    <tr>\n      <th></th>\n      <th colspan=\"6\" halign=\"left\">RDB1</th>\n    </tr>\n    <tr>\n      <th></th>\n      <th>bacc</th>\n      <th>p</th>\n      <th>se</th>\n      <th>sp</th>\n      <th>f1</th>\n      <th>mcc</th>\n    </tr>\n  </thead>\n  <tbody>\n    <tr>\n      <th>0</th>\n      <td>0.217791</td>\n      <td>0.000000</td>\n      <td>0.000000</td>\n      <td>0.435583</td>\n      <td>0.000000</td>\n      <td>NaN</td>\n    </tr>\n    <tr>\n      <th>1</th>\n      <td>0.416867</td>\n      <td>0.000000</td>\n      <td>0.000000</td>\n      <td>0.833735</td>\n      <td>0.000000</td>\n      <td>NaN</td>\n    </tr>\n    <tr>\n      <th>2</th>\n      <td>0.500000</td>\n      <td>0.000000</td>\n      <td>0.000000</td>\n      <td>1.000000</td>\n      <td>0.000000</td>\n      <td>NaN</td>\n    </tr>\n    <tr>\n      <th>3</th>\n      <td>0.311436</td>\n      <td>0.992248</td>\n      <td>0.622871</td>\n      <td>0.000000</td>\n      <td>0.765321</td>\n      <td>-0.054069</td>\n    </tr>\n    <tr>\n      <th>4</th>\n      <td>0.966057</td>\n      <td>1.000000</td>\n      <td>0.932115</td>\n      <td>1.000000</td>\n      <td>0.964865</td>\n      <td>0.617511</td>\n    </tr>\n    <tr>\n      <th>...</th>\n      <td>...</td>\n      <td>...</td>\n      <td>...</td>\n      <td>...</td>\n      <td>...</td>\n      <td>...</td>\n    </tr>\n    <tr>\n      <th>5252</th>\n      <td>0.500000</td>\n      <td>0.000000</td>\n      <td>0.000000</td>\n      <td>1.000000</td>\n      <td>0.000000</td>\n      <td>NaN</td>\n    </tr>\n    <tr>\n      <th>5253</th>\n      <td>0.500000</td>\n      <td>0.000000</td>\n      <td>0.000000</td>\n      <td>1.000000</td>\n      <td>0.000000</td>\n      <td>NaN</td>\n    </tr>\n    <tr>\n      <th>5254</th>\n      <td>0.500000</td>\n      <td>0.000000</td>\n      <td>0.000000</td>\n      <td>1.000000</td>\n      <td>0.000000</td>\n      <td>NaN</td>\n    </tr>\n    <tr>\n      <th>5255</th>\n      <td>0.500000</td>\n      <td>0.000000</td>\n      <td>0.000000</td>\n      <td>1.000000</td>\n      <td>0.000000</td>\n      <td>NaN</td>\n    </tr>\n    <tr>\n      <th>5256</th>\n      <td>0.329710</td>\n      <td>0.000000</td>\n      <td>0.000000</td>\n      <td>0.659420</td>\n      <td>0.000000</td>\n      <td>NaN</td>\n    </tr>\n  </tbody>\n</table>\n<p>5257 rows × 6 columns</p>\n</div>"
     },
     "execution_count": 10,
     "metadata": {},
     "output_type": "execute_result"
    }
   ],
   "source": [
    "df_.loc[:, ('RDB1', ['bacc', 'p', 'se', 'sp', 'f1', 'mcc'])]"
   ],
   "metadata": {
    "collapsed": false,
    "ExecuteTime": {
     "end_time": "2023-05-16T14:52:47.045028709Z",
     "start_time": "2023-05-16T14:52:47.032595300Z"
    }
   }
  },
  {
   "cell_type": "code",
   "execution_count": 11,
   "outputs": [
    {
     "data": {
      "text/plain": "<Axes: >"
     },
     "execution_count": 11,
     "metadata": {},
     "output_type": "execute_result"
    },
    {
     "data": {
      "text/plain": "<Figure size 2000x1000 with 1 Axes>",
      "image/png": "[encoded data removed]"
     },
     "metadata": {},
     "output_type": "display_data"
    }
   ],
   "source": [
    "df_.loc[:,('RDB1', ['bacc', 'p', 'se', 'sp', 'f1', 'mcc'])].boxplot(figsize=(20,10))\n",
    "\n",
    "\n"
   ],
   "metadata": {
    "collapsed": false,
    "ExecuteTime": {
     "end_time": "2023-05-16T14:52:47.442836109Z",
     "start_time": "2023-05-16T14:52:47.032810831Z"
    }
   }
  },
  {
   "cell_type": "code",
   "execution_count": 12,
   "outputs": [],
   "source": [
    "# df_.loc[:,(slice(None), ['bacc', 'p', 'se', 'sp', 'f1', 'mcc'])].boxplot(figsize=(20,10))"
   ],
   "metadata": {
    "collapsed": false,
    "ExecuteTime": {
     "end_time": "2023-05-16T14:52:47.588681192Z",
     "start_time": "2023-05-16T14:52:47.444566853Z"
    }
   }
  },
  {
   "cell_type": "code",
   "execution_count": 97,
   "outputs": [
    {
     "data": {
      "text/plain": "(RDB1  bacc    0.534322\n       p       0.325987\n       se      0.293841\n       sp      0.774803\n       f1      0.303614\n       mcc     0.503054\n dtype: float64,\n RDB2  bacc    0.552875\n       p       0.563785\n       se      0.495125\n       sp      0.610625\n       f1      0.511059\n       mcc     0.330527\n dtype: float64,\n RDB1  TP    451973\n       TN    756711\n       FP    220411\n       FN    557809\n dtype: int64,\n RDB2  TP    768967\n       TN    461908\n       FP    515214\n       FN    240815\n dtype: int64)"
     },
     "execution_count": 97,
     "metadata": {},
     "output_type": "execute_result"
    }
   ],
   "source": [
    "# table residue overlap level\n",
    "table_pt1 = df_.loc[:,('RDB1', ['bacc', 'p', 'se', 'sp', 'f1', 'mcc'])].mean()\n",
    "table_pt1_sum = df_.loc[:,('RDB1', ['TP', 'TN', 'FP', 'FN'])].sum()\n",
    "table_pt2 = df_.loc[:,('RDB2', ['bacc', 'p', 'se', 'sp', 'f1', 'mcc'])].mean()\n",
    "table_pt2_sum = df_.loc[:,('RDB2', ['TP', 'TN', 'FP', 'FN'])].sum()\n",
    "table_pt1, table_pt2, table_pt1_sum, table_pt2_sum"
   ],
   "metadata": {
    "collapsed": false,
    "ExecuteTime": {
     "end_time": "2023-05-17T14:46:14.058931680Z",
     "start_time": "2023-05-17T14:46:14.005798976Z"
    }
   }
  },
  {
   "cell_type": "code",
   "execution_count": 76,
   "outputs": [
    {
     "data": {
      "text/plain": "              RDB1                           RDB2                     \n                TP      TN     FP      FN      TP     TN     FP     FN\ntopologies                                                            \n3.1          21800   23678   1469   24400   37140  12389  12758   9060\n3.2          25852    8691    466   24801   36120   6589   2568  14533\n3.3         143962  105461  16938  133984  241743  53277  69122  36203\n3.4           3866    8736    411    6990    8528   4776   4371   2328\n3.6              0     222      0   21944   17145    186     36   4799\n4.1          73809   35322   6204   76248  105108  22665  18861  44949\n4.10          1699      90     17    1097    1122     94     13   1674\n4.2          28166   16777   2247   47295   51967  10038   8986  23494\n4.3            268     754    110     626     351    430    434    543\n4.4         102964   39899   3794  147209  178547  31543  12150  71626\n4.5          13328    1483     41   18208   25860   1289    235   5676\n4.6           6331     823    271    2016    6435    698    396   1912\n4.7            224       0      1       0     108      1      0    116\n4.9           5780    1915    370    1279    5041   1324    961   2018\n5.1            753      10     11     492     825      9     12    420\n5.2           3558     646     20    3651    5439    377    289   1770\n5.3           1443     138      8    2062    2317    132     14   1188\n5.4           4127     861    109    7541    8015    906     64   3653\n5.5           1783     172      7    4656    3757    177      2   2682",
      "text/html": "<div>\n<style scoped>\n    .dataframe tbody tr th:only-of-type {\n        vertical-align: middle;\n    }\n\n    .dataframe tbody tr th {\n        vertical-align: top;\n    }\n\n    .dataframe thead tr th {\n        text-align: left;\n    }\n\n    .dataframe thead tr:last-of-type th {\n        text-align: right;\n    }\n</style>\n<table border=\"1\" class=\"dataframe\">\n  <thead>\n    <tr>\n      <th></th>\n      <th colspan=\"4\" halign=\"left\">RDB1</th>\n      <th colspan=\"4\" halign=\"left\">RDB2</th>\n    </tr>\n    <tr>\n      <th></th>\n      <th>TP</th>\n      <th>TN</th>\n      <th>FP</th>\n      <th>FN</th>\n      <th>TP</th>\n      <th>TN</th>\n      <th>FP</th>\n      <th>FN</th>\n    </tr>\n    <tr>\n      <th>topologies</th>\n      <th></th>\n      <th></th>\n      <th></th>\n      <th></th>\n      <th></th>\n      <th></th>\n      <th></th>\n      <th></th>\n    </tr>\n  </thead>\n  <tbody>\n    <tr>\n      <th>3.1</th>\n      <td>21800</td>\n      <td>23678</td>\n      <td>1469</td>\n      <td>24400</td>\n      <td>37140</td>\n      <td>12389</td>\n      <td>12758</td>\n      <td>9060</td>\n    </tr>\n    <tr>\n      <th>3.2</th>\n      <td>25852</td>\n      <td>8691</td>\n      <td>466</td>\n      <td>24801</td>\n      <td>36120</td>\n      <td>6589</td>\n      <td>2568</td>\n      <td>14533</td>\n    </tr>\n    <tr>\n      <th>3.3</th>\n      <td>143962</td>\n      <td>105461</td>\n      <td>16938</td>\n      <td>133984</td>\n      <td>241743</td>\n      <td>53277</td>\n      <td>69122</td>\n      <td>36203</td>\n    </tr>\n    <tr>\n      <th>3.4</th>\n      <td>3866</td>\n      <td>8736</td>\n      <td>411</td>\n      <td>6990</td>\n      <td>8528</td>\n      <td>4776</td>\n      <td>4371</td>\n      <td>2328</td>\n    </tr>\n    <tr>\n      <th>3.6</th>\n      <td>0</td>\n      <td>222</td>\n      <td>0</td>\n      <td>21944</td>\n      <td>17145</td>\n      <td>186</td>\n      <td>36</td>\n      <td>4799</td>\n    </tr>\n    <tr>\n      <th>4.1</th>\n      <td>73809</td>\n      <td>35322</td>\n      <td>6204</td>\n      <td>76248</td>\n      <td>105108</td>\n      <td>22665</td>\n      <td>18861</td>\n      <td>44949</td>\n    </tr>\n    <tr>\n      <th>4.10</th>\n      <td>1699</td>\n      <td>90</td>\n      <td>17</td>\n      <td>1097</td>\n      <td>1122</td>\n      <td>94</td>\n      <td>13</td>\n      <td>1674</td>\n    </tr>\n    <tr>\n      <th>4.2</th>\n      <td>28166</td>\n      <td>16777</td>\n      <td>2247</td>\n      <td>47295</td>\n      <td>51967</td>\n      <td>10038</td>\n      <td>8986</td>\n      <td>23494</td>\n    </tr>\n    <tr>\n      <th>4.3</th>\n      <td>268</td>\n      <td>754</td>\n      <td>110</td>\n      <td>626</td>\n      <td>351</td>\n      <td>430</td>\n      <td>434</td>\n      <td>543</td>\n    </tr>\n    <tr>\n      <th>4.4</th>\n      <td>102964</td>\n      <td>39899</td>\n      <td>3794</td>\n      <td>147209</td>\n      <td>178547</td>\n      <td>31543</td>\n      <td>12150</td>\n      <td>71626</td>\n    </tr>\n    <tr>\n      <th>4.5</th>\n      <td>13328</td>\n      <td>1483</td>\n      <td>41</td>\n      <td>18208</td>\n      <td>25860</td>\n      <td>1289</td>\n      <td>235</td>\n      <td>5676</td>\n    </tr>\n    <tr>\n      <th>4.6</th>\n      <td>6331</td>\n      <td>823</td>\n      <td>271</td>\n      <td>2016</td>\n      <td>6435</td>\n      <td>698</td>\n      <td>396</td>\n      <td>1912</td>\n    </tr>\n    <tr>\n      <th>4.7</th>\n      <td>224</td>\n      <td>0</td>\n      <td>1</td>\n      <td>0</td>\n      <td>108</td>\n      <td>1</td>\n      <td>0</td>\n      <td>116</td>\n    </tr>\n    <tr>\n      <th>4.9</th>\n      <td>5780</td>\n      <td>1915</td>\n      <td>370</td>\n      <td>1279</td>\n      <td>5041</td>\n      <td>1324</td>\n      <td>961</td>\n      <td>2018</td>\n    </tr>\n    <tr>\n      <th>5.1</th>\n      <td>753</td>\n      <td>10</td>\n      <td>11</td>\n      <td>492</td>\n      <td>825</td>\n      <td>9</td>\n      <td>12</td>\n      <td>420</td>\n    </tr>\n    <tr>\n      <th>5.2</th>\n      <td>3558</td>\n      <td>646</td>\n      <td>20</td>\n      <td>3651</td>\n      <td>5439</td>\n      <td>377</td>\n      <td>289</td>\n      <td>1770</td>\n    </tr>\n    <tr>\n      <th>5.3</th>\n      <td>1443</td>\n      <td>138</td>\n      <td>8</td>\n      <td>2062</td>\n      <td>2317</td>\n      <td>132</td>\n      <td>14</td>\n      <td>1188</td>\n    </tr>\n    <tr>\n      <th>5.4</th>\n      <td>4127</td>\n      <td>861</td>\n      <td>109</td>\n      <td>7541</td>\n      <td>8015</td>\n      <td>906</td>\n      <td>64</td>\n      <td>3653</td>\n    </tr>\n    <tr>\n      <th>5.5</th>\n      <td>1783</td>\n      <td>172</td>\n      <td>7</td>\n      <td>4656</td>\n      <td>3757</td>\n      <td>177</td>\n      <td>2</td>\n      <td>2682</td>\n    </tr>\n  </tbody>\n</table>\n</div>"
     },
     "execution_count": 76,
     "metadata": {},
     "output_type": "execute_result"
    }
   ],
   "source": [
    "# PLOTS: GROUP BY TOPOLOGY, CALC METRICS AND PLOT\n",
    "\n",
    "# remove the ones with 2 topologies definition for simplification\n",
    "df_topologies = df[~df[\"topologies\"].astype(str).str.contains(';')]\n",
    "df_topologies = df_topologies[df_topologies[\"topologies\"].notna()]\n",
    "df_topologies['topologies'] = df_topologies['topologies'].astype(str)\n",
    "df_top = df_topologies.groupby(['topologies']).agg({'TP_1': 'sum', 'TN_1': 'sum', 'FP_1': 'sum', 'FN_1': 'sum', 'TP_2': 'sum', 'TN_2': 'sum', 'FP_2': 'sum', 'FN_2': 'sum'})\n",
    "\n",
    "\n",
    "df_top.columns=pd.MultiIndex.from_arrays([['RDB1', 'RDB1', 'RDB1', 'RDB1', 'RDB2', 'RDB2', 'RDB2', 'RDB2'], ['TP', 'TN', 'FP', 'FN', 'TP', 'TN', 'FP', 'FN']])\n",
    "df_top\n"
   ],
   "metadata": {
    "collapsed": false,
    "ExecuteTime": {
     "end_time": "2023-05-17T14:04:07.934079405Z",
     "start_time": "2023-05-17T14:04:06.833486544Z"
    }
   }
  },
  {
   "cell_type": "code",
   "execution_count": 77,
   "outputs": [
    {
     "data": {
      "text/plain": "      0       1       2      3       4         5         6         7   \\\n0    3.1   21800   23678   1469   24400  0.706722  0.936869  0.471861   \n1    3.2   25852    8691    466   24801  0.729742  0.982293  0.510375   \n2    3.3  143962  105461  16938  133984  0.689783  0.894730  0.517950   \n3    3.4    3866    8736    411    6990  0.655592  0.903905  0.356116   \n4    3.6       0     222      0   21944  0.500000  0.000000  0.000000   \n5    4.1   73809   35322   6204   76248  0.671236  0.922463  0.491873   \n6   4.10    1699      90     17    1097  0.724388  0.990093  0.607654   \n7    4.2   28166   16777   2247   47295  0.627569  0.926117  0.373252   \n8    4.3     268     754    110     626  0.586231  0.708995  0.299776   \n9    4.4  102964   39899   3794  147209  0.662369  0.964462  0.411571   \n10   4.5   13328    1483     41   18208  0.697863  0.996933  0.422628   \n11   4.6    6331     823    271    2016  0.755381  0.958952  0.758476   \n12   4.7     224       0      1       0  0.500000  0.995556  1.000000   \n13   4.9    5780    1915    370    1279  0.828444  0.939837  0.818813   \n14   5.1     753      10     11     492  0.540505  0.985602  0.604819   \n15   5.2    3558     646     20    3651  0.731760  0.994410  0.493550   \n16   5.3    1443     138      8    2062  0.678452  0.994487  0.411698   \n17   5.4    4127     861    109    7541  0.620666  0.974268  0.353702   \n18   5.5    1783     172      7    4656  0.618900  0.996089  0.276906   \n\n          8         9   ...      11     12     13     14        15        16  \\\n0   0.941583  0.627618  ...   37140  12389  12758   9060  0.648280  0.744318   \n1   0.949110  0.671734  ...   36120   6589   2568  14533  0.716323  0.933623   \n2   0.861617  0.656093  ...  241743  53277  69122  36203  0.652511  0.777646   \n3   0.955067  0.510936  ...    8528   4776   4371   2328  0.653847  0.661137   \n4   1.000000  0.000000  ...   17145    186     36   4799  0.809572  0.997905   \n5   0.850600  0.641622  ...  105108  22665  18861  44949  0.623128  0.847857   \n6   0.841121  0.753103  ...    1122     94     13   1674  0.639896  0.988546   \n7   0.881886  0.532066  ...   51967  10038   8986  23494  0.608155  0.852575   \n8   0.872685  0.421384  ...     351    430    434    543  0.445151  0.447134   \n9   0.913167  0.576941  ...  178547  31543  12150  71626  0.717809  0.936286   \n10  0.973097  0.593609  ...   25860   1289    235   5676  0.832908  0.990994   \n11  0.752285  0.847013  ...    6435    698    396   1912  0.704481  0.942029   \n12  0.000000  0.997773  ...     108      1      0    116  0.741071  1.000000   \n13  0.838074  0.875161  ...    5041   1324    961   2018  0.646777  0.839887   \n14  0.476190  0.749627  ...     825      9     12    420  0.545611  0.985663   \n15  0.969970  0.659683  ...    5439    377    289   1770  0.660270  0.949546   \n16  0.945205  0.582324  ...    2317    132     14   1188  0.782583  0.993994   \n17  0.887629  0.518989  ...    8015    906     64   3653  0.810471  0.992078   \n18  0.960894  0.433345  ...    3757    177      2   2682  0.786151  0.999468   \n\n          17        18        19        20  \n0   0.803896  0.492663  0.772961  0.308980  \n1   0.713087  0.719559  0.808587  0.325954  \n2   0.869748  0.435273  0.821123  0.337326  \n3   0.785556  0.522138  0.717996  0.320306  \n4   0.781307  0.837838  0.876422  0.147662  \n5   0.700454  0.545803  0.767139  0.212325  \n6   0.401288  0.878505  0.570847  0.108033  \n7   0.688660  0.527649  0.761901  0.181285  \n8   0.392617  0.497685  0.418106 -0.110314  \n9   0.713694  0.721923  0.809976  0.324702  \n10  0.820015  0.845801  0.897434  0.342382  \n11  0.770936  0.638026  0.847938  0.292680  \n12  0.482143  1.000000  0.650602  0.064194  \n13  0.714124  0.579431  0.771916  0.263241  \n14  0.662651  0.428571  0.792507  0.024615  \n15  0.754474  0.566066  0.840844  0.200281  \n16  0.661056  0.904110  0.794037  0.230482  \n17  0.686921  0.934021  0.811769  0.344209  \n18  0.583476  0.988827  0.736811  0.187421  \n\n[19 rows x 21 columns]",
      "text/html": "<div>\n<style scoped>\n    .dataframe tbody tr th:only-of-type {\n        vertical-align: middle;\n    }\n\n    .dataframe tbody tr th {\n        vertical-align: top;\n    }\n\n    .dataframe thead th {\n        text-align: right;\n    }\n</style>\n<table border=\"1\" class=\"dataframe\">\n  <thead>\n    <tr style=\"text-align: right;\">\n      <th></th>\n      <th>0</th>\n      <th>1</th>\n      <th>2</th>\n      <th>3</th>\n      <th>4</th>\n      <th>5</th>\n      <th>6</th>\n      <th>7</th>\n      <th>8</th>\n      <th>9</th>\n      <th>...</th>\n      <th>11</th>\n      <th>12</th>\n      <th>13</th>\n      <th>14</th>\n      <th>15</th>\n      <th>16</th>\n      <th>17</th>\n      <th>18</th>\n      <th>19</th>\n      <th>20</th>\n    </tr>\n  </thead>\n  <tbody>\n    <tr>\n      <th>0</th>\n      <td>3.1</td>\n      <td>21800</td>\n      <td>23678</td>\n      <td>1469</td>\n      <td>24400</td>\n      <td>0.706722</td>\n      <td>0.936869</td>\n      <td>0.471861</td>\n      <td>0.941583</td>\n      <td>0.627618</td>\n      <td>...</td>\n      <td>37140</td>\n      <td>12389</td>\n      <td>12758</td>\n      <td>9060</td>\n      <td>0.648280</td>\n      <td>0.744318</td>\n      <td>0.803896</td>\n      <td>0.492663</td>\n      <td>0.772961</td>\n      <td>0.308980</td>\n    </tr>\n    <tr>\n      <th>1</th>\n      <td>3.2</td>\n      <td>25852</td>\n      <td>8691</td>\n      <td>466</td>\n      <td>24801</td>\n      <td>0.729742</td>\n      <td>0.982293</td>\n      <td>0.510375</td>\n      <td>0.949110</td>\n      <td>0.671734</td>\n      <td>...</td>\n      <td>36120</td>\n      <td>6589</td>\n      <td>2568</td>\n      <td>14533</td>\n      <td>0.716323</td>\n      <td>0.933623</td>\n      <td>0.713087</td>\n      <td>0.719559</td>\n      <td>0.808587</td>\n      <td>0.325954</td>\n    </tr>\n    <tr>\n      <th>2</th>\n      <td>3.3</td>\n      <td>143962</td>\n      <td>105461</td>\n      <td>16938</td>\n      <td>133984</td>\n      <td>0.689783</td>\n      <td>0.894730</td>\n      <td>0.517950</td>\n      <td>0.861617</td>\n      <td>0.656093</td>\n      <td>...</td>\n      <td>241743</td>\n      <td>53277</td>\n      <td>69122</td>\n      <td>36203</td>\n      <td>0.652511</td>\n      <td>0.777646</td>\n      <td>0.869748</td>\n      <td>0.435273</td>\n      <td>0.821123</td>\n      <td>0.337326</td>\n    </tr>\n    <tr>\n      <th>3</th>\n      <td>3.4</td>\n      <td>3866</td>\n      <td>8736</td>\n      <td>411</td>\n      <td>6990</td>\n      <td>0.655592</td>\n      <td>0.903905</td>\n      <td>0.356116</td>\n      <td>0.955067</td>\n      <td>0.510936</td>\n      <td>...</td>\n      <td>8528</td>\n      <td>4776</td>\n      <td>4371</td>\n      <td>2328</td>\n      <td>0.653847</td>\n      <td>0.661137</td>\n      <td>0.785556</td>\n      <td>0.522138</td>\n      <td>0.717996</td>\n      <td>0.320306</td>\n    </tr>\n    <tr>\n      <th>4</th>\n      <td>3.6</td>\n      <td>0</td>\n      <td>222</td>\n      <td>0</td>\n      <td>21944</td>\n      <td>0.500000</td>\n      <td>0.000000</td>\n      <td>0.000000</td>\n      <td>1.000000</td>\n      <td>0.000000</td>\n      <td>...</td>\n      <td>17145</td>\n      <td>186</td>\n      <td>36</td>\n      <td>4799</td>\n      <td>0.809572</td>\n      <td>0.997905</td>\n      <td>0.781307</td>\n      <td>0.837838</td>\n      <td>0.876422</td>\n      <td>0.147662</td>\n    </tr>\n    <tr>\n      <th>5</th>\n      <td>4.1</td>\n      <td>73809</td>\n      <td>35322</td>\n      <td>6204</td>\n      <td>76248</td>\n      <td>0.671236</td>\n      <td>0.922463</td>\n      <td>0.491873</td>\n      <td>0.850600</td>\n      <td>0.641622</td>\n      <td>...</td>\n      <td>105108</td>\n      <td>22665</td>\n      <td>18861</td>\n      <td>44949</td>\n      <td>0.623128</td>\n      <td>0.847857</td>\n      <td>0.700454</td>\n      <td>0.545803</td>\n      <td>0.767139</td>\n      <td>0.212325</td>\n    </tr>\n    <tr>\n      <th>6</th>\n      <td>4.10</td>\n      <td>1699</td>\n      <td>90</td>\n      <td>17</td>\n      <td>1097</td>\n      <td>0.724388</td>\n      <td>0.990093</td>\n      <td>0.607654</td>\n      <td>0.841121</td>\n      <td>0.753103</td>\n      <td>...</td>\n      <td>1122</td>\n      <td>94</td>\n      <td>13</td>\n      <td>1674</td>\n      <td>0.639896</td>\n      <td>0.988546</td>\n      <td>0.401288</td>\n      <td>0.878505</td>\n      <td>0.570847</td>\n      <td>0.108033</td>\n    </tr>\n    <tr>\n      <th>7</th>\n      <td>4.2</td>\n      <td>28166</td>\n      <td>16777</td>\n      <td>2247</td>\n      <td>47295</td>\n      <td>0.627569</td>\n      <td>0.926117</td>\n      <td>0.373252</td>\n      <td>0.881886</td>\n      <td>0.532066</td>\n      <td>...</td>\n      <td>51967</td>\n      <td>10038</td>\n      <td>8986</td>\n      <td>23494</td>\n      <td>0.608155</td>\n      <td>0.852575</td>\n      <td>0.688660</td>\n      <td>0.527649</td>\n      <td>0.761901</td>\n      <td>0.181285</td>\n    </tr>\n    <tr>\n      <th>8</th>\n      <td>4.3</td>\n      <td>268</td>\n      <td>754</td>\n      <td>110</td>\n      <td>626</td>\n      <td>0.586231</td>\n      <td>0.708995</td>\n      <td>0.299776</td>\n      <td>0.872685</td>\n      <td>0.421384</td>\n      <td>...</td>\n      <td>351</td>\n      <td>430</td>\n      <td>434</td>\n      <td>543</td>\n      <td>0.445151</td>\n      <td>0.447134</td>\n      <td>0.392617</td>\n      <td>0.497685</td>\n      <td>0.418106</td>\n      <td>-0.110314</td>\n    </tr>\n    <tr>\n      <th>9</th>\n      <td>4.4</td>\n      <td>102964</td>\n      <td>39899</td>\n      <td>3794</td>\n      <td>147209</td>\n      <td>0.662369</td>\n      <td>0.964462</td>\n      <td>0.411571</td>\n      <td>0.913167</td>\n      <td>0.576941</td>\n      <td>...</td>\n      <td>178547</td>\n      <td>31543</td>\n      <td>12150</td>\n      <td>71626</td>\n      <td>0.717809</td>\n      <td>0.936286</td>\n      <td>0.713694</td>\n      <td>0.721923</td>\n      <td>0.809976</td>\n      <td>0.324702</td>\n    </tr>\n    <tr>\n      <th>10</th>\n      <td>4.5</td>\n      <td>13328</td>\n      <td>1483</td>\n      <td>41</td>\n      <td>18208</td>\n      <td>0.697863</td>\n      <td>0.996933</td>\n      <td>0.422628</td>\n      <td>0.973097</td>\n      <td>0.593609</td>\n      <td>...</td>\n      <td>25860</td>\n      <td>1289</td>\n      <td>235</td>\n      <td>5676</td>\n      <td>0.832908</td>\n      <td>0.990994</td>\n      <td>0.820015</td>\n      <td>0.845801</td>\n      <td>0.897434</td>\n      <td>0.342382</td>\n    </tr>\n    <tr>\n      <th>11</th>\n      <td>4.6</td>\n      <td>6331</td>\n      <td>823</td>\n      <td>271</td>\n      <td>2016</td>\n      <td>0.755381</td>\n      <td>0.958952</td>\n      <td>0.758476</td>\n      <td>0.752285</td>\n      <td>0.847013</td>\n      <td>...</td>\n      <td>6435</td>\n      <td>698</td>\n      <td>396</td>\n      <td>1912</td>\n      <td>0.704481</td>\n      <td>0.942029</td>\n      <td>0.770936</td>\n      <td>0.638026</td>\n      <td>0.847938</td>\n      <td>0.292680</td>\n    </tr>\n    <tr>\n      <th>12</th>\n      <td>4.7</td>\n      <td>224</td>\n      <td>0</td>\n      <td>1</td>\n      <td>0</td>\n      <td>0.500000</td>\n      <td>0.995556</td>\n      <td>1.000000</td>\n      <td>0.000000</td>\n      <td>0.997773</td>\n      <td>...</td>\n      <td>108</td>\n      <td>1</td>\n      <td>0</td>\n      <td>116</td>\n      <td>0.741071</td>\n      <td>1.000000</td>\n      <td>0.482143</td>\n      <td>1.000000</td>\n      <td>0.650602</td>\n      <td>0.064194</td>\n    </tr>\n    <tr>\n      <th>13</th>\n      <td>4.9</td>\n      <td>5780</td>\n      <td>1915</td>\n      <td>370</td>\n      <td>1279</td>\n      <td>0.828444</td>\n      <td>0.939837</td>\n      <td>0.818813</td>\n      <td>0.838074</td>\n      <td>0.875161</td>\n      <td>...</td>\n      <td>5041</td>\n      <td>1324</td>\n      <td>961</td>\n      <td>2018</td>\n      <td>0.646777</td>\n      <td>0.839887</td>\n      <td>0.714124</td>\n      <td>0.579431</td>\n      <td>0.771916</td>\n      <td>0.263241</td>\n    </tr>\n    <tr>\n      <th>14</th>\n      <td>5.1</td>\n      <td>753</td>\n      <td>10</td>\n      <td>11</td>\n      <td>492</td>\n      <td>0.540505</td>\n      <td>0.985602</td>\n      <td>0.604819</td>\n      <td>0.476190</td>\n      <td>0.749627</td>\n      <td>...</td>\n      <td>825</td>\n      <td>9</td>\n      <td>12</td>\n      <td>420</td>\n      <td>0.545611</td>\n      <td>0.985663</td>\n      <td>0.662651</td>\n      <td>0.428571</td>\n      <td>0.792507</td>\n      <td>0.024615</td>\n    </tr>\n    <tr>\n      <th>15</th>\n      <td>5.2</td>\n      <td>3558</td>\n      <td>646</td>\n      <td>20</td>\n      <td>3651</td>\n      <td>0.731760</td>\n      <td>0.994410</td>\n      <td>0.493550</td>\n      <td>0.969970</td>\n      <td>0.659683</td>\n      <td>...</td>\n      <td>5439</td>\n      <td>377</td>\n      <td>289</td>\n      <td>1770</td>\n      <td>0.660270</td>\n      <td>0.949546</td>\n      <td>0.754474</td>\n      <td>0.566066</td>\n      <td>0.840844</td>\n      <td>0.200281</td>\n    </tr>\n    <tr>\n      <th>16</th>\n      <td>5.3</td>\n      <td>1443</td>\n      <td>138</td>\n      <td>8</td>\n      <td>2062</td>\n      <td>0.678452</td>\n      <td>0.994487</td>\n      <td>0.411698</td>\n      <td>0.945205</td>\n      <td>0.582324</td>\n      <td>...</td>\n      <td>2317</td>\n      <td>132</td>\n      <td>14</td>\n      <td>1188</td>\n      <td>0.782583</td>\n      <td>0.993994</td>\n      <td>0.661056</td>\n      <td>0.904110</td>\n      <td>0.794037</td>\n      <td>0.230482</td>\n    </tr>\n    <tr>\n      <th>17</th>\n      <td>5.4</td>\n      <td>4127</td>\n      <td>861</td>\n      <td>109</td>\n      <td>7541</td>\n      <td>0.620666</td>\n      <td>0.974268</td>\n      <td>0.353702</td>\n      <td>0.887629</td>\n      <td>0.518989</td>\n      <td>...</td>\n      <td>8015</td>\n      <td>906</td>\n      <td>64</td>\n      <td>3653</td>\n      <td>0.810471</td>\n      <td>0.992078</td>\n      <td>0.686921</td>\n      <td>0.934021</td>\n      <td>0.811769</td>\n      <td>0.344209</td>\n    </tr>\n    <tr>\n      <th>18</th>\n      <td>5.5</td>\n      <td>1783</td>\n      <td>172</td>\n      <td>7</td>\n      <td>4656</td>\n      <td>0.618900</td>\n      <td>0.996089</td>\n      <td>0.276906</td>\n      <td>0.960894</td>\n      <td>0.433345</td>\n      <td>...</td>\n      <td>3757</td>\n      <td>177</td>\n      <td>2</td>\n      <td>2682</td>\n      <td>0.786151</td>\n      <td>0.999468</td>\n      <td>0.583476</td>\n      <td>0.988827</td>\n      <td>0.736811</td>\n      <td>0.187421</td>\n    </tr>\n  </tbody>\n</table>\n<p>19 rows × 21 columns</p>\n</div>"
     },
     "execution_count": 77,
     "metadata": {},
     "output_type": "execute_result"
    }
   ],
   "source": [
    "# apply calc_metrics function to each row for both RDB1 and RDB2\n",
    "data = []\n",
    "for index, row in df_top.iterrows():\n",
    "    data.append([index, *row[:4], *calc_metrics(*row['RDB1']), *row[4:], *calc_metrics(*row['RDB2'])])\n",
    "df_top = pd.DataFrame(data)\n",
    "df_top"
   ],
   "metadata": {
    "collapsed": false,
    "ExecuteTime": {
     "end_time": "2023-05-17T14:04:09.154767311Z",
     "start_time": "2023-05-17T14:04:09.114817111Z"
    }
   }
  },
  {
   "cell_type": "code",
   "execution_count": 78,
   "outputs": [
    {
     "data": {
      "text/plain": "   topologies       1       2      3       4         5         6         7  \\\n0         3.1   21800   23678   1469   24400  0.706722  0.936869  0.471861   \n1         3.2   25852    8691    466   24801  0.729742  0.982293  0.510375   \n2         3.3  143962  105461  16938  133984  0.689783  0.894730  0.517950   \n3         3.4    3866    8736    411    6990  0.655592  0.903905  0.356116   \n4         3.6       0     222      0   21944  0.500000  0.000000  0.000000   \n5         4.1   73809   35322   6204   76248  0.671236  0.922463  0.491873   \n7         4.2   28166   16777   2247   47295  0.627569  0.926117  0.373252   \n8         4.3     268     754    110     626  0.586231  0.708995  0.299776   \n9         4.4  102964   39899   3794  147209  0.662369  0.964462  0.411571   \n10        4.5   13328    1483     41   18208  0.697863  0.996933  0.422628   \n11        4.6    6331     823    271    2016  0.755381  0.958952  0.758476   \n12        4.7     224       0      1       0  0.500000  0.995556  1.000000   \n13        4.9    5780    1915    370    1279  0.828444  0.939837  0.818813   \n6        4.10    1699      90     17    1097  0.724388  0.990093  0.607654   \n14        5.1     753      10     11     492  0.540505  0.985602  0.604819   \n15        5.2    3558     646     20    3651  0.731760  0.994410  0.493550   \n16        5.3    1443     138      8    2062  0.678452  0.994487  0.411698   \n17        5.4    4127     861    109    7541  0.620666  0.974268  0.353702   \n18        5.5    1783     172      7    4656  0.618900  0.996089  0.276906   \n\n           8         9  ...     13     14        15        16        17  \\\n0   0.941583  0.627618  ...  12758   9060  0.648280  0.744318  0.803896   \n1   0.949110  0.671734  ...   2568  14533  0.716323  0.933623  0.713087   \n2   0.861617  0.656093  ...  69122  36203  0.652511  0.777646  0.869748   \n3   0.955067  0.510936  ...   4371   2328  0.653847  0.661137  0.785556   \n4   1.000000  0.000000  ...     36   4799  0.809572  0.997905  0.781307   \n5   0.850600  0.641622  ...  18861  44949  0.623128  0.847857  0.700454   \n7   0.881886  0.532066  ...   8986  23494  0.608155  0.852575  0.688660   \n8   0.872685  0.421384  ...    434    543  0.445151  0.447134  0.392617   \n9   0.913167  0.576941  ...  12150  71626  0.717809  0.936286  0.713694   \n10  0.973097  0.593609  ...    235   5676  0.832908  0.990994  0.820015   \n11  0.752285  0.847013  ...    396   1912  0.704481  0.942029  0.770936   \n12  0.000000  0.997773  ...      0    116  0.741071  1.000000  0.482143   \n13  0.838074  0.875161  ...    961   2018  0.646777  0.839887  0.714124   \n6   0.841121  0.753103  ...     13   1674  0.639896  0.988546  0.401288   \n14  0.476190  0.749627  ...     12    420  0.545611  0.985663  0.662651   \n15  0.969970  0.659683  ...    289   1770  0.660270  0.949546  0.754474   \n16  0.945205  0.582324  ...     14   1188  0.782583  0.993994  0.661056   \n17  0.887629  0.518989  ...     64   3653  0.810471  0.992078  0.686921   \n18  0.960894  0.433345  ...      2   2682  0.786151  0.999468  0.583476   \n\n          18        19        20  c   t  \n0   0.492663  0.772961  0.308980  3   1  \n1   0.719559  0.808587  0.325954  3   2  \n2   0.435273  0.821123  0.337326  3   3  \n3   0.522138  0.717996  0.320306  3   4  \n4   0.837838  0.876422  0.147662  3   6  \n5   0.545803  0.767139  0.212325  4   1  \n7   0.527649  0.761901  0.181285  4   2  \n8   0.497685  0.418106 -0.110314  4   3  \n9   0.721923  0.809976  0.324702  4   4  \n10  0.845801  0.897434  0.342382  4   5  \n11  0.638026  0.847938  0.292680  4   6  \n12  1.000000  0.650602  0.064194  4   7  \n13  0.579431  0.771916  0.263241  4   9  \n6   0.878505  0.570847  0.108033  4  10  \n14  0.428571  0.792507  0.024615  5   1  \n15  0.566066  0.840844  0.200281  5   2  \n16  0.904110  0.794037  0.230482  5   3  \n17  0.934021  0.811769  0.344209  5   4  \n18  0.988827  0.736811  0.187421  5   5  \n\n[19 rows x 23 columns]",
      "text/html": "<div>\n<style scoped>\n    .dataframe tbody tr th:only-of-type {\n        vertical-align: middle;\n    }\n\n    .dataframe tbody tr th {\n        vertical-align: top;\n    }\n\n    .dataframe thead th {\n        text-align: right;\n    }\n</style>\n<table border=\"1\" class=\"dataframe\">\n  <thead>\n    <tr style=\"text-align: right;\">\n      <th></th>\n      <th>topologies</th>\n      <th>1</th>\n      <th>2</th>\n      <th>3</th>\n      <th>4</th>\n      <th>5</th>\n      <th>6</th>\n      <th>7</th>\n      <th>8</th>\n      <th>9</th>\n      <th>...</th>\n      <th>13</th>\n      <th>14</th>\n      <th>15</th>\n      <th>16</th>\n      <th>17</th>\n      <th>18</th>\n      <th>19</th>\n      <th>20</th>\n      <th>c</th>\n      <th>t</th>\n    </tr>\n  </thead>\n  <tbody>\n    <tr>\n      <th>0</th>\n      <td>3.1</td>\n      <td>21800</td>\n      <td>23678</td>\n      <td>1469</td>\n      <td>24400</td>\n      <td>0.706722</td>\n      <td>0.936869</td>\n      <td>0.471861</td>\n      <td>0.941583</td>\n      <td>0.627618</td>\n      <td>...</td>\n      <td>12758</td>\n      <td>9060</td>\n      <td>0.648280</td>\n      <td>0.744318</td>\n      <td>0.803896</td>\n      <td>0.492663</td>\n      <td>0.772961</td>\n      <td>0.308980</td>\n      <td>3</td>\n      <td>1</td>\n    </tr>\n    <tr>\n      <th>1</th>\n      <td>3.2</td>\n      <td>25852</td>\n      <td>8691</td>\n      <td>466</td>\n      <td>24801</td>\n      <td>0.729742</td>\n      <td>0.982293</td>\n      <td>0.510375</td>\n      <td>0.949110</td>\n      <td>0.671734</td>\n      <td>...</td>\n      <td>2568</td>\n      <td>14533</td>\n      <td>0.716323</td>\n      <td>0.933623</td>\n      <td>0.713087</td>\n      <td>0.719559</td>\n      <td>0.808587</td>\n      <td>0.325954</td>\n      <td>3</td>\n      <td>2</td>\n    </tr>\n    <tr>\n      <th>2</th>\n      <td>3.3</td>\n      <td>143962</td>\n      <td>105461</td>\n      <td>16938</td>\n      <td>133984</td>\n      <td>0.689783</td>\n      <td>0.894730</td>\n      <td>0.517950</td>\n      <td>0.861617</td>\n      <td>0.656093</td>\n      <td>...</td>\n      <td>69122</td>\n      <td>36203</td>\n      <td>0.652511</td>\n      <td>0.777646</td>\n      <td>0.869748</td>\n      <td>0.435273</td>\n      <td>0.821123</td>\n      <td>0.337326</td>\n      <td>3</td>\n      <td>3</td>\n    </tr>\n    <tr>\n      <th>3</th>\n      <td>3.4</td>\n      <td>3866</td>\n      <td>8736</td>\n      <td>411</td>\n      <td>6990</td>\n      <td>0.655592</td>\n      <td>0.903905</td>\n      <td>0.356116</td>\n      <td>0.955067</td>\n      <td>0.510936</td>\n      <td>...</td>\n      <td>4371</td>\n      <td>2328</td>\n      <td>0.653847</td>\n      <td>0.661137</td>\n      <td>0.785556</td>\n      <td>0.522138</td>\n      <td>0.717996</td>\n      <td>0.320306</td>\n      <td>3</td>\n      <td>4</td>\n    </tr>\n    <tr>\n      <th>4</th>\n      <td>3.6</td>\n      <td>0</td>\n      <td>222</td>\n      <td>0</td>\n      <td>21944</td>\n      <td>0.500000</td>\n      <td>0.000000</td>\n      <td>0.000000</td>\n      <td>1.000000</td>\n      <td>0.000000</td>\n      <td>...</td>\n      <td>36</td>\n      <td>4799</td>\n      <td>0.809572</td>\n      <td>0.997905</td>\n      <td>0.781307</td>\n      <td>0.837838</td>\n      <td>0.876422</td>\n      <td>0.147662</td>\n      <td>3</td>\n      <td>6</td>\n    </tr>\n    <tr>\n      <th>5</th>\n      <td>4.1</td>\n      <td>73809</td>\n      <td>35322</td>\n      <td>6204</td>\n      <td>76248</td>\n      <td>0.671236</td>\n      <td>0.922463</td>\n      <td>0.491873</td>\n      <td>0.850600</td>\n      <td>0.641622</td>\n      <td>...</td>\n      <td>18861</td>\n      <td>44949</td>\n      <td>0.623128</td>\n      <td>0.847857</td>\n      <td>0.700454</td>\n      <td>0.545803</td>\n      <td>0.767139</td>\n      <td>0.212325</td>\n      <td>4</td>\n      <td>1</td>\n    </tr>\n    <tr>\n      <th>7</th>\n      <td>4.2</td>\n      <td>28166</td>\n      <td>16777</td>\n      <td>2247</td>\n      <td>47295</td>\n      <td>0.627569</td>\n      <td>0.926117</td>\n      <td>0.373252</td>\n      <td>0.881886</td>\n      <td>0.532066</td>\n      <td>...</td>\n      <td>8986</td>\n      <td>23494</td>\n      <td>0.608155</td>\n      <td>0.852575</td>\n      <td>0.688660</td>\n      <td>0.527649</td>\n      <td>0.761901</td>\n      <td>0.181285</td>\n      <td>4</td>\n      <td>2</td>\n    </tr>\n    <tr>\n      <th>8</th>\n      <td>4.3</td>\n      <td>268</td>\n      <td>754</td>\n      <td>110</td>\n      <td>626</td>\n      <td>0.586231</td>\n      <td>0.708995</td>\n      <td>0.299776</td>\n      <td>0.872685</td>\n      <td>0.421384</td>\n      <td>...</td>\n      <td>434</td>\n      <td>543</td>\n      <td>0.445151</td>\n      <td>0.447134</td>\n      <td>0.392617</td>\n      <td>0.497685</td>\n      <td>0.418106</td>\n      <td>-0.110314</td>\n      <td>4</td>\n      <td>3</td>\n    </tr>\n    <tr>\n      <th>9</th>\n      <td>4.4</td>\n      <td>102964</td>\n      <td>39899</td>\n      <td>3794</td>\n      <td>147209</td>\n      <td>0.662369</td>\n      <td>0.964462</td>\n      <td>0.411571</td>\n      <td>0.913167</td>\n      <td>0.576941</td>\n      <td>...</td>\n      <td>12150</td>\n      <td>71626</td>\n      <td>0.717809</td>\n      <td>0.936286</td>\n      <td>0.713694</td>\n      <td>0.721923</td>\n      <td>0.809976</td>\n      <td>0.324702</td>\n      <td>4</td>\n      <td>4</td>\n    </tr>\n    <tr>\n      <th>10</th>\n      <td>4.5</td>\n      <td>13328</td>\n      <td>1483</td>\n      <td>41</td>\n      <td>18208</td>\n      <td>0.697863</td>\n      <td>0.996933</td>\n      <td>0.422628</td>\n      <td>0.973097</td>\n      <td>0.593609</td>\n      <td>...</td>\n      <td>235</td>\n      <td>5676</td>\n      <td>0.832908</td>\n      <td>0.990994</td>\n      <td>0.820015</td>\n      <td>0.845801</td>\n      <td>0.897434</td>\n      <td>0.342382</td>\n      <td>4</td>\n      <td>5</td>\n    </tr>\n    <tr>\n      <th>11</th>\n      <td>4.6</td>\n      <td>6331</td>\n      <td>823</td>\n      <td>271</td>\n      <td>2016</td>\n      <td>0.755381</td>\n      <td>0.958952</td>\n      <td>0.758476</td>\n      <td>0.752285</td>\n      <td>0.847013</td>\n      <td>...</td>\n      <td>396</td>\n      <td>1912</td>\n      <td>0.704481</td>\n      <td>0.942029</td>\n      <td>0.770936</td>\n      <td>0.638026</td>\n      <td>0.847938</td>\n      <td>0.292680</td>\n      <td>4</td>\n      <td>6</td>\n    </tr>\n    <tr>\n      <th>12</th>\n      <td>4.7</td>\n      <td>224</td>\n      <td>0</td>\n      <td>1</td>\n      <td>0</td>\n      <td>0.500000</td>\n      <td>0.995556</td>\n      <td>1.000000</td>\n      <td>0.000000</td>\n      <td>0.997773</td>\n      <td>...</td>\n      <td>0</td>\n      <td>116</td>\n      <td>0.741071</td>\n      <td>1.000000</td>\n      <td>0.482143</td>\n      <td>1.000000</td>\n      <td>0.650602</td>\n      <td>0.064194</td>\n      <td>4</td>\n      <td>7</td>\n    </tr>\n    <tr>\n      <th>13</th>\n      <td>4.9</td>\n      <td>5780</td>\n      <td>1915</td>\n      <td>370</td>\n      <td>1279</td>\n      <td>0.828444</td>\n      <td>0.939837</td>\n      <td>0.818813</td>\n      <td>0.838074</td>\n      <td>0.875161</td>\n      <td>...</td>\n      <td>961</td>\n      <td>2018</td>\n      <td>0.646777</td>\n      <td>0.839887</td>\n      <td>0.714124</td>\n      <td>0.579431</td>\n      <td>0.771916</td>\n      <td>0.263241</td>\n      <td>4</td>\n      <td>9</td>\n    </tr>\n    <tr>\n      <th>6</th>\n      <td>4.10</td>\n      <td>1699</td>\n      <td>90</td>\n      <td>17</td>\n      <td>1097</td>\n      <td>0.724388</td>\n      <td>0.990093</td>\n      <td>0.607654</td>\n      <td>0.841121</td>\n      <td>0.753103</td>\n      <td>...</td>\n      <td>13</td>\n      <td>1674</td>\n      <td>0.639896</td>\n      <td>0.988546</td>\n      <td>0.401288</td>\n      <td>0.878505</td>\n      <td>0.570847</td>\n      <td>0.108033</td>\n      <td>4</td>\n      <td>10</td>\n    </tr>\n    <tr>\n      <th>14</th>\n      <td>5.1</td>\n      <td>753</td>\n      <td>10</td>\n      <td>11</td>\n      <td>492</td>\n      <td>0.540505</td>\n      <td>0.985602</td>\n      <td>0.604819</td>\n      <td>0.476190</td>\n      <td>0.749627</td>\n      <td>...</td>\n      <td>12</td>\n      <td>420</td>\n      <td>0.545611</td>\n      <td>0.985663</td>\n      <td>0.662651</td>\n      <td>0.428571</td>\n      <td>0.792507</td>\n      <td>0.024615</td>\n      <td>5</td>\n      <td>1</td>\n    </tr>\n    <tr>\n      <th>15</th>\n      <td>5.2</td>\n      <td>3558</td>\n      <td>646</td>\n      <td>20</td>\n      <td>3651</td>\n      <td>0.731760</td>\n      <td>0.994410</td>\n      <td>0.493550</td>\n      <td>0.969970</td>\n      <td>0.659683</td>\n      <td>...</td>\n      <td>289</td>\n      <td>1770</td>\n      <td>0.660270</td>\n      <td>0.949546</td>\n      <td>0.754474</td>\n      <td>0.566066</td>\n      <td>0.840844</td>\n      <td>0.200281</td>\n      <td>5</td>\n      <td>2</td>\n    </tr>\n    <tr>\n      <th>16</th>\n      <td>5.3</td>\n      <td>1443</td>\n      <td>138</td>\n      <td>8</td>\n      <td>2062</td>\n      <td>0.678452</td>\n      <td>0.994487</td>\n      <td>0.411698</td>\n      <td>0.945205</td>\n      <td>0.582324</td>\n      <td>...</td>\n      <td>14</td>\n      <td>1188</td>\n      <td>0.782583</td>\n      <td>0.993994</td>\n      <td>0.661056</td>\n      <td>0.904110</td>\n      <td>0.794037</td>\n      <td>0.230482</td>\n      <td>5</td>\n      <td>3</td>\n    </tr>\n    <tr>\n      <th>17</th>\n      <td>5.4</td>\n      <td>4127</td>\n      <td>861</td>\n      <td>109</td>\n      <td>7541</td>\n      <td>0.620666</td>\n      <td>0.974268</td>\n      <td>0.353702</td>\n      <td>0.887629</td>\n      <td>0.518989</td>\n      <td>...</td>\n      <td>64</td>\n      <td>3653</td>\n      <td>0.810471</td>\n      <td>0.992078</td>\n      <td>0.686921</td>\n      <td>0.934021</td>\n      <td>0.811769</td>\n      <td>0.344209</td>\n      <td>5</td>\n      <td>4</td>\n    </tr>\n    <tr>\n      <th>18</th>\n      <td>5.5</td>\n      <td>1783</td>\n      <td>172</td>\n      <td>7</td>\n      <td>4656</td>\n      <td>0.618900</td>\n      <td>0.996089</td>\n      <td>0.276906</td>\n      <td>0.960894</td>\n      <td>0.433345</td>\n      <td>...</td>\n      <td>2</td>\n      <td>2682</td>\n      <td>0.786151</td>\n      <td>0.999468</td>\n      <td>0.583476</td>\n      <td>0.988827</td>\n      <td>0.736811</td>\n      <td>0.187421</td>\n      <td>5</td>\n      <td>5</td>\n    </tr>\n  </tbody>\n</table>\n<p>19 rows × 23 columns</p>\n</div>"
     },
     "execution_count": 78,
     "metadata": {},
     "output_type": "execute_result"
    }
   ],
   "source": [
    "# # # plot\n",
    "df_top.rename(columns={0: 'topologies'}, inplace=True)\n",
    "df_top[['c', 't']] = df_top['topologies'].str.split('.', expand=True)\n",
    "df_top[\"t\"] = pd.to_numeric(df_top[\"t\"])\n",
    "df_top = df_top.sort_values(['c', 't'])\n",
    "df_top"
   ],
   "metadata": {
    "collapsed": false,
    "ExecuteTime": {
     "end_time": "2023-05-17T14:04:10.076741237Z",
     "start_time": "2023-05-17T14:04:10.069315811Z"
    }
   }
  },
  {
   "cell_type": "code",
   "execution_count": 79,
   "outputs": [
    {
     "data": {
      "text/plain": "           id    RDB1                                                       \\\n   topologies      TP      TN     FP      FN      bacc         p        se   \n0         3.1   21800   23678   1469   24400  0.706722  0.936869  0.471861   \n1         3.2   25852    8691    466   24801  0.729742  0.982293  0.510375   \n2         3.3  143962  105461  16938  133984  0.689783  0.894730  0.517950   \n3         3.4    3866    8736    411    6990  0.655592  0.903905  0.356116   \n4         3.6       0     222      0   21944  0.500000  0.000000  0.000000   \n5         4.1   73809   35322   6204   76248  0.671236  0.922463  0.491873   \n7         4.2   28166   16777   2247   47295  0.627569  0.926117  0.373252   \n8         4.3     268     754    110     626  0.586231  0.708995  0.299776   \n9         4.4  102964   39899   3794  147209  0.662369  0.964462  0.411571   \n10        4.5   13328    1483     41   18208  0.697863  0.996933  0.422628   \n11        4.6    6331     823    271    2016  0.755381  0.958952  0.758476   \n12        4.7     224       0      1       0  0.500000  0.995556  1.000000   \n13        4.9    5780    1915    370    1279  0.828444  0.939837  0.818813   \n6        4.10    1699      90     17    1097  0.724388  0.990093  0.607654   \n14        5.1     753      10     11     492  0.540505  0.985602  0.604819   \n15        5.2    3558     646     20    3651  0.731760  0.994410  0.493550   \n16        5.3    1443     138      8    2062  0.678452  0.994487  0.411698   \n17        5.4    4127     861    109    7541  0.620666  0.974268  0.353702   \n18        5.5    1783     172      7    4656  0.618900  0.996089  0.276906   \n\n                        ...   RDB2                                       \\\n          sp        f1  ...     FP     FN      bacc         p        se   \n0   0.941583  0.627618  ...  12758   9060  0.648280  0.744318  0.803896   \n1   0.949110  0.671734  ...   2568  14533  0.716323  0.933623  0.713087   \n2   0.861617  0.656093  ...  69122  36203  0.652511  0.777646  0.869748   \n3   0.955067  0.510936  ...   4371   2328  0.653847  0.661137  0.785556   \n4   1.000000  0.000000  ...     36   4799  0.809572  0.997905  0.781307   \n5   0.850600  0.641622  ...  18861  44949  0.623128  0.847857  0.700454   \n7   0.881886  0.532066  ...   8986  23494  0.608155  0.852575  0.688660   \n8   0.872685  0.421384  ...    434    543  0.445151  0.447134  0.392617   \n9   0.913167  0.576941  ...  12150  71626  0.717809  0.936286  0.713694   \n10  0.973097  0.593609  ...    235   5676  0.832908  0.990994  0.820015   \n11  0.752285  0.847013  ...    396   1912  0.704481  0.942029  0.770936   \n12  0.000000  0.997773  ...      0    116  0.741071  1.000000  0.482143   \n13  0.838074  0.875161  ...    961   2018  0.646777  0.839887  0.714124   \n6   0.841121  0.753103  ...     13   1674  0.639896  0.988546  0.401288   \n14  0.476190  0.749627  ...     12    420  0.545611  0.985663  0.662651   \n15  0.969970  0.659683  ...    289   1770  0.660270  0.949546  0.754474   \n16  0.945205  0.582324  ...     14   1188  0.782583  0.993994  0.661056   \n17  0.887629  0.518989  ...     64   3653  0.810471  0.992078  0.686921   \n18  0.960894  0.433345  ...      2   2682  0.786151  0.999468  0.583476   \n\n                                 id      \n          sp        f1       mcc  c   t  \n0   0.492663  0.772961  0.308980  3   1  \n1   0.719559  0.808587  0.325954  3   2  \n2   0.435273  0.821123  0.337326  3   3  \n3   0.522138  0.717996  0.320306  3   4  \n4   0.837838  0.876422  0.147662  3   6  \n5   0.545803  0.767139  0.212325  4   1  \n7   0.527649  0.761901  0.181285  4   2  \n8   0.497685  0.418106 -0.110314  4   3  \n9   0.721923  0.809976  0.324702  4   4  \n10  0.845801  0.897434  0.342382  4   5  \n11  0.638026  0.847938  0.292680  4   6  \n12  1.000000  0.650602  0.064194  4   7  \n13  0.579431  0.771916  0.263241  4   9  \n6   0.878505  0.570847  0.108033  4  10  \n14  0.428571  0.792507  0.024615  5   1  \n15  0.566066  0.840844  0.200281  5   2  \n16  0.904110  0.794037  0.230482  5   3  \n17  0.934021  0.811769  0.344209  5   4  \n18  0.988827  0.736811  0.187421  5   5  \n\n[19 rows x 23 columns]",
      "text/html": "<div>\n<style scoped>\n    .dataframe tbody tr th:only-of-type {\n        vertical-align: middle;\n    }\n\n    .dataframe tbody tr th {\n        vertical-align: top;\n    }\n\n    .dataframe thead tr th {\n        text-align: left;\n    }\n</style>\n<table border=\"1\" class=\"dataframe\">\n  <thead>\n    <tr>\n      <th></th>\n      <th>id</th>\n      <th colspan=\"9\" halign=\"left\">RDB1</th>\n      <th>...</th>\n      <th colspan=\"8\" halign=\"left\">RDB2</th>\n      <th colspan=\"2\" halign=\"left\">id</th>\n    </tr>\n    <tr>\n      <th></th>\n      <th>topologies</th>\n      <th>TP</th>\n      <th>TN</th>\n      <th>FP</th>\n      <th>FN</th>\n      <th>bacc</th>\n      <th>p</th>\n      <th>se</th>\n      <th>sp</th>\n      <th>f1</th>\n      <th>...</th>\n      <th>FP</th>\n      <th>FN</th>\n      <th>bacc</th>\n      <th>p</th>\n      <th>se</th>\n      <th>sp</th>\n      <th>f1</th>\n      <th>mcc</th>\n      <th>c</th>\n      <th>t</th>\n    </tr>\n  </thead>\n  <tbody>\n    <tr>\n      <th>0</th>\n      <td>3.1</td>\n      <td>21800</td>\n      <td>23678</td>\n      <td>1469</td>\n      <td>24400</td>\n      <td>0.706722</td>\n      <td>0.936869</td>\n      <td>0.471861</td>\n      <td>0.941583</td>\n      <td>0.627618</td>\n      <td>...</td>\n      <td>12758</td>\n      <td>9060</td>\n      <td>0.648280</td>\n      <td>0.744318</td>\n      <td>0.803896</td>\n      <td>0.492663</td>\n      <td>0.772961</td>\n      <td>0.308980</td>\n      <td>3</td>\n      <td>1</td>\n    </tr>\n    <tr>\n      <th>1</th>\n      <td>3.2</td>\n      <td>25852</td>\n      <td>8691</td>\n      <td>466</td>\n      <td>24801</td>\n      <td>0.729742</td>\n      <td>0.982293</td>\n      <td>0.510375</td>\n      <td>0.949110</td>\n      <td>0.671734</td>\n      <td>...</td>\n      <td>2568</td>\n      <td>14533</td>\n      <td>0.716323</td>\n      <td>0.933623</td>\n      <td>0.713087</td>\n      <td>0.719559</td>\n      <td>0.808587</td>\n      <td>0.325954</td>\n      <td>3</td>\n      <td>2</td>\n    </tr>\n    <tr>\n      <th>2</th>\n      <td>3.3</td>\n      <td>143962</td>\n      <td>105461</td>\n      <td>16938</td>\n      <td>133984</td>\n      <td>0.689783</td>\n      <td>0.894730</td>\n      <td>0.517950</td>\n      <td>0.861617</td>\n      <td>0.656093</td>\n      <td>...</td>\n      <td>69122</td>\n      <td>36203</td>\n      <td>0.652511</td>\n      <td>0.777646</td>\n      <td>0.869748</td>\n      <td>0.435273</td>\n      <td>0.821123</td>\n      <td>0.337326</td>\n      <td>3</td>\n      <td>3</td>\n    </tr>\n    <tr>\n      <th>3</th>\n      <td>3.4</td>\n      <td>3866</td>\n      <td>8736</td>\n      <td>411</td>\n      <td>6990</td>\n      <td>0.655592</td>\n      <td>0.903905</td>\n      <td>0.356116</td>\n      <td>0.955067</td>\n      <td>0.510936</td>\n      <td>...</td>\n      <td>4371</td>\n      <td>2328</td>\n      <td>0.653847</td>\n      <td>0.661137</td>\n      <td>0.785556</td>\n      <td>0.522138</td>\n      <td>0.717996</td>\n      <td>0.320306</td>\n      <td>3</td>\n      <td>4</td>\n    </tr>\n    <tr>\n      <th>4</th>\n      <td>3.6</td>\n      <td>0</td>\n      <td>222</td>\n      <td>0</td>\n      <td>21944</td>\n      <td>0.500000</td>\n      <td>0.000000</td>\n      <td>0.000000</td>\n      <td>1.000000</td>\n      <td>0.000000</td>\n      <td>...</td>\n      <td>36</td>\n      <td>4799</td>\n      <td>0.809572</td>\n      <td>0.997905</td>\n      <td>0.781307</td>\n      <td>0.837838</td>\n      <td>0.876422</td>\n      <td>0.147662</td>\n      <td>3</td>\n      <td>6</td>\n    </tr>\n    <tr>\n      <th>5</th>\n      <td>4.1</td>\n      <td>73809</td>\n      <td>35322</td>\n      <td>6204</td>\n      <td>76248</td>\n      <td>0.671236</td>\n      <td>0.922463</td>\n      <td>0.491873</td>\n      <td>0.850600</td>\n      <td>0.641622</td>\n      <td>...</td>\n      <td>18861</td>\n      <td>44949</td>\n      <td>0.623128</td>\n      <td>0.847857</td>\n      <td>0.700454</td>\n      <td>0.545803</td>\n      <td>0.767139</td>\n      <td>0.212325</td>\n      <td>4</td>\n      <td>1</td>\n    </tr>\n    <tr>\n      <th>7</th>\n      <td>4.2</td>\n      <td>28166</td>\n      <td>16777</td>\n      <td>2247</td>\n      <td>47295</td>\n      <td>0.627569</td>\n      <td>0.926117</td>\n      <td>0.373252</td>\n      <td>0.881886</td>\n      <td>0.532066</td>\n      <td>...</td>\n      <td>8986</td>\n      <td>23494</td>\n      <td>0.608155</td>\n      <td>0.852575</td>\n      <td>0.688660</td>\n      <td>0.527649</td>\n      <td>0.761901</td>\n      <td>0.181285</td>\n      <td>4</td>\n      <td>2</td>\n    </tr>\n    <tr>\n      <th>8</th>\n      <td>4.3</td>\n      <td>268</td>\n      <td>754</td>\n      <td>110</td>\n      <td>626</td>\n      <td>0.586231</td>\n      <td>0.708995</td>\n      <td>0.299776</td>\n      <td>0.872685</td>\n      <td>0.421384</td>\n      <td>...</td>\n      <td>434</td>\n      <td>543</td>\n      <td>0.445151</td>\n      <td>0.447134</td>\n      <td>0.392617</td>\n      <td>0.497685</td>\n      <td>0.418106</td>\n      <td>-0.110314</td>\n      <td>4</td>\n      <td>3</td>\n    </tr>\n    <tr>\n      <th>9</th>\n      <td>4.4</td>\n      <td>102964</td>\n      <td>39899</td>\n      <td>3794</td>\n      <td>147209</td>\n      <td>0.662369</td>\n      <td>0.964462</td>\n      <td>0.411571</td>\n      <td>0.913167</td>\n      <td>0.576941</td>\n      <td>...</td>\n      <td>12150</td>\n      <td>71626</td>\n      <td>0.717809</td>\n      <td>0.936286</td>\n      <td>0.713694</td>\n      <td>0.721923</td>\n      <td>0.809976</td>\n      <td>0.324702</td>\n      <td>4</td>\n      <td>4</td>\n    </tr>\n    <tr>\n      <th>10</th>\n      <td>4.5</td>\n      <td>13328</td>\n      <td>1483</td>\n      <td>41</td>\n      <td>18208</td>\n      <td>0.697863</td>\n      <td>0.996933</td>\n      <td>0.422628</td>\n      <td>0.973097</td>\n      <td>0.593609</td>\n      <td>...</td>\n      <td>235</td>\n      <td>5676</td>\n      <td>0.832908</td>\n      <td>0.990994</td>\n      <td>0.820015</td>\n      <td>0.845801</td>\n      <td>0.897434</td>\n      <td>0.342382</td>\n      <td>4</td>\n      <td>5</td>\n    </tr>\n    <tr>\n      <th>11</th>\n      <td>4.6</td>\n      <td>6331</td>\n      <td>823</td>\n      <td>271</td>\n      <td>2016</td>\n      <td>0.755381</td>\n      <td>0.958952</td>\n      <td>0.758476</td>\n      <td>0.752285</td>\n      <td>0.847013</td>\n      <td>...</td>\n      <td>396</td>\n      <td>1912</td>\n      <td>0.704481</td>\n      <td>0.942029</td>\n      <td>0.770936</td>\n      <td>0.638026</td>\n      <td>0.847938</td>\n      <td>0.292680</td>\n      <td>4</td>\n      <td>6</td>\n    </tr>\n    <tr>\n      <th>12</th>\n      <td>4.7</td>\n      <td>224</td>\n      <td>0</td>\n      <td>1</td>\n      <td>0</td>\n      <td>0.500000</td>\n      <td>0.995556</td>\n      <td>1.000000</td>\n      <td>0.000000</td>\n      <td>0.997773</td>\n      <td>...</td>\n      <td>0</td>\n      <td>116</td>\n      <td>0.741071</td>\n      <td>1.000000</td>\n      <td>0.482143</td>\n      <td>1.000000</td>\n      <td>0.650602</td>\n      <td>0.064194</td>\n      <td>4</td>\n      <td>7</td>\n    </tr>\n    <tr>\n      <th>13</th>\n      <td>4.9</td>\n      <td>5780</td>\n      <td>1915</td>\n      <td>370</td>\n      <td>1279</td>\n      <td>0.828444</td>\n      <td>0.939837</td>\n      <td>0.818813</td>\n      <td>0.838074</td>\n      <td>0.875161</td>\n      <td>...</td>\n      <td>961</td>\n      <td>2018</td>\n      <td>0.646777</td>\n      <td>0.839887</td>\n      <td>0.714124</td>\n      <td>0.579431</td>\n      <td>0.771916</td>\n      <td>0.263241</td>\n      <td>4</td>\n      <td>9</td>\n    </tr>\n    <tr>\n      <th>6</th>\n      <td>4.10</td>\n      <td>1699</td>\n      <td>90</td>\n      <td>17</td>\n      <td>1097</td>\n      <td>0.724388</td>\n      <td>0.990093</td>\n      <td>0.607654</td>\n      <td>0.841121</td>\n      <td>0.753103</td>\n      <td>...</td>\n      <td>13</td>\n      <td>1674</td>\n      <td>0.639896</td>\n      <td>0.988546</td>\n      <td>0.401288</td>\n      <td>0.878505</td>\n      <td>0.570847</td>\n      <td>0.108033</td>\n      <td>4</td>\n      <td>10</td>\n    </tr>\n    <tr>\n      <th>14</th>\n      <td>5.1</td>\n      <td>753</td>\n      <td>10</td>\n      <td>11</td>\n      <td>492</td>\n      <td>0.540505</td>\n      <td>0.985602</td>\n      <td>0.604819</td>\n      <td>0.476190</td>\n      <td>0.749627</td>\n      <td>...</td>\n      <td>12</td>\n      <td>420</td>\n      <td>0.545611</td>\n      <td>0.985663</td>\n      <td>0.662651</td>\n      <td>0.428571</td>\n      <td>0.792507</td>\n      <td>0.024615</td>\n      <td>5</td>\n      <td>1</td>\n    </tr>\n    <tr>\n      <th>15</th>\n      <td>5.2</td>\n      <td>3558</td>\n      <td>646</td>\n      <td>20</td>\n      <td>3651</td>\n      <td>0.731760</td>\n      <td>0.994410</td>\n      <td>0.493550</td>\n      <td>0.969970</td>\n      <td>0.659683</td>\n      <td>...</td>\n      <td>289</td>\n      <td>1770</td>\n      <td>0.660270</td>\n      <td>0.949546</td>\n      <td>0.754474</td>\n      <td>0.566066</td>\n      <td>0.840844</td>\n      <td>0.200281</td>\n      <td>5</td>\n      <td>2</td>\n    </tr>\n    <tr>\n      <th>16</th>\n      <td>5.3</td>\n      <td>1443</td>\n      <td>138</td>\n      <td>8</td>\n      <td>2062</td>\n      <td>0.678452</td>\n      <td>0.994487</td>\n      <td>0.411698</td>\n      <td>0.945205</td>\n      <td>0.582324</td>\n      <td>...</td>\n      <td>14</td>\n      <td>1188</td>\n      <td>0.782583</td>\n      <td>0.993994</td>\n      <td>0.661056</td>\n      <td>0.904110</td>\n      <td>0.794037</td>\n      <td>0.230482</td>\n      <td>5</td>\n      <td>3</td>\n    </tr>\n    <tr>\n      <th>17</th>\n      <td>5.4</td>\n      <td>4127</td>\n      <td>861</td>\n      <td>109</td>\n      <td>7541</td>\n      <td>0.620666</td>\n      <td>0.974268</td>\n      <td>0.353702</td>\n      <td>0.887629</td>\n      <td>0.518989</td>\n      <td>...</td>\n      <td>64</td>\n      <td>3653</td>\n      <td>0.810471</td>\n      <td>0.992078</td>\n      <td>0.686921</td>\n      <td>0.934021</td>\n      <td>0.811769</td>\n      <td>0.344209</td>\n      <td>5</td>\n      <td>4</td>\n    </tr>\n    <tr>\n      <th>18</th>\n      <td>5.5</td>\n      <td>1783</td>\n      <td>172</td>\n      <td>7</td>\n      <td>4656</td>\n      <td>0.618900</td>\n      <td>0.996089</td>\n      <td>0.276906</td>\n      <td>0.960894</td>\n      <td>0.433345</td>\n      <td>...</td>\n      <td>2</td>\n      <td>2682</td>\n      <td>0.786151</td>\n      <td>0.999468</td>\n      <td>0.583476</td>\n      <td>0.988827</td>\n      <td>0.736811</td>\n      <td>0.187421</td>\n      <td>5</td>\n      <td>5</td>\n    </tr>\n  </tbody>\n</table>\n<p>19 rows × 23 columns</p>\n</div>"
     },
     "execution_count": 79,
     "metadata": {},
     "output_type": "execute_result"
    }
   ],
   "source": [
    "df_top.columns=pd.MultiIndex.from_arrays([['id', 'RDB1', 'RDB1', 'RDB1', 'RDB1', 'RDB1', 'RDB1', 'RDB1', 'RDB1', 'RDB1', 'RDB1', 'RDB2', 'RDB2', 'RDB2', 'RDB2', 'RDB2', 'RDB2', 'RDB2', 'RDB2', 'RDB2', 'RDB2', 'id', 'id'], ['topologies', 'TP', 'TN', 'FP', 'FN', 'bacc', 'p', 'se', 'sp', 'f1', 'mcc', 'TP', 'TN', 'FP', 'FN', 'bacc', 'p', 'se', 'sp', 'f1', 'mcc', 'c', 't']])\n",
    "df_top"
   ],
   "metadata": {
    "collapsed": false,
    "ExecuteTime": {
     "end_time": "2023-05-17T14:04:11.318492968Z",
     "start_time": "2023-05-17T14:04:11.289982764Z"
    }
   }
  },
  {
   "cell_type": "code",
   "execution_count": 90,
   "outputs": [
    {
     "data": {
      "application/vnd.plotly.v1+json": {
       "data": [
        {
         "marker": {
          "color": "#EDAE49"
         },
         "name": "accuracy",
         "x": [
          "3.1 Beta-solenoid",
          "3.2 Alpha/beta solenoid",
          "3.3 Alpha-solenoid",
          "3.4 Beta hairpins",
          "3.6 Box",
          "4.1 TIM-barrel",
          "4.2 Beta-barrel / beta hairpins",
          "4.3 Beta-trefoil",
          "4.4 Propeller",
          "4.5 Alpha/beta prism",
          "4.6 Alpha-barrel",
          "4.7 Alpha/beta barrel",
          "4.9 Alpha/beta trefoil",
          "4.10 Aligned prism",
          "5.1 Alpha-beads",
          "5.2 Beta-beads",
          "5.3 Alpha/beta-beads",
          "5.4 Beta sandwich beads",
          "5.5 Alpha/beta sandwich beads"
         ],
         "y": [
          -0.05844285815853012,
          -0.013419294629157474,
          -0.03727240084036654,
          -0.0017444440389385862,
          0.3095724005084195,
          -0.04810812766744654,
          -0.019414397248116444,
          -0.14107941834451904,
          0.05543974116223349,
          0.13504526260701422,
          -0.05090001574748315,
          0.2410714285714286,
          -0.18166618773990906,
          -0.08449152995601206,
          0.005106138841078689,
          -0.07149002935519788,
          0.1041310847517245,
          0.18980540662804957,
          0.16725115197977414
         ],
         "type": "bar",
         "xaxis": "x",
         "yaxis": "y"
        },
        {
         "marker": {
          "color": "#D1495B"
         },
         "name": "precision",
         "x": [
          "3.1 Beta-solenoid",
          "3.2 Alpha/beta solenoid",
          "3.3 Alpha-solenoid",
          "3.4 Beta hairpins",
          "3.6 Box",
          "4.1 TIM-barrel",
          "4.2 Beta-barrel / beta hairpins",
          "4.3 Beta-trefoil",
          "4.4 Propeller",
          "4.5 Alpha/beta prism",
          "4.6 Alpha-barrel",
          "4.7 Alpha/beta barrel",
          "4.9 Alpha/beta trefoil",
          "4.10 Aligned prism",
          "5.1 Alpha-beads",
          "5.2 Beta-beads",
          "5.3 Alpha/beta-beads",
          "5.4 Beta sandwich beads",
          "5.5 Alpha/beta sandwich beads"
         ],
         "y": [
          -0.19255038583751893,
          -0.048670658562943836,
          -0.11708340058804823,
          -0.2427680838212415,
          0.997904662126768,
          -0.07460547425581243,
          -0.07354218618218855,
          -0.2618609510329255,
          -0.02817531964964126,
          -0.005938760300197687,
          -0.016922847270699704,
          0.004444444444444473,
          -0.09995069394212763,
          -0.0015469845866321608,
          6.098819643829412E-5,
          -0.04486419568998623,
          -4.925669984250369E-4,
          0.01781004997743596,
          0.0033785581271614795
         ],
         "type": "bar",
         "xaxis": "x",
         "yaxis": "y"
        },
        {
         "marker": {
          "color": "#00798C"
         },
         "name": "recall",
         "x": [
          "3.1 Beta-solenoid",
          "3.2 Alpha/beta solenoid",
          "3.3 Alpha-solenoid",
          "3.4 Beta hairpins",
          "3.6 Box",
          "4.1 TIM-barrel",
          "4.2 Beta-barrel / beta hairpins",
          "4.3 Beta-trefoil",
          "4.4 Propeller",
          "4.5 Alpha/beta prism",
          "4.6 Alpha-barrel",
          "4.7 Alpha/beta barrel",
          "4.9 Alpha/beta trefoil",
          "4.10 Aligned prism",
          "5.1 Alpha-beads",
          "5.2 Beta-beads",
          "5.3 Alpha/beta-beads",
          "5.4 Beta sandwich beads",
          "5.5 Alpha/beta sandwich beads"
         ],
         "y": [
          0.332034632034632,
          0.20271257378635033,
          0.3517985507976369,
          0.42943994104642597,
          0.7813069631790011,
          0.20858073931905868,
          0.3154079590781994,
          0.09284116331096198,
          0.3021229309317952,
          0.3973871131405378,
          0.01245956631124956,
          -0.5178571428571428,
          -0.10468904944043067,
          -0.20636623748211735,
          0.05783132530120483,
          0.2609238451935081,
          0.24935805991440801,
          0.3332190606787796,
          0.30656934306569344
         ],
         "type": "bar",
         "xaxis": "x",
         "yaxis": "y"
        },
        {
         "marker": {
          "color": "#003D5B"
         },
         "name": "f-score",
         "x": [
          "3.1 Beta-solenoid",
          "3.2 Alpha/beta solenoid",
          "3.3 Alpha-solenoid",
          "3.4 Beta hairpins",
          "3.6 Box",
          "4.1 TIM-barrel",
          "4.2 Beta-barrel / beta hairpins",
          "4.3 Beta-trefoil",
          "4.4 Propeller",
          "4.5 Alpha/beta prism",
          "4.6 Alpha-barrel",
          "4.7 Alpha/beta barrel",
          "4.9 Alpha/beta trefoil",
          "4.10 Aligned prism",
          "5.1 Alpha-beads",
          "5.2 Beta-beads",
          "5.3 Alpha/beta-beads",
          "5.4 Beta sandwich beads",
          "5.5 Alpha/beta sandwich beads"
         ],
         "y": [
          0.14534286146251563,
          0.1368538127065101,
          0.1650290858031197,
          0.207059847086834,
          0.8764217252396166,
          0.1255167696229097,
          0.22983485255750835,
          -0.0032776323133341667,
          0.23303508861861966,
          0.30382494330954135,
          9.246265783481311E-4,
          -0.34717041886924094,
          -0.10324448284788224,
          -0.18225572418546165,
          0.04288052467068215,
          0.18116113889175145,
          0.21171255644600517,
          0.2927799426833957,
          0.30346565396091885
         ],
         "type": "bar",
         "xaxis": "x",
         "yaxis": "y"
        }
       ],
       "layout": {
        "template": {
         "data": {
          "histogram2dcontour": [
           {
            "type": "histogram2dcontour",
            "colorbar": {
             "outlinewidth": 0,
             "ticks": ""
            },
            "colorscale": [
             [
              0.0,
              "#0d0887"
             ],
             [
              0.1111111111111111,
              "#46039f"
             ],
             [
              0.2222222222222222,
              "#7201a8"
             ],
             [
              0.3333333333333333,
              "#9c179e"
             ],
             [
              0.4444444444444444,
              "#bd3786"
             ],
             [
              0.5555555555555556,
              "#d8576b"
             ],
             [
              0.6666666666666666,
              "#ed7953"
             ],
             [
              0.7777777777777778,
              "#fb9f3a"
             ],
             [
              0.8888888888888888,
              "#fdca26"
             ],
             [
              1.0,
              "#f0f921"
             ]
            ]
           }
          ],
          "choropleth": [
           {
            "type": "choropleth",
            "colorbar": {
             "outlinewidth": 0,
             "ticks": ""
            }
           }
          ],
          "histogram2d": [
           {
            "type": "histogram2d",
            "colorbar": {
             "outlinewidth": 0,
             "ticks": ""
            },
            "colorscale": [
             [
              0.0,
              "#0d0887"
             ],
             [
              0.1111111111111111,
              "#46039f"
             ],
             [
              0.2222222222222222,
              "#7201a8"
             ],
             [
              0.3333333333333333,
              "#9c179e"
             ],
             [
              0.4444444444444444,
              "#bd3786"
             ],
             [
              0.5555555555555556,
              "#d8576b"
             ],
             [
              0.6666666666666666,
              "#ed7953"
             ],
             [
              0.7777777777777778,
              "#fb9f3a"
             ],
             [
              0.8888888888888888,
              "#fdca26"
             ],
             [
              1.0,
              "#f0f921"
             ]
            ]
           }
          ],
          "heatmap": [
           {
            "type": "heatmap",
            "colorbar": {
             "outlinewidth": 0,
             "ticks": ""
            },
            "colorscale": [
             [
              0.0,
              "#0d0887"
             ],
             [
              0.1111111111111111,
              "#46039f"
             ],
             [
              0.2222222222222222,
              "#7201a8"
             ],
             [
              0.3333333333333333,
              "#9c179e"
             ],
             [
              0.4444444444444444,
              "#bd3786"
             ],
             [
              0.5555555555555556,
              "#d8576b"
             ],
             [
              0.6666666666666666,
              "#ed7953"
             ],
             [
              0.7777777777777778,
              "#fb9f3a"
             ],
             [
              0.8888888888888888,
              "#fdca26"
             ],
             [
              1.0,
              "#f0f921"
             ]
            ]
           }
          ],
          "heatmapgl": [
           {
            "type": "heatmapgl",
            "colorbar": {
             "outlinewidth": 0,
             "ticks": ""
            },
            "colorscale": [
             [
              0.0,
              "#0d0887"
             ],
             [
              0.1111111111111111,
              "#46039f"
             ],
             [
              0.2222222222222222,
              "#7201a8"
             ],
             [
              0.3333333333333333,
              "#9c179e"
             ],
             [
              0.4444444444444444,
              "#bd3786"
             ],
             [
              0.5555555555555556,
              "#d8576b"
             ],
             [
              0.6666666666666666,
              "#ed7953"
             ],
             [
              0.7777777777777778,
              "#fb9f3a"
             ],
             [
              0.8888888888888888,
              "#fdca26"
             ],
             [
              1.0,
              "#f0f921"
             ]
            ]
           }
          ],
          "contourcarpet": [
           {
            "type": "contourcarpet",
            "colorbar": {
             "outlinewidth": 0,
             "ticks": ""
            }
           }
          ],
          "contour": [
           {
            "type": "contour",
            "colorbar": {
             "outlinewidth": 0,
             "ticks": ""
            },
            "colorscale": [
             [
              0.0,
              "#0d0887"
             ],
             [
              0.1111111111111111,
              "#46039f"
             ],
             [
              0.2222222222222222,
              "#7201a8"
             ],
             [
              0.3333333333333333,
              "#9c179e"
             ],
             [
              0.4444444444444444,
              "#bd3786"
             ],
             [
              0.5555555555555556,
              "#d8576b"
             ],
             [
              0.6666666666666666,
              "#ed7953"
             ],
             [
              0.7777777777777778,
              "#fb9f3a"
             ],
             [
              0.8888888888888888,
              "#fdca26"
             ],
             [
              1.0,
              "#f0f921"
             ]
            ]
           }
          ],
          "surface": [
           {
            "type": "surface",
            "colorbar": {
             "outlinewidth": 0,
             "ticks": ""
            },
            "colorscale": [
             [
              0.0,
              "#0d0887"
             ],
             [
              0.1111111111111111,
              "#46039f"
             ],
             [
              0.2222222222222222,
              "#7201a8"
             ],
             [
              0.3333333333333333,
              "#9c179e"
             ],
             [
              0.4444444444444444,
              "#bd3786"
             ],
             [
              0.5555555555555556,
              "#d8576b"
             ],
             [
              0.6666666666666666,
              "#ed7953"
             ],
             [
              0.7777777777777778,
              "#fb9f3a"
             ],
             [
              0.8888888888888888,
              "#fdca26"
             ],
             [
              1.0,
              "#f0f921"
             ]
            ]
           }
          ],
          "mesh3d": [
           {
            "type": "mesh3d",
            "colorbar": {
             "outlinewidth": 0,
             "ticks": ""
            }
           }
          ],
          "scatter": [
           {
            "marker": {
             "line": {
              "color": "#283442"
             }
            },
            "type": "scatter"
           }
          ],
          "parcoords": [
           {
            "type": "parcoords",
            "line": {
             "colorbar": {
              "outlinewidth": 0,
              "ticks": ""
             }
            }
           }
          ],
          "scatterpolargl": [
           {
            "type": "scatterpolargl",
            "marker": {
             "colorbar": {
              "outlinewidth": 0,
              "ticks": ""
             }
            }
           }
          ],
          "bar": [
           {
            "error_x": {
             "color": "#f2f5fa"
            },
            "error_y": {
             "color": "#f2f5fa"
            },
            "marker": {
             "line": {
              "color": "rgb(17,17,17)",
              "width": 0.5
             },
             "pattern": {
              "fillmode": "overlay",
              "size": 10,
              "solidity": 0.2
             }
            },
            "type": "bar"
           }
          ],
          "scattergeo": [
           {
            "type": "scattergeo",
            "marker": {
             "colorbar": {
              "outlinewidth": 0,
              "ticks": ""
             }
            }
           }
          ],
          "scatterpolar": [
           {
            "type": "scatterpolar",
            "marker": {
             "colorbar": {
              "outlinewidth": 0,
              "ticks": ""
             }
            }
           }
          ],
          "histogram": [
           {
            "marker": {
             "pattern": {
              "fillmode": "overlay",
              "size": 10,
              "solidity": 0.2
             }
            },
            "type": "histogram"
           }
          ],
          "scattergl": [
           {
            "marker": {
             "line": {
              "color": "#283442"
             }
            },
            "type": "scattergl"
           }
          ],
          "scatter3d": [
           {
            "type": "scatter3d",
            "line": {
             "colorbar": {
              "outlinewidth": 0,
              "ticks": ""
             }
            },
            "marker": {
             "colorbar": {
              "outlinewidth": 0,
              "ticks": ""
             }
            }
           }
          ],
          "scattermapbox": [
           {
            "type": "scattermapbox",
            "marker": {
             "colorbar": {
              "outlinewidth": 0,
              "ticks": ""
             }
            }
           }
          ],
          "scatterternary": [
           {
            "type": "scatterternary",
            "marker": {
             "colorbar": {
              "outlinewidth": 0,
              "ticks": ""
             }
            }
           }
          ],
          "scattercarpet": [
           {
            "type": "scattercarpet",
            "marker": {
             "colorbar": {
              "outlinewidth": 0,
              "ticks": ""
             }
            }
           }
          ],
          "carpet": [
           {
            "aaxis": {
             "endlinecolor": "#A2B1C6",
             "gridcolor": "#506784",
             "linecolor": "#506784",
             "minorgridcolor": "#506784",
             "startlinecolor": "#A2B1C6"
            },
            "baxis": {
             "endlinecolor": "#A2B1C6",
             "gridcolor": "#506784",
             "linecolor": "#506784",
             "minorgridcolor": "#506784",
             "startlinecolor": "#A2B1C6"
            },
            "type": "carpet"
           }
          ],
          "table": [
           {
            "cells": {
             "fill": {
              "color": "#506784"
             },
             "line": {
              "color": "rgb(17,17,17)"
             }
            },
            "header": {
             "fill": {
              "color": "#2a3f5f"
             },
             "line": {
              "color": "rgb(17,17,17)"
             }
            },
            "type": "table"
           }
          ],
          "barpolar": [
           {
            "marker": {
             "line": {
              "color": "rgb(17,17,17)",
              "width": 0.5
             },
             "pattern": {
              "fillmode": "overlay",
              "size": 10,
              "solidity": 0.2
             }
            },
            "type": "barpolar"
           }
          ],
          "pie": [
           {
            "automargin": true,
            "type": "pie"
           }
          ]
         },
         "layout": {
          "autotypenumbers": "strict",
          "colorway": [
           "#636efa",
           "#EF553B",
           "#00cc96",
           "#ab63fa",
           "#FFA15A",
           "#19d3f3",
           "#FF6692",
           "#B6E880",
           "#FF97FF",
           "#FECB52"
          ],
          "font": {
           "color": "#f2f5fa"
          },
          "hovermode": "closest",
          "hoverlabel": {
           "align": "left"
          },
          "paper_bgcolor": "rgb(17,17,17)",
          "plot_bgcolor": "rgb(17,17,17)",
          "polar": {
           "bgcolor": "rgb(17,17,17)",
           "angularaxis": {
            "gridcolor": "#506784",
            "linecolor": "#506784",
            "ticks": ""
           },
           "radialaxis": {
            "gridcolor": "#506784",
            "linecolor": "#506784",
            "ticks": ""
           }
          },
          "ternary": {
           "bgcolor": "rgb(17,17,17)",
           "aaxis": {
            "gridcolor": "#506784",
            "linecolor": "#506784",
            "ticks": ""
           },
           "baxis": {
            "gridcolor": "#506784",
            "linecolor": "#506784",
            "ticks": ""
           },
           "caxis": {
            "gridcolor": "#506784",
            "linecolor": "#506784",
            "ticks": ""
           }
          },
          "coloraxis": {
           "colorbar": {
            "outlinewidth": 0,
            "ticks": ""
           }
          },
          "colorscale": {
           "sequential": [
            [
             0.0,
             "#0d0887"
            ],
            [
             0.1111111111111111,
             "#46039f"
            ],
            [
             0.2222222222222222,
             "#7201a8"
            ],
            [
             0.3333333333333333,
             "#9c179e"
            ],
            [
             0.4444444444444444,
             "#bd3786"
            ],
            [
             0.5555555555555556,
             "#d8576b"
            ],
            [
             0.6666666666666666,
             "#ed7953"
            ],
            [
             0.7777777777777778,
             "#fb9f3a"
            ],
            [
             0.8888888888888888,
             "#fdca26"
            ],
            [
             1.0,
             "#f0f921"
            ]
           ],
           "sequentialminus": [
            [
             0.0,
             "#0d0887"
            ],
            [
             0.1111111111111111,
             "#46039f"
            ],
            [
             0.2222222222222222,
             "#7201a8"
            ],
            [
             0.3333333333333333,
             "#9c179e"
            ],
            [
             0.4444444444444444,
             "#bd3786"
            ],
            [
             0.5555555555555556,
             "#d8576b"
            ],
            [
             0.6666666666666666,
             "#ed7953"
            ],
            [
             0.7777777777777778,
             "#fb9f3a"
            ],
            [
             0.8888888888888888,
             "#fdca26"
            ],
            [
             1.0,
             "#f0f921"
            ]
           ],
           "diverging": [
            [
             0,
             "#8e0152"
            ],
            [
             0.1,
             "#c51b7d"
            ],
            [
             0.2,
             "#de77ae"
            ],
            [
             0.3,
             "#f1b6da"
            ],
            [
             0.4,
             "#fde0ef"
            ],
            [
             0.5,
             "#f7f7f7"
            ],
            [
             0.6,
             "#e6f5d0"
            ],
            [
             0.7,
             "#b8e186"
            ],
            [
             0.8,
             "#7fbc41"
            ],
            [
             0.9,
             "#4d9221"
            ],
            [
             1,
             "#276419"
            ]
           ]
          },
          "xaxis": {
           "gridcolor": "#283442",
           "linecolor": "#506784",
           "ticks": "",
           "title": {
            "standoff": 15
           },
           "zerolinecolor": "#283442",
           "automargin": true,
           "zerolinewidth": 2
          },
          "yaxis": {
           "gridcolor": "#283442",
           "linecolor": "#506784",
           "ticks": "",
           "title": {
            "standoff": 15
           },
           "zerolinecolor": "#283442",
           "automargin": true,
           "zerolinewidth": 2
          },
          "scene": {
           "xaxis": {
            "backgroundcolor": "rgb(17,17,17)",
            "gridcolor": "#506784",
            "linecolor": "#506784",
            "showbackground": true,
            "ticks": "",
            "zerolinecolor": "#C8D4E3",
            "gridwidth": 2
           },
           "yaxis": {
            "backgroundcolor": "rgb(17,17,17)",
            "gridcolor": "#506784",
            "linecolor": "#506784",
            "showbackground": true,
            "ticks": "",
            "zerolinecolor": "#C8D4E3",
            "gridwidth": 2
           },
           "zaxis": {
            "backgroundcolor": "rgb(17,17,17)",
            "gridcolor": "#506784",
            "linecolor": "#506784",
            "showbackground": true,
            "ticks": "",
            "zerolinecolor": "#C8D4E3",
            "gridwidth": 2
           }
          },
          "shapedefaults": {
           "line": {
            "color": "#f2f5fa"
           }
          },
          "annotationdefaults": {
           "arrowcolor": "#f2f5fa",
           "arrowhead": 0,
           "arrowwidth": 1
          },
          "geo": {
           "bgcolor": "rgb(17,17,17)",
           "landcolor": "rgb(17,17,17)",
           "subunitcolor": "#506784",
           "showland": true,
           "showlakes": true,
           "lakecolor": "rgb(17,17,17)"
          },
          "title": {
           "x": 0.05
          },
          "updatemenudefaults": {
           "bgcolor": "#506784",
           "borderwidth": 0
          },
          "sliderdefaults": {
           "bgcolor": "#C8D4E3",
           "borderwidth": 1,
           "bordercolor": "rgb(17,17,17)",
           "tickwidth": 0
          },
          "mapbox": {
           "style": "dark"
          }
         }
        },
        "xaxis": {
         "anchor": "y",
         "domain": [
          0.0,
          1.0
         ]
        },
        "yaxis": {
         "anchor": "x",
         "domain": [
          0.575,
          1.0
         ]
        },
        "xaxis2": {
         "anchor": "y2",
         "domain": [
          0.0,
          1.0
         ]
        },
        "yaxis2": {
         "anchor": "x2",
         "domain": [
          0.0,
          0.425
         ]
        }
       },
       "config": {
        "plotlyServerURL": "https://plot.ly"
       }
      },
      "text/html": "<div>                            <div id=\"173e1572-ae33-4e24-bf5a-6e0675f2f799\" class=\"plotly-graph-div\" style=\"height:525px; width:100%;\"></div>            <script type=\"text/javascript\">                require([\"plotly\"], function(Plotly) {                    window.PLOTLYENV=window.PLOTLYENV || {};                                    if (document.getElementById(\"173e1572-ae33-4e24-bf5a-6e0675f2f799\")) {                    Plotly.newPlot(                        \"173e1572-ae33-4e24-bf5a-6e0675f2f799\",                        [{\"marker\":{\"color\":\"#EDAE49\"},\"name\":\"accuracy\",\"x\":[\"3.1 Beta-solenoid\",\"3.2 Alpha/beta solenoid\",\"3.3 Alpha-solenoid\",\"3.4 Beta hairpins\",\"3.6 Box\",\"4.1 TIM-barrel\",\"4.2 Beta-barrel / beta hairpins\",\"4.3 Beta-trefoil\",\"4.4 Propeller\",\"4.5 Alpha/beta prism\",\"4.6 Alpha-barrel\",\"4.7 Alpha/beta barrel\",\"4.9 Alpha/beta trefoil\",\"4.10 Aligned prism\",\"5.1 Alpha-beads\",\"5.2 Beta-beads\",\"5.3 Alpha/beta-beads\",\"5.4 Beta sandwich beads\",\"5.5 Alpha/beta sandwich beads\"],\"y\":[-0.05844285815853012,-0.013419294629157474,-0.03727240084036654,-0.0017444440389385862,0.3095724005084195,-0.04810812766744654,-0.019414397248116444,-0.14107941834451904,0.05543974116223349,0.13504526260701422,-0.05090001574748315,0.2410714285714286,-0.18166618773990906,-0.08449152995601206,0.005106138841078689,-0.07149002935519788,0.1041310847517245,0.18980540662804957,0.16725115197977414],\"type\":\"bar\",\"xaxis\":\"x\",\"yaxis\":\"y\"},{\"marker\":{\"color\":\"#D1495B\"},\"name\":\"precision\",\"x\":[\"3.1 Beta-solenoid\",\"3.2 Alpha/beta solenoid\",\"3.3 Alpha-solenoid\",\"3.4 Beta hairpins\",\"3.6 Box\",\"4.1 TIM-barrel\",\"4.2 Beta-barrel / beta hairpins\",\"4.3 Beta-trefoil\",\"4.4 Propeller\",\"4.5 Alpha/beta prism\",\"4.6 Alpha-barrel\",\"4.7 Alpha/beta barrel\",\"4.9 Alpha/beta trefoil\",\"4.10 Aligned prism\",\"5.1 Alpha-beads\",\"5.2 Beta-beads\",\"5.3 Alpha/beta-beads\",\"5.4 Beta sandwich beads\",\"5.5 Alpha/beta sandwich beads\"],\"y\":[-0.19255038583751893,-0.048670658562943836,-0.11708340058804823,-0.2427680838212415,0.997904662126768,-0.07460547425581243,-0.07354218618218855,-0.2618609510329255,-0.02817531964964126,-0.005938760300197687,-0.016922847270699704,0.004444444444444473,-0.09995069394212763,-0.0015469845866321608,6.098819643829412e-05,-0.04486419568998623,-0.0004925669984250369,0.01781004997743596,0.0033785581271614795],\"type\":\"bar\",\"xaxis\":\"x\",\"yaxis\":\"y\"},{\"marker\":{\"color\":\"#00798C\"},\"name\":\"recall\",\"x\":[\"3.1 Beta-solenoid\",\"3.2 Alpha/beta solenoid\",\"3.3 Alpha-solenoid\",\"3.4 Beta hairpins\",\"3.6 Box\",\"4.1 TIM-barrel\",\"4.2 Beta-barrel / beta hairpins\",\"4.3 Beta-trefoil\",\"4.4 Propeller\",\"4.5 Alpha/beta prism\",\"4.6 Alpha-barrel\",\"4.7 Alpha/beta barrel\",\"4.9 Alpha/beta trefoil\",\"4.10 Aligned prism\",\"5.1 Alpha-beads\",\"5.2 Beta-beads\",\"5.3 Alpha/beta-beads\",\"5.4 Beta sandwich beads\",\"5.5 Alpha/beta sandwich beads\"],\"y\":[0.332034632034632,0.20271257378635033,0.3517985507976369,0.42943994104642597,0.7813069631790011,0.20858073931905868,0.3154079590781994,0.09284116331096198,0.3021229309317952,0.3973871131405378,0.01245956631124956,-0.5178571428571428,-0.10468904944043067,-0.20636623748211735,0.05783132530120483,0.2609238451935081,0.24935805991440801,0.3332190606787796,0.30656934306569344],\"type\":\"bar\",\"xaxis\":\"x\",\"yaxis\":\"y\"},{\"marker\":{\"color\":\"#003D5B\"},\"name\":\"f-score\",\"x\":[\"3.1 Beta-solenoid\",\"3.2 Alpha/beta solenoid\",\"3.3 Alpha-solenoid\",\"3.4 Beta hairpins\",\"3.6 Box\",\"4.1 TIM-barrel\",\"4.2 Beta-barrel / beta hairpins\",\"4.3 Beta-trefoil\",\"4.4 Propeller\",\"4.5 Alpha/beta prism\",\"4.6 Alpha-barrel\",\"4.7 Alpha/beta barrel\",\"4.9 Alpha/beta trefoil\",\"4.10 Aligned prism\",\"5.1 Alpha-beads\",\"5.2 Beta-beads\",\"5.3 Alpha/beta-beads\",\"5.4 Beta sandwich beads\",\"5.5 Alpha/beta sandwich beads\"],\"y\":[0.14534286146251563,0.1368538127065101,0.1650290858031197,0.207059847086834,0.8764217252396166,0.1255167696229097,0.22983485255750835,-0.0032776323133341667,0.23303508861861966,0.30382494330954135,0.0009246265783481311,-0.34717041886924094,-0.10324448284788224,-0.18225572418546165,0.04288052467068215,0.18116113889175145,0.21171255644600517,0.2927799426833957,0.30346565396091885],\"type\":\"bar\",\"xaxis\":\"x\",\"yaxis\":\"y\"}],                        {\"template\":{\"data\":{\"histogram2dcontour\":[{\"type\":\"histogram2dcontour\",\"colorbar\":{\"outlinewidth\":0,\"ticks\":\"\"},\"colorscale\":[[0.0,\"#0d0887\"],[0.1111111111111111,\"#46039f\"],[0.2222222222222222,\"#7201a8\"],[0.3333333333333333,\"#9c179e\"],[0.4444444444444444,\"#bd3786\"],[0.5555555555555556,\"#d8576b\"],[0.6666666666666666,\"#ed7953\"],[0.7777777777777778,\"#fb9f3a\"],[0.8888888888888888,\"#fdca26\"],[1.0,\"#f0f921\"]]}],\"choropleth\":[{\"type\":\"choropleth\",\"colorbar\":{\"outlinewidth\":0,\"ticks\":\"\"}}],\"histogram2d\":[{\"type\":\"histogram2d\",\"colorbar\":{\"outlinewidth\":0,\"ticks\":\"\"},\"colorscale\":[[0.0,\"#0d0887\"],[0.1111111111111111,\"#46039f\"],[0.2222222222222222,\"#7201a8\"],[0.3333333333333333,\"#9c179e\"],[0.4444444444444444,\"#bd3786\"],[0.5555555555555556,\"#d8576b\"],[0.6666666666666666,\"#ed7953\"],[0.7777777777777778,\"#fb9f3a\"],[0.8888888888888888,\"#fdca26\"],[1.0,\"#f0f921\"]]}],\"heatmap\":[{\"type\":\"heatmap\",\"colorbar\":{\"outlinewidth\":0,\"ticks\":\"\"},\"colorscale\":[[0.0,\"#0d0887\"],[0.1111111111111111,\"#46039f\"],[0.2222222222222222,\"#7201a8\"],[0.3333333333333333,\"#9c179e\"],[0.4444444444444444,\"#bd3786\"],[0.5555555555555556,\"#d8576b\"],[0.6666666666666666,\"#ed7953\"],[0.7777777777777778,\"#fb9f3a\"],[0.8888888888888888,\"#fdca26\"],[1.0,\"#f0f921\"]]}],\"heatmapgl\":[{\"type\":\"heatmapgl\",\"colorbar\":{\"outlinewidth\":0,\"ticks\":\"\"},\"colorscale\":[[0.0,\"#0d0887\"],[0.1111111111111111,\"#46039f\"],[0.2222222222222222,\"#7201a8\"],[0.3333333333333333,\"#9c179e\"],[0.4444444444444444,\"#bd3786\"],[0.5555555555555556,\"#d8576b\"],[0.6666666666666666,\"#ed7953\"],[0.7777777777777778,\"#fb9f3a\"],[0.8888888888888888,\"#fdca26\"],[1.0,\"#f0f921\"]]}],\"contourcarpet\":[{\"type\":\"contourcarpet\",\"colorbar\":{\"outlinewidth\":0,\"ticks\":\"\"}}],\"contour\":[{\"type\":\"contour\",\"colorbar\":{\"outlinewidth\":0,\"ticks\":\"\"},\"colorscale\":[[0.0,\"#0d0887\"],[0.1111111111111111,\"#46039f\"],[0.2222222222222222,\"#7201a8\"],[0.3333333333333333,\"#9c179e\"],[0.4444444444444444,\"#bd3786\"],[0.5555555555555556,\"#d8576b\"],[0.6666666666666666,\"#ed7953\"],[0.7777777777777778,\"#fb9f3a\"],[0.8888888888888888,\"#fdca26\"],[1.0,\"#f0f921\"]]}],\"surface\":[{\"type\":\"surface\",\"colorbar\":{\"outlinewidth\":0,\"ticks\":\"\"},\"colorscale\":[[0.0,\"#0d0887\"],[0.1111111111111111,\"#46039f\"],[0.2222222222222222,\"#7201a8\"],[0.3333333333333333,\"#9c179e\"],[0.4444444444444444,\"#bd3786\"],[0.5555555555555556,\"#d8576b\"],[0.6666666666666666,\"#ed7953\"],[0.7777777777777778,\"#fb9f3a\"],[0.8888888888888888,\"#fdca26\"],[1.0,\"#f0f921\"]]}],\"mesh3d\":[{\"type\":\"mesh3d\",\"colorbar\":{\"outlinewidth\":0,\"ticks\":\"\"}}],\"scatter\":[{\"marker\":{\"line\":{\"color\":\"#283442\"}},\"type\":\"scatter\"}],\"parcoords\":[{\"type\":\"parcoords\",\"line\":{\"colorbar\":{\"outlinewidth\":0,\"ticks\":\"\"}}}],\"scatterpolargl\":[{\"type\":\"scatterpolargl\",\"marker\":{\"colorbar\":{\"outlinewidth\":0,\"ticks\":\"\"}}}],\"bar\":[{\"error_x\":{\"color\":\"#f2f5fa\"},\"error_y\":{\"color\":\"#f2f5fa\"},\"marker\":{\"line\":{\"color\":\"rgb(17,17,17)\",\"width\":0.5},\"pattern\":{\"fillmode\":\"overlay\",\"size\":10,\"solidity\":0.2}},\"type\":\"bar\"}],\"scattergeo\":[{\"type\":\"scattergeo\",\"marker\":{\"colorbar\":{\"outlinewidth\":0,\"ticks\":\"\"}}}],\"scatterpolar\":[{\"type\":\"scatterpolar\",\"marker\":{\"colorbar\":{\"outlinewidth\":0,\"ticks\":\"\"}}}],\"histogram\":[{\"marker\":{\"pattern\":{\"fillmode\":\"overlay\",\"size\":10,\"solidity\":0.2}},\"type\":\"histogram\"}],\"scattergl\":[{\"marker\":{\"line\":{\"color\":\"#283442\"}},\"type\":\"scattergl\"}],\"scatter3d\":[{\"type\":\"scatter3d\",\"line\":{\"colorbar\":{\"outlinewidth\":0,\"ticks\":\"\"}},\"marker\":{\"colorbar\":{\"outlinewidth\":0,\"ticks\":\"\"}}}],\"scattermapbox\":[{\"type\":\"scattermapbox\",\"marker\":{\"colorbar\":{\"outlinewidth\":0,\"ticks\":\"\"}}}],\"scatterternary\":[{\"type\":\"scatterternary\",\"marker\":{\"colorbar\":{\"outlinewidth\":0,\"ticks\":\"\"}}}],\"scattercarpet\":[{\"type\":\"scattercarpet\",\"marker\":{\"colorbar\":{\"outlinewidth\":0,\"ticks\":\"\"}}}],\"carpet\":[{\"aaxis\":{\"endlinecolor\":\"#A2B1C6\",\"gridcolor\":\"#506784\",\"linecolor\":\"#506784\",\"minorgridcolor\":\"#506784\",\"startlinecolor\":\"#A2B1C6\"},\"baxis\":{\"endlinecolor\":\"#A2B1C6\",\"gridcolor\":\"#506784\",\"linecolor\":\"#506784\",\"minorgridcolor\":\"#506784\",\"startlinecolor\":\"#A2B1C6\"},\"type\":\"carpet\"}],\"table\":[{\"cells\":{\"fill\":{\"color\":\"#506784\"},\"line\":{\"color\":\"rgb(17,17,17)\"}},\"header\":{\"fill\":{\"color\":\"#2a3f5f\"},\"line\":{\"color\":\"rgb(17,17,17)\"}},\"type\":\"table\"}],\"barpolar\":[{\"marker\":{\"line\":{\"color\":\"rgb(17,17,17)\",\"width\":0.5},\"pattern\":{\"fillmode\":\"overlay\",\"size\":10,\"solidity\":0.2}},\"type\":\"barpolar\"}],\"pie\":[{\"automargin\":true,\"type\":\"pie\"}]},\"layout\":{\"autotypenumbers\":\"strict\",\"colorway\":[\"#636efa\",\"#EF553B\",\"#00cc96\",\"#ab63fa\",\"#FFA15A\",\"#19d3f3\",\"#FF6692\",\"#B6E880\",\"#FF97FF\",\"#FECB52\"],\"font\":{\"color\":\"#f2f5fa\"},\"hovermode\":\"closest\",\"hoverlabel\":{\"align\":\"left\"},\"paper_bgcolor\":\"rgb(17,17,17)\",\"plot_bgcolor\":\"rgb(17,17,17)\",\"polar\":{\"bgcolor\":\"rgb(17,17,17)\",\"angularaxis\":{\"gridcolor\":\"#506784\",\"linecolor\":\"#506784\",\"ticks\":\"\"},\"radialaxis\":{\"gridcolor\":\"#506784\",\"linecolor\":\"#506784\",\"ticks\":\"\"}},\"ternary\":{\"bgcolor\":\"rgb(17,17,17)\",\"aaxis\":{\"gridcolor\":\"#506784\",\"linecolor\":\"#506784\",\"ticks\":\"\"},\"baxis\":{\"gridcolor\":\"#506784\",\"linecolor\":\"#506784\",\"ticks\":\"\"},\"caxis\":{\"gridcolor\":\"#506784\",\"linecolor\":\"#506784\",\"ticks\":\"\"}},\"coloraxis\":{\"colorbar\":{\"outlinewidth\":0,\"ticks\":\"\"}},\"colorscale\":{\"sequential\":[[0.0,\"#0d0887\"],[0.1111111111111111,\"#46039f\"],[0.2222222222222222,\"#7201a8\"],[0.3333333333333333,\"#9c179e\"],[0.4444444444444444,\"#bd3786\"],[0.5555555555555556,\"#d8576b\"],[0.6666666666666666,\"#ed7953\"],[0.7777777777777778,\"#fb9f3a\"],[0.8888888888888888,\"#fdca26\"],[1.0,\"#f0f921\"]],\"sequentialminus\":[[0.0,\"#0d0887\"],[0.1111111111111111,\"#46039f\"],[0.2222222222222222,\"#7201a8\"],[0.3333333333333333,\"#9c179e\"],[0.4444444444444444,\"#bd3786\"],[0.5555555555555556,\"#d8576b\"],[0.6666666666666666,\"#ed7953\"],[0.7777777777777778,\"#fb9f3a\"],[0.8888888888888888,\"#fdca26\"],[1.0,\"#f0f921\"]],\"diverging\":[[0,\"#8e0152\"],[0.1,\"#c51b7d\"],[0.2,\"#de77ae\"],[0.3,\"#f1b6da\"],[0.4,\"#fde0ef\"],[0.5,\"#f7f7f7\"],[0.6,\"#e6f5d0\"],[0.7,\"#b8e186\"],[0.8,\"#7fbc41\"],[0.9,\"#4d9221\"],[1,\"#276419\"]]},\"xaxis\":{\"gridcolor\":\"#283442\",\"linecolor\":\"#506784\",\"ticks\":\"\",\"title\":{\"standoff\":15},\"zerolinecolor\":\"#283442\",\"automargin\":true,\"zerolinewidth\":2},\"yaxis\":{\"gridcolor\":\"#283442\",\"linecolor\":\"#506784\",\"ticks\":\"\",\"title\":{\"standoff\":15},\"zerolinecolor\":\"#283442\",\"automargin\":true,\"zerolinewidth\":2},\"scene\":{\"xaxis\":{\"backgroundcolor\":\"rgb(17,17,17)\",\"gridcolor\":\"#506784\",\"linecolor\":\"#506784\",\"showbackground\":true,\"ticks\":\"\",\"zerolinecolor\":\"#C8D4E3\",\"gridwidth\":2},\"yaxis\":{\"backgroundcolor\":\"rgb(17,17,17)\",\"gridcolor\":\"#506784\",\"linecolor\":\"#506784\",\"showbackground\":true,\"ticks\":\"\",\"zerolinecolor\":\"#C8D4E3\",\"gridwidth\":2},\"zaxis\":{\"backgroundcolor\":\"rgb(17,17,17)\",\"gridcolor\":\"#506784\",\"linecolor\":\"#506784\",\"showbackground\":true,\"ticks\":\"\",\"zerolinecolor\":\"#C8D4E3\",\"gridwidth\":2}},\"shapedefaults\":{\"line\":{\"color\":\"#f2f5fa\"}},\"annotationdefaults\":{\"arrowcolor\":\"#f2f5fa\",\"arrowhead\":0,\"arrowwidth\":1},\"geo\":{\"bgcolor\":\"rgb(17,17,17)\",\"landcolor\":\"rgb(17,17,17)\",\"subunitcolor\":\"#506784\",\"showland\":true,\"showlakes\":true,\"lakecolor\":\"rgb(17,17,17)\"},\"title\":{\"x\":0.05},\"updatemenudefaults\":{\"bgcolor\":\"#506784\",\"borderwidth\":0},\"sliderdefaults\":{\"bgcolor\":\"#C8D4E3\",\"borderwidth\":1,\"bordercolor\":\"rgb(17,17,17)\",\"tickwidth\":0},\"mapbox\":{\"style\":\"dark\"}}},\"xaxis\":{\"anchor\":\"y\",\"domain\":[0.0,1.0]},\"yaxis\":{\"anchor\":\"x\",\"domain\":[0.575,1.0]},\"xaxis2\":{\"anchor\":\"y2\",\"domain\":[0.0,1.0]},\"yaxis2\":{\"anchor\":\"x2\",\"domain\":[0.0,0.425]}},                        {\"responsive\": true}                    ).then(function(){\n                            \nvar gd = document.getElementById('173e1572-ae33-4e24-bf5a-6e0675f2f799');\nvar x = new MutationObserver(function (mutations, observer) {{\n        var display = window.getComputedStyle(gd).display;\n        if (!display || display === 'none') {{\n            console.log([gd, 'removed!']);\n            Plotly.purge(gd);\n            observer.disconnect();\n        }}\n}});\n\n// Listen for the removal of the full notebook cells\nvar notebookContainer = gd.closest('#notebook-container');\nif (notebookContainer) {{\n    x.observe(notebookContainer, {childList: true});\n}}\n\n// Listen for the clearing of the current output cell\nvar outputEl = gd.closest('.output');\nif (outputEl) {{\n    x.observe(outputEl, {childList: true});\n}}\n\n                        })                };                });            </script>        </div>"
     },
     "metadata": {},
     "output_type": "display_data"
    }
   ],
   "source": [
    "# plot\n",
    "x = ['3.1 Beta-solenoid', '3.2 Alpha/beta solenoid',\n",
    "     '3.3 Alpha-solenoid', '3.4 Beta hairpins', '3.6 Box', '4.1 TIM-barrel', '4.2 Beta-barrel / beta hairpins',\n",
    "     '4.3 Beta-trefoil', '4.4 Propeller', '4.5 Alpha/beta prism',\n",
    "     '4.6 Alpha-barrel', '4.7 Alpha/beta barrel','4.9 Alpha/beta trefoil',  '4.10 Aligned prism',\n",
    "     '5.1 Alpha-beads', '5.2 Beta-beads', '5.3 Alpha/beta-beads', '5.4 Beta sandwich beads', '5.5 Alpha/beta sandwich beads']\n",
    "\n",
    "# RDBL 1\n",
    "\n",
    "fig = make_subplots(rows=2, cols=1)\n",
    "fig.add_trace(go.Bar(\n",
    "    y= np.array(df_top[('RDB2','bacc')].values.tolist()) -  np.array(df_top[('RDB1','bacc')].values.tolist()),\n",
    "    x=x,\n",
    "    name='accuracy',\n",
    "    marker_color='#EDAE49'\n",
    "), row=1, col=1)\n",
    "fig.add_trace(go.Bar(\n",
    "    y=np.array(df_top[('RDB2','p')].values.tolist()) - np.array(df_top[('RDB1','p')].values.tolist()),\n",
    "    x=x,\n",
    "    name='precision',\n",
    "    marker_color='#D1495B'\n",
    "), row=1, col=1)\n",
    "fig.add_trace(go.Bar(\n",
    "    y=np.array(df_top[('RDB2','se')].values.tolist()) - np.array(df_top[('RDB1','se')].values.tolist()),\n",
    "    x=x,\n",
    "    name='recall',\n",
    "    marker_color='#00798C'\n",
    "), row=1, col=1)\n",
    "fig.add_trace(go.Bar(\n",
    "    y=np.array(df_top[('RDB2','f1')].values.tolist()) - np.array(df_top[('RDB1','f1')].values.tolist()),\n",
    "    x=x,\n",
    "    name='f-score',\n",
    "    marker_color='#003D5B'\n",
    "), row=1, col=1)"
   ],
   "metadata": {
    "collapsed": false,
    "ExecuteTime": {
     "end_time": "2023-05-17T14:13:29.969144095Z",
     "start_time": "2023-05-17T14:13:29.926583179Z"
    }
   }
  },
  {
   "cell_type": "code",
   "execution_count": 91,
   "outputs": [],
   "source": [
    " # PDBS distribution\n",
    "df_pdbs = pd.DataFrame.from_dict(Counter(df_topologies['topologies']), orient='index', columns=['#PDBs'])\n",
    "\n",
    "fig.add_trace(go.Bar(\n",
    "    y=df_pdbs['#PDBs'].values.tolist(),\n",
    "    x=x,\n",
    "    name='PDBs',\n",
    "    marker_color='#003D5F'\n",
    "), row=2, col=1)\n",
    "fig.update_layout(title='RepeatsDB-lite2 - RepeatsDB-lite1', width=1000, height=1000)\n",
    "fig.write_image(\"plots/a_p_r_m_dataset_rdb3.png\")"
   ],
   "metadata": {
    "collapsed": false,
    "ExecuteTime": {
     "end_time": "2023-05-17T14:13:34.914111907Z",
     "start_time": "2023-05-17T14:13:34.819009586Z"
    }
   }
  },
  {
   "cell_type": "code",
   "execution_count": 89,
   "outputs": [],
   "source": [
    "# RDBL 1\n",
    "\n",
    "fig1 = make_subplots(rows=1, cols=1)\n",
    "fig1.add_trace(go.Bar(\n",
    "    y= df_top[('RDB1','bacc')].values.tolist(),\n",
    "    x=x,\n",
    "    name='accuracy',\n",
    "    marker_color='#EDAE49'\n",
    "), row=1, col=1)\n",
    "fig1.add_trace(go.Bar(\n",
    "    y=df_top[('RDB1','p')].values.tolist(),\n",
    "    x=x,\n",
    "    name='precision',\n",
    "    marker_color='#D1495B'\n",
    "), row=1, col=1)\n",
    "fig1.add_trace(go.Bar(\n",
    "    y=df_top[('RDB1','se')].values.tolist(),\n",
    "    x=x,\n",
    "    name='recall',\n",
    "    marker_color='#00798C'\n",
    "), row=1, col=1)\n",
    "fig1.add_trace(go.Bar(\n",
    "    y=df_top[('RDB2','f1')].values.tolist(),\n",
    "    x=x,\n",
    "    name='f-score',\n",
    "    marker_color='#003D5B'\n",
    "), row=1, col=1)\n",
    "fig1.write_image(\"plots/a_p_r_m_dataset_rdb1.png\")"
   ],
   "metadata": {
    "collapsed": false,
    "ExecuteTime": {
     "end_time": "2023-05-17T14:13:03.322760096Z",
     "start_time": "2023-05-17T14:13:03.237488825Z"
    }
   }
  },
  {
   "cell_type": "code",
   "execution_count": 88,
   "outputs": [],
   "source": [
    "# RDBL 2\n",
    "\n",
    "fig2 = make_subplots(rows=1, cols=1)\n",
    "fig2.add_trace(go.Bar(\n",
    "    y= df_top[('RDB2','bacc')].values.tolist(),\n",
    "    x=x,\n",
    "    name='accuracy',\n",
    "    marker_color='#EDAE49'\n",
    "), row=1, col=1)\n",
    "fig2.add_trace(go.Bar(\n",
    "    y=df_top[('RDB2','p')].values.tolist(),\n",
    "    x=x,\n",
    "    name='precision',\n",
    "    marker_color='#D1495B'\n",
    "), row=1, col=1)\n",
    "fig2.add_trace(go.Bar(\n",
    "    y=df_top[('RDB2','se')].values.tolist(),\n",
    "    x=x,\n",
    "    name='recall',\n",
    "    marker_color='#00798C'\n",
    "), row=1, col=1)\n",
    "fig2.add_trace(go.Bar(\n",
    "    y=df_top[('RDB2','f1')].values.tolist(),\n",
    "    x=x,\n",
    "    name='f-score',\n",
    "    marker_color='#003D5B'\n",
    "), row=1, col=1)\n",
    "fig2.write_image(\"plots/a_p_r_m_dataset_rdb2.png\")"
   ],
   "metadata": {
    "collapsed": false,
    "ExecuteTime": {
     "end_time": "2023-05-17T14:12:35.078762770Z",
     "start_time": "2023-05-17T14:12:35.013655148Z"
    }
   }
  },
  {
   "cell_type": "code",
   "execution_count": null,
   "outputs": [],
   "source": [],
   "metadata": {
    "collapsed": false
   }
  }
 ],
 "metadata": {
  "kernelspec": {
   "display_name": "Python 3",
   "language": "python",
   "name": "python3"
  },
  "language_info": {
   "codemirror_mode": {
    "name": "ipython",
    "version": 2
   },
   "file_extension": ".py",
   "mimetype": "text/x-python",
   "name": "python",
   "nbconvert_exporter": "python",
   "pygments_lexer": "ipython2",
   "version": "2.7.6"
  }
 },
 "nbformat": 4,
 "nbformat_minor": 0
}
