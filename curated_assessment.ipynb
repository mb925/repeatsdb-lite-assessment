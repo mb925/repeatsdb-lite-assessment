{
 "cells": [
  {
   "cell_type": "code",
   "execution_count": 13,
   "outputs": [],
   "source": [
    "import pandas as pd\n",
    "import numpy as np\n",
    "import math"
   ],
   "metadata": {
    "collapsed": false,
    "ExecuteTime": {
     "end_time": "2023-05-15T14:44:29.393314888Z",
     "start_time": "2023-05-15T14:44:29.348814688Z"
    }
   }
  },
  {
   "cell_type": "code",
   "execution_count": 14,
   "outputs": [],
   "source": [
    "def calc_metrics(tp, tn, fp, fn):\n",
    "    # balanced accuracy\n",
    "    se_total = tp + fn\n",
    "    sp_total = fp + tn\n",
    "\n",
    "    # Sensitivity / recall / TPR\n",
    "    se = 0\n",
    "    if se_total > 0:\n",
    "        se = tp / se_total\n",
    "\n",
    "    # Specificity / TNR\n",
    "    sp = 0\n",
    "    if sp_total > 0:\n",
    "        sp = tn / sp_total\n",
    "\n",
    "    # Balanced accuracy (Sensitivity + specificity) / 2\n",
    "    bacc = (se + sp) / 2\n",
    "\n",
    "    # Precision / PPV\n",
    "    p_total = tp + fp\n",
    "    p = 0\n",
    "    if p_total > 0:\n",
    "        p = tp / p_total\n",
    "\n",
    "    # F1 score\n",
    "    f1 = 0\n",
    "    if (p + se) > 0:\n",
    "        f1 = 2 * ((p * se)/(p+se))\n",
    "\n",
    "    # MCC\n",
    "    mcc = np.nan\n",
    "    d = math.sqrt((tp + fp)*(tp + fn)*(tn + fp)*(tn + fn))\n",
    "    if d > 0:\n",
    "        mcc = ((tp * tn) - (fp * fn)) / d\n",
    "\n",
    "    return [bacc, p, se, sp, f1, mcc]"
   ],
   "metadata": {
    "collapsed": false,
    "ExecuteTime": {
     "end_time": "2023-05-15T14:44:29.393617163Z",
     "start_time": "2023-05-15T14:44:29.392574006Z"
    }
   }
  },
  {
   "cell_type": "code",
   "execution_count": 15,
   "outputs": [
    {
     "name": "stderr",
     "output_type": "stream",
     "text": [
      "/tmp/ipykernel_1190557/2562673253.py:2: DtypeWarning: Columns (3,13,15) have mixed types. Specify dtype option on import or set low_memory=False.\n",
      "  df_pos = pd.read_csv('data/binary_pdbs_classes.csv')\n",
      "/tmp/ipykernel_1190557/2562673253.py:3: DtypeWarning: Columns (3) have mixed types. Specify dtype option on import or set low_memory=False.\n",
      "  df_neg = pd.read_csv('data/binary_pdb_negatives.csv')\n"
     ]
    },
    {
     "data": {
      "text/plain": "       pdb_id pdb_chain  seqres_index pdb_residue_id REGION  CURATED  RDB1  \\\n2        3u3w         B             3            3.0      0        0     1   \n3        3u3w         B             4            4.0      0        0     1   \n4        3u3w         B             5            5.0      0        0     1   \n5        3u3w         B             6            6.0      0        0     1   \n6        3u3w         B             7            7.0      0        0     1   \n...       ...       ...           ...            ...    ...      ...   ...   \n733045   6b9i         A           284          284.0    NaN        0     0   \n733046   6b9i         A           285          285.0    NaN        0     0   \n733047   6b9i         A           286          286.0    NaN        0     0   \n733048   6b9i         A           287          287.0    NaN        0     0   \n733049   6b9i         A           288          288.0    NaN        0     0   \n\n        RDB2  CATEGORY UNIT_CURATED   UNIT_RDB1 UNIT_RDB2    PDB classes  \\\n2          0         1            0  3u3wB_3_21         0  3u3wB       3   \n3          0         1            0  3u3wB_3_21         0  3u3wB       3   \n4          0         1            0  3u3wB_3_21         0  3u3wB       3   \n5          0         1            0  3u3wB_3_21         0  3u3wB       3   \n6          0         1            0  3u3wB_3_21         0  3u3wB       3   \n...      ...       ...          ...         ...       ...    ...     ...   \n733045     0         0            0           0         0  6b9iA     NaN   \n733046     0         0            0           0         0  6b9iA     NaN   \n733047     0         0            0           0         0  6b9iA     NaN   \n733048     0         0            0           0         0  6b9iA     NaN   \n733049     0         0            0           0         0  6b9iA     NaN   \n\n            classes_names topologies topologies_names  \n2       Elongated repeats        3.3   Alpha-solenoid  \n3       Elongated repeats        3.3   Alpha-solenoid  \n4       Elongated repeats        3.3   Alpha-solenoid  \n5       Elongated repeats        3.3   Alpha-solenoid  \n6       Elongated repeats        3.3   Alpha-solenoid  \n...                   ...        ...              ...  \n733045                NaN        NaN              NaN  \n733046                NaN        NaN              NaN  \n733047                NaN        NaN              NaN  \n733048                NaN        NaN              NaN  \n733049                NaN        NaN              NaN  \n\n[1986904 rows x 17 columns]",
      "text/html": "<div>\n<style scoped>\n    .dataframe tbody tr th:only-of-type {\n        vertical-align: middle;\n    }\n\n    .dataframe tbody tr th {\n        vertical-align: top;\n    }\n\n    .dataframe thead th {\n        text-align: right;\n    }\n</style>\n<table border=\"1\" class=\"dataframe\">\n  <thead>\n    <tr style=\"text-align: right;\">\n      <th></th>\n      <th>pdb_id</th>\n      <th>pdb_chain</th>\n      <th>seqres_index</th>\n      <th>pdb_residue_id</th>\n      <th>REGION</th>\n      <th>CURATED</th>\n      <th>RDB1</th>\n      <th>RDB2</th>\n      <th>CATEGORY</th>\n      <th>UNIT_CURATED</th>\n      <th>UNIT_RDB1</th>\n      <th>UNIT_RDB2</th>\n      <th>PDB</th>\n      <th>classes</th>\n      <th>classes_names</th>\n      <th>topologies</th>\n      <th>topologies_names</th>\n    </tr>\n  </thead>\n  <tbody>\n    <tr>\n      <th>2</th>\n      <td>3u3w</td>\n      <td>B</td>\n      <td>3</td>\n      <td>3.0</td>\n      <td>0</td>\n      <td>0</td>\n      <td>1</td>\n      <td>0</td>\n      <td>1</td>\n      <td>0</td>\n      <td>3u3wB_3_21</td>\n      <td>0</td>\n      <td>3u3wB</td>\n      <td>3</td>\n      <td>Elongated repeats</td>\n      <td>3.3</td>\n      <td>Alpha-solenoid</td>\n    </tr>\n    <tr>\n      <th>3</th>\n      <td>3u3w</td>\n      <td>B</td>\n      <td>4</td>\n      <td>4.0</td>\n      <td>0</td>\n      <td>0</td>\n      <td>1</td>\n      <td>0</td>\n      <td>1</td>\n      <td>0</td>\n      <td>3u3wB_3_21</td>\n      <td>0</td>\n      <td>3u3wB</td>\n      <td>3</td>\n      <td>Elongated repeats</td>\n      <td>3.3</td>\n      <td>Alpha-solenoid</td>\n    </tr>\n    <tr>\n      <th>4</th>\n      <td>3u3w</td>\n      <td>B</td>\n      <td>5</td>\n      <td>5.0</td>\n      <td>0</td>\n      <td>0</td>\n      <td>1</td>\n      <td>0</td>\n      <td>1</td>\n      <td>0</td>\n      <td>3u3wB_3_21</td>\n      <td>0</td>\n      <td>3u3wB</td>\n      <td>3</td>\n      <td>Elongated repeats</td>\n      <td>3.3</td>\n      <td>Alpha-solenoid</td>\n    </tr>\n    <tr>\n      <th>5</th>\n      <td>3u3w</td>\n      <td>B</td>\n      <td>6</td>\n      <td>6.0</td>\n      <td>0</td>\n      <td>0</td>\n      <td>1</td>\n      <td>0</td>\n      <td>1</td>\n      <td>0</td>\n      <td>3u3wB_3_21</td>\n      <td>0</td>\n      <td>3u3wB</td>\n      <td>3</td>\n      <td>Elongated repeats</td>\n      <td>3.3</td>\n      <td>Alpha-solenoid</td>\n    </tr>\n    <tr>\n      <th>6</th>\n      <td>3u3w</td>\n      <td>B</td>\n      <td>7</td>\n      <td>7.0</td>\n      <td>0</td>\n      <td>0</td>\n      <td>1</td>\n      <td>0</td>\n      <td>1</td>\n      <td>0</td>\n      <td>3u3wB_3_21</td>\n      <td>0</td>\n      <td>3u3wB</td>\n      <td>3</td>\n      <td>Elongated repeats</td>\n      <td>3.3</td>\n      <td>Alpha-solenoid</td>\n    </tr>\n    <tr>\n      <th>...</th>\n      <td>...</td>\n      <td>...</td>\n      <td>...</td>\n      <td>...</td>\n      <td>...</td>\n      <td>...</td>\n      <td>...</td>\n      <td>...</td>\n      <td>...</td>\n      <td>...</td>\n      <td>...</td>\n      <td>...</td>\n      <td>...</td>\n      <td>...</td>\n      <td>...</td>\n      <td>...</td>\n      <td>...</td>\n    </tr>\n    <tr>\n      <th>733045</th>\n      <td>6b9i</td>\n      <td>A</td>\n      <td>284</td>\n      <td>284.0</td>\n      <td>NaN</td>\n      <td>0</td>\n      <td>0</td>\n      <td>0</td>\n      <td>0</td>\n      <td>0</td>\n      <td>0</td>\n      <td>0</td>\n      <td>6b9iA</td>\n      <td>NaN</td>\n      <td>NaN</td>\n      <td>NaN</td>\n      <td>NaN</td>\n    </tr>\n    <tr>\n      <th>733046</th>\n      <td>6b9i</td>\n      <td>A</td>\n      <td>285</td>\n      <td>285.0</td>\n      <td>NaN</td>\n      <td>0</td>\n      <td>0</td>\n      <td>0</td>\n      <td>0</td>\n      <td>0</td>\n      <td>0</td>\n      <td>0</td>\n      <td>6b9iA</td>\n      <td>NaN</td>\n      <td>NaN</td>\n      <td>NaN</td>\n      <td>NaN</td>\n    </tr>\n    <tr>\n      <th>733047</th>\n      <td>6b9i</td>\n      <td>A</td>\n      <td>286</td>\n      <td>286.0</td>\n      <td>NaN</td>\n      <td>0</td>\n      <td>0</td>\n      <td>0</td>\n      <td>0</td>\n      <td>0</td>\n      <td>0</td>\n      <td>0</td>\n      <td>6b9iA</td>\n      <td>NaN</td>\n      <td>NaN</td>\n      <td>NaN</td>\n      <td>NaN</td>\n    </tr>\n    <tr>\n      <th>733048</th>\n      <td>6b9i</td>\n      <td>A</td>\n      <td>287</td>\n      <td>287.0</td>\n      <td>NaN</td>\n      <td>0</td>\n      <td>0</td>\n      <td>0</td>\n      <td>0</td>\n      <td>0</td>\n      <td>0</td>\n      <td>0</td>\n      <td>6b9iA</td>\n      <td>NaN</td>\n      <td>NaN</td>\n      <td>NaN</td>\n      <td>NaN</td>\n    </tr>\n    <tr>\n      <th>733049</th>\n      <td>6b9i</td>\n      <td>A</td>\n      <td>288</td>\n      <td>288.0</td>\n      <td>NaN</td>\n      <td>0</td>\n      <td>0</td>\n      <td>0</td>\n      <td>0</td>\n      <td>0</td>\n      <td>0</td>\n      <td>0</td>\n      <td>6b9iA</td>\n      <td>NaN</td>\n      <td>NaN</td>\n      <td>NaN</td>\n      <td>NaN</td>\n    </tr>\n  </tbody>\n</table>\n<p>1986904 rows × 17 columns</p>\n</div>"
     },
     "execution_count": 15,
     "metadata": {},
     "output_type": "execute_result"
    }
   ],
   "source": [
    "# dataset\n",
    "df_pos = pd.read_csv('data/binary_pdbs_classes.csv')\n",
    "df_neg = pd.read_csv('data/binary_pdb_negatives.csv')\n",
    "df = pd.concat([df_pos, df_neg])\n",
    "df = df.loc[df['pdb_residue_id'].notnull()] # filter missing residues\n",
    "df"
   ],
   "metadata": {
    "collapsed": false,
    "ExecuteTime": {
     "end_time": "2023-05-15T14:44:31.330788569Z",
     "start_time": "2023-05-15T14:44:29.392720115Z"
    }
   }
  },
  {
   "cell_type": "code",
   "execution_count": 16,
   "outputs": [
    {
     "data": {
      "text/plain": "(672384, 1314520, 1284181, 702723)"
     },
     "execution_count": 16,
     "metadata": {},
     "output_type": "execute_result"
    }
   ],
   "source": [
    "# REPEATSDB-LITE EVALUATION (generate tables)\n",
    "# Repeats detection at the protein level (PDB chains)\n",
    "\n",
    "# rdb1\n",
    "df['TP_1'] = np.where((df['RDB1'] == df['CURATED']) & (df['CURATED'] == 1), 1, 0)\n",
    "df['TN_1'] = np.where((df['RDB1'] == df['CURATED']) & (df['CURATED'] == 0), 1, 0)\n",
    "df['FP_1'] = np.where((df['RDB1'] != df['CURATED']) & (df['CURATED'] == 0), 1, 0)\n",
    "df['FN_1'] = np.where((df['RDB1'] != df['CURATED']) & (df['CURATED'] == 1), 1, 0)\n",
    "\n",
    "df['TP_2'] = np.where((df['RDB2'] == df['CURATED']) & (df['CURATED'] == 1), 1, 0)\n",
    "df['TN_2'] = np.where((df['RDB2'] == df['CURATED']) & (df['CURATED'] == 0), 1, 0)\n",
    "df['FP_2'] = np.where((df['RDB2'] != df['CURATED']) & (df['CURATED'] == 0), 1, 0)\n",
    "df['FN_2'] = np.where((df['RDB2'] != df['CURATED']) & (df['CURATED'] == 1), 1, 0)\n",
    "\n",
    "df"
   ],
   "metadata": {
    "collapsed": false,
    "ExecuteTime": {
     "end_time": "2023-05-15T14:44:31.649544434Z",
     "start_time": "2023-05-15T14:44:31.350499953Z"
    }
   }
  },
  {
   "cell_type": "code",
   "execution_count": 17,
   "outputs": [
    {
     "data": {
      "text/plain": "       pdb_id pdb_chain  seqres_index pdb_residue_id REGION  CURATED  RDB1  \\\n2        3u3w         B             3            3.0      0        0     1   \n3        3u3w         B             4            4.0      0        0     1   \n4        3u3w         B             5            5.0      0        0     1   \n5        3u3w         B             6            6.0      0        0     1   \n6        3u3w         B             7            7.0      0        0     1   \n...       ...       ...           ...            ...    ...      ...   ...   \n733045   6b9i         A           284          284.0    NaN        0     0   \n733046   6b9i         A           285          285.0    NaN        0     0   \n733047   6b9i         A           286          286.0    NaN        0     0   \n733048   6b9i         A           287          287.0    NaN        0     0   \n733049   6b9i         A           288          288.0    NaN        0     0   \n\n        RDB2  CATEGORY UNIT_CURATED  ... topologies topologies_names TP_1  \\\n2          0         1            0  ...        3.3   Alpha-solenoid    0   \n3          0         1            0  ...        3.3   Alpha-solenoid    0   \n4          0         1            0  ...        3.3   Alpha-solenoid    0   \n5          0         1            0  ...        3.3   Alpha-solenoid    0   \n6          0         1            0  ...        3.3   Alpha-solenoid    0   \n...      ...       ...          ...  ...        ...              ...  ...   \n733045     0         0            0  ...        NaN              NaN    0   \n733046     0         0            0  ...        NaN              NaN    0   \n733047     0         0            0  ...        NaN              NaN    0   \n733048     0         0            0  ...        NaN              NaN    0   \n733049     0         0            0  ...        NaN              NaN    0   \n\n       TN_1 FP_1 FN_1 TP_2  TN_2  FP_2  FN_2  \n2         0    1    0    0     1     0     0  \n3         0    1    0    0     1     0     0  \n4         0    1    0    0     1     0     0  \n5         0    1    0    0     1     0     0  \n6         0    1    0    0     1     0     0  \n...     ...  ...  ...  ...   ...   ...   ...  \n733045    1    0    0    0     1     0     0  \n733046    1    0    0    0     1     0     0  \n733047    1    0    0    0     1     0     0  \n733048    1    0    0    0     1     0     0  \n733049    1    0    0    0     1     0     0  \n\n[1986904 rows x 25 columns]",
      "text/html": "<div>\n<style scoped>\n    .dataframe tbody tr th:only-of-type {\n        vertical-align: middle;\n    }\n\n    .dataframe tbody tr th {\n        vertical-align: top;\n    }\n\n    .dataframe thead th {\n        text-align: right;\n    }\n</style>\n<table border=\"1\" class=\"dataframe\">\n  <thead>\n    <tr style=\"text-align: right;\">\n      <th></th>\n      <th>pdb_id</th>\n      <th>pdb_chain</th>\n      <th>seqres_index</th>\n      <th>pdb_residue_id</th>\n      <th>REGION</th>\n      <th>CURATED</th>\n      <th>RDB1</th>\n      <th>RDB2</th>\n      <th>CATEGORY</th>\n      <th>UNIT_CURATED</th>\n      <th>...</th>\n      <th>topologies</th>\n      <th>topologies_names</th>\n      <th>TP_1</th>\n      <th>TN_1</th>\n      <th>FP_1</th>\n      <th>FN_1</th>\n      <th>TP_2</th>\n      <th>TN_2</th>\n      <th>FP_2</th>\n      <th>FN_2</th>\n    </tr>\n  </thead>\n  <tbody>\n    <tr>\n      <th>2</th>\n      <td>3u3w</td>\n      <td>B</td>\n      <td>3</td>\n      <td>3.0</td>\n      <td>0</td>\n      <td>0</td>\n      <td>1</td>\n      <td>0</td>\n      <td>1</td>\n      <td>0</td>\n      <td>...</td>\n      <td>3.3</td>\n      <td>Alpha-solenoid</td>\n      <td>0</td>\n      <td>0</td>\n      <td>1</td>\n      <td>0</td>\n      <td>0</td>\n      <td>1</td>\n      <td>0</td>\n      <td>0</td>\n    </tr>\n    <tr>\n      <th>3</th>\n      <td>3u3w</td>\n      <td>B</td>\n      <td>4</td>\n      <td>4.0</td>\n      <td>0</td>\n      <td>0</td>\n      <td>1</td>\n      <td>0</td>\n      <td>1</td>\n      <td>0</td>\n      <td>...</td>\n      <td>3.3</td>\n      <td>Alpha-solenoid</td>\n      <td>0</td>\n      <td>0</td>\n      <td>1</td>\n      <td>0</td>\n      <td>0</td>\n      <td>1</td>\n      <td>0</td>\n      <td>0</td>\n    </tr>\n    <tr>\n      <th>4</th>\n      <td>3u3w</td>\n      <td>B</td>\n      <td>5</td>\n      <td>5.0</td>\n      <td>0</td>\n      <td>0</td>\n      <td>1</td>\n      <td>0</td>\n      <td>1</td>\n      <td>0</td>\n      <td>...</td>\n      <td>3.3</td>\n      <td>Alpha-solenoid</td>\n      <td>0</td>\n      <td>0</td>\n      <td>1</td>\n      <td>0</td>\n      <td>0</td>\n      <td>1</td>\n      <td>0</td>\n      <td>0</td>\n    </tr>\n    <tr>\n      <th>5</th>\n      <td>3u3w</td>\n      <td>B</td>\n      <td>6</td>\n      <td>6.0</td>\n      <td>0</td>\n      <td>0</td>\n      <td>1</td>\n      <td>0</td>\n      <td>1</td>\n      <td>0</td>\n      <td>...</td>\n      <td>3.3</td>\n      <td>Alpha-solenoid</td>\n      <td>0</td>\n      <td>0</td>\n      <td>1</td>\n      <td>0</td>\n      <td>0</td>\n      <td>1</td>\n      <td>0</td>\n      <td>0</td>\n    </tr>\n    <tr>\n      <th>6</th>\n      <td>3u3w</td>\n      <td>B</td>\n      <td>7</td>\n      <td>7.0</td>\n      <td>0</td>\n      <td>0</td>\n      <td>1</td>\n      <td>0</td>\n      <td>1</td>\n      <td>0</td>\n      <td>...</td>\n      <td>3.3</td>\n      <td>Alpha-solenoid</td>\n      <td>0</td>\n      <td>0</td>\n      <td>1</td>\n      <td>0</td>\n      <td>0</td>\n      <td>1</td>\n      <td>0</td>\n      <td>0</td>\n    </tr>\n    <tr>\n      <th>...</th>\n      <td>...</td>\n      <td>...</td>\n      <td>...</td>\n      <td>...</td>\n      <td>...</td>\n      <td>...</td>\n      <td>...</td>\n      <td>...</td>\n      <td>...</td>\n      <td>...</td>\n      <td>...</td>\n      <td>...</td>\n      <td>...</td>\n      <td>...</td>\n      <td>...</td>\n      <td>...</td>\n      <td>...</td>\n      <td>...</td>\n      <td>...</td>\n      <td>...</td>\n      <td>...</td>\n    </tr>\n    <tr>\n      <th>733045</th>\n      <td>6b9i</td>\n      <td>A</td>\n      <td>284</td>\n      <td>284.0</td>\n      <td>NaN</td>\n      <td>0</td>\n      <td>0</td>\n      <td>0</td>\n      <td>0</td>\n      <td>0</td>\n      <td>...</td>\n      <td>NaN</td>\n      <td>NaN</td>\n      <td>0</td>\n      <td>1</td>\n      <td>0</td>\n      <td>0</td>\n      <td>0</td>\n      <td>1</td>\n      <td>0</td>\n      <td>0</td>\n    </tr>\n    <tr>\n      <th>733046</th>\n      <td>6b9i</td>\n      <td>A</td>\n      <td>285</td>\n      <td>285.0</td>\n      <td>NaN</td>\n      <td>0</td>\n      <td>0</td>\n      <td>0</td>\n      <td>0</td>\n      <td>0</td>\n      <td>...</td>\n      <td>NaN</td>\n      <td>NaN</td>\n      <td>0</td>\n      <td>1</td>\n      <td>0</td>\n      <td>0</td>\n      <td>0</td>\n      <td>1</td>\n      <td>0</td>\n      <td>0</td>\n    </tr>\n    <tr>\n      <th>733047</th>\n      <td>6b9i</td>\n      <td>A</td>\n      <td>286</td>\n      <td>286.0</td>\n      <td>NaN</td>\n      <td>0</td>\n      <td>0</td>\n      <td>0</td>\n      <td>0</td>\n      <td>0</td>\n      <td>...</td>\n      <td>NaN</td>\n      <td>NaN</td>\n      <td>0</td>\n      <td>1</td>\n      <td>0</td>\n      <td>0</td>\n      <td>0</td>\n      <td>1</td>\n      <td>0</td>\n      <td>0</td>\n    </tr>\n    <tr>\n      <th>733048</th>\n      <td>6b9i</td>\n      <td>A</td>\n      <td>287</td>\n      <td>287.0</td>\n      <td>NaN</td>\n      <td>0</td>\n      <td>0</td>\n      <td>0</td>\n      <td>0</td>\n      <td>0</td>\n      <td>...</td>\n      <td>NaN</td>\n      <td>NaN</td>\n      <td>0</td>\n      <td>1</td>\n      <td>0</td>\n      <td>0</td>\n      <td>0</td>\n      <td>1</td>\n      <td>0</td>\n      <td>0</td>\n    </tr>\n    <tr>\n      <th>733049</th>\n      <td>6b9i</td>\n      <td>A</td>\n      <td>288</td>\n      <td>288.0</td>\n      <td>NaN</td>\n      <td>0</td>\n      <td>0</td>\n      <td>0</td>\n      <td>0</td>\n      <td>0</td>\n      <td>...</td>\n      <td>NaN</td>\n      <td>NaN</td>\n      <td>0</td>\n      <td>1</td>\n      <td>0</td>\n      <td>0</td>\n      <td>0</td>\n      <td>1</td>\n      <td>0</td>\n      <td>0</td>\n    </tr>\n  </tbody>\n</table>\n<p>1986904 rows × 25 columns</p>\n</div>"
     },
     "execution_count": 17,
     "metadata": {},
     "output_type": "execute_result"
    }
   ],
   "source": [
    "df_prot = df.groupby(['pdb_id', 'pdb_chain']).agg({'CATEGORY': 'first', 'seqres_index':'count','TP_1': 'sum', 'TN_1': 'sum', 'FP_1': 'sum', 'FN_1': 'sum', 'TP_2': 'sum', 'TN_2': 'sum', 'FP_2': 'sum', 'FN_2': 'sum'})\n",
    "df_prot.reset_index(inplace=True)\n",
    "df_prot"
   ],
   "metadata": {
    "collapsed": false,
    "ExecuteTime": {
     "end_time": "2023-05-15T14:44:32.076505102Z",
     "start_time": "2023-05-15T14:44:31.653740880Z"
    }
   }
  },
  {
   "cell_type": "code",
   "execution_count": 70,
   "outputs": [
    {
     "data": {
      "text/plain": "     pdb_id pdb_chain  CATEGORY  seqres_index  TP_1  TN_1  FP_1  FN_1  TP_2  \\\n0      102l         A         0           163     0    71    92     0     0   \n1      13pk         A         0           415     0   346    69     0     0   \n2      1a0t         P         1           413     0     2     0   411   353   \n3      1a0t         Q         1           413   256     0     2   155   192   \n4      1a12         A         1           401   357    18     0    26   357   \n...     ...       ...       ...           ...   ...   ...   ...   ...   ...   \n5252   7w3h         a         1           373     0   161     0   212   155   \n5253   7w3i         a         1           373     0   161     0   212   152   \n5254   7w3j         a         1           373     0   161     0   212   194   \n5255   7w3k         a         1           373     0   161     0   212   204   \n5256   7wgo         A         0           276     0   182    94     0     0   \n\n      TN_2  FP_2  FN_2  \n0       49   114     0  \n1      217   198     0  \n2        2     0    58  \n3        2     0   219  \n4        6    12    26  \n...    ...   ...   ...  \n5252    70    91    57  \n5253    58   103    60  \n5254   156     5    18  \n5255   104    57     8  \n5256    88   188     0  \n\n[5257 rows x 12 columns]",
      "text/html": "<div>\n<style scoped>\n    .dataframe tbody tr th:only-of-type {\n        vertical-align: middle;\n    }\n\n    .dataframe tbody tr th {\n        vertical-align: top;\n    }\n\n    .dataframe thead th {\n        text-align: right;\n    }\n</style>\n<table border=\"1\" class=\"dataframe\">\n  <thead>\n    <tr style=\"text-align: right;\">\n      <th></th>\n      <th>pdb_id</th>\n      <th>pdb_chain</th>\n      <th>CATEGORY</th>\n      <th>seqres_index</th>\n      <th>TP_1</th>\n      <th>TN_1</th>\n      <th>FP_1</th>\n      <th>FN_1</th>\n      <th>TP_2</th>\n      <th>TN_2</th>\n      <th>FP_2</th>\n      <th>FN_2</th>\n    </tr>\n  </thead>\n  <tbody>\n    <tr>\n      <th>0</th>\n      <td>102l</td>\n      <td>A</td>\n      <td>0</td>\n      <td>163</td>\n      <td>0</td>\n      <td>71</td>\n      <td>92</td>\n      <td>0</td>\n      <td>0</td>\n      <td>49</td>\n      <td>114</td>\n      <td>0</td>\n    </tr>\n    <tr>\n      <th>1</th>\n      <td>13pk</td>\n      <td>A</td>\n      <td>0</td>\n      <td>415</td>\n      <td>0</td>\n      <td>346</td>\n      <td>69</td>\n      <td>0</td>\n      <td>0</td>\n      <td>217</td>\n      <td>198</td>\n      <td>0</td>\n    </tr>\n    <tr>\n      <th>2</th>\n      <td>1a0t</td>\n      <td>P</td>\n      <td>1</td>\n      <td>413</td>\n      <td>0</td>\n      <td>2</td>\n      <td>0</td>\n      <td>411</td>\n      <td>353</td>\n      <td>2</td>\n      <td>0</td>\n      <td>58</td>\n    </tr>\n    <tr>\n      <th>3</th>\n      <td>1a0t</td>\n      <td>Q</td>\n      <td>1</td>\n      <td>413</td>\n      <td>256</td>\n      <td>0</td>\n      <td>2</td>\n      <td>155</td>\n      <td>192</td>\n      <td>2</td>\n      <td>0</td>\n      <td>219</td>\n    </tr>\n    <tr>\n      <th>4</th>\n      <td>1a12</td>\n      <td>A</td>\n      <td>1</td>\n      <td>401</td>\n      <td>357</td>\n      <td>18</td>\n      <td>0</td>\n      <td>26</td>\n      <td>357</td>\n      <td>6</td>\n      <td>12</td>\n      <td>26</td>\n    </tr>\n    <tr>\n      <th>...</th>\n      <td>...</td>\n      <td>...</td>\n      <td>...</td>\n      <td>...</td>\n      <td>...</td>\n      <td>...</td>\n      <td>...</td>\n      <td>...</td>\n      <td>...</td>\n      <td>...</td>\n      <td>...</td>\n      <td>...</td>\n    </tr>\n    <tr>\n      <th>5252</th>\n      <td>7w3h</td>\n      <td>a</td>\n      <td>1</td>\n      <td>373</td>\n      <td>0</td>\n      <td>161</td>\n      <td>0</td>\n      <td>212</td>\n      <td>155</td>\n      <td>70</td>\n      <td>91</td>\n      <td>57</td>\n    </tr>\n    <tr>\n      <th>5253</th>\n      <td>7w3i</td>\n      <td>a</td>\n      <td>1</td>\n      <td>373</td>\n      <td>0</td>\n      <td>161</td>\n      <td>0</td>\n      <td>212</td>\n      <td>152</td>\n      <td>58</td>\n      <td>103</td>\n      <td>60</td>\n    </tr>\n    <tr>\n      <th>5254</th>\n      <td>7w3j</td>\n      <td>a</td>\n      <td>1</td>\n      <td>373</td>\n      <td>0</td>\n      <td>161</td>\n      <td>0</td>\n      <td>212</td>\n      <td>194</td>\n      <td>156</td>\n      <td>5</td>\n      <td>18</td>\n    </tr>\n    <tr>\n      <th>5255</th>\n      <td>7w3k</td>\n      <td>a</td>\n      <td>1</td>\n      <td>373</td>\n      <td>0</td>\n      <td>161</td>\n      <td>0</td>\n      <td>212</td>\n      <td>204</td>\n      <td>104</td>\n      <td>57</td>\n      <td>8</td>\n    </tr>\n    <tr>\n      <th>5256</th>\n      <td>7wgo</td>\n      <td>A</td>\n      <td>0</td>\n      <td>276</td>\n      <td>0</td>\n      <td>182</td>\n      <td>94</td>\n      <td>0</td>\n      <td>0</td>\n      <td>88</td>\n      <td>188</td>\n      <td>0</td>\n    </tr>\n  </tbody>\n</table>\n<p>5257 rows × 12 columns</p>\n</div>"
     },
     "execution_count": 70,
     "metadata": {},
     "output_type": "execute_result"
    }
   ],
   "source": [
    "df_prot.set_index(['pdb_id', 'pdb_chain', 'seqres_index'], inplace=True)\n",
    "df_prot = df_prot.drop(columns=['CATEGORY'])\n",
    "df_prot.columns=pd.MultiIndex.from_arrays([['RDB1', 'RDB1', 'RDB1', 'RDB1', 'RDB2', 'RDB2', 'RDB2', 'RDB2'], ['TP', 'TN', 'FP', 'FN', 'TP', 'TN', 'FP', 'FN']])\n",
    "df_prot"
   ],
   "metadata": {
    "collapsed": false,
    "ExecuteTime": {
     "end_time": "2023-05-15T15:18:08.485946777Z",
     "start_time": "2023-05-15T15:18:08.268598988Z"
    }
   }
  },
  {
   "cell_type": "code",
   "execution_count": 76,
   "outputs": [],
   "source": [
    "# tp, tn fp, fn\n",
    "# bacc, p, se, sp, f1, mcc\n",
    "print(*df_prot['RDB1'].sum(), calc_metrics(*df_prot['RDB1'].sum()))\n",
    "print(*df_prot['RDB2'].sum(), calc_metrics(*df_prot['RDB2'].sum()))"
   ],
   "metadata": {
    "collapsed": false,
    "ExecuteTime": {
     "end_time": "2023-05-15T15:19:31.646025119Z",
     "start_time": "2023-05-15T15:19:31.610341885Z"
    }
   }
  },
  {
   "cell_type": "code",
   "execution_count": 20,
   "outputs": [
    {
     "name": "stdout",
     "output_type": "stream",
     "text": [
      "451973 756711 220411 557809 [0.6110115008186754, 0.672194757757472, 0.4475946293358368, 0.7744283723015141, 0.5373702714238665, 0.2345815727683996]\n",
      "768967 461908 515214 240815 [0.6171203941721346, 0.5987995461698935, 0.7615178325618797, 0.4727229557823895, 0.6704266808139451, 0.2449319979510994]\n"
     ]
    }
   ],
   "source": [
    "# apply calc_metrics function to each row for both RDB1 and RDB2\n",
    "data = []\n",
    "for index, row in df_prot.iterrows():\n",
    "    # print(*row['RDB1'], *calc_metrics(*row['RDB1']))\n",
    "    data.append([index[0], index[1], index[2], *row[:4], *calc_metrics(*row['RDB1']), *row[4:], *calc_metrics(*row['RDB2'])])\n",
    "df_ = pd.DataFrame(data)\n",
    "df_"
   ],
   "metadata": {
    "collapsed": false,
    "ExecuteTime": {
     "end_time": "2023-05-15T14:44:32.418564735Z",
     "start_time": "2023-05-15T14:44:32.323888292Z"
    }
   }
  },
  {
   "cell_type": "code",
   "execution_count": 21,
   "outputs": [
    {
     "data": {
      "text/plain": "        0  1    2    3    4   5    6         7         8         9   ...   13  \\\n0     102l  A  163    0   71  92    0  0.217791  0.000000  0.000000  ...    0   \n1     13pk  A  415    0  346  69    0  0.416867  0.000000  0.000000  ...    0   \n2     1a0t  P  413    0    2   0  411  0.500000  0.000000  0.000000  ...  353   \n3     1a0t  Q  413  256    0   2  155  0.311436  0.992248  0.622871  ...  192   \n4     1a12  A  401  357   18   0   26  0.966057  1.000000  0.932115  ...  357   \n...    ... ..  ...  ...  ...  ..  ...       ...       ...       ...  ...  ...   \n5252  7w3h  a  373    0  161   0  212  0.500000  0.000000  0.000000  ...  155   \n5253  7w3i  a  373    0  161   0  212  0.500000  0.000000  0.000000  ...  152   \n5254  7w3j  a  373    0  161   0  212  0.500000  0.000000  0.000000  ...  194   \n5255  7w3k  a  373    0  161   0  212  0.500000  0.000000  0.000000  ...  204   \n5256  7wgo  A  276    0  182  94    0  0.329710  0.000000  0.000000  ...    0   \n\n       14   15   16        17        18        19        20        21  \\\n0      49  114    0  0.150307  0.000000  0.000000  0.300613  0.000000   \n1     217  198    0  0.261446  0.000000  0.000000  0.522892  0.000000   \n2       2    0   58  0.929440  1.000000  0.858881  1.000000  0.924084   \n3       2    0  219  0.733577  1.000000  0.467153  1.000000  0.636816   \n4       6   12   26  0.632724  0.967480  0.932115  0.333333  0.949468   \n...   ...  ...  ...       ...       ...       ...       ...       ...   \n5252   70   91   57  0.582957  0.630081  0.731132  0.434783  0.676856   \n5253   58  103   60  0.538615  0.596078  0.716981  0.360248  0.650964   \n5254  156    5   18  0.942019  0.974874  0.915094  0.968944  0.944039   \n5255  104   57    8  0.804113  0.781609  0.962264  0.645963  0.862579   \n5256   88  188    0  0.159420  0.000000  0.000000  0.318841  0.000000   \n\n            22  \n0          NaN  \n1          NaN  \n2     0.169202  \n3     0.065020  \n4     0.202828  \n...        ...  \n5252  0.173419  \n5253  0.082253  \n5254  0.877710  \n5255  0.657230  \n5256       NaN  \n\n[5257 rows x 23 columns]",
      "text/html": "<div>\n<style scoped>\n    .dataframe tbody tr th:only-of-type {\n        vertical-align: middle;\n    }\n\n    .dataframe tbody tr th {\n        vertical-align: top;\n    }\n\n    .dataframe thead th {\n        text-align: right;\n    }\n</style>\n<table border=\"1\" class=\"dataframe\">\n  <thead>\n    <tr style=\"text-align: right;\">\n      <th></th>\n      <th>0</th>\n      <th>1</th>\n      <th>2</th>\n      <th>3</th>\n      <th>4</th>\n      <th>5</th>\n      <th>6</th>\n      <th>7</th>\n      <th>8</th>\n      <th>9</th>\n      <th>...</th>\n      <th>13</th>\n      <th>14</th>\n      <th>15</th>\n      <th>16</th>\n      <th>17</th>\n      <th>18</th>\n      <th>19</th>\n      <th>20</th>\n      <th>21</th>\n      <th>22</th>\n    </tr>\n  </thead>\n  <tbody>\n    <tr>\n      <th>0</th>\n      <td>102l</td>\n      <td>A</td>\n      <td>163</td>\n      <td>0</td>\n      <td>71</td>\n      <td>92</td>\n      <td>0</td>\n      <td>0.217791</td>\n      <td>0.000000</td>\n      <td>0.000000</td>\n      <td>...</td>\n      <td>0</td>\n      <td>49</td>\n      <td>114</td>\n      <td>0</td>\n      <td>0.150307</td>\n      <td>0.000000</td>\n      <td>0.000000</td>\n      <td>0.300613</td>\n      <td>0.000000</td>\n      <td>NaN</td>\n    </tr>\n    <tr>\n      <th>1</th>\n      <td>13pk</td>\n      <td>A</td>\n      <td>415</td>\n      <td>0</td>\n      <td>346</td>\n      <td>69</td>\n      <td>0</td>\n      <td>0.416867</td>\n      <td>0.000000</td>\n      <td>0.000000</td>\n      <td>...</td>\n      <td>0</td>\n      <td>217</td>\n      <td>198</td>\n      <td>0</td>\n      <td>0.261446</td>\n      <td>0.000000</td>\n      <td>0.000000</td>\n      <td>0.522892</td>\n      <td>0.000000</td>\n      <td>NaN</td>\n    </tr>\n    <tr>\n      <th>2</th>\n      <td>1a0t</td>\n      <td>P</td>\n      <td>413</td>\n      <td>0</td>\n      <td>2</td>\n      <td>0</td>\n      <td>411</td>\n      <td>0.500000</td>\n      <td>0.000000</td>\n      <td>0.000000</td>\n      <td>...</td>\n      <td>353</td>\n      <td>2</td>\n      <td>0</td>\n      <td>58</td>\n      <td>0.929440</td>\n      <td>1.000000</td>\n      <td>0.858881</td>\n      <td>1.000000</td>\n      <td>0.924084</td>\n      <td>0.169202</td>\n    </tr>\n    <tr>\n      <th>3</th>\n      <td>1a0t</td>\n      <td>Q</td>\n      <td>413</td>\n      <td>256</td>\n      <td>0</td>\n      <td>2</td>\n      <td>155</td>\n      <td>0.311436</td>\n      <td>0.992248</td>\n      <td>0.622871</td>\n      <td>...</td>\n      <td>192</td>\n      <td>2</td>\n      <td>0</td>\n      <td>219</td>\n      <td>0.733577</td>\n      <td>1.000000</td>\n      <td>0.467153</td>\n      <td>1.000000</td>\n      <td>0.636816</td>\n      <td>0.065020</td>\n    </tr>\n    <tr>\n      <th>4</th>\n      <td>1a12</td>\n      <td>A</td>\n      <td>401</td>\n      <td>357</td>\n      <td>18</td>\n      <td>0</td>\n      <td>26</td>\n      <td>0.966057</td>\n      <td>1.000000</td>\n      <td>0.932115</td>\n      <td>...</td>\n      <td>357</td>\n      <td>6</td>\n      <td>12</td>\n      <td>26</td>\n      <td>0.632724</td>\n      <td>0.967480</td>\n      <td>0.932115</td>\n      <td>0.333333</td>\n      <td>0.949468</td>\n      <td>0.202828</td>\n    </tr>\n    <tr>\n      <th>...</th>\n      <td>...</td>\n      <td>...</td>\n      <td>...</td>\n      <td>...</td>\n      <td>...</td>\n      <td>...</td>\n      <td>...</td>\n      <td>...</td>\n      <td>...</td>\n      <td>...</td>\n      <td>...</td>\n      <td>...</td>\n      <td>...</td>\n      <td>...</td>\n      <td>...</td>\n      <td>...</td>\n      <td>...</td>\n      <td>...</td>\n      <td>...</td>\n      <td>...</td>\n      <td>...</td>\n    </tr>\n    <tr>\n      <th>5252</th>\n      <td>7w3h</td>\n      <td>a</td>\n      <td>373</td>\n      <td>0</td>\n      <td>161</td>\n      <td>0</td>\n      <td>212</td>\n      <td>0.500000</td>\n      <td>0.000000</td>\n      <td>0.000000</td>\n      <td>...</td>\n      <td>155</td>\n      <td>70</td>\n      <td>91</td>\n      <td>57</td>\n      <td>0.582957</td>\n      <td>0.630081</td>\n      <td>0.731132</td>\n      <td>0.434783</td>\n      <td>0.676856</td>\n      <td>0.173419</td>\n    </tr>\n    <tr>\n      <th>5253</th>\n      <td>7w3i</td>\n      <td>a</td>\n      <td>373</td>\n      <td>0</td>\n      <td>161</td>\n      <td>0</td>\n      <td>212</td>\n      <td>0.500000</td>\n      <td>0.000000</td>\n      <td>0.000000</td>\n      <td>...</td>\n      <td>152</td>\n      <td>58</td>\n      <td>103</td>\n      <td>60</td>\n      <td>0.538615</td>\n      <td>0.596078</td>\n      <td>0.716981</td>\n      <td>0.360248</td>\n      <td>0.650964</td>\n      <td>0.082253</td>\n    </tr>\n    <tr>\n      <th>5254</th>\n      <td>7w3j</td>\n      <td>a</td>\n      <td>373</td>\n      <td>0</td>\n      <td>161</td>\n      <td>0</td>\n      <td>212</td>\n      <td>0.500000</td>\n      <td>0.000000</td>\n      <td>0.000000</td>\n      <td>...</td>\n      <td>194</td>\n      <td>156</td>\n      <td>5</td>\n      <td>18</td>\n      <td>0.942019</td>\n      <td>0.974874</td>\n      <td>0.915094</td>\n      <td>0.968944</td>\n      <td>0.944039</td>\n      <td>0.877710</td>\n    </tr>\n    <tr>\n      <th>5255</th>\n      <td>7w3k</td>\n      <td>a</td>\n      <td>373</td>\n      <td>0</td>\n      <td>161</td>\n      <td>0</td>\n      <td>212</td>\n      <td>0.500000</td>\n      <td>0.000000</td>\n      <td>0.000000</td>\n      <td>...</td>\n      <td>204</td>\n      <td>104</td>\n      <td>57</td>\n      <td>8</td>\n      <td>0.804113</td>\n      <td>0.781609</td>\n      <td>0.962264</td>\n      <td>0.645963</td>\n      <td>0.862579</td>\n      <td>0.657230</td>\n    </tr>\n    <tr>\n      <th>5256</th>\n      <td>7wgo</td>\n      <td>A</td>\n      <td>276</td>\n      <td>0</td>\n      <td>182</td>\n      <td>94</td>\n      <td>0</td>\n      <td>0.329710</td>\n      <td>0.000000</td>\n      <td>0.000000</td>\n      <td>...</td>\n      <td>0</td>\n      <td>88</td>\n      <td>188</td>\n      <td>0</td>\n      <td>0.159420</td>\n      <td>0.000000</td>\n      <td>0.000000</td>\n      <td>0.318841</td>\n      <td>0.000000</td>\n      <td>NaN</td>\n    </tr>\n  </tbody>\n</table>\n<p>5257 rows × 23 columns</p>\n</div>"
     },
     "execution_count": 21,
     "metadata": {},
     "output_type": "execute_result"
    }
   ],
   "source": [
    "df_.columns=pd.MultiIndex.from_arrays([[None, None, None, 'RDB1', 'RDB1', 'RDB1', 'RDB1', 'RDB1', 'RDB1', 'RDB1', 'RDB1', 'RDB1', 'RDB1', 'RDB2', 'RDB2', 'RDB2', 'RDB2', 'RDB2', 'RDB2', 'RDB2', 'RDB2', 'RDB2', 'RDB2'], ['pdb_id', 'pdb_chain', 'length', 'TP', 'TN', 'FP', 'FN', 'bacc', 'p', 'se', 'sp', 'f1', 'mcc', 'TP', 'TN', 'FP', 'FN', 'bacc', 'p', 'se', 'sp', 'f1', 'mcc']])\n",
    "df_"
   ],
   "metadata": {
    "collapsed": false,
    "ExecuteTime": {
     "end_time": "2023-05-15T14:44:33.794483773Z",
     "start_time": "2023-05-15T14:44:32.360036808Z"
    }
   }
  },
  {
   "cell_type": "code",
   "execution_count": 22,
   "outputs": [
    {
     "data": {
      "text/plain": "        NaN                  RDB1                                              \\\n     pdb_id pdb_chain length   TP   TN  FP   FN      bacc         p        se   \n0      102l         A    163    0   71  92    0  0.217791  0.000000  0.000000   \n1      13pk         A    415    0  346  69    0  0.416867  0.000000  0.000000   \n2      1a0t         P    413    0    2   0  411  0.500000  0.000000  0.000000   \n3      1a0t         Q    413  256    0   2  155  0.311436  0.992248  0.622871   \n4      1a12         A    401  357   18   0   26  0.966057  1.000000  0.932115   \n...     ...       ...    ...  ...  ...  ..  ...       ...       ...       ...   \n5252   7w3h         a    373    0  161   0  212  0.500000  0.000000  0.000000   \n5253   7w3i         a    373    0  161   0  212  0.500000  0.000000  0.000000   \n5254   7w3j         a    373    0  161   0  212  0.500000  0.000000  0.000000   \n5255   7w3k         a    373    0  161   0  212  0.500000  0.000000  0.000000   \n5256   7wgo         A    276    0  182  94    0  0.329710  0.000000  0.000000   \n\n      ... RDB2                                                         \\\n      ...   TP   TN   FP   FN      bacc         p        se        sp   \n0     ...    0   49  114    0  0.150307  0.000000  0.000000  0.300613   \n1     ...    0  217  198    0  0.261446  0.000000  0.000000  0.522892   \n2     ...  353    2    0   58  0.929440  1.000000  0.858881  1.000000   \n3     ...  192    2    0  219  0.733577  1.000000  0.467153  1.000000   \n4     ...  357    6   12   26  0.632724  0.967480  0.932115  0.333333   \n...   ...  ...  ...  ...  ...       ...       ...       ...       ...   \n5252  ...  155   70   91   57  0.582957  0.630081  0.731132  0.434783   \n5253  ...  152   58  103   60  0.538615  0.596078  0.716981  0.360248   \n5254  ...  194  156    5   18  0.942019  0.974874  0.915094  0.968944   \n5255  ...  204  104   57    8  0.804113  0.781609  0.962264  0.645963   \n5256  ...    0   88  188    0  0.159420  0.000000  0.000000  0.318841   \n\n                          \n            f1       mcc  \n0     0.000000       NaN  \n1     0.000000       NaN  \n2     0.924084  0.169202  \n3     0.636816  0.065020  \n4     0.949468  0.202828  \n...        ...       ...  \n5252  0.676856  0.173419  \n5253  0.650964  0.082253  \n5254  0.944039  0.877710  \n5255  0.862579  0.657230  \n5256  0.000000       NaN  \n\n[5257 rows x 23 columns]",
      "text/html": "<div>\n<style scoped>\n    .dataframe tbody tr th:only-of-type {\n        vertical-align: middle;\n    }\n\n    .dataframe tbody tr th {\n        vertical-align: top;\n    }\n\n    .dataframe thead tr th {\n        text-align: left;\n    }\n</style>\n<table border=\"1\" class=\"dataframe\">\n  <thead>\n    <tr>\n      <th></th>\n      <th colspan=\"3\" halign=\"left\">NaN</th>\n      <th colspan=\"7\" halign=\"left\">RDB1</th>\n      <th>...</th>\n      <th colspan=\"10\" halign=\"left\">RDB2</th>\n    </tr>\n    <tr>\n      <th></th>\n      <th>pdb_id</th>\n      <th>pdb_chain</th>\n      <th>length</th>\n      <th>TP</th>\n      <th>TN</th>\n      <th>FP</th>\n      <th>FN</th>\n      <th>bacc</th>\n      <th>p</th>\n      <th>se</th>\n      <th>...</th>\n      <th>TP</th>\n      <th>TN</th>\n      <th>FP</th>\n      <th>FN</th>\n      <th>bacc</th>\n      <th>p</th>\n      <th>se</th>\n      <th>sp</th>\n      <th>f1</th>\n      <th>mcc</th>\n    </tr>\n  </thead>\n  <tbody>\n    <tr>\n      <th>0</th>\n      <td>102l</td>\n      <td>A</td>\n      <td>163</td>\n      <td>0</td>\n      <td>71</td>\n      <td>92</td>\n      <td>0</td>\n      <td>0.217791</td>\n      <td>0.000000</td>\n      <td>0.000000</td>\n      <td>...</td>\n      <td>0</td>\n      <td>49</td>\n      <td>114</td>\n      <td>0</td>\n      <td>0.150307</td>\n      <td>0.000000</td>\n      <td>0.000000</td>\n      <td>0.300613</td>\n      <td>0.000000</td>\n      <td>NaN</td>\n    </tr>\n    <tr>\n      <th>1</th>\n      <td>13pk</td>\n      <td>A</td>\n      <td>415</td>\n      <td>0</td>\n      <td>346</td>\n      <td>69</td>\n      <td>0</td>\n      <td>0.416867</td>\n      <td>0.000000</td>\n      <td>0.000000</td>\n      <td>...</td>\n      <td>0</td>\n      <td>217</td>\n      <td>198</td>\n      <td>0</td>\n      <td>0.261446</td>\n      <td>0.000000</td>\n      <td>0.000000</td>\n      <td>0.522892</td>\n      <td>0.000000</td>\n      <td>NaN</td>\n    </tr>\n    <tr>\n      <th>2</th>\n      <td>1a0t</td>\n      <td>P</td>\n      <td>413</td>\n      <td>0</td>\n      <td>2</td>\n      <td>0</td>\n      <td>411</td>\n      <td>0.500000</td>\n      <td>0.000000</td>\n      <td>0.000000</td>\n      <td>...</td>\n      <td>353</td>\n      <td>2</td>\n      <td>0</td>\n      <td>58</td>\n      <td>0.929440</td>\n      <td>1.000000</td>\n      <td>0.858881</td>\n      <td>1.000000</td>\n      <td>0.924084</td>\n      <td>0.169202</td>\n    </tr>\n    <tr>\n      <th>3</th>\n      <td>1a0t</td>\n      <td>Q</td>\n      <td>413</td>\n      <td>256</td>\n      <td>0</td>\n      <td>2</td>\n      <td>155</td>\n      <td>0.311436</td>\n      <td>0.992248</td>\n      <td>0.622871</td>\n      <td>...</td>\n      <td>192</td>\n      <td>2</td>\n      <td>0</td>\n      <td>219</td>\n      <td>0.733577</td>\n      <td>1.000000</td>\n      <td>0.467153</td>\n      <td>1.000000</td>\n      <td>0.636816</td>\n      <td>0.065020</td>\n    </tr>\n    <tr>\n      <th>4</th>\n      <td>1a12</td>\n      <td>A</td>\n      <td>401</td>\n      <td>357</td>\n      <td>18</td>\n      <td>0</td>\n      <td>26</td>\n      <td>0.966057</td>\n      <td>1.000000</td>\n      <td>0.932115</td>\n      <td>...</td>\n      <td>357</td>\n      <td>6</td>\n      <td>12</td>\n      <td>26</td>\n      <td>0.632724</td>\n      <td>0.967480</td>\n      <td>0.932115</td>\n      <td>0.333333</td>\n      <td>0.949468</td>\n      <td>0.202828</td>\n    </tr>\n    <tr>\n      <th>...</th>\n      <td>...</td>\n      <td>...</td>\n      <td>...</td>\n      <td>...</td>\n      <td>...</td>\n      <td>...</td>\n      <td>...</td>\n      <td>...</td>\n      <td>...</td>\n      <td>...</td>\n      <td>...</td>\n      <td>...</td>\n      <td>...</td>\n      <td>...</td>\n      <td>...</td>\n      <td>...</td>\n      <td>...</td>\n      <td>...</td>\n      <td>...</td>\n      <td>...</td>\n      <td>...</td>\n    </tr>\n    <tr>\n      <th>5252</th>\n      <td>7w3h</td>\n      <td>a</td>\n      <td>373</td>\n      <td>0</td>\n      <td>161</td>\n      <td>0</td>\n      <td>212</td>\n      <td>0.500000</td>\n      <td>0.000000</td>\n      <td>0.000000</td>\n      <td>...</td>\n      <td>155</td>\n      <td>70</td>\n      <td>91</td>\n      <td>57</td>\n      <td>0.582957</td>\n      <td>0.630081</td>\n      <td>0.731132</td>\n      <td>0.434783</td>\n      <td>0.676856</td>\n      <td>0.173419</td>\n    </tr>\n    <tr>\n      <th>5253</th>\n      <td>7w3i</td>\n      <td>a</td>\n      <td>373</td>\n      <td>0</td>\n      <td>161</td>\n      <td>0</td>\n      <td>212</td>\n      <td>0.500000</td>\n      <td>0.000000</td>\n      <td>0.000000</td>\n      <td>...</td>\n      <td>152</td>\n      <td>58</td>\n      <td>103</td>\n      <td>60</td>\n      <td>0.538615</td>\n      <td>0.596078</td>\n      <td>0.716981</td>\n      <td>0.360248</td>\n      <td>0.650964</td>\n      <td>0.082253</td>\n    </tr>\n    <tr>\n      <th>5254</th>\n      <td>7w3j</td>\n      <td>a</td>\n      <td>373</td>\n      <td>0</td>\n      <td>161</td>\n      <td>0</td>\n      <td>212</td>\n      <td>0.500000</td>\n      <td>0.000000</td>\n      <td>0.000000</td>\n      <td>...</td>\n      <td>194</td>\n      <td>156</td>\n      <td>5</td>\n      <td>18</td>\n      <td>0.942019</td>\n      <td>0.974874</td>\n      <td>0.915094</td>\n      <td>0.968944</td>\n      <td>0.944039</td>\n      <td>0.877710</td>\n    </tr>\n    <tr>\n      <th>5255</th>\n      <td>7w3k</td>\n      <td>a</td>\n      <td>373</td>\n      <td>0</td>\n      <td>161</td>\n      <td>0</td>\n      <td>212</td>\n      <td>0.500000</td>\n      <td>0.000000</td>\n      <td>0.000000</td>\n      <td>...</td>\n      <td>204</td>\n      <td>104</td>\n      <td>57</td>\n      <td>8</td>\n      <td>0.804113</td>\n      <td>0.781609</td>\n      <td>0.962264</td>\n      <td>0.645963</td>\n      <td>0.862579</td>\n      <td>0.657230</td>\n    </tr>\n    <tr>\n      <th>5256</th>\n      <td>7wgo</td>\n      <td>A</td>\n      <td>276</td>\n      <td>0</td>\n      <td>182</td>\n      <td>94</td>\n      <td>0</td>\n      <td>0.329710</td>\n      <td>0.000000</td>\n      <td>0.000000</td>\n      <td>...</td>\n      <td>0</td>\n      <td>88</td>\n      <td>188</td>\n      <td>0</td>\n      <td>0.159420</td>\n      <td>0.000000</td>\n      <td>0.000000</td>\n      <td>0.318841</td>\n      <td>0.000000</td>\n      <td>NaN</td>\n    </tr>\n  </tbody>\n</table>\n<p>5257 rows × 23 columns</p>\n</div>"
     },
     "execution_count": 22,
     "metadata": {},
     "output_type": "execute_result"
    }
   ],
   "source": [
    "df_.loc[:, ('RDB1', ['bacc', 'p', 'se', 'sp', 'f1', 'mcc'])]"
   ],
   "metadata": {
    "collapsed": false,
    "ExecuteTime": {
     "end_time": "2023-05-15T14:44:33.794738556Z",
     "start_time": "2023-05-15T14:44:33.793860225Z"
    }
   }
  },
  {
   "cell_type": "code",
   "execution_count": 23,
   "outputs": [
    {
     "data": {
      "text/plain": "          RDB1                                                  \n          bacc         p        se        sp        f1       mcc\n0     0.217791  0.000000  0.000000  0.435583  0.000000       NaN\n1     0.416867  0.000000  0.000000  0.833735  0.000000       NaN\n2     0.500000  0.000000  0.000000  1.000000  0.000000       NaN\n3     0.311436  0.992248  0.622871  0.000000  0.765321 -0.054069\n4     0.966057  1.000000  0.932115  1.000000  0.964865  0.617511\n...        ...       ...       ...       ...       ...       ...\n5252  0.500000  0.000000  0.000000  1.000000  0.000000       NaN\n5253  0.500000  0.000000  0.000000  1.000000  0.000000       NaN\n5254  0.500000  0.000000  0.000000  1.000000  0.000000       NaN\n5255  0.500000  0.000000  0.000000  1.000000  0.000000       NaN\n5256  0.329710  0.000000  0.000000  0.659420  0.000000       NaN\n\n[5257 rows x 6 columns]",
      "text/html": "<div>\n<style scoped>\n    .dataframe tbody tr th:only-of-type {\n        vertical-align: middle;\n    }\n\n    .dataframe tbody tr th {\n        vertical-align: top;\n    }\n\n    .dataframe thead tr th {\n        text-align: left;\n    }\n</style>\n<table border=\"1\" class=\"dataframe\">\n  <thead>\n    <tr>\n      <th></th>\n      <th colspan=\"6\" halign=\"left\">RDB1</th>\n    </tr>\n    <tr>\n      <th></th>\n      <th>bacc</th>\n      <th>p</th>\n      <th>se</th>\n      <th>sp</th>\n      <th>f1</th>\n      <th>mcc</th>\n    </tr>\n  </thead>\n  <tbody>\n    <tr>\n      <th>0</th>\n      <td>0.217791</td>\n      <td>0.000000</td>\n      <td>0.000000</td>\n      <td>0.435583</td>\n      <td>0.000000</td>\n      <td>NaN</td>\n    </tr>\n    <tr>\n      <th>1</th>\n      <td>0.416867</td>\n      <td>0.000000</td>\n      <td>0.000000</td>\n      <td>0.833735</td>\n      <td>0.000000</td>\n      <td>NaN</td>\n    </tr>\n    <tr>\n      <th>2</th>\n      <td>0.500000</td>\n      <td>0.000000</td>\n      <td>0.000000</td>\n      <td>1.000000</td>\n      <td>0.000000</td>\n      <td>NaN</td>\n    </tr>\n    <tr>\n      <th>3</th>\n      <td>0.311436</td>\n      <td>0.992248</td>\n      <td>0.622871</td>\n      <td>0.000000</td>\n      <td>0.765321</td>\n      <td>-0.054069</td>\n    </tr>\n    <tr>\n      <th>4</th>\n      <td>0.966057</td>\n      <td>1.000000</td>\n      <td>0.932115</td>\n      <td>1.000000</td>\n      <td>0.964865</td>\n      <td>0.617511</td>\n    </tr>\n    <tr>\n      <th>...</th>\n      <td>...</td>\n      <td>...</td>\n      <td>...</td>\n      <td>...</td>\n      <td>...</td>\n      <td>...</td>\n    </tr>\n    <tr>\n      <th>5252</th>\n      <td>0.500000</td>\n      <td>0.000000</td>\n      <td>0.000000</td>\n      <td>1.000000</td>\n      <td>0.000000</td>\n      <td>NaN</td>\n    </tr>\n    <tr>\n      <th>5253</th>\n      <td>0.500000</td>\n      <td>0.000000</td>\n      <td>0.000000</td>\n      <td>1.000000</td>\n      <td>0.000000</td>\n      <td>NaN</td>\n    </tr>\n    <tr>\n      <th>5254</th>\n      <td>0.500000</td>\n      <td>0.000000</td>\n      <td>0.000000</td>\n      <td>1.000000</td>\n      <td>0.000000</td>\n      <td>NaN</td>\n    </tr>\n    <tr>\n      <th>5255</th>\n      <td>0.500000</td>\n      <td>0.000000</td>\n      <td>0.000000</td>\n      <td>1.000000</td>\n      <td>0.000000</td>\n      <td>NaN</td>\n    </tr>\n    <tr>\n      <th>5256</th>\n      <td>0.329710</td>\n      <td>0.000000</td>\n      <td>0.000000</td>\n      <td>0.659420</td>\n      <td>0.000000</td>\n      <td>NaN</td>\n    </tr>\n  </tbody>\n</table>\n<p>5257 rows × 6 columns</p>\n</div>"
     },
     "execution_count": 23,
     "metadata": {},
     "output_type": "execute_result"
    }
   ],
   "source": [
    "df_.loc[:,('RDB1', ['bacc', 'p', 'se', 'sp', 'f1', 'mcc'])].boxplot(figsize=(20,10))\n",
    "\n",
    "\n"
   ],
   "metadata": {
    "collapsed": false,
    "ExecuteTime": {
     "end_time": "2023-05-15T14:44:33.933373994Z",
     "start_time": "2023-05-15T14:44:33.794044328Z"
    }
   }
  },
  {
   "cell_type": "code",
   "execution_count": 24,
   "outputs": [
    {
     "data": {
      "text/plain": "<Axes: >"
     },
     "execution_count": 24,
     "metadata": {},
     "output_type": "execute_result"
    }
   ],
   "source": [
    "# df_.loc[:,(slice(None), ['bacc', 'p', 'se', 'sp', 'f1', 'mcc'])].boxplot(figsize=(20,10))"
   ],
   "metadata": {
    "collapsed": false,
    "ExecuteTime": {
     "end_time": "2023-05-15T14:44:33.934134921Z",
     "start_time": "2023-05-15T14:44:33.840511064Z"
    }
   }
  },
  {
   "cell_type": "code",
   "execution_count": 24,
   "outputs": [],
   "source": [
    "#"
   ],
   "metadata": {
    "collapsed": false,
    "ExecuteTime": {
     "end_time": "2023-05-15T14:44:33.934343189Z",
     "start_time": "2023-05-15T14:44:33.875718111Z"
    }
   }
  }
 ],
 "metadata": {
  "kernelspec": {
   "display_name": "Python 3",
   "language": "python",
   "name": "python3"
  },
  "language_info": {
   "codemirror_mode": {
    "name": "ipython",
    "version": 2
   },
   "file_extension": ".py",
   "mimetype": "text/x-python",
   "name": "python",
   "nbconvert_exporter": "python",
   "pygments_lexer": "ipython2",
   "version": "2.7.6"
  }
 },
 "nbformat": 4,
 "nbformat_minor": 0
}
