{
 "cells": [
  {
   "cell_type": "code",
   "execution_count": 1,
   "outputs": [],
   "source": [
    "import pandas as pd\n",
    "import numpy as np\n",
    "import math\n",
    "from plotly.subplots import make_subplots\n",
    "import plotly.graph_objects as go\n",
    "from collections import Counter\n",
    "import plotly.express as px"
   ],
   "metadata": {
    "collapsed": false,
    "ExecuteTime": {
     "end_time": "2023-05-19T14:48:00.498663509Z",
     "start_time": "2023-05-19T14:48:00.318373948Z"
    }
   }
  },
  {
   "cell_type": "code",
   "execution_count": 2,
   "outputs": [],
   "source": [
    "def calc_metrics(tp, tn, fp, fn):\n",
    "    # balanced accuracy\n",
    "    se_total = tp + fn\n",
    "    sp_total = fp + tn\n",
    "\n",
    "    # Sensitivity / recall / TPR\n",
    "    se = 0\n",
    "    if se_total > 0:\n",
    "        se = tp / se_total\n",
    "\n",
    "    # Specificity / TNR\n",
    "    sp = 0\n",
    "    if sp_total > 0:\n",
    "        sp = tn / sp_total\n",
    "\n",
    "    # Balanced accuracy (Sensitivity + specificity) / 2\n",
    "    bacc = (se + sp) / 2\n",
    "\n",
    "    # Precision / PPV\n",
    "    p_total = tp + fp\n",
    "    p = 0\n",
    "    if p_total > 0:\n",
    "        p = tp / p_total\n",
    "\n",
    "    # F1 score\n",
    "    f1 = 0\n",
    "    if (p + se) > 0:\n",
    "        f1 = 2 * ((p * se)/(p+se))\n",
    "\n",
    "    # MCC\n",
    "    mcc = np.nan\n",
    "    d = math.sqrt((tp + fp)*(tp + fn)*(tn + fp)*(tn + fn))\n",
    "    if d > 0:\n",
    "        mcc = ((tp * tn) - (fp * fn)) / d\n",
    "\n",
    "    return [round(bacc, 2), round(p, 2), round(se, 2), round(sp, 2), round(f1,2), round(mcc, 2)]"
   ],
   "metadata": {
    "collapsed": false,
    "ExecuteTime": {
     "end_time": "2023-05-19T14:48:00.503820484Z",
     "start_time": "2023-05-19T14:48:00.502164187Z"
    }
   }
  },
  {
   "cell_type": "code",
   "execution_count": 3,
   "outputs": [
    {
     "name": "stderr",
     "output_type": "stream",
     "text": [
      "/tmp/ipykernel_1378365/2546653529.py:2: DtypeWarning: Columns (3,13,15) have mixed types. Specify dtype option on import or set low_memory=False.\n",
      "  df_pos = pd.read_csv('data/binary_pdbs_classes.csv')\n",
      "/tmp/ipykernel_1378365/2546653529.py:3: DtypeWarning: Columns (3) have mixed types. Specify dtype option on import or set low_memory=False.\n",
      "  df_neg = pd.read_csv('data/binary_pdb_negatives.csv')\n"
     ]
    },
    {
     "data": {
      "text/plain": "       pdb_id pdb_chain  seqres_index pdb_residue_id REGION  CURATED  RDB1  \\\n2        3u3w         B             3            3.0      0        0     1   \n3        3u3w         B             4            4.0      0        0     1   \n4        3u3w         B             5            5.0      0        0     1   \n5        3u3w         B             6            6.0      0        0     1   \n6        3u3w         B             7            7.0      0        0     1   \n...       ...       ...           ...            ...    ...      ...   ...   \n733045   6b9i         A           284          284.0    NaN        0     0   \n733046   6b9i         A           285          285.0    NaN        0     0   \n733047   6b9i         A           286          286.0    NaN        0     0   \n733048   6b9i         A           287          287.0    NaN        0     0   \n733049   6b9i         A           288          288.0    NaN        0     0   \n\n        RDB2  CATEGORY UNIT_CURATED   UNIT_RDB1 UNIT_RDB2    PDB classes  \\\n2          0         1            0  3u3wB_3_21         0  3u3wB       3   \n3          0         1            0  3u3wB_3_21         0  3u3wB       3   \n4          0         1            0  3u3wB_3_21         0  3u3wB       3   \n5          0         1            0  3u3wB_3_21         0  3u3wB       3   \n6          0         1            0  3u3wB_3_21         0  3u3wB       3   \n...      ...       ...          ...         ...       ...    ...     ...   \n733045     0         0            0           0         0  6b9iA     NaN   \n733046     0         0            0           0         0  6b9iA     NaN   \n733047     0         0            0           0         0  6b9iA     NaN   \n733048     0         0            0           0         0  6b9iA     NaN   \n733049     0         0            0           0         0  6b9iA     NaN   \n\n            classes_names topologies topologies_names  \n2       Elongated repeats        3.3   Alpha-solenoid  \n3       Elongated repeats        3.3   Alpha-solenoid  \n4       Elongated repeats        3.3   Alpha-solenoid  \n5       Elongated repeats        3.3   Alpha-solenoid  \n6       Elongated repeats        3.3   Alpha-solenoid  \n...                   ...        ...              ...  \n733045                NaN        NaN              NaN  \n733046                NaN        NaN              NaN  \n733047                NaN        NaN              NaN  \n733048                NaN        NaN              NaN  \n733049                NaN        NaN              NaN  \n\n[1986904 rows x 17 columns]",
      "text/html": "<div>\n<style scoped>\n    .dataframe tbody tr th:only-of-type {\n        vertical-align: middle;\n    }\n\n    .dataframe tbody tr th {\n        vertical-align: top;\n    }\n\n    .dataframe thead th {\n        text-align: right;\n    }\n</style>\n<table border=\"1\" class=\"dataframe\">\n  <thead>\n    <tr style=\"text-align: right;\">\n      <th></th>\n      <th>pdb_id</th>\n      <th>pdb_chain</th>\n      <th>seqres_index</th>\n      <th>pdb_residue_id</th>\n      <th>REGION</th>\n      <th>CURATED</th>\n      <th>RDB1</th>\n      <th>RDB2</th>\n      <th>CATEGORY</th>\n      <th>UNIT_CURATED</th>\n      <th>UNIT_RDB1</th>\n      <th>UNIT_RDB2</th>\n      <th>PDB</th>\n      <th>classes</th>\n      <th>classes_names</th>\n      <th>topologies</th>\n      <th>topologies_names</th>\n    </tr>\n  </thead>\n  <tbody>\n    <tr>\n      <th>2</th>\n      <td>3u3w</td>\n      <td>B</td>\n      <td>3</td>\n      <td>3.0</td>\n      <td>0</td>\n      <td>0</td>\n      <td>1</td>\n      <td>0</td>\n      <td>1</td>\n      <td>0</td>\n      <td>3u3wB_3_21</td>\n      <td>0</td>\n      <td>3u3wB</td>\n      <td>3</td>\n      <td>Elongated repeats</td>\n      <td>3.3</td>\n      <td>Alpha-solenoid</td>\n    </tr>\n    <tr>\n      <th>3</th>\n      <td>3u3w</td>\n      <td>B</td>\n      <td>4</td>\n      <td>4.0</td>\n      <td>0</td>\n      <td>0</td>\n      <td>1</td>\n      <td>0</td>\n      <td>1</td>\n      <td>0</td>\n      <td>3u3wB_3_21</td>\n      <td>0</td>\n      <td>3u3wB</td>\n      <td>3</td>\n      <td>Elongated repeats</td>\n      <td>3.3</td>\n      <td>Alpha-solenoid</td>\n    </tr>\n    <tr>\n      <th>4</th>\n      <td>3u3w</td>\n      <td>B</td>\n      <td>5</td>\n      <td>5.0</td>\n      <td>0</td>\n      <td>0</td>\n      <td>1</td>\n      <td>0</td>\n      <td>1</td>\n      <td>0</td>\n      <td>3u3wB_3_21</td>\n      <td>0</td>\n      <td>3u3wB</td>\n      <td>3</td>\n      <td>Elongated repeats</td>\n      <td>3.3</td>\n      <td>Alpha-solenoid</td>\n    </tr>\n    <tr>\n      <th>5</th>\n      <td>3u3w</td>\n      <td>B</td>\n      <td>6</td>\n      <td>6.0</td>\n      <td>0</td>\n      <td>0</td>\n      <td>1</td>\n      <td>0</td>\n      <td>1</td>\n      <td>0</td>\n      <td>3u3wB_3_21</td>\n      <td>0</td>\n      <td>3u3wB</td>\n      <td>3</td>\n      <td>Elongated repeats</td>\n      <td>3.3</td>\n      <td>Alpha-solenoid</td>\n    </tr>\n    <tr>\n      <th>6</th>\n      <td>3u3w</td>\n      <td>B</td>\n      <td>7</td>\n      <td>7.0</td>\n      <td>0</td>\n      <td>0</td>\n      <td>1</td>\n      <td>0</td>\n      <td>1</td>\n      <td>0</td>\n      <td>3u3wB_3_21</td>\n      <td>0</td>\n      <td>3u3wB</td>\n      <td>3</td>\n      <td>Elongated repeats</td>\n      <td>3.3</td>\n      <td>Alpha-solenoid</td>\n    </tr>\n    <tr>\n      <th>...</th>\n      <td>...</td>\n      <td>...</td>\n      <td>...</td>\n      <td>...</td>\n      <td>...</td>\n      <td>...</td>\n      <td>...</td>\n      <td>...</td>\n      <td>...</td>\n      <td>...</td>\n      <td>...</td>\n      <td>...</td>\n      <td>...</td>\n      <td>...</td>\n      <td>...</td>\n      <td>...</td>\n      <td>...</td>\n    </tr>\n    <tr>\n      <th>733045</th>\n      <td>6b9i</td>\n      <td>A</td>\n      <td>284</td>\n      <td>284.0</td>\n      <td>NaN</td>\n      <td>0</td>\n      <td>0</td>\n      <td>0</td>\n      <td>0</td>\n      <td>0</td>\n      <td>0</td>\n      <td>0</td>\n      <td>6b9iA</td>\n      <td>NaN</td>\n      <td>NaN</td>\n      <td>NaN</td>\n      <td>NaN</td>\n    </tr>\n    <tr>\n      <th>733046</th>\n      <td>6b9i</td>\n      <td>A</td>\n      <td>285</td>\n      <td>285.0</td>\n      <td>NaN</td>\n      <td>0</td>\n      <td>0</td>\n      <td>0</td>\n      <td>0</td>\n      <td>0</td>\n      <td>0</td>\n      <td>0</td>\n      <td>6b9iA</td>\n      <td>NaN</td>\n      <td>NaN</td>\n      <td>NaN</td>\n      <td>NaN</td>\n    </tr>\n    <tr>\n      <th>733047</th>\n      <td>6b9i</td>\n      <td>A</td>\n      <td>286</td>\n      <td>286.0</td>\n      <td>NaN</td>\n      <td>0</td>\n      <td>0</td>\n      <td>0</td>\n      <td>0</td>\n      <td>0</td>\n      <td>0</td>\n      <td>0</td>\n      <td>6b9iA</td>\n      <td>NaN</td>\n      <td>NaN</td>\n      <td>NaN</td>\n      <td>NaN</td>\n    </tr>\n    <tr>\n      <th>733048</th>\n      <td>6b9i</td>\n      <td>A</td>\n      <td>287</td>\n      <td>287.0</td>\n      <td>NaN</td>\n      <td>0</td>\n      <td>0</td>\n      <td>0</td>\n      <td>0</td>\n      <td>0</td>\n      <td>0</td>\n      <td>0</td>\n      <td>6b9iA</td>\n      <td>NaN</td>\n      <td>NaN</td>\n      <td>NaN</td>\n      <td>NaN</td>\n    </tr>\n    <tr>\n      <th>733049</th>\n      <td>6b9i</td>\n      <td>A</td>\n      <td>288</td>\n      <td>288.0</td>\n      <td>NaN</td>\n      <td>0</td>\n      <td>0</td>\n      <td>0</td>\n      <td>0</td>\n      <td>0</td>\n      <td>0</td>\n      <td>0</td>\n      <td>6b9iA</td>\n      <td>NaN</td>\n      <td>NaN</td>\n      <td>NaN</td>\n      <td>NaN</td>\n    </tr>\n  </tbody>\n</table>\n<p>1986904 rows × 17 columns</p>\n</div>"
     },
     "execution_count": 3,
     "metadata": {},
     "output_type": "execute_result"
    }
   ],
   "source": [
    "# dataset\n",
    "df_pos = pd.read_csv('data/binary_pdbs_classes.csv')\n",
    "df_neg = pd.read_csv('data/binary_pdb_negatives.csv')\n",
    "df = pd.concat([df_pos, df_neg])\n",
    "# df = df_pos # uncomment and comment previous line when only positives wanted\n",
    "df = df.loc[df['pdb_residue_id'].notnull()] # filter missing residues\n",
    "df"
   ],
   "metadata": {
    "collapsed": false,
    "ExecuteTime": {
     "end_time": "2023-05-19T14:48:02.627067009Z",
     "start_time": "2023-05-19T14:48:00.505048302Z"
    }
   }
  },
  {
   "cell_type": "code",
   "execution_count": 4,
   "outputs": [
    {
     "data": {
      "text/plain": "       pdb_id pdb_chain  seqres_index pdb_residue_id REGION  CURATED  RDB1  \\\n2        3u3w         B             3            3.0      0        0     1   \n3        3u3w         B             4            4.0      0        0     1   \n4        3u3w         B             5            5.0      0        0     1   \n5        3u3w         B             6            6.0      0        0     1   \n6        3u3w         B             7            7.0      0        0     1   \n...       ...       ...           ...            ...    ...      ...   ...   \n733045   6b9i         A           284          284.0    NaN        0     0   \n733046   6b9i         A           285          285.0    NaN        0     0   \n733047   6b9i         A           286          286.0    NaN        0     0   \n733048   6b9i         A           287          287.0    NaN        0     0   \n733049   6b9i         A           288          288.0    NaN        0     0   \n\n        RDB2  CATEGORY UNIT_CURATED  ... topologies topologies_names TP_1  \\\n2          0         1            0  ...        3.3   Alpha-solenoid    0   \n3          0         1            0  ...        3.3   Alpha-solenoid    0   \n4          0         1            0  ...        3.3   Alpha-solenoid    0   \n5          0         1            0  ...        3.3   Alpha-solenoid    0   \n6          0         1            0  ...        3.3   Alpha-solenoid    0   \n...      ...       ...          ...  ...        ...              ...  ...   \n733045     0         0            0  ...        NaN              NaN    0   \n733046     0         0            0  ...        NaN              NaN    0   \n733047     0         0            0  ...        NaN              NaN    0   \n733048     0         0            0  ...        NaN              NaN    0   \n733049     0         0            0  ...        NaN              NaN    0   \n\n       TN_1 FP_1 FN_1 TP_2  TN_2  FP_2  FN_2  \n2         0    1    0    0     1     0     0  \n3         0    1    0    0     1     0     0  \n4         0    1    0    0     1     0     0  \n5         0    1    0    0     1     0     0  \n6         0    1    0    0     1     0     0  \n...     ...  ...  ...  ...   ...   ...   ...  \n733045    1    0    0    0     1     0     0  \n733046    1    0    0    0     1     0     0  \n733047    1    0    0    0     1     0     0  \n733048    1    0    0    0     1     0     0  \n733049    1    0    0    0     1     0     0  \n\n[1986904 rows x 25 columns]",
      "text/html": "<div>\n<style scoped>\n    .dataframe tbody tr th:only-of-type {\n        vertical-align: middle;\n    }\n\n    .dataframe tbody tr th {\n        vertical-align: top;\n    }\n\n    .dataframe thead th {\n        text-align: right;\n    }\n</style>\n<table border=\"1\" class=\"dataframe\">\n  <thead>\n    <tr style=\"text-align: right;\">\n      <th></th>\n      <th>pdb_id</th>\n      <th>pdb_chain</th>\n      <th>seqres_index</th>\n      <th>pdb_residue_id</th>\n      <th>REGION</th>\n      <th>CURATED</th>\n      <th>RDB1</th>\n      <th>RDB2</th>\n      <th>CATEGORY</th>\n      <th>UNIT_CURATED</th>\n      <th>...</th>\n      <th>topologies</th>\n      <th>topologies_names</th>\n      <th>TP_1</th>\n      <th>TN_1</th>\n      <th>FP_1</th>\n      <th>FN_1</th>\n      <th>TP_2</th>\n      <th>TN_2</th>\n      <th>FP_2</th>\n      <th>FN_2</th>\n    </tr>\n  </thead>\n  <tbody>\n    <tr>\n      <th>2</th>\n      <td>3u3w</td>\n      <td>B</td>\n      <td>3</td>\n      <td>3.0</td>\n      <td>0</td>\n      <td>0</td>\n      <td>1</td>\n      <td>0</td>\n      <td>1</td>\n      <td>0</td>\n      <td>...</td>\n      <td>3.3</td>\n      <td>Alpha-solenoid</td>\n      <td>0</td>\n      <td>0</td>\n      <td>1</td>\n      <td>0</td>\n      <td>0</td>\n      <td>1</td>\n      <td>0</td>\n      <td>0</td>\n    </tr>\n    <tr>\n      <th>3</th>\n      <td>3u3w</td>\n      <td>B</td>\n      <td>4</td>\n      <td>4.0</td>\n      <td>0</td>\n      <td>0</td>\n      <td>1</td>\n      <td>0</td>\n      <td>1</td>\n      <td>0</td>\n      <td>...</td>\n      <td>3.3</td>\n      <td>Alpha-solenoid</td>\n      <td>0</td>\n      <td>0</td>\n      <td>1</td>\n      <td>0</td>\n      <td>0</td>\n      <td>1</td>\n      <td>0</td>\n      <td>0</td>\n    </tr>\n    <tr>\n      <th>4</th>\n      <td>3u3w</td>\n      <td>B</td>\n      <td>5</td>\n      <td>5.0</td>\n      <td>0</td>\n      <td>0</td>\n      <td>1</td>\n      <td>0</td>\n      <td>1</td>\n      <td>0</td>\n      <td>...</td>\n      <td>3.3</td>\n      <td>Alpha-solenoid</td>\n      <td>0</td>\n      <td>0</td>\n      <td>1</td>\n      <td>0</td>\n      <td>0</td>\n      <td>1</td>\n      <td>0</td>\n      <td>0</td>\n    </tr>\n    <tr>\n      <th>5</th>\n      <td>3u3w</td>\n      <td>B</td>\n      <td>6</td>\n      <td>6.0</td>\n      <td>0</td>\n      <td>0</td>\n      <td>1</td>\n      <td>0</td>\n      <td>1</td>\n      <td>0</td>\n      <td>...</td>\n      <td>3.3</td>\n      <td>Alpha-solenoid</td>\n      <td>0</td>\n      <td>0</td>\n      <td>1</td>\n      <td>0</td>\n      <td>0</td>\n      <td>1</td>\n      <td>0</td>\n      <td>0</td>\n    </tr>\n    <tr>\n      <th>6</th>\n      <td>3u3w</td>\n      <td>B</td>\n      <td>7</td>\n      <td>7.0</td>\n      <td>0</td>\n      <td>0</td>\n      <td>1</td>\n      <td>0</td>\n      <td>1</td>\n      <td>0</td>\n      <td>...</td>\n      <td>3.3</td>\n      <td>Alpha-solenoid</td>\n      <td>0</td>\n      <td>0</td>\n      <td>1</td>\n      <td>0</td>\n      <td>0</td>\n      <td>1</td>\n      <td>0</td>\n      <td>0</td>\n    </tr>\n    <tr>\n      <th>...</th>\n      <td>...</td>\n      <td>...</td>\n      <td>...</td>\n      <td>...</td>\n      <td>...</td>\n      <td>...</td>\n      <td>...</td>\n      <td>...</td>\n      <td>...</td>\n      <td>...</td>\n      <td>...</td>\n      <td>...</td>\n      <td>...</td>\n      <td>...</td>\n      <td>...</td>\n      <td>...</td>\n      <td>...</td>\n      <td>...</td>\n      <td>...</td>\n      <td>...</td>\n      <td>...</td>\n    </tr>\n    <tr>\n      <th>733045</th>\n      <td>6b9i</td>\n      <td>A</td>\n      <td>284</td>\n      <td>284.0</td>\n      <td>NaN</td>\n      <td>0</td>\n      <td>0</td>\n      <td>0</td>\n      <td>0</td>\n      <td>0</td>\n      <td>...</td>\n      <td>NaN</td>\n      <td>NaN</td>\n      <td>0</td>\n      <td>1</td>\n      <td>0</td>\n      <td>0</td>\n      <td>0</td>\n      <td>1</td>\n      <td>0</td>\n      <td>0</td>\n    </tr>\n    <tr>\n      <th>733046</th>\n      <td>6b9i</td>\n      <td>A</td>\n      <td>285</td>\n      <td>285.0</td>\n      <td>NaN</td>\n      <td>0</td>\n      <td>0</td>\n      <td>0</td>\n      <td>0</td>\n      <td>0</td>\n      <td>...</td>\n      <td>NaN</td>\n      <td>NaN</td>\n      <td>0</td>\n      <td>1</td>\n      <td>0</td>\n      <td>0</td>\n      <td>0</td>\n      <td>1</td>\n      <td>0</td>\n      <td>0</td>\n    </tr>\n    <tr>\n      <th>733047</th>\n      <td>6b9i</td>\n      <td>A</td>\n      <td>286</td>\n      <td>286.0</td>\n      <td>NaN</td>\n      <td>0</td>\n      <td>0</td>\n      <td>0</td>\n      <td>0</td>\n      <td>0</td>\n      <td>...</td>\n      <td>NaN</td>\n      <td>NaN</td>\n      <td>0</td>\n      <td>1</td>\n      <td>0</td>\n      <td>0</td>\n      <td>0</td>\n      <td>1</td>\n      <td>0</td>\n      <td>0</td>\n    </tr>\n    <tr>\n      <th>733048</th>\n      <td>6b9i</td>\n      <td>A</td>\n      <td>287</td>\n      <td>287.0</td>\n      <td>NaN</td>\n      <td>0</td>\n      <td>0</td>\n      <td>0</td>\n      <td>0</td>\n      <td>0</td>\n      <td>...</td>\n      <td>NaN</td>\n      <td>NaN</td>\n      <td>0</td>\n      <td>1</td>\n      <td>0</td>\n      <td>0</td>\n      <td>0</td>\n      <td>1</td>\n      <td>0</td>\n      <td>0</td>\n    </tr>\n    <tr>\n      <th>733049</th>\n      <td>6b9i</td>\n      <td>A</td>\n      <td>288</td>\n      <td>288.0</td>\n      <td>NaN</td>\n      <td>0</td>\n      <td>0</td>\n      <td>0</td>\n      <td>0</td>\n      <td>0</td>\n      <td>...</td>\n      <td>NaN</td>\n      <td>NaN</td>\n      <td>0</td>\n      <td>1</td>\n      <td>0</td>\n      <td>0</td>\n      <td>0</td>\n      <td>1</td>\n      <td>0</td>\n      <td>0</td>\n    </tr>\n  </tbody>\n</table>\n<p>1986904 rows × 25 columns</p>\n</div>"
     },
     "execution_count": 4,
     "metadata": {},
     "output_type": "execute_result"
    }
   ],
   "source": [
    "# REPEATSDB-LITE EVALUATION (generate tables)\n",
    "\n",
    "# rdb1\n",
    "df['TP_1'] = np.where((df['RDB1'] == df['CURATED']) & (df['CURATED'] == 1), 1, 0)\n",
    "df['TN_1'] = np.where((df['RDB1'] == df['CURATED']) & (df['CURATED'] == 0), 1, 0)\n",
    "df['FP_1'] = np.where((df['RDB1'] != df['CURATED']) & (df['CURATED'] == 0), 1, 0)\n",
    "df['FN_1'] = np.where((df['RDB1'] != df['CURATED']) & (df['CURATED'] == 1), 1, 0)\n",
    "\n",
    "df['TP_2'] = np.where((df['RDB2'] == df['CURATED']) & (df['CURATED'] == 1), 1, 0)\n",
    "df['TN_2'] = np.where((df['RDB2'] == df['CURATED']) & (df['CURATED'] == 0), 1, 0)\n",
    "df['FP_2'] = np.where((df['RDB2'] != df['CURATED']) & (df['CURATED'] == 0), 1, 0)\n",
    "df['FN_2'] = np.where((df['RDB2'] != df['CURATED']) & (df['CURATED'] == 1), 1, 0)\n",
    "\n",
    "df"
   ],
   "metadata": {
    "collapsed": false,
    "ExecuteTime": {
     "end_time": "2023-05-19T14:48:03.115498230Z",
     "start_time": "2023-05-19T14:48:02.631590240Z"
    }
   }
  },
  {
   "cell_type": "code",
   "execution_count": 5,
   "outputs": [
    {
     "data": {
      "text/plain": "     pdb_id pdb_chain  CATEGORY  seqres_index  TP_1  TN_1  FP_1  FN_1  TP_2  \\\n0      102l         A         0           163     0    71    92     0     0   \n1      13pk         A         0           415     0   346    69     0     0   \n2      1a0t         P         1           413     0     2     0   411   353   \n3      1a0t         Q         1           413   256     0     2   155   192   \n4      1a12         A         1           401   357    18     0    26   357   \n...     ...       ...       ...           ...   ...   ...   ...   ...   ...   \n5252   7w3h         a         1           373     0   161     0   212   155   \n5253   7w3i         a         1           373     0   161     0   212   152   \n5254   7w3j         a         1           373     0   161     0   212   194   \n5255   7w3k         a         1           373     0   161     0   212   204   \n5256   7wgo         A         0           276     0   182    94     0     0   \n\n      TN_2  FP_2  FN_2  \n0       49   114     0  \n1      217   198     0  \n2        2     0    58  \n3        2     0   219  \n4        6    12    26  \n...    ...   ...   ...  \n5252    70    91    57  \n5253    58   103    60  \n5254   156     5    18  \n5255   104    57     8  \n5256    88   188     0  \n\n[5257 rows x 12 columns]",
      "text/html": "<div>\n<style scoped>\n    .dataframe tbody tr th:only-of-type {\n        vertical-align: middle;\n    }\n\n    .dataframe tbody tr th {\n        vertical-align: top;\n    }\n\n    .dataframe thead th {\n        text-align: right;\n    }\n</style>\n<table border=\"1\" class=\"dataframe\">\n  <thead>\n    <tr style=\"text-align: right;\">\n      <th></th>\n      <th>pdb_id</th>\n      <th>pdb_chain</th>\n      <th>CATEGORY</th>\n      <th>seqres_index</th>\n      <th>TP_1</th>\n      <th>TN_1</th>\n      <th>FP_1</th>\n      <th>FN_1</th>\n      <th>TP_2</th>\n      <th>TN_2</th>\n      <th>FP_2</th>\n      <th>FN_2</th>\n    </tr>\n  </thead>\n  <tbody>\n    <tr>\n      <th>0</th>\n      <td>102l</td>\n      <td>A</td>\n      <td>0</td>\n      <td>163</td>\n      <td>0</td>\n      <td>71</td>\n      <td>92</td>\n      <td>0</td>\n      <td>0</td>\n      <td>49</td>\n      <td>114</td>\n      <td>0</td>\n    </tr>\n    <tr>\n      <th>1</th>\n      <td>13pk</td>\n      <td>A</td>\n      <td>0</td>\n      <td>415</td>\n      <td>0</td>\n      <td>346</td>\n      <td>69</td>\n      <td>0</td>\n      <td>0</td>\n      <td>217</td>\n      <td>198</td>\n      <td>0</td>\n    </tr>\n    <tr>\n      <th>2</th>\n      <td>1a0t</td>\n      <td>P</td>\n      <td>1</td>\n      <td>413</td>\n      <td>0</td>\n      <td>2</td>\n      <td>0</td>\n      <td>411</td>\n      <td>353</td>\n      <td>2</td>\n      <td>0</td>\n      <td>58</td>\n    </tr>\n    <tr>\n      <th>3</th>\n      <td>1a0t</td>\n      <td>Q</td>\n      <td>1</td>\n      <td>413</td>\n      <td>256</td>\n      <td>0</td>\n      <td>2</td>\n      <td>155</td>\n      <td>192</td>\n      <td>2</td>\n      <td>0</td>\n      <td>219</td>\n    </tr>\n    <tr>\n      <th>4</th>\n      <td>1a12</td>\n      <td>A</td>\n      <td>1</td>\n      <td>401</td>\n      <td>357</td>\n      <td>18</td>\n      <td>0</td>\n      <td>26</td>\n      <td>357</td>\n      <td>6</td>\n      <td>12</td>\n      <td>26</td>\n    </tr>\n    <tr>\n      <th>...</th>\n      <td>...</td>\n      <td>...</td>\n      <td>...</td>\n      <td>...</td>\n      <td>...</td>\n      <td>...</td>\n      <td>...</td>\n      <td>...</td>\n      <td>...</td>\n      <td>...</td>\n      <td>...</td>\n      <td>...</td>\n    </tr>\n    <tr>\n      <th>5252</th>\n      <td>7w3h</td>\n      <td>a</td>\n      <td>1</td>\n      <td>373</td>\n      <td>0</td>\n      <td>161</td>\n      <td>0</td>\n      <td>212</td>\n      <td>155</td>\n      <td>70</td>\n      <td>91</td>\n      <td>57</td>\n    </tr>\n    <tr>\n      <th>5253</th>\n      <td>7w3i</td>\n      <td>a</td>\n      <td>1</td>\n      <td>373</td>\n      <td>0</td>\n      <td>161</td>\n      <td>0</td>\n      <td>212</td>\n      <td>152</td>\n      <td>58</td>\n      <td>103</td>\n      <td>60</td>\n    </tr>\n    <tr>\n      <th>5254</th>\n      <td>7w3j</td>\n      <td>a</td>\n      <td>1</td>\n      <td>373</td>\n      <td>0</td>\n      <td>161</td>\n      <td>0</td>\n      <td>212</td>\n      <td>194</td>\n      <td>156</td>\n      <td>5</td>\n      <td>18</td>\n    </tr>\n    <tr>\n      <th>5255</th>\n      <td>7w3k</td>\n      <td>a</td>\n      <td>1</td>\n      <td>373</td>\n      <td>0</td>\n      <td>161</td>\n      <td>0</td>\n      <td>212</td>\n      <td>204</td>\n      <td>104</td>\n      <td>57</td>\n      <td>8</td>\n    </tr>\n    <tr>\n      <th>5256</th>\n      <td>7wgo</td>\n      <td>A</td>\n      <td>0</td>\n      <td>276</td>\n      <td>0</td>\n      <td>182</td>\n      <td>94</td>\n      <td>0</td>\n      <td>0</td>\n      <td>88</td>\n      <td>188</td>\n      <td>0</td>\n    </tr>\n  </tbody>\n</table>\n<p>5257 rows × 12 columns</p>\n</div>"
     },
     "execution_count": 5,
     "metadata": {},
     "output_type": "execute_result"
    }
   ],
   "source": [
    "df_prot = df.groupby(['pdb_id', 'pdb_chain']).agg({'CATEGORY': 'first', 'seqres_index':'count','TP_1': 'sum', 'TN_1': 'sum', 'FP_1': 'sum', 'FN_1': 'sum', 'TP_2': 'sum', 'TN_2': 'sum', 'FP_2': 'sum', 'FN_2': 'sum'})\n",
    "df_prot.reset_index(inplace=True)\n",
    "df_prot"
   ],
   "metadata": {
    "collapsed": false,
    "ExecuteTime": {
     "end_time": "2023-05-19T14:48:03.389290391Z",
     "start_time": "2023-05-19T14:48:03.171492177Z"
    }
   }
  },
  {
   "cell_type": "code",
   "execution_count": 6,
   "outputs": [],
   "source": [
    "# protein level matrix\n",
    "# rdb1\n",
    "df_prot_lvl = pd.DataFrame()\n",
    "df_prot_lvl['TP_1'] = np.where(((df_prot['TP_1'] > 0) | (df_prot['FP_1'] > 0)) & (df_prot['CATEGORY'] == 1), 1, 0)\n",
    "df_prot_lvl['TN_1'] = np.where(((df_prot['TP_1'] == 0) & (df_prot['FP_1'] == 0)) & (df_prot['CATEGORY'] == 0), 1, 0)\n",
    "df_prot_lvl['FP_1'] = np.where(((df_prot['TP_1'] > 0) | (df_prot['FP_1'] > 0)) & (df_prot['CATEGORY'] == 0), 1, 0)\n",
    "df_prot_lvl['FN_1'] = np.where(((df_prot['TP_1'] == 0) & (df_prot['FP_1'] == 0)) & (df_prot['CATEGORY'] == 1), 1, 0)\n",
    "\n",
    "df_prot_lvl['TP_2'] = np.where(((df_prot['TP_2'] > 0) | (df_prot['FP_2'] > 0)) & (df_prot['CATEGORY'] == 1), 1, 0)\n",
    "df_prot_lvl['TN_2'] = np.where(((df_prot['TP_2'] == 0) | (df_prot['FP_2'] == 0)) & (df_prot['CATEGORY'] == 0), 1, 0)\n",
    "df_prot_lvl['FP_2'] = np.where(((df_prot['TP_2'] > 0) | (df_prot['FP_2'] > 0)) & (df_prot['CATEGORY'] == 0), 1, 0)\n",
    "df_prot_lvl['FN_2'] = np.where(((df_prot['TP_2'] == 0) | (df_prot['FP_2'] == 0)) & (df_prot['CATEGORY'] == 1), 1, 0)\n",
    "\n"
   ],
   "metadata": {
    "collapsed": false,
    "ExecuteTime": {
     "end_time": "2023-05-19T14:48:03.403096917Z",
     "start_time": "2023-05-19T14:48:03.397796417Z"
    }
   }
  },
  {
   "cell_type": "code",
   "execution_count": 7,
   "outputs": [
    {
     "name": "stdout",
     "output_type": "stream",
     "text": [
      "     RDB1          RDB2         \n",
      "       TP TN FP FN   TP TN FP FN\n",
      "0       0  0  1  0    0  1  1  0\n",
      "1       0  0  1  0    0  1  1  0\n",
      "2       0  0  0  1    1  0  0  1\n",
      "3       1  0  0  0    1  0  0  1\n",
      "4       1  0  0  0    1  0  0  0\n",
      "...   ... .. .. ..  ... .. .. ..\n",
      "5252    0  0  0  1    1  0  0  0\n",
      "5253    0  0  0  1    1  0  0  0\n",
      "5254    0  0  0  1    1  0  0  0\n",
      "5255    0  0  0  1    1  0  0  0\n",
      "5256    0  0  1  0    0  1  1  0\n",
      "\n",
      "[5257 rows x 8 columns]\n"
     ]
    },
    {
     "data": {
      "text/plain": "0.61"
     },
     "execution_count": 7,
     "metadata": {},
     "output_type": "execute_result"
    }
   ],
   "source": [
    "df_prot_lvl.columns=pd.MultiIndex.from_arrays([['RDB1', 'RDB1', 'RDB1', 'RDB1', 'RDB2', 'RDB2', 'RDB2', 'RDB2'], ['TP', 'TN', 'FP', 'FN', 'TP', 'TN', 'FP', 'FN']])\n",
    "print(df_prot_lvl)\n",
    "# tp, tn fp, fn\n",
    "# bacc, p, se, sp, f1, mcc\n",
    "matrix1 = *df_prot_lvl['RDB1'].sum(), calc_metrics(*df_prot_lvl['RDB1'].sum())\n",
    "matrix2 = *df_prot_lvl['RDB2'].sum(), calc_metrics(*df_prot_lvl['RDB2'].sum())\n",
    "matrix2[4][0]"
   ],
   "metadata": {
    "collapsed": false,
    "ExecuteTime": {
     "end_time": "2023-05-19T14:48:03.462833474Z",
     "start_time": "2023-05-19T14:48:03.404532095Z"
    }
   }
  },
  {
   "cell_type": "code",
   "execution_count": 8,
   "outputs": [
    {
     "name": "stdout",
     "output_type": "stream",
     "text": [
      "       TOOL    TP    FP    TN    FN  TOTAL  BALANCED ACCURACY  PRECISION  \\\n",
      "0  RDBLITE1  1841   774  1045  1597   5257               0.48       0.64   \n",
      "1  RDBLITE2  3377  1819  1691  1428   5257               0.61       0.67   \n",
      "\n",
      "   RECALL  F-SCORE   MCC  TNR1  \n",
      "0    0.54     0.43  0.58 -0.04  \n",
      "1    0.70     0.52  0.68  0.22  \n"
     ]
    }
   ],
   "source": [
    "data = []\n",
    "data.append(['RDBLITE1', matrix1[0], matrix1[1], matrix1[2], matrix1[3], len(df_prot_lvl), round(matrix1[4][0],2), round(matrix1[4][1],2), round(matrix1[4][2],2), round(matrix1[4][3],2), round(matrix1[4][4],2), round(matrix1[4][5],2)])\n",
    "data.append(['RDBLITE2',  matrix2[0], matrix2[1], matrix2[2], matrix2[3], len(df_prot_lvl), round(matrix2[4][0],2), round(matrix2[4][1],2), round(matrix2[4][2],2), round(matrix2[4][3],2), round(matrix2[4][4],2), round(matrix2[4][5],2)])\n",
    "table = pd.DataFrame(data, columns=['TOOL', 'TP', 'FP', 'TN', 'FN', 'TOTAL', 'BALANCED ACCURACY', 'PRECISION', 'RECALL', 'F-SCORE', 'MCC', 'TNR1'])\n",
    "table.to_csv('tables/table_protein_level.csv', index=False)\n",
    "print(table)"
   ],
   "metadata": {
    "collapsed": false,
    "ExecuteTime": {
     "end_time": "2023-05-19T14:48:03.524881233Z",
     "start_time": "2023-05-19T14:48:03.496465349Z"
    }
   }
  },
  {
   "cell_type": "code",
   "execution_count": 9,
   "outputs": [
    {
     "data": {
      "text/plain": "                              RDB1               RDB2               \n                                TP   TN  FP   FN   TP   TN   FP   FN\npdb_id pdb_chain seqres_index                                       \n102l   A         163             0   71  92    0    0   49  114    0\n13pk   A         415             0  346  69    0    0  217  198    0\n1a0t   P         413             0    2   0  411  353    2    0   58\n       Q         413           256    0   2  155  192    2    0  219\n1a12   A         401           357   18   0   26  357    6   12   26\n...                            ...  ...  ..  ...  ...  ...  ...  ...\n7w3h   a         373             0  161   0  212  155   70   91   57\n7w3i   a         373             0  161   0  212  152   58  103   60\n7w3j   a         373             0  161   0  212  194  156    5   18\n7w3k   a         373             0  161   0  212  204  104   57    8\n7wgo   A         276             0  182  94    0    0   88  188    0\n\n[5257 rows x 8 columns]",
      "text/html": "<div>\n<style scoped>\n    .dataframe tbody tr th:only-of-type {\n        vertical-align: middle;\n    }\n\n    .dataframe tbody tr th {\n        vertical-align: top;\n    }\n\n    .dataframe thead tr th {\n        text-align: left;\n    }\n\n    .dataframe thead tr:last-of-type th {\n        text-align: right;\n    }\n</style>\n<table border=\"1\" class=\"dataframe\">\n  <thead>\n    <tr>\n      <th></th>\n      <th></th>\n      <th></th>\n      <th colspan=\"4\" halign=\"left\">RDB1</th>\n      <th colspan=\"4\" halign=\"left\">RDB2</th>\n    </tr>\n    <tr>\n      <th></th>\n      <th></th>\n      <th></th>\n      <th>TP</th>\n      <th>TN</th>\n      <th>FP</th>\n      <th>FN</th>\n      <th>TP</th>\n      <th>TN</th>\n      <th>FP</th>\n      <th>FN</th>\n    </tr>\n    <tr>\n      <th>pdb_id</th>\n      <th>pdb_chain</th>\n      <th>seqres_index</th>\n      <th></th>\n      <th></th>\n      <th></th>\n      <th></th>\n      <th></th>\n      <th></th>\n      <th></th>\n      <th></th>\n    </tr>\n  </thead>\n  <tbody>\n    <tr>\n      <th>102l</th>\n      <th>A</th>\n      <th>163</th>\n      <td>0</td>\n      <td>71</td>\n      <td>92</td>\n      <td>0</td>\n      <td>0</td>\n      <td>49</td>\n      <td>114</td>\n      <td>0</td>\n    </tr>\n    <tr>\n      <th>13pk</th>\n      <th>A</th>\n      <th>415</th>\n      <td>0</td>\n      <td>346</td>\n      <td>69</td>\n      <td>0</td>\n      <td>0</td>\n      <td>217</td>\n      <td>198</td>\n      <td>0</td>\n    </tr>\n    <tr>\n      <th rowspan=\"2\" valign=\"top\">1a0t</th>\n      <th>P</th>\n      <th>413</th>\n      <td>0</td>\n      <td>2</td>\n      <td>0</td>\n      <td>411</td>\n      <td>353</td>\n      <td>2</td>\n      <td>0</td>\n      <td>58</td>\n    </tr>\n    <tr>\n      <th>Q</th>\n      <th>413</th>\n      <td>256</td>\n      <td>0</td>\n      <td>2</td>\n      <td>155</td>\n      <td>192</td>\n      <td>2</td>\n      <td>0</td>\n      <td>219</td>\n    </tr>\n    <tr>\n      <th>1a12</th>\n      <th>A</th>\n      <th>401</th>\n      <td>357</td>\n      <td>18</td>\n      <td>0</td>\n      <td>26</td>\n      <td>357</td>\n      <td>6</td>\n      <td>12</td>\n      <td>26</td>\n    </tr>\n    <tr>\n      <th>...</th>\n      <th>...</th>\n      <th>...</th>\n      <td>...</td>\n      <td>...</td>\n      <td>...</td>\n      <td>...</td>\n      <td>...</td>\n      <td>...</td>\n      <td>...</td>\n      <td>...</td>\n    </tr>\n    <tr>\n      <th>7w3h</th>\n      <th>a</th>\n      <th>373</th>\n      <td>0</td>\n      <td>161</td>\n      <td>0</td>\n      <td>212</td>\n      <td>155</td>\n      <td>70</td>\n      <td>91</td>\n      <td>57</td>\n    </tr>\n    <tr>\n      <th>7w3i</th>\n      <th>a</th>\n      <th>373</th>\n      <td>0</td>\n      <td>161</td>\n      <td>0</td>\n      <td>212</td>\n      <td>152</td>\n      <td>58</td>\n      <td>103</td>\n      <td>60</td>\n    </tr>\n    <tr>\n      <th>7w3j</th>\n      <th>a</th>\n      <th>373</th>\n      <td>0</td>\n      <td>161</td>\n      <td>0</td>\n      <td>212</td>\n      <td>194</td>\n      <td>156</td>\n      <td>5</td>\n      <td>18</td>\n    </tr>\n    <tr>\n      <th>7w3k</th>\n      <th>a</th>\n      <th>373</th>\n      <td>0</td>\n      <td>161</td>\n      <td>0</td>\n      <td>212</td>\n      <td>204</td>\n      <td>104</td>\n      <td>57</td>\n      <td>8</td>\n    </tr>\n    <tr>\n      <th>7wgo</th>\n      <th>A</th>\n      <th>276</th>\n      <td>0</td>\n      <td>182</td>\n      <td>94</td>\n      <td>0</td>\n      <td>0</td>\n      <td>88</td>\n      <td>188</td>\n      <td>0</td>\n    </tr>\n  </tbody>\n</table>\n<p>5257 rows × 8 columns</p>\n</div>"
     },
     "execution_count": 9,
     "metadata": {},
     "output_type": "execute_result"
    }
   ],
   "source": [
    "# Region overlap\n",
    "df_prot.set_index(['pdb_id', 'pdb_chain', 'seqres_index'], inplace=True)\n",
    "df_prot = df_prot.drop(columns=['CATEGORY'])\n",
    "df_prot.columns=pd.MultiIndex.from_arrays([['RDB1', 'RDB1', 'RDB1', 'RDB1', 'RDB2', 'RDB2', 'RDB2', 'RDB2'], ['TP', 'TN', 'FP', 'FN', 'TP', 'TN', 'FP', 'FN']])\n",
    "df_prot"
   ],
   "metadata": {
    "collapsed": false,
    "ExecuteTime": {
     "end_time": "2023-05-19T14:48:03.525137902Z",
     "start_time": "2023-05-19T14:48:03.496606080Z"
    }
   }
  },
  {
   "cell_type": "code",
   "execution_count": 10,
   "outputs": [
    {
     "data": {
      "text/plain": "        0  1    2    3    4   5    6     7     8     9   ...   13   14   15  \\\n0     102l  A  163    0   71  92    0  0.22  0.00  0.00  ...    0   49  114   \n1     13pk  A  415    0  346  69    0  0.42  0.00  0.00  ...    0  217  198   \n2     1a0t  P  413    0    2   0  411  0.50  0.00  0.00  ...  353    2    0   \n3     1a0t  Q  413  256    0   2  155  0.31  0.99  0.62  ...  192    2    0   \n4     1a12  A  401  357   18   0   26  0.97  1.00  0.93  ...  357    6   12   \n...    ... ..  ...  ...  ...  ..  ...   ...   ...   ...  ...  ...  ...  ...   \n5252  7w3h  a  373    0  161   0  212  0.50  0.00  0.00  ...  155   70   91   \n5253  7w3i  a  373    0  161   0  212  0.50  0.00  0.00  ...  152   58  103   \n5254  7w3j  a  373    0  161   0  212  0.50  0.00  0.00  ...  194  156    5   \n5255  7w3k  a  373    0  161   0  212  0.50  0.00  0.00  ...  204  104   57   \n5256  7wgo  A  276    0  182  94    0  0.33  0.00  0.00  ...    0   88  188   \n\n       16    17    18    19    20    21    22  \n0       0  0.15  0.00  0.00  0.30  0.00   NaN  \n1       0  0.26  0.00  0.00  0.52  0.00   NaN  \n2      58  0.93  1.00  0.86  1.00  0.92  0.17  \n3     219  0.73  1.00  0.47  1.00  0.64  0.07  \n4      26  0.63  0.97  0.93  0.33  0.95  0.20  \n...   ...   ...   ...   ...   ...   ...   ...  \n5252   57  0.58  0.63  0.73  0.43  0.68  0.17  \n5253   60  0.54  0.60  0.72  0.36  0.65  0.08  \n5254   18  0.94  0.97  0.92  0.97  0.94  0.88  \n5255    8  0.80  0.78  0.96  0.65  0.86  0.66  \n5256    0  0.16  0.00  0.00  0.32  0.00   NaN  \n\n[5257 rows x 23 columns]",
      "text/html": "<div>\n<style scoped>\n    .dataframe tbody tr th:only-of-type {\n        vertical-align: middle;\n    }\n\n    .dataframe tbody tr th {\n        vertical-align: top;\n    }\n\n    .dataframe thead th {\n        text-align: right;\n    }\n</style>\n<table border=\"1\" class=\"dataframe\">\n  <thead>\n    <tr style=\"text-align: right;\">\n      <th></th>\n      <th>0</th>\n      <th>1</th>\n      <th>2</th>\n      <th>3</th>\n      <th>4</th>\n      <th>5</th>\n      <th>6</th>\n      <th>7</th>\n      <th>8</th>\n      <th>9</th>\n      <th>...</th>\n      <th>13</th>\n      <th>14</th>\n      <th>15</th>\n      <th>16</th>\n      <th>17</th>\n      <th>18</th>\n      <th>19</th>\n      <th>20</th>\n      <th>21</th>\n      <th>22</th>\n    </tr>\n  </thead>\n  <tbody>\n    <tr>\n      <th>0</th>\n      <td>102l</td>\n      <td>A</td>\n      <td>163</td>\n      <td>0</td>\n      <td>71</td>\n      <td>92</td>\n      <td>0</td>\n      <td>0.22</td>\n      <td>0.00</td>\n      <td>0.00</td>\n      <td>...</td>\n      <td>0</td>\n      <td>49</td>\n      <td>114</td>\n      <td>0</td>\n      <td>0.15</td>\n      <td>0.00</td>\n      <td>0.00</td>\n      <td>0.30</td>\n      <td>0.00</td>\n      <td>NaN</td>\n    </tr>\n    <tr>\n      <th>1</th>\n      <td>13pk</td>\n      <td>A</td>\n      <td>415</td>\n      <td>0</td>\n      <td>346</td>\n      <td>69</td>\n      <td>0</td>\n      <td>0.42</td>\n      <td>0.00</td>\n      <td>0.00</td>\n      <td>...</td>\n      <td>0</td>\n      <td>217</td>\n      <td>198</td>\n      <td>0</td>\n      <td>0.26</td>\n      <td>0.00</td>\n      <td>0.00</td>\n      <td>0.52</td>\n      <td>0.00</td>\n      <td>NaN</td>\n    </tr>\n    <tr>\n      <th>2</th>\n      <td>1a0t</td>\n      <td>P</td>\n      <td>413</td>\n      <td>0</td>\n      <td>2</td>\n      <td>0</td>\n      <td>411</td>\n      <td>0.50</td>\n      <td>0.00</td>\n      <td>0.00</td>\n      <td>...</td>\n      <td>353</td>\n      <td>2</td>\n      <td>0</td>\n      <td>58</td>\n      <td>0.93</td>\n      <td>1.00</td>\n      <td>0.86</td>\n      <td>1.00</td>\n      <td>0.92</td>\n      <td>0.17</td>\n    </tr>\n    <tr>\n      <th>3</th>\n      <td>1a0t</td>\n      <td>Q</td>\n      <td>413</td>\n      <td>256</td>\n      <td>0</td>\n      <td>2</td>\n      <td>155</td>\n      <td>0.31</td>\n      <td>0.99</td>\n      <td>0.62</td>\n      <td>...</td>\n      <td>192</td>\n      <td>2</td>\n      <td>0</td>\n      <td>219</td>\n      <td>0.73</td>\n      <td>1.00</td>\n      <td>0.47</td>\n      <td>1.00</td>\n      <td>0.64</td>\n      <td>0.07</td>\n    </tr>\n    <tr>\n      <th>4</th>\n      <td>1a12</td>\n      <td>A</td>\n      <td>401</td>\n      <td>357</td>\n      <td>18</td>\n      <td>0</td>\n      <td>26</td>\n      <td>0.97</td>\n      <td>1.00</td>\n      <td>0.93</td>\n      <td>...</td>\n      <td>357</td>\n      <td>6</td>\n      <td>12</td>\n      <td>26</td>\n      <td>0.63</td>\n      <td>0.97</td>\n      <td>0.93</td>\n      <td>0.33</td>\n      <td>0.95</td>\n      <td>0.20</td>\n    </tr>\n    <tr>\n      <th>...</th>\n      <td>...</td>\n      <td>...</td>\n      <td>...</td>\n      <td>...</td>\n      <td>...</td>\n      <td>...</td>\n      <td>...</td>\n      <td>...</td>\n      <td>...</td>\n      <td>...</td>\n      <td>...</td>\n      <td>...</td>\n      <td>...</td>\n      <td>...</td>\n      <td>...</td>\n      <td>...</td>\n      <td>...</td>\n      <td>...</td>\n      <td>...</td>\n      <td>...</td>\n      <td>...</td>\n    </tr>\n    <tr>\n      <th>5252</th>\n      <td>7w3h</td>\n      <td>a</td>\n      <td>373</td>\n      <td>0</td>\n      <td>161</td>\n      <td>0</td>\n      <td>212</td>\n      <td>0.50</td>\n      <td>0.00</td>\n      <td>0.00</td>\n      <td>...</td>\n      <td>155</td>\n      <td>70</td>\n      <td>91</td>\n      <td>57</td>\n      <td>0.58</td>\n      <td>0.63</td>\n      <td>0.73</td>\n      <td>0.43</td>\n      <td>0.68</td>\n      <td>0.17</td>\n    </tr>\n    <tr>\n      <th>5253</th>\n      <td>7w3i</td>\n      <td>a</td>\n      <td>373</td>\n      <td>0</td>\n      <td>161</td>\n      <td>0</td>\n      <td>212</td>\n      <td>0.50</td>\n      <td>0.00</td>\n      <td>0.00</td>\n      <td>...</td>\n      <td>152</td>\n      <td>58</td>\n      <td>103</td>\n      <td>60</td>\n      <td>0.54</td>\n      <td>0.60</td>\n      <td>0.72</td>\n      <td>0.36</td>\n      <td>0.65</td>\n      <td>0.08</td>\n    </tr>\n    <tr>\n      <th>5254</th>\n      <td>7w3j</td>\n      <td>a</td>\n      <td>373</td>\n      <td>0</td>\n      <td>161</td>\n      <td>0</td>\n      <td>212</td>\n      <td>0.50</td>\n      <td>0.00</td>\n      <td>0.00</td>\n      <td>...</td>\n      <td>194</td>\n      <td>156</td>\n      <td>5</td>\n      <td>18</td>\n      <td>0.94</td>\n      <td>0.97</td>\n      <td>0.92</td>\n      <td>0.97</td>\n      <td>0.94</td>\n      <td>0.88</td>\n    </tr>\n    <tr>\n      <th>5255</th>\n      <td>7w3k</td>\n      <td>a</td>\n      <td>373</td>\n      <td>0</td>\n      <td>161</td>\n      <td>0</td>\n      <td>212</td>\n      <td>0.50</td>\n      <td>0.00</td>\n      <td>0.00</td>\n      <td>...</td>\n      <td>204</td>\n      <td>104</td>\n      <td>57</td>\n      <td>8</td>\n      <td>0.80</td>\n      <td>0.78</td>\n      <td>0.96</td>\n      <td>0.65</td>\n      <td>0.86</td>\n      <td>0.66</td>\n    </tr>\n    <tr>\n      <th>5256</th>\n      <td>7wgo</td>\n      <td>A</td>\n      <td>276</td>\n      <td>0</td>\n      <td>182</td>\n      <td>94</td>\n      <td>0</td>\n      <td>0.33</td>\n      <td>0.00</td>\n      <td>0.00</td>\n      <td>...</td>\n      <td>0</td>\n      <td>88</td>\n      <td>188</td>\n      <td>0</td>\n      <td>0.16</td>\n      <td>0.00</td>\n      <td>0.00</td>\n      <td>0.32</td>\n      <td>0.00</td>\n      <td>NaN</td>\n    </tr>\n  </tbody>\n</table>\n<p>5257 rows × 23 columns</p>\n</div>"
     },
     "execution_count": 10,
     "metadata": {},
     "output_type": "execute_result"
    }
   ],
   "source": [
    "# apply calc_metrics function to each row for both RDB1 and RDB2\n",
    "data = []\n",
    "for index, row in df_prot.iterrows():\n",
    "    # print(*row['RDB1'], *calc_metrics(*row['RDB1']))\n",
    "    data.append([index[0], index[1], index[2], *row[:4], *calc_metrics(*row['RDB1']), *row[4:], *calc_metrics(*row['RDB2'])])\n",
    "df_ = pd.DataFrame(data)\n",
    "df_"
   ],
   "metadata": {
    "collapsed": false,
    "ExecuteTime": {
     "end_time": "2023-05-19T14:48:05.072471529Z",
     "start_time": "2023-05-19T14:48:03.603866106Z"
    }
   }
  },
  {
   "cell_type": "code",
   "execution_count": 11,
   "outputs": [
    {
     "data": {
      "text/plain": "        NaN                  RDB1                                  ... RDB2  \\\n     pdb_id pdb_chain length   TP   TN  FP   FN  bacc     p    se  ...   TP   \n0      102l         A    163    0   71  92    0  0.22  0.00  0.00  ...    0   \n1      13pk         A    415    0  346  69    0  0.42  0.00  0.00  ...    0   \n2      1a0t         P    413    0    2   0  411  0.50  0.00  0.00  ...  353   \n3      1a0t         Q    413  256    0   2  155  0.31  0.99  0.62  ...  192   \n4      1a12         A    401  357   18   0   26  0.97  1.00  0.93  ...  357   \n...     ...       ...    ...  ...  ...  ..  ...   ...   ...   ...  ...  ...   \n5252   7w3h         a    373    0  161   0  212  0.50  0.00  0.00  ...  155   \n5253   7w3i         a    373    0  161   0  212  0.50  0.00  0.00  ...  152   \n5254   7w3j         a    373    0  161   0  212  0.50  0.00  0.00  ...  194   \n5255   7w3k         a    373    0  161   0  212  0.50  0.00  0.00  ...  204   \n5256   7wgo         A    276    0  182  94    0  0.33  0.00  0.00  ...    0   \n\n                                                         \n       TN   FP   FN  bacc     p    se    sp    f1   mcc  \n0      49  114    0  0.15  0.00  0.00  0.30  0.00   NaN  \n1     217  198    0  0.26  0.00  0.00  0.52  0.00   NaN  \n2       2    0   58  0.93  1.00  0.86  1.00  0.92  0.17  \n3       2    0  219  0.73  1.00  0.47  1.00  0.64  0.07  \n4       6   12   26  0.63  0.97  0.93  0.33  0.95  0.20  \n...   ...  ...  ...   ...   ...   ...   ...   ...   ...  \n5252   70   91   57  0.58  0.63  0.73  0.43  0.68  0.17  \n5253   58  103   60  0.54  0.60  0.72  0.36  0.65  0.08  \n5254  156    5   18  0.94  0.97  0.92  0.97  0.94  0.88  \n5255  104   57    8  0.80  0.78  0.96  0.65  0.86  0.66  \n5256   88  188    0  0.16  0.00  0.00  0.32  0.00   NaN  \n\n[5257 rows x 23 columns]",
      "text/html": "<div>\n<style scoped>\n    .dataframe tbody tr th:only-of-type {\n        vertical-align: middle;\n    }\n\n    .dataframe tbody tr th {\n        vertical-align: top;\n    }\n\n    .dataframe thead tr th {\n        text-align: left;\n    }\n</style>\n<table border=\"1\" class=\"dataframe\">\n  <thead>\n    <tr>\n      <th></th>\n      <th colspan=\"3\" halign=\"left\">NaN</th>\n      <th colspan=\"7\" halign=\"left\">RDB1</th>\n      <th>...</th>\n      <th colspan=\"10\" halign=\"left\">RDB2</th>\n    </tr>\n    <tr>\n      <th></th>\n      <th>pdb_id</th>\n      <th>pdb_chain</th>\n      <th>length</th>\n      <th>TP</th>\n      <th>TN</th>\n      <th>FP</th>\n      <th>FN</th>\n      <th>bacc</th>\n      <th>p</th>\n      <th>se</th>\n      <th>...</th>\n      <th>TP</th>\n      <th>TN</th>\n      <th>FP</th>\n      <th>FN</th>\n      <th>bacc</th>\n      <th>p</th>\n      <th>se</th>\n      <th>sp</th>\n      <th>f1</th>\n      <th>mcc</th>\n    </tr>\n  </thead>\n  <tbody>\n    <tr>\n      <th>0</th>\n      <td>102l</td>\n      <td>A</td>\n      <td>163</td>\n      <td>0</td>\n      <td>71</td>\n      <td>92</td>\n      <td>0</td>\n      <td>0.22</td>\n      <td>0.00</td>\n      <td>0.00</td>\n      <td>...</td>\n      <td>0</td>\n      <td>49</td>\n      <td>114</td>\n      <td>0</td>\n      <td>0.15</td>\n      <td>0.00</td>\n      <td>0.00</td>\n      <td>0.30</td>\n      <td>0.00</td>\n      <td>NaN</td>\n    </tr>\n    <tr>\n      <th>1</th>\n      <td>13pk</td>\n      <td>A</td>\n      <td>415</td>\n      <td>0</td>\n      <td>346</td>\n      <td>69</td>\n      <td>0</td>\n      <td>0.42</td>\n      <td>0.00</td>\n      <td>0.00</td>\n      <td>...</td>\n      <td>0</td>\n      <td>217</td>\n      <td>198</td>\n      <td>0</td>\n      <td>0.26</td>\n      <td>0.00</td>\n      <td>0.00</td>\n      <td>0.52</td>\n      <td>0.00</td>\n      <td>NaN</td>\n    </tr>\n    <tr>\n      <th>2</th>\n      <td>1a0t</td>\n      <td>P</td>\n      <td>413</td>\n      <td>0</td>\n      <td>2</td>\n      <td>0</td>\n      <td>411</td>\n      <td>0.50</td>\n      <td>0.00</td>\n      <td>0.00</td>\n      <td>...</td>\n      <td>353</td>\n      <td>2</td>\n      <td>0</td>\n      <td>58</td>\n      <td>0.93</td>\n      <td>1.00</td>\n      <td>0.86</td>\n      <td>1.00</td>\n      <td>0.92</td>\n      <td>0.17</td>\n    </tr>\n    <tr>\n      <th>3</th>\n      <td>1a0t</td>\n      <td>Q</td>\n      <td>413</td>\n      <td>256</td>\n      <td>0</td>\n      <td>2</td>\n      <td>155</td>\n      <td>0.31</td>\n      <td>0.99</td>\n      <td>0.62</td>\n      <td>...</td>\n      <td>192</td>\n      <td>2</td>\n      <td>0</td>\n      <td>219</td>\n      <td>0.73</td>\n      <td>1.00</td>\n      <td>0.47</td>\n      <td>1.00</td>\n      <td>0.64</td>\n      <td>0.07</td>\n    </tr>\n    <tr>\n      <th>4</th>\n      <td>1a12</td>\n      <td>A</td>\n      <td>401</td>\n      <td>357</td>\n      <td>18</td>\n      <td>0</td>\n      <td>26</td>\n      <td>0.97</td>\n      <td>1.00</td>\n      <td>0.93</td>\n      <td>...</td>\n      <td>357</td>\n      <td>6</td>\n      <td>12</td>\n      <td>26</td>\n      <td>0.63</td>\n      <td>0.97</td>\n      <td>0.93</td>\n      <td>0.33</td>\n      <td>0.95</td>\n      <td>0.20</td>\n    </tr>\n    <tr>\n      <th>...</th>\n      <td>...</td>\n      <td>...</td>\n      <td>...</td>\n      <td>...</td>\n      <td>...</td>\n      <td>...</td>\n      <td>...</td>\n      <td>...</td>\n      <td>...</td>\n      <td>...</td>\n      <td>...</td>\n      <td>...</td>\n      <td>...</td>\n      <td>...</td>\n      <td>...</td>\n      <td>...</td>\n      <td>...</td>\n      <td>...</td>\n      <td>...</td>\n      <td>...</td>\n      <td>...</td>\n    </tr>\n    <tr>\n      <th>5252</th>\n      <td>7w3h</td>\n      <td>a</td>\n      <td>373</td>\n      <td>0</td>\n      <td>161</td>\n      <td>0</td>\n      <td>212</td>\n      <td>0.50</td>\n      <td>0.00</td>\n      <td>0.00</td>\n      <td>...</td>\n      <td>155</td>\n      <td>70</td>\n      <td>91</td>\n      <td>57</td>\n      <td>0.58</td>\n      <td>0.63</td>\n      <td>0.73</td>\n      <td>0.43</td>\n      <td>0.68</td>\n      <td>0.17</td>\n    </tr>\n    <tr>\n      <th>5253</th>\n      <td>7w3i</td>\n      <td>a</td>\n      <td>373</td>\n      <td>0</td>\n      <td>161</td>\n      <td>0</td>\n      <td>212</td>\n      <td>0.50</td>\n      <td>0.00</td>\n      <td>0.00</td>\n      <td>...</td>\n      <td>152</td>\n      <td>58</td>\n      <td>103</td>\n      <td>60</td>\n      <td>0.54</td>\n      <td>0.60</td>\n      <td>0.72</td>\n      <td>0.36</td>\n      <td>0.65</td>\n      <td>0.08</td>\n    </tr>\n    <tr>\n      <th>5254</th>\n      <td>7w3j</td>\n      <td>a</td>\n      <td>373</td>\n      <td>0</td>\n      <td>161</td>\n      <td>0</td>\n      <td>212</td>\n      <td>0.50</td>\n      <td>0.00</td>\n      <td>0.00</td>\n      <td>...</td>\n      <td>194</td>\n      <td>156</td>\n      <td>5</td>\n      <td>18</td>\n      <td>0.94</td>\n      <td>0.97</td>\n      <td>0.92</td>\n      <td>0.97</td>\n      <td>0.94</td>\n      <td>0.88</td>\n    </tr>\n    <tr>\n      <th>5255</th>\n      <td>7w3k</td>\n      <td>a</td>\n      <td>373</td>\n      <td>0</td>\n      <td>161</td>\n      <td>0</td>\n      <td>212</td>\n      <td>0.50</td>\n      <td>0.00</td>\n      <td>0.00</td>\n      <td>...</td>\n      <td>204</td>\n      <td>104</td>\n      <td>57</td>\n      <td>8</td>\n      <td>0.80</td>\n      <td>0.78</td>\n      <td>0.96</td>\n      <td>0.65</td>\n      <td>0.86</td>\n      <td>0.66</td>\n    </tr>\n    <tr>\n      <th>5256</th>\n      <td>7wgo</td>\n      <td>A</td>\n      <td>276</td>\n      <td>0</td>\n      <td>182</td>\n      <td>94</td>\n      <td>0</td>\n      <td>0.33</td>\n      <td>0.00</td>\n      <td>0.00</td>\n      <td>...</td>\n      <td>0</td>\n      <td>88</td>\n      <td>188</td>\n      <td>0</td>\n      <td>0.16</td>\n      <td>0.00</td>\n      <td>0.00</td>\n      <td>0.32</td>\n      <td>0.00</td>\n      <td>NaN</td>\n    </tr>\n  </tbody>\n</table>\n<p>5257 rows × 23 columns</p>\n</div>"
     },
     "execution_count": 11,
     "metadata": {},
     "output_type": "execute_result"
    }
   ],
   "source": [
    "df_.columns=pd.MultiIndex.from_arrays([[None, None, None, 'RDB1', 'RDB1', 'RDB1', 'RDB1', 'RDB1', 'RDB1', 'RDB1', 'RDB1', 'RDB1', 'RDB1', 'RDB2', 'RDB2', 'RDB2', 'RDB2', 'RDB2', 'RDB2', 'RDB2', 'RDB2', 'RDB2', 'RDB2'], ['pdb_id', 'pdb_chain', 'length', 'TP', 'TN', 'FP', 'FN', 'bacc', 'p', 'se', 'sp', 'f1', 'mcc', 'TP', 'TN', 'FP', 'FN', 'bacc', 'p', 'se', 'sp', 'f1', 'mcc']])\n",
    "df_"
   ],
   "metadata": {
    "collapsed": false,
    "ExecuteTime": {
     "end_time": "2023-05-19T14:48:05.149142335Z",
     "start_time": "2023-05-19T14:48:05.075741450Z"
    }
   }
  },
  {
   "cell_type": "code",
   "execution_count": 12,
   "outputs": [
    {
     "data": {
      "text/plain": "      RDB1                              \n      bacc     p    se    sp    f1   mcc\n0     0.22  0.00  0.00  0.44  0.00   NaN\n1     0.42  0.00  0.00  0.83  0.00   NaN\n2     0.50  0.00  0.00  1.00  0.00   NaN\n3     0.31  0.99  0.62  0.00  0.77 -0.05\n4     0.97  1.00  0.93  1.00  0.96  0.62\n...    ...   ...   ...   ...   ...   ...\n5252  0.50  0.00  0.00  1.00  0.00   NaN\n5253  0.50  0.00  0.00  1.00  0.00   NaN\n5254  0.50  0.00  0.00  1.00  0.00   NaN\n5255  0.50  0.00  0.00  1.00  0.00   NaN\n5256  0.33  0.00  0.00  0.66  0.00   NaN\n\n[5257 rows x 6 columns]",
      "text/html": "<div>\n<style scoped>\n    .dataframe tbody tr th:only-of-type {\n        vertical-align: middle;\n    }\n\n    .dataframe tbody tr th {\n        vertical-align: top;\n    }\n\n    .dataframe thead tr th {\n        text-align: left;\n    }\n</style>\n<table border=\"1\" class=\"dataframe\">\n  <thead>\n    <tr>\n      <th></th>\n      <th colspan=\"6\" halign=\"left\">RDB1</th>\n    </tr>\n    <tr>\n      <th></th>\n      <th>bacc</th>\n      <th>p</th>\n      <th>se</th>\n      <th>sp</th>\n      <th>f1</th>\n      <th>mcc</th>\n    </tr>\n  </thead>\n  <tbody>\n    <tr>\n      <th>0</th>\n      <td>0.22</td>\n      <td>0.00</td>\n      <td>0.00</td>\n      <td>0.44</td>\n      <td>0.00</td>\n      <td>NaN</td>\n    </tr>\n    <tr>\n      <th>1</th>\n      <td>0.42</td>\n      <td>0.00</td>\n      <td>0.00</td>\n      <td>0.83</td>\n      <td>0.00</td>\n      <td>NaN</td>\n    </tr>\n    <tr>\n      <th>2</th>\n      <td>0.50</td>\n      <td>0.00</td>\n      <td>0.00</td>\n      <td>1.00</td>\n      <td>0.00</td>\n      <td>NaN</td>\n    </tr>\n    <tr>\n      <th>3</th>\n      <td>0.31</td>\n      <td>0.99</td>\n      <td>0.62</td>\n      <td>0.00</td>\n      <td>0.77</td>\n      <td>-0.05</td>\n    </tr>\n    <tr>\n      <th>4</th>\n      <td>0.97</td>\n      <td>1.00</td>\n      <td>0.93</td>\n      <td>1.00</td>\n      <td>0.96</td>\n      <td>0.62</td>\n    </tr>\n    <tr>\n      <th>...</th>\n      <td>...</td>\n      <td>...</td>\n      <td>...</td>\n      <td>...</td>\n      <td>...</td>\n      <td>...</td>\n    </tr>\n    <tr>\n      <th>5252</th>\n      <td>0.50</td>\n      <td>0.00</td>\n      <td>0.00</td>\n      <td>1.00</td>\n      <td>0.00</td>\n      <td>NaN</td>\n    </tr>\n    <tr>\n      <th>5253</th>\n      <td>0.50</td>\n      <td>0.00</td>\n      <td>0.00</td>\n      <td>1.00</td>\n      <td>0.00</td>\n      <td>NaN</td>\n    </tr>\n    <tr>\n      <th>5254</th>\n      <td>0.50</td>\n      <td>0.00</td>\n      <td>0.00</td>\n      <td>1.00</td>\n      <td>0.00</td>\n      <td>NaN</td>\n    </tr>\n    <tr>\n      <th>5255</th>\n      <td>0.50</td>\n      <td>0.00</td>\n      <td>0.00</td>\n      <td>1.00</td>\n      <td>0.00</td>\n      <td>NaN</td>\n    </tr>\n    <tr>\n      <th>5256</th>\n      <td>0.33</td>\n      <td>0.00</td>\n      <td>0.00</td>\n      <td>0.66</td>\n      <td>0.00</td>\n      <td>NaN</td>\n    </tr>\n  </tbody>\n</table>\n<p>5257 rows × 6 columns</p>\n</div>"
     },
     "execution_count": 12,
     "metadata": {},
     "output_type": "execute_result"
    }
   ],
   "source": [
    "df_.loc[:, ('RDB1', ['bacc', 'p', 'se', 'sp', 'f1', 'mcc'])]"
   ],
   "metadata": {
    "collapsed": false,
    "ExecuteTime": {
     "end_time": "2023-05-19T14:48:05.149451664Z",
     "start_time": "2023-05-19T14:48:05.130270815Z"
    }
   }
  },
  {
   "cell_type": "code",
   "execution_count": 13,
   "outputs": [
    {
     "data": {
      "text/plain": "<Axes: >"
     },
     "execution_count": 13,
     "metadata": {},
     "output_type": "execute_result"
    },
    {
     "data": {
      "text/plain": "<Figure size 2000x1000 with 1 Axes>",
      "image/png": "[encoded data removed]"
     },
     "metadata": {},
     "output_type": "display_data"
    }
   ],
   "source": [
    "df_.loc[:,('RDB1', ['bacc', 'p', 'se', 'sp', 'f1', 'mcc'])].boxplot(figsize=(20,10))\n",
    "\n",
    "\n"
   ],
   "metadata": {
    "collapsed": false,
    "ExecuteTime": {
     "end_time": "2023-05-19T14:48:05.540211574Z",
     "start_time": "2023-05-19T14:48:05.130508905Z"
    }
   }
  },
  {
   "cell_type": "code",
   "execution_count": 14,
   "outputs": [],
   "source": [
    "# df_.loc[:,(slice(None), ['bacc', 'p', 'se', 'sp', 'f1', 'mcc'])].boxplot(figsize=(20,10))"
   ],
   "metadata": {
    "collapsed": false,
    "ExecuteTime": {
     "end_time": "2023-05-19T14:48:05.679163272Z",
     "start_time": "2023-05-19T14:48:05.541665610Z"
    }
   }
  },
  {
   "cell_type": "code",
   "execution_count": 15,
   "outputs": [
    {
     "data": {
      "text/plain": "451973"
     },
     "execution_count": 15,
     "metadata": {},
     "output_type": "execute_result"
    }
   ],
   "source": [
    "# table region overlap level (positives + negatives)\n",
    "metrics1 = df_.loc[:,('RDB1', ['bacc', 'p', 'se', 'sp', 'f1', 'mcc'])].mean().round(2)\n",
    "matrix1 = df_.loc[:,('RDB1', ['TP', 'TN', 'FP', 'FN'])].sum()\n",
    "metrics2 = df_.loc[:,('RDB2', ['bacc', 'p', 'se', 'sp', 'f1', 'mcc'])].mean().round(2)\n",
    "matrix2 = df_.loc[:,('RDB2', ['TP', 'TN', 'FP', 'FN'])].sum()\n",
    "matrix1[0]"
   ],
   "metadata": {
    "collapsed": false,
    "ExecuteTime": {
     "end_time": "2023-05-19T14:48:05.679436074Z",
     "start_time": "2023-05-19T14:48:05.584572470Z"
    }
   }
  },
  {
   "cell_type": "code",
   "execution_count": 16,
   "outputs": [
    {
     "data": {
      "text/plain": "       TOOL      TP      FP      TN      FN    TOTAL  BALANCED ACCURACY  \\\n0  RDBLITE1  451973  756711  220411  557809  1986904               0.53   \n1  RDBLITE2  768967  461908  515214  240815  1986904               0.55   \n\n   PRECISION  RECALL  F-SCORE   MCC  TNR1  \n0       0.33    0.29     0.77  0.30  0.50  \n1       0.56    0.50     0.61  0.51  0.33  ",
      "text/html": "<div>\n<style scoped>\n    .dataframe tbody tr th:only-of-type {\n        vertical-align: middle;\n    }\n\n    .dataframe tbody tr th {\n        vertical-align: top;\n    }\n\n    .dataframe thead th {\n        text-align: right;\n    }\n</style>\n<table border=\"1\" class=\"dataframe\">\n  <thead>\n    <tr style=\"text-align: right;\">\n      <th></th>\n      <th>TOOL</th>\n      <th>TP</th>\n      <th>FP</th>\n      <th>TN</th>\n      <th>FN</th>\n      <th>TOTAL</th>\n      <th>BALANCED ACCURACY</th>\n      <th>PRECISION</th>\n      <th>RECALL</th>\n      <th>F-SCORE</th>\n      <th>MCC</th>\n      <th>TNR1</th>\n    </tr>\n  </thead>\n  <tbody>\n    <tr>\n      <th>0</th>\n      <td>RDBLITE1</td>\n      <td>451973</td>\n      <td>756711</td>\n      <td>220411</td>\n      <td>557809</td>\n      <td>1986904</td>\n      <td>0.53</td>\n      <td>0.33</td>\n      <td>0.29</td>\n      <td>0.77</td>\n      <td>0.30</td>\n      <td>0.50</td>\n    </tr>\n    <tr>\n      <th>1</th>\n      <td>RDBLITE2</td>\n      <td>768967</td>\n      <td>461908</td>\n      <td>515214</td>\n      <td>240815</td>\n      <td>1986904</td>\n      <td>0.55</td>\n      <td>0.56</td>\n      <td>0.50</td>\n      <td>0.61</td>\n      <td>0.51</td>\n      <td>0.33</td>\n    </tr>\n  </tbody>\n</table>\n</div>"
     },
     "execution_count": 16,
     "metadata": {},
     "output_type": "execute_result"
    }
   ],
   "source": [
    "data = []\n",
    "data.append(['RDBLITE1', matrix1[0], matrix1[1], matrix1[2], matrix1[3], len(df), metrics1[0], metrics1[1], metrics1[2], metrics1[3], metrics1[4], metrics1[5]])\n",
    "data.append(['RDBLITE2',  matrix2[0], matrix2[1], matrix2[2], matrix2[3], len(df), metrics2[0], metrics2[1], metrics2[2], metrics2[3], metrics2[4], metrics2[5]])\n",
    "table = pd.DataFrame(data, columns=['TOOL', 'TP', 'FP', 'TN', 'FN', 'TOTAL', 'BALANCED ACCURACY', 'PRECISION', 'RECALL', 'F-SCORE', 'MCC', 'TNR1'])\n",
    "# table.to_csv('tables/table_residue_overlap.csv', index=False)\n",
    "# table.to_csv('tables/table_residue_overlap_positives.csv', index=False)\n",
    "table"
   ],
   "metadata": {
    "collapsed": false,
    "ExecuteTime": {
     "end_time": "2023-05-19T14:48:05.679571637Z",
     "start_time": "2023-05-19T14:48:05.584761182Z"
    }
   }
  },
  {
   "cell_type": "code",
   "execution_count": 17,
   "outputs": [
    {
     "data": {
      "text/plain": "        pdb_id pdb_chain  seqres_index pdb_residue_id REGION  CURATED  RDB1  \\\n2         3u3w         B             3            3.0      0        0     1   \n3         3u3w         B             4            4.0      0        0     1   \n4         3u3w         B             5            5.0      0        0     1   \n5         3u3w         B             6            6.0      0        0     1   \n6         3u3w         B             7            7.0      0        0     1   \n...        ...       ...           ...            ...    ...      ...   ...   \n1409652   2c0m         C           315          598.0      0        0     0   \n1409653   2c0m         C           316          599.0      0        0     0   \n1409654   2c0m         C           317          600.0      0        0     0   \n1409655   2c0m         C           318          601.0      0        0     0   \n1409656   2c0m         C           319          602.0      0        0     0   \n\n         RDB2  CATEGORY UNIT_CURATED  ... topologies topologies_names TP_1  \\\n2           0         1            0  ...        3.3   Alpha-solenoid    0   \n3           0         1            0  ...        3.3   Alpha-solenoid    0   \n4           0         1            0  ...        3.3   Alpha-solenoid    0   \n5           0         1            0  ...        3.3   Alpha-solenoid    0   \n6           0         1            0  ...        3.3   Alpha-solenoid    0   \n...       ...       ...          ...  ...        ...              ...  ...   \n1409652     0         1            0  ...        3.3   Alpha-solenoid    0   \n1409653     0         1            0  ...        3.3   Alpha-solenoid    0   \n1409654     0         1            0  ...        3.3   Alpha-solenoid    0   \n1409655     0         1            0  ...        3.3   Alpha-solenoid    0   \n1409656     0         1            0  ...        3.3   Alpha-solenoid    0   \n\n        TN_1 FP_1 FN_1 TP_2  TN_2  FP_2  FN_2  \n2          0    1    0    0     1     0     0  \n3          0    1    0    0     1     0     0  \n4          0    1    0    0     1     0     0  \n5          0    1    0    0     1     0     0  \n6          0    1    0    0     1     0     0  \n...      ...  ...  ...  ...   ...   ...   ...  \n1409652    1    0    0    0     1     0     0  \n1409653    1    0    0    0     1     0     0  \n1409654    1    0    0    0     1     0     0  \n1409655    1    0    0    0     1     0     0  \n1409656    1    0    0    0     1     0     0  \n\n[1242384 rows x 25 columns]",
      "text/html": "<div>\n<style scoped>\n    .dataframe tbody tr th:only-of-type {\n        vertical-align: middle;\n    }\n\n    .dataframe tbody tr th {\n        vertical-align: top;\n    }\n\n    .dataframe thead th {\n        text-align: right;\n    }\n</style>\n<table border=\"1\" class=\"dataframe\">\n  <thead>\n    <tr style=\"text-align: right;\">\n      <th></th>\n      <th>pdb_id</th>\n      <th>pdb_chain</th>\n      <th>seqres_index</th>\n      <th>pdb_residue_id</th>\n      <th>REGION</th>\n      <th>CURATED</th>\n      <th>RDB1</th>\n      <th>RDB2</th>\n      <th>CATEGORY</th>\n      <th>UNIT_CURATED</th>\n      <th>...</th>\n      <th>topologies</th>\n      <th>topologies_names</th>\n      <th>TP_1</th>\n      <th>TN_1</th>\n      <th>FP_1</th>\n      <th>FN_1</th>\n      <th>TP_2</th>\n      <th>TN_2</th>\n      <th>FP_2</th>\n      <th>FN_2</th>\n    </tr>\n  </thead>\n  <tbody>\n    <tr>\n      <th>2</th>\n      <td>3u3w</td>\n      <td>B</td>\n      <td>3</td>\n      <td>3.0</td>\n      <td>0</td>\n      <td>0</td>\n      <td>1</td>\n      <td>0</td>\n      <td>1</td>\n      <td>0</td>\n      <td>...</td>\n      <td>3.3</td>\n      <td>Alpha-solenoid</td>\n      <td>0</td>\n      <td>0</td>\n      <td>1</td>\n      <td>0</td>\n      <td>0</td>\n      <td>1</td>\n      <td>0</td>\n      <td>0</td>\n    </tr>\n    <tr>\n      <th>3</th>\n      <td>3u3w</td>\n      <td>B</td>\n      <td>4</td>\n      <td>4.0</td>\n      <td>0</td>\n      <td>0</td>\n      <td>1</td>\n      <td>0</td>\n      <td>1</td>\n      <td>0</td>\n      <td>...</td>\n      <td>3.3</td>\n      <td>Alpha-solenoid</td>\n      <td>0</td>\n      <td>0</td>\n      <td>1</td>\n      <td>0</td>\n      <td>0</td>\n      <td>1</td>\n      <td>0</td>\n      <td>0</td>\n    </tr>\n    <tr>\n      <th>4</th>\n      <td>3u3w</td>\n      <td>B</td>\n      <td>5</td>\n      <td>5.0</td>\n      <td>0</td>\n      <td>0</td>\n      <td>1</td>\n      <td>0</td>\n      <td>1</td>\n      <td>0</td>\n      <td>...</td>\n      <td>3.3</td>\n      <td>Alpha-solenoid</td>\n      <td>0</td>\n      <td>0</td>\n      <td>1</td>\n      <td>0</td>\n      <td>0</td>\n      <td>1</td>\n      <td>0</td>\n      <td>0</td>\n    </tr>\n    <tr>\n      <th>5</th>\n      <td>3u3w</td>\n      <td>B</td>\n      <td>6</td>\n      <td>6.0</td>\n      <td>0</td>\n      <td>0</td>\n      <td>1</td>\n      <td>0</td>\n      <td>1</td>\n      <td>0</td>\n      <td>...</td>\n      <td>3.3</td>\n      <td>Alpha-solenoid</td>\n      <td>0</td>\n      <td>0</td>\n      <td>1</td>\n      <td>0</td>\n      <td>0</td>\n      <td>1</td>\n      <td>0</td>\n      <td>0</td>\n    </tr>\n    <tr>\n      <th>6</th>\n      <td>3u3w</td>\n      <td>B</td>\n      <td>7</td>\n      <td>7.0</td>\n      <td>0</td>\n      <td>0</td>\n      <td>1</td>\n      <td>0</td>\n      <td>1</td>\n      <td>0</td>\n      <td>...</td>\n      <td>3.3</td>\n      <td>Alpha-solenoid</td>\n      <td>0</td>\n      <td>0</td>\n      <td>1</td>\n      <td>0</td>\n      <td>0</td>\n      <td>1</td>\n      <td>0</td>\n      <td>0</td>\n    </tr>\n    <tr>\n      <th>...</th>\n      <td>...</td>\n      <td>...</td>\n      <td>...</td>\n      <td>...</td>\n      <td>...</td>\n      <td>...</td>\n      <td>...</td>\n      <td>...</td>\n      <td>...</td>\n      <td>...</td>\n      <td>...</td>\n      <td>...</td>\n      <td>...</td>\n      <td>...</td>\n      <td>...</td>\n      <td>...</td>\n      <td>...</td>\n      <td>...</td>\n      <td>...</td>\n      <td>...</td>\n      <td>...</td>\n    </tr>\n    <tr>\n      <th>1409652</th>\n      <td>2c0m</td>\n      <td>C</td>\n      <td>315</td>\n      <td>598.0</td>\n      <td>0</td>\n      <td>0</td>\n      <td>0</td>\n      <td>0</td>\n      <td>1</td>\n      <td>0</td>\n      <td>...</td>\n      <td>3.3</td>\n      <td>Alpha-solenoid</td>\n      <td>0</td>\n      <td>1</td>\n      <td>0</td>\n      <td>0</td>\n      <td>0</td>\n      <td>1</td>\n      <td>0</td>\n      <td>0</td>\n    </tr>\n    <tr>\n      <th>1409653</th>\n      <td>2c0m</td>\n      <td>C</td>\n      <td>316</td>\n      <td>599.0</td>\n      <td>0</td>\n      <td>0</td>\n      <td>0</td>\n      <td>0</td>\n      <td>1</td>\n      <td>0</td>\n      <td>...</td>\n      <td>3.3</td>\n      <td>Alpha-solenoid</td>\n      <td>0</td>\n      <td>1</td>\n      <td>0</td>\n      <td>0</td>\n      <td>0</td>\n      <td>1</td>\n      <td>0</td>\n      <td>0</td>\n    </tr>\n    <tr>\n      <th>1409654</th>\n      <td>2c0m</td>\n      <td>C</td>\n      <td>317</td>\n      <td>600.0</td>\n      <td>0</td>\n      <td>0</td>\n      <td>0</td>\n      <td>0</td>\n      <td>1</td>\n      <td>0</td>\n      <td>...</td>\n      <td>3.3</td>\n      <td>Alpha-solenoid</td>\n      <td>0</td>\n      <td>1</td>\n      <td>0</td>\n      <td>0</td>\n      <td>0</td>\n      <td>1</td>\n      <td>0</td>\n      <td>0</td>\n    </tr>\n    <tr>\n      <th>1409655</th>\n      <td>2c0m</td>\n      <td>C</td>\n      <td>318</td>\n      <td>601.0</td>\n      <td>0</td>\n      <td>0</td>\n      <td>0</td>\n      <td>0</td>\n      <td>1</td>\n      <td>0</td>\n      <td>...</td>\n      <td>3.3</td>\n      <td>Alpha-solenoid</td>\n      <td>0</td>\n      <td>1</td>\n      <td>0</td>\n      <td>0</td>\n      <td>0</td>\n      <td>1</td>\n      <td>0</td>\n      <td>0</td>\n    </tr>\n    <tr>\n      <th>1409656</th>\n      <td>2c0m</td>\n      <td>C</td>\n      <td>319</td>\n      <td>602.0</td>\n      <td>0</td>\n      <td>0</td>\n      <td>0</td>\n      <td>0</td>\n      <td>1</td>\n      <td>0</td>\n      <td>...</td>\n      <td>3.3</td>\n      <td>Alpha-solenoid</td>\n      <td>0</td>\n      <td>1</td>\n      <td>0</td>\n      <td>0</td>\n      <td>0</td>\n      <td>1</td>\n      <td>0</td>\n      <td>0</td>\n    </tr>\n  </tbody>\n</table>\n<p>1242384 rows × 25 columns</p>\n</div>"
     },
     "execution_count": 17,
     "metadata": {},
     "output_type": "execute_result"
    }
   ],
   "source": [
    "# PLOTS: GROUP BY TOPOLOGY, CALC METRICS AND PLOT\n",
    "\n",
    "# remove the ones with 2 topologies definition for simplification\n",
    "df_topologies = df[~df[\"topologies\"].astype(str).str.contains(';')]\n",
    "df_topologies = df_topologies[df_topologies[\"topologies\"].notna()]\n",
    "df_topologies['topologies'] = df_topologies['topologies'].astype(str)\n",
    "df_topologies\n"
   ],
   "metadata": {
    "collapsed": false,
    "ExecuteTime": {
     "end_time": "2023-05-19T14:48:06.973266781Z",
     "start_time": "2023-05-19T14:48:05.851682800Z"
    }
   }
  },
  {
   "cell_type": "code",
   "execution_count": 18,
   "outputs": [
    {
     "data": {
      "text/plain": "              RDB1                           RDB2                     \n                TP      TN     FP      FN      TP     TN     FP     FN\ntopologies                                                            \n3.1          21800   23678   1469   24400   37140  12389  12758   9060\n3.2          25852    8691    466   24801   36120   6589   2568  14533\n3.3         143962  105461  16938  133984  241743  53277  69122  36203\n3.4           3866    8736    411    6990    8528   4776   4371   2328\n3.6              0     222      0   21944   17145    186     36   4799\n4.1          73809   35322   6204   76248  105108  22665  18861  44949\n4.10          1699      90     17    1097    1122     94     13   1674\n4.2          28166   16777   2247   47295   51967  10038   8986  23494\n4.3            268     754    110     626     351    430    434    543\n4.4         102964   39899   3794  147209  178547  31543  12150  71626\n4.5          13328    1483     41   18208   25860   1289    235   5676\n4.6           6331     823    271    2016    6435    698    396   1912\n4.7            224       0      1       0     108      1      0    116\n4.9           5780    1915    370    1279    5041   1324    961   2018\n5.1            753      10     11     492     825      9     12    420\n5.2           3558     646     20    3651    5439    377    289   1770\n5.3           1443     138      8    2062    2317    132     14   1188\n5.4           4127     861    109    7541    8015    906     64   3653\n5.5           1783     172      7    4656    3757    177      2   2682",
      "text/html": "<div>\n<style scoped>\n    .dataframe tbody tr th:only-of-type {\n        vertical-align: middle;\n    }\n\n    .dataframe tbody tr th {\n        vertical-align: top;\n    }\n\n    .dataframe thead tr th {\n        text-align: left;\n    }\n\n    .dataframe thead tr:last-of-type th {\n        text-align: right;\n    }\n</style>\n<table border=\"1\" class=\"dataframe\">\n  <thead>\n    <tr>\n      <th></th>\n      <th colspan=\"4\" halign=\"left\">RDB1</th>\n      <th colspan=\"4\" halign=\"left\">RDB2</th>\n    </tr>\n    <tr>\n      <th></th>\n      <th>TP</th>\n      <th>TN</th>\n      <th>FP</th>\n      <th>FN</th>\n      <th>TP</th>\n      <th>TN</th>\n      <th>FP</th>\n      <th>FN</th>\n    </tr>\n    <tr>\n      <th>topologies</th>\n      <th></th>\n      <th></th>\n      <th></th>\n      <th></th>\n      <th></th>\n      <th></th>\n      <th></th>\n      <th></th>\n    </tr>\n  </thead>\n  <tbody>\n    <tr>\n      <th>3.1</th>\n      <td>21800</td>\n      <td>23678</td>\n      <td>1469</td>\n      <td>24400</td>\n      <td>37140</td>\n      <td>12389</td>\n      <td>12758</td>\n      <td>9060</td>\n    </tr>\n    <tr>\n      <th>3.2</th>\n      <td>25852</td>\n      <td>8691</td>\n      <td>466</td>\n      <td>24801</td>\n      <td>36120</td>\n      <td>6589</td>\n      <td>2568</td>\n      <td>14533</td>\n    </tr>\n    <tr>\n      <th>3.3</th>\n      <td>143962</td>\n      <td>105461</td>\n      <td>16938</td>\n      <td>133984</td>\n      <td>241743</td>\n      <td>53277</td>\n      <td>69122</td>\n      <td>36203</td>\n    </tr>\n    <tr>\n      <th>3.4</th>\n      <td>3866</td>\n      <td>8736</td>\n      <td>411</td>\n      <td>6990</td>\n      <td>8528</td>\n      <td>4776</td>\n      <td>4371</td>\n      <td>2328</td>\n    </tr>\n    <tr>\n      <th>3.6</th>\n      <td>0</td>\n      <td>222</td>\n      <td>0</td>\n      <td>21944</td>\n      <td>17145</td>\n      <td>186</td>\n      <td>36</td>\n      <td>4799</td>\n    </tr>\n    <tr>\n      <th>4.1</th>\n      <td>73809</td>\n      <td>35322</td>\n      <td>6204</td>\n      <td>76248</td>\n      <td>105108</td>\n      <td>22665</td>\n      <td>18861</td>\n      <td>44949</td>\n    </tr>\n    <tr>\n      <th>4.10</th>\n      <td>1699</td>\n      <td>90</td>\n      <td>17</td>\n      <td>1097</td>\n      <td>1122</td>\n      <td>94</td>\n      <td>13</td>\n      <td>1674</td>\n    </tr>\n    <tr>\n      <th>4.2</th>\n      <td>28166</td>\n      <td>16777</td>\n      <td>2247</td>\n      <td>47295</td>\n      <td>51967</td>\n      <td>10038</td>\n      <td>8986</td>\n      <td>23494</td>\n    </tr>\n    <tr>\n      <th>4.3</th>\n      <td>268</td>\n      <td>754</td>\n      <td>110</td>\n      <td>626</td>\n      <td>351</td>\n      <td>430</td>\n      <td>434</td>\n      <td>543</td>\n    </tr>\n    <tr>\n      <th>4.4</th>\n      <td>102964</td>\n      <td>39899</td>\n      <td>3794</td>\n      <td>147209</td>\n      <td>178547</td>\n      <td>31543</td>\n      <td>12150</td>\n      <td>71626</td>\n    </tr>\n    <tr>\n      <th>4.5</th>\n      <td>13328</td>\n      <td>1483</td>\n      <td>41</td>\n      <td>18208</td>\n      <td>25860</td>\n      <td>1289</td>\n      <td>235</td>\n      <td>5676</td>\n    </tr>\n    <tr>\n      <th>4.6</th>\n      <td>6331</td>\n      <td>823</td>\n      <td>271</td>\n      <td>2016</td>\n      <td>6435</td>\n      <td>698</td>\n      <td>396</td>\n      <td>1912</td>\n    </tr>\n    <tr>\n      <th>4.7</th>\n      <td>224</td>\n      <td>0</td>\n      <td>1</td>\n      <td>0</td>\n      <td>108</td>\n      <td>1</td>\n      <td>0</td>\n      <td>116</td>\n    </tr>\n    <tr>\n      <th>4.9</th>\n      <td>5780</td>\n      <td>1915</td>\n      <td>370</td>\n      <td>1279</td>\n      <td>5041</td>\n      <td>1324</td>\n      <td>961</td>\n      <td>2018</td>\n    </tr>\n    <tr>\n      <th>5.1</th>\n      <td>753</td>\n      <td>10</td>\n      <td>11</td>\n      <td>492</td>\n      <td>825</td>\n      <td>9</td>\n      <td>12</td>\n      <td>420</td>\n    </tr>\n    <tr>\n      <th>5.2</th>\n      <td>3558</td>\n      <td>646</td>\n      <td>20</td>\n      <td>3651</td>\n      <td>5439</td>\n      <td>377</td>\n      <td>289</td>\n      <td>1770</td>\n    </tr>\n    <tr>\n      <th>5.3</th>\n      <td>1443</td>\n      <td>138</td>\n      <td>8</td>\n      <td>2062</td>\n      <td>2317</td>\n      <td>132</td>\n      <td>14</td>\n      <td>1188</td>\n    </tr>\n    <tr>\n      <th>5.4</th>\n      <td>4127</td>\n      <td>861</td>\n      <td>109</td>\n      <td>7541</td>\n      <td>8015</td>\n      <td>906</td>\n      <td>64</td>\n      <td>3653</td>\n    </tr>\n    <tr>\n      <th>5.5</th>\n      <td>1783</td>\n      <td>172</td>\n      <td>7</td>\n      <td>4656</td>\n      <td>3757</td>\n      <td>177</td>\n      <td>2</td>\n      <td>2682</td>\n    </tr>\n  </tbody>\n</table>\n</div>"
     },
     "execution_count": 18,
     "metadata": {},
     "output_type": "execute_result"
    }
   ],
   "source": [
    "df_top = df_topologies.groupby(['topologies']).agg({'TP_1': 'sum', 'TN_1': 'sum', 'FP_1': 'sum', 'FN_1': 'sum', 'TP_2': 'sum', 'TN_2': 'sum', 'FP_2': 'sum', 'FN_2': 'sum'})\n",
    "\n",
    "\n",
    "df_top.columns=pd.MultiIndex.from_arrays([['RDB1', 'RDB1', 'RDB1', 'RDB1', 'RDB2', 'RDB2', 'RDB2', 'RDB2'], ['TP', 'TN', 'FP', 'FN', 'TP', 'TN', 'FP', 'FN']])\n",
    "df_top"
   ],
   "metadata": {
    "collapsed": false,
    "ExecuteTime": {
     "end_time": "2023-05-19T14:48:07.087180770Z",
     "start_time": "2023-05-19T14:48:06.984827127Z"
    }
   }
  },
  {
   "cell_type": "code",
   "execution_count": 19,
   "outputs": [
    {
     "data": {
      "text/plain": "      0       1       2      3       4     5     6     7     8     9   ...  \\\n0    3.1   21800   23678   1469   24400  0.71  0.94  0.47  0.94  0.63  ...   \n1    3.2   25852    8691    466   24801  0.73  0.98  0.51  0.95  0.67  ...   \n2    3.3  143962  105461  16938  133984  0.69  0.89  0.52  0.86  0.66  ...   \n3    3.4    3866    8736    411    6990  0.66  0.90  0.36  0.96  0.51  ...   \n4    3.6       0     222      0   21944  0.50  0.00  0.00  1.00  0.00  ...   \n5    4.1   73809   35322   6204   76248  0.67  0.92  0.49  0.85  0.64  ...   \n6   4.10    1699      90     17    1097  0.72  0.99  0.61  0.84  0.75  ...   \n7    4.2   28166   16777   2247   47295  0.63  0.93  0.37  0.88  0.53  ...   \n8    4.3     268     754    110     626  0.59  0.71  0.30  0.87  0.42  ...   \n9    4.4  102964   39899   3794  147209  0.66  0.96  0.41  0.91  0.58  ...   \n10   4.5   13328    1483     41   18208  0.70  1.00  0.42  0.97  0.59  ...   \n11   4.6    6331     823    271    2016  0.76  0.96  0.76  0.75  0.85  ...   \n12   4.7     224       0      1       0  0.50  1.00  1.00  0.00  1.00  ...   \n13   4.9    5780    1915    370    1279  0.83  0.94  0.82  0.84  0.88  ...   \n14   5.1     753      10     11     492  0.54  0.99  0.60  0.48  0.75  ...   \n15   5.2    3558     646     20    3651  0.73  0.99  0.49  0.97  0.66  ...   \n16   5.3    1443     138      8    2062  0.68  0.99  0.41  0.95  0.58  ...   \n17   5.4    4127     861    109    7541  0.62  0.97  0.35  0.89  0.52  ...   \n18   5.5    1783     172      7    4656  0.62  1.00  0.28  0.96  0.43  ...   \n\n        11     12     13     14    15    16    17    18    19    20  \n0    37140  12389  12758   9060  0.65  0.74  0.80  0.49  0.77  0.31  \n1    36120   6589   2568  14533  0.72  0.93  0.71  0.72  0.81  0.33  \n2   241743  53277  69122  36203  0.65  0.78  0.87  0.44  0.82  0.34  \n3     8528   4776   4371   2328  0.65  0.66  0.79  0.52  0.72  0.32  \n4    17145    186     36   4799  0.81  1.00  0.78  0.84  0.88  0.15  \n5   105108  22665  18861  44949  0.62  0.85  0.70  0.55  0.77  0.21  \n6     1122     94     13   1674  0.64  0.99  0.40  0.88  0.57  0.11  \n7    51967  10038   8986  23494  0.61  0.85  0.69  0.53  0.76  0.18  \n8      351    430    434    543  0.45  0.45  0.39  0.50  0.42 -0.11  \n9   178547  31543  12150  71626  0.72  0.94  0.71  0.72  0.81  0.32  \n10   25860   1289    235   5676  0.83  0.99  0.82  0.85  0.90  0.34  \n11    6435    698    396   1912  0.70  0.94  0.77  0.64  0.85  0.29  \n12     108      1      0    116  0.74  1.00  0.48  1.00  0.65  0.06  \n13    5041   1324    961   2018  0.65  0.84  0.71  0.58  0.77  0.26  \n14     825      9     12    420  0.55  0.99  0.66  0.43  0.79  0.02  \n15    5439    377    289   1770  0.66  0.95  0.75  0.57  0.84  0.20  \n16    2317    132     14   1188  0.78  0.99  0.66  0.90  0.79  0.23  \n17    8015    906     64   3653  0.81  0.99  0.69  0.93  0.81  0.34  \n18    3757    177      2   2682  0.79  1.00  0.58  0.99  0.74  0.19  \n\n[19 rows x 21 columns]",
      "text/html": "<div>\n<style scoped>\n    .dataframe tbody tr th:only-of-type {\n        vertical-align: middle;\n    }\n\n    .dataframe tbody tr th {\n        vertical-align: top;\n    }\n\n    .dataframe thead th {\n        text-align: right;\n    }\n</style>\n<table border=\"1\" class=\"dataframe\">\n  <thead>\n    <tr style=\"text-align: right;\">\n      <th></th>\n      <th>0</th>\n      <th>1</th>\n      <th>2</th>\n      <th>3</th>\n      <th>4</th>\n      <th>5</th>\n      <th>6</th>\n      <th>7</th>\n      <th>8</th>\n      <th>9</th>\n      <th>...</th>\n      <th>11</th>\n      <th>12</th>\n      <th>13</th>\n      <th>14</th>\n      <th>15</th>\n      <th>16</th>\n      <th>17</th>\n      <th>18</th>\n      <th>19</th>\n      <th>20</th>\n    </tr>\n  </thead>\n  <tbody>\n    <tr>\n      <th>0</th>\n      <td>3.1</td>\n      <td>21800</td>\n      <td>23678</td>\n      <td>1469</td>\n      <td>24400</td>\n      <td>0.71</td>\n      <td>0.94</td>\n      <td>0.47</td>\n      <td>0.94</td>\n      <td>0.63</td>\n      <td>...</td>\n      <td>37140</td>\n      <td>12389</td>\n      <td>12758</td>\n      <td>9060</td>\n      <td>0.65</td>\n      <td>0.74</td>\n      <td>0.80</td>\n      <td>0.49</td>\n      <td>0.77</td>\n      <td>0.31</td>\n    </tr>\n    <tr>\n      <th>1</th>\n      <td>3.2</td>\n      <td>25852</td>\n      <td>8691</td>\n      <td>466</td>\n      <td>24801</td>\n      <td>0.73</td>\n      <td>0.98</td>\n      <td>0.51</td>\n      <td>0.95</td>\n      <td>0.67</td>\n      <td>...</td>\n      <td>36120</td>\n      <td>6589</td>\n      <td>2568</td>\n      <td>14533</td>\n      <td>0.72</td>\n      <td>0.93</td>\n      <td>0.71</td>\n      <td>0.72</td>\n      <td>0.81</td>\n      <td>0.33</td>\n    </tr>\n    <tr>\n      <th>2</th>\n      <td>3.3</td>\n      <td>143962</td>\n      <td>105461</td>\n      <td>16938</td>\n      <td>133984</td>\n      <td>0.69</td>\n      <td>0.89</td>\n      <td>0.52</td>\n      <td>0.86</td>\n      <td>0.66</td>\n      <td>...</td>\n      <td>241743</td>\n      <td>53277</td>\n      <td>69122</td>\n      <td>36203</td>\n      <td>0.65</td>\n      <td>0.78</td>\n      <td>0.87</td>\n      <td>0.44</td>\n      <td>0.82</td>\n      <td>0.34</td>\n    </tr>\n    <tr>\n      <th>3</th>\n      <td>3.4</td>\n      <td>3866</td>\n      <td>8736</td>\n      <td>411</td>\n      <td>6990</td>\n      <td>0.66</td>\n      <td>0.90</td>\n      <td>0.36</td>\n      <td>0.96</td>\n      <td>0.51</td>\n      <td>...</td>\n      <td>8528</td>\n      <td>4776</td>\n      <td>4371</td>\n      <td>2328</td>\n      <td>0.65</td>\n      <td>0.66</td>\n      <td>0.79</td>\n      <td>0.52</td>\n      <td>0.72</td>\n      <td>0.32</td>\n    </tr>\n    <tr>\n      <th>4</th>\n      <td>3.6</td>\n      <td>0</td>\n      <td>222</td>\n      <td>0</td>\n      <td>21944</td>\n      <td>0.50</td>\n      <td>0.00</td>\n      <td>0.00</td>\n      <td>1.00</td>\n      <td>0.00</td>\n      <td>...</td>\n      <td>17145</td>\n      <td>186</td>\n      <td>36</td>\n      <td>4799</td>\n      <td>0.81</td>\n      <td>1.00</td>\n      <td>0.78</td>\n      <td>0.84</td>\n      <td>0.88</td>\n      <td>0.15</td>\n    </tr>\n    <tr>\n      <th>5</th>\n      <td>4.1</td>\n      <td>73809</td>\n      <td>35322</td>\n      <td>6204</td>\n      <td>76248</td>\n      <td>0.67</td>\n      <td>0.92</td>\n      <td>0.49</td>\n      <td>0.85</td>\n      <td>0.64</td>\n      <td>...</td>\n      <td>105108</td>\n      <td>22665</td>\n      <td>18861</td>\n      <td>44949</td>\n      <td>0.62</td>\n      <td>0.85</td>\n      <td>0.70</td>\n      <td>0.55</td>\n      <td>0.77</td>\n      <td>0.21</td>\n    </tr>\n    <tr>\n      <th>6</th>\n      <td>4.10</td>\n      <td>1699</td>\n      <td>90</td>\n      <td>17</td>\n      <td>1097</td>\n      <td>0.72</td>\n      <td>0.99</td>\n      <td>0.61</td>\n      <td>0.84</td>\n      <td>0.75</td>\n      <td>...</td>\n      <td>1122</td>\n      <td>94</td>\n      <td>13</td>\n      <td>1674</td>\n      <td>0.64</td>\n      <td>0.99</td>\n      <td>0.40</td>\n      <td>0.88</td>\n      <td>0.57</td>\n      <td>0.11</td>\n    </tr>\n    <tr>\n      <th>7</th>\n      <td>4.2</td>\n      <td>28166</td>\n      <td>16777</td>\n      <td>2247</td>\n      <td>47295</td>\n      <td>0.63</td>\n      <td>0.93</td>\n      <td>0.37</td>\n      <td>0.88</td>\n      <td>0.53</td>\n      <td>...</td>\n      <td>51967</td>\n      <td>10038</td>\n      <td>8986</td>\n      <td>23494</td>\n      <td>0.61</td>\n      <td>0.85</td>\n      <td>0.69</td>\n      <td>0.53</td>\n      <td>0.76</td>\n      <td>0.18</td>\n    </tr>\n    <tr>\n      <th>8</th>\n      <td>4.3</td>\n      <td>268</td>\n      <td>754</td>\n      <td>110</td>\n      <td>626</td>\n      <td>0.59</td>\n      <td>0.71</td>\n      <td>0.30</td>\n      <td>0.87</td>\n      <td>0.42</td>\n      <td>...</td>\n      <td>351</td>\n      <td>430</td>\n      <td>434</td>\n      <td>543</td>\n      <td>0.45</td>\n      <td>0.45</td>\n      <td>0.39</td>\n      <td>0.50</td>\n      <td>0.42</td>\n      <td>-0.11</td>\n    </tr>\n    <tr>\n      <th>9</th>\n      <td>4.4</td>\n      <td>102964</td>\n      <td>39899</td>\n      <td>3794</td>\n      <td>147209</td>\n      <td>0.66</td>\n      <td>0.96</td>\n      <td>0.41</td>\n      <td>0.91</td>\n      <td>0.58</td>\n      <td>...</td>\n      <td>178547</td>\n      <td>31543</td>\n      <td>12150</td>\n      <td>71626</td>\n      <td>0.72</td>\n      <td>0.94</td>\n      <td>0.71</td>\n      <td>0.72</td>\n      <td>0.81</td>\n      <td>0.32</td>\n    </tr>\n    <tr>\n      <th>10</th>\n      <td>4.5</td>\n      <td>13328</td>\n      <td>1483</td>\n      <td>41</td>\n      <td>18208</td>\n      <td>0.70</td>\n      <td>1.00</td>\n      <td>0.42</td>\n      <td>0.97</td>\n      <td>0.59</td>\n      <td>...</td>\n      <td>25860</td>\n      <td>1289</td>\n      <td>235</td>\n      <td>5676</td>\n      <td>0.83</td>\n      <td>0.99</td>\n      <td>0.82</td>\n      <td>0.85</td>\n      <td>0.90</td>\n      <td>0.34</td>\n    </tr>\n    <tr>\n      <th>11</th>\n      <td>4.6</td>\n      <td>6331</td>\n      <td>823</td>\n      <td>271</td>\n      <td>2016</td>\n      <td>0.76</td>\n      <td>0.96</td>\n      <td>0.76</td>\n      <td>0.75</td>\n      <td>0.85</td>\n      <td>...</td>\n      <td>6435</td>\n      <td>698</td>\n      <td>396</td>\n      <td>1912</td>\n      <td>0.70</td>\n      <td>0.94</td>\n      <td>0.77</td>\n      <td>0.64</td>\n      <td>0.85</td>\n      <td>0.29</td>\n    </tr>\n    <tr>\n      <th>12</th>\n      <td>4.7</td>\n      <td>224</td>\n      <td>0</td>\n      <td>1</td>\n      <td>0</td>\n      <td>0.50</td>\n      <td>1.00</td>\n      <td>1.00</td>\n      <td>0.00</td>\n      <td>1.00</td>\n      <td>...</td>\n      <td>108</td>\n      <td>1</td>\n      <td>0</td>\n      <td>116</td>\n      <td>0.74</td>\n      <td>1.00</td>\n      <td>0.48</td>\n      <td>1.00</td>\n      <td>0.65</td>\n      <td>0.06</td>\n    </tr>\n    <tr>\n      <th>13</th>\n      <td>4.9</td>\n      <td>5780</td>\n      <td>1915</td>\n      <td>370</td>\n      <td>1279</td>\n      <td>0.83</td>\n      <td>0.94</td>\n      <td>0.82</td>\n      <td>0.84</td>\n      <td>0.88</td>\n      <td>...</td>\n      <td>5041</td>\n      <td>1324</td>\n      <td>961</td>\n      <td>2018</td>\n      <td>0.65</td>\n      <td>0.84</td>\n      <td>0.71</td>\n      <td>0.58</td>\n      <td>0.77</td>\n      <td>0.26</td>\n    </tr>\n    <tr>\n      <th>14</th>\n      <td>5.1</td>\n      <td>753</td>\n      <td>10</td>\n      <td>11</td>\n      <td>492</td>\n      <td>0.54</td>\n      <td>0.99</td>\n      <td>0.60</td>\n      <td>0.48</td>\n      <td>0.75</td>\n      <td>...</td>\n      <td>825</td>\n      <td>9</td>\n      <td>12</td>\n      <td>420</td>\n      <td>0.55</td>\n      <td>0.99</td>\n      <td>0.66</td>\n      <td>0.43</td>\n      <td>0.79</td>\n      <td>0.02</td>\n    </tr>\n    <tr>\n      <th>15</th>\n      <td>5.2</td>\n      <td>3558</td>\n      <td>646</td>\n      <td>20</td>\n      <td>3651</td>\n      <td>0.73</td>\n      <td>0.99</td>\n      <td>0.49</td>\n      <td>0.97</td>\n      <td>0.66</td>\n      <td>...</td>\n      <td>5439</td>\n      <td>377</td>\n      <td>289</td>\n      <td>1770</td>\n      <td>0.66</td>\n      <td>0.95</td>\n      <td>0.75</td>\n      <td>0.57</td>\n      <td>0.84</td>\n      <td>0.20</td>\n    </tr>\n    <tr>\n      <th>16</th>\n      <td>5.3</td>\n      <td>1443</td>\n      <td>138</td>\n      <td>8</td>\n      <td>2062</td>\n      <td>0.68</td>\n      <td>0.99</td>\n      <td>0.41</td>\n      <td>0.95</td>\n      <td>0.58</td>\n      <td>...</td>\n      <td>2317</td>\n      <td>132</td>\n      <td>14</td>\n      <td>1188</td>\n      <td>0.78</td>\n      <td>0.99</td>\n      <td>0.66</td>\n      <td>0.90</td>\n      <td>0.79</td>\n      <td>0.23</td>\n    </tr>\n    <tr>\n      <th>17</th>\n      <td>5.4</td>\n      <td>4127</td>\n      <td>861</td>\n      <td>109</td>\n      <td>7541</td>\n      <td>0.62</td>\n      <td>0.97</td>\n      <td>0.35</td>\n      <td>0.89</td>\n      <td>0.52</td>\n      <td>...</td>\n      <td>8015</td>\n      <td>906</td>\n      <td>64</td>\n      <td>3653</td>\n      <td>0.81</td>\n      <td>0.99</td>\n      <td>0.69</td>\n      <td>0.93</td>\n      <td>0.81</td>\n      <td>0.34</td>\n    </tr>\n    <tr>\n      <th>18</th>\n      <td>5.5</td>\n      <td>1783</td>\n      <td>172</td>\n      <td>7</td>\n      <td>4656</td>\n      <td>0.62</td>\n      <td>1.00</td>\n      <td>0.28</td>\n      <td>0.96</td>\n      <td>0.43</td>\n      <td>...</td>\n      <td>3757</td>\n      <td>177</td>\n      <td>2</td>\n      <td>2682</td>\n      <td>0.79</td>\n      <td>1.00</td>\n      <td>0.58</td>\n      <td>0.99</td>\n      <td>0.74</td>\n      <td>0.19</td>\n    </tr>\n  </tbody>\n</table>\n<p>19 rows × 21 columns</p>\n</div>"
     },
     "execution_count": 19,
     "metadata": {},
     "output_type": "execute_result"
    }
   ],
   "source": [
    "# apply calc_metrics function to each row for both RDB1 and RDB2\n",
    "data = []\n",
    "for index, row in df_top.iterrows():\n",
    "    data.append([index, *row[:4], *calc_metrics(*row['RDB1']), *row[4:], *calc_metrics(*row['RDB2'])])\n",
    "df_top = pd.DataFrame(data)\n",
    "df_top"
   ],
   "metadata": {
    "collapsed": false,
    "ExecuteTime": {
     "end_time": "2023-05-19T14:48:07.179971471Z",
     "start_time": "2023-05-19T14:48:07.110105975Z"
    }
   }
  },
  {
   "cell_type": "code",
   "execution_count": 20,
   "outputs": [
    {
     "data": {
      "text/plain": "   topologies       1       2      3       4     5     6     7     8     9  \\\n0         3.1   21800   23678   1469   24400  0.71  0.94  0.47  0.94  0.63   \n1         3.2   25852    8691    466   24801  0.73  0.98  0.51  0.95  0.67   \n2         3.3  143962  105461  16938  133984  0.69  0.89  0.52  0.86  0.66   \n3         3.4    3866    8736    411    6990  0.66  0.90  0.36  0.96  0.51   \n4         3.6       0     222      0   21944  0.50  0.00  0.00  1.00  0.00   \n5         4.1   73809   35322   6204   76248  0.67  0.92  0.49  0.85  0.64   \n7         4.2   28166   16777   2247   47295  0.63  0.93  0.37  0.88  0.53   \n8         4.3     268     754    110     626  0.59  0.71  0.30  0.87  0.42   \n9         4.4  102964   39899   3794  147209  0.66  0.96  0.41  0.91  0.58   \n10        4.5   13328    1483     41   18208  0.70  1.00  0.42  0.97  0.59   \n11        4.6    6331     823    271    2016  0.76  0.96  0.76  0.75  0.85   \n12        4.7     224       0      1       0  0.50  1.00  1.00  0.00  1.00   \n13        4.9    5780    1915    370    1279  0.83  0.94  0.82  0.84  0.88   \n6        4.10    1699      90     17    1097  0.72  0.99  0.61  0.84  0.75   \n14        5.1     753      10     11     492  0.54  0.99  0.60  0.48  0.75   \n15        5.2    3558     646     20    3651  0.73  0.99  0.49  0.97  0.66   \n16        5.3    1443     138      8    2062  0.68  0.99  0.41  0.95  0.58   \n17        5.4    4127     861    109    7541  0.62  0.97  0.35  0.89  0.52   \n18        5.5    1783     172      7    4656  0.62  1.00  0.28  0.96  0.43   \n\n    ...     13     14    15    16    17    18    19    20  c   t  \n0   ...  12758   9060  0.65  0.74  0.80  0.49  0.77  0.31  3   1  \n1   ...   2568  14533  0.72  0.93  0.71  0.72  0.81  0.33  3   2  \n2   ...  69122  36203  0.65  0.78  0.87  0.44  0.82  0.34  3   3  \n3   ...   4371   2328  0.65  0.66  0.79  0.52  0.72  0.32  3   4  \n4   ...     36   4799  0.81  1.00  0.78  0.84  0.88  0.15  3   6  \n5   ...  18861  44949  0.62  0.85  0.70  0.55  0.77  0.21  4   1  \n7   ...   8986  23494  0.61  0.85  0.69  0.53  0.76  0.18  4   2  \n8   ...    434    543  0.45  0.45  0.39  0.50  0.42 -0.11  4   3  \n9   ...  12150  71626  0.72  0.94  0.71  0.72  0.81  0.32  4   4  \n10  ...    235   5676  0.83  0.99  0.82  0.85  0.90  0.34  4   5  \n11  ...    396   1912  0.70  0.94  0.77  0.64  0.85  0.29  4   6  \n12  ...      0    116  0.74  1.00  0.48  1.00  0.65  0.06  4   7  \n13  ...    961   2018  0.65  0.84  0.71  0.58  0.77  0.26  4   9  \n6   ...     13   1674  0.64  0.99  0.40  0.88  0.57  0.11  4  10  \n14  ...     12    420  0.55  0.99  0.66  0.43  0.79  0.02  5   1  \n15  ...    289   1770  0.66  0.95  0.75  0.57  0.84  0.20  5   2  \n16  ...     14   1188  0.78  0.99  0.66  0.90  0.79  0.23  5   3  \n17  ...     64   3653  0.81  0.99  0.69  0.93  0.81  0.34  5   4  \n18  ...      2   2682  0.79  1.00  0.58  0.99  0.74  0.19  5   5  \n\n[19 rows x 23 columns]",
      "text/html": "<div>\n<style scoped>\n    .dataframe tbody tr th:only-of-type {\n        vertical-align: middle;\n    }\n\n    .dataframe tbody tr th {\n        vertical-align: top;\n    }\n\n    .dataframe thead th {\n        text-align: right;\n    }\n</style>\n<table border=\"1\" class=\"dataframe\">\n  <thead>\n    <tr style=\"text-align: right;\">\n      <th></th>\n      <th>topologies</th>\n      <th>1</th>\n      <th>2</th>\n      <th>3</th>\n      <th>4</th>\n      <th>5</th>\n      <th>6</th>\n      <th>7</th>\n      <th>8</th>\n      <th>9</th>\n      <th>...</th>\n      <th>13</th>\n      <th>14</th>\n      <th>15</th>\n      <th>16</th>\n      <th>17</th>\n      <th>18</th>\n      <th>19</th>\n      <th>20</th>\n      <th>c</th>\n      <th>t</th>\n    </tr>\n  </thead>\n  <tbody>\n    <tr>\n      <th>0</th>\n      <td>3.1</td>\n      <td>21800</td>\n      <td>23678</td>\n      <td>1469</td>\n      <td>24400</td>\n      <td>0.71</td>\n      <td>0.94</td>\n      <td>0.47</td>\n      <td>0.94</td>\n      <td>0.63</td>\n      <td>...</td>\n      <td>12758</td>\n      <td>9060</td>\n      <td>0.65</td>\n      <td>0.74</td>\n      <td>0.80</td>\n      <td>0.49</td>\n      <td>0.77</td>\n      <td>0.31</td>\n      <td>3</td>\n      <td>1</td>\n    </tr>\n    <tr>\n      <th>1</th>\n      <td>3.2</td>\n      <td>25852</td>\n      <td>8691</td>\n      <td>466</td>\n      <td>24801</td>\n      <td>0.73</td>\n      <td>0.98</td>\n      <td>0.51</td>\n      <td>0.95</td>\n      <td>0.67</td>\n      <td>...</td>\n      <td>2568</td>\n      <td>14533</td>\n      <td>0.72</td>\n      <td>0.93</td>\n      <td>0.71</td>\n      <td>0.72</td>\n      <td>0.81</td>\n      <td>0.33</td>\n      <td>3</td>\n      <td>2</td>\n    </tr>\n    <tr>\n      <th>2</th>\n      <td>3.3</td>\n      <td>143962</td>\n      <td>105461</td>\n      <td>16938</td>\n      <td>133984</td>\n      <td>0.69</td>\n      <td>0.89</td>\n      <td>0.52</td>\n      <td>0.86</td>\n      <td>0.66</td>\n      <td>...</td>\n      <td>69122</td>\n      <td>36203</td>\n      <td>0.65</td>\n      <td>0.78</td>\n      <td>0.87</td>\n      <td>0.44</td>\n      <td>0.82</td>\n      <td>0.34</td>\n      <td>3</td>\n      <td>3</td>\n    </tr>\n    <tr>\n      <th>3</th>\n      <td>3.4</td>\n      <td>3866</td>\n      <td>8736</td>\n      <td>411</td>\n      <td>6990</td>\n      <td>0.66</td>\n      <td>0.90</td>\n      <td>0.36</td>\n      <td>0.96</td>\n      <td>0.51</td>\n      <td>...</td>\n      <td>4371</td>\n      <td>2328</td>\n      <td>0.65</td>\n      <td>0.66</td>\n      <td>0.79</td>\n      <td>0.52</td>\n      <td>0.72</td>\n      <td>0.32</td>\n      <td>3</td>\n      <td>4</td>\n    </tr>\n    <tr>\n      <th>4</th>\n      <td>3.6</td>\n      <td>0</td>\n      <td>222</td>\n      <td>0</td>\n      <td>21944</td>\n      <td>0.50</td>\n      <td>0.00</td>\n      <td>0.00</td>\n      <td>1.00</td>\n      <td>0.00</td>\n      <td>...</td>\n      <td>36</td>\n      <td>4799</td>\n      <td>0.81</td>\n      <td>1.00</td>\n      <td>0.78</td>\n      <td>0.84</td>\n      <td>0.88</td>\n      <td>0.15</td>\n      <td>3</td>\n      <td>6</td>\n    </tr>\n    <tr>\n      <th>5</th>\n      <td>4.1</td>\n      <td>73809</td>\n      <td>35322</td>\n      <td>6204</td>\n      <td>76248</td>\n      <td>0.67</td>\n      <td>0.92</td>\n      <td>0.49</td>\n      <td>0.85</td>\n      <td>0.64</td>\n      <td>...</td>\n      <td>18861</td>\n      <td>44949</td>\n      <td>0.62</td>\n      <td>0.85</td>\n      <td>0.70</td>\n      <td>0.55</td>\n      <td>0.77</td>\n      <td>0.21</td>\n      <td>4</td>\n      <td>1</td>\n    </tr>\n    <tr>\n      <th>7</th>\n      <td>4.2</td>\n      <td>28166</td>\n      <td>16777</td>\n      <td>2247</td>\n      <td>47295</td>\n      <td>0.63</td>\n      <td>0.93</td>\n      <td>0.37</td>\n      <td>0.88</td>\n      <td>0.53</td>\n      <td>...</td>\n      <td>8986</td>\n      <td>23494</td>\n      <td>0.61</td>\n      <td>0.85</td>\n      <td>0.69</td>\n      <td>0.53</td>\n      <td>0.76</td>\n      <td>0.18</td>\n      <td>4</td>\n      <td>2</td>\n    </tr>\n    <tr>\n      <th>8</th>\n      <td>4.3</td>\n      <td>268</td>\n      <td>754</td>\n      <td>110</td>\n      <td>626</td>\n      <td>0.59</td>\n      <td>0.71</td>\n      <td>0.30</td>\n      <td>0.87</td>\n      <td>0.42</td>\n      <td>...</td>\n      <td>434</td>\n      <td>543</td>\n      <td>0.45</td>\n      <td>0.45</td>\n      <td>0.39</td>\n      <td>0.50</td>\n      <td>0.42</td>\n      <td>-0.11</td>\n      <td>4</td>\n      <td>3</td>\n    </tr>\n    <tr>\n      <th>9</th>\n      <td>4.4</td>\n      <td>102964</td>\n      <td>39899</td>\n      <td>3794</td>\n      <td>147209</td>\n      <td>0.66</td>\n      <td>0.96</td>\n      <td>0.41</td>\n      <td>0.91</td>\n      <td>0.58</td>\n      <td>...</td>\n      <td>12150</td>\n      <td>71626</td>\n      <td>0.72</td>\n      <td>0.94</td>\n      <td>0.71</td>\n      <td>0.72</td>\n      <td>0.81</td>\n      <td>0.32</td>\n      <td>4</td>\n      <td>4</td>\n    </tr>\n    <tr>\n      <th>10</th>\n      <td>4.5</td>\n      <td>13328</td>\n      <td>1483</td>\n      <td>41</td>\n      <td>18208</td>\n      <td>0.70</td>\n      <td>1.00</td>\n      <td>0.42</td>\n      <td>0.97</td>\n      <td>0.59</td>\n      <td>...</td>\n      <td>235</td>\n      <td>5676</td>\n      <td>0.83</td>\n      <td>0.99</td>\n      <td>0.82</td>\n      <td>0.85</td>\n      <td>0.90</td>\n      <td>0.34</td>\n      <td>4</td>\n      <td>5</td>\n    </tr>\n    <tr>\n      <th>11</th>\n      <td>4.6</td>\n      <td>6331</td>\n      <td>823</td>\n      <td>271</td>\n      <td>2016</td>\n      <td>0.76</td>\n      <td>0.96</td>\n      <td>0.76</td>\n      <td>0.75</td>\n      <td>0.85</td>\n      <td>...</td>\n      <td>396</td>\n      <td>1912</td>\n      <td>0.70</td>\n      <td>0.94</td>\n      <td>0.77</td>\n      <td>0.64</td>\n      <td>0.85</td>\n      <td>0.29</td>\n      <td>4</td>\n      <td>6</td>\n    </tr>\n    <tr>\n      <th>12</th>\n      <td>4.7</td>\n      <td>224</td>\n      <td>0</td>\n      <td>1</td>\n      <td>0</td>\n      <td>0.50</td>\n      <td>1.00</td>\n      <td>1.00</td>\n      <td>0.00</td>\n      <td>1.00</td>\n      <td>...</td>\n      <td>0</td>\n      <td>116</td>\n      <td>0.74</td>\n      <td>1.00</td>\n      <td>0.48</td>\n      <td>1.00</td>\n      <td>0.65</td>\n      <td>0.06</td>\n      <td>4</td>\n      <td>7</td>\n    </tr>\n    <tr>\n      <th>13</th>\n      <td>4.9</td>\n      <td>5780</td>\n      <td>1915</td>\n      <td>370</td>\n      <td>1279</td>\n      <td>0.83</td>\n      <td>0.94</td>\n      <td>0.82</td>\n      <td>0.84</td>\n      <td>0.88</td>\n      <td>...</td>\n      <td>961</td>\n      <td>2018</td>\n      <td>0.65</td>\n      <td>0.84</td>\n      <td>0.71</td>\n      <td>0.58</td>\n      <td>0.77</td>\n      <td>0.26</td>\n      <td>4</td>\n      <td>9</td>\n    </tr>\n    <tr>\n      <th>6</th>\n      <td>4.10</td>\n      <td>1699</td>\n      <td>90</td>\n      <td>17</td>\n      <td>1097</td>\n      <td>0.72</td>\n      <td>0.99</td>\n      <td>0.61</td>\n      <td>0.84</td>\n      <td>0.75</td>\n      <td>...</td>\n      <td>13</td>\n      <td>1674</td>\n      <td>0.64</td>\n      <td>0.99</td>\n      <td>0.40</td>\n      <td>0.88</td>\n      <td>0.57</td>\n      <td>0.11</td>\n      <td>4</td>\n      <td>10</td>\n    </tr>\n    <tr>\n      <th>14</th>\n      <td>5.1</td>\n      <td>753</td>\n      <td>10</td>\n      <td>11</td>\n      <td>492</td>\n      <td>0.54</td>\n      <td>0.99</td>\n      <td>0.60</td>\n      <td>0.48</td>\n      <td>0.75</td>\n      <td>...</td>\n      <td>12</td>\n      <td>420</td>\n      <td>0.55</td>\n      <td>0.99</td>\n      <td>0.66</td>\n      <td>0.43</td>\n      <td>0.79</td>\n      <td>0.02</td>\n      <td>5</td>\n      <td>1</td>\n    </tr>\n    <tr>\n      <th>15</th>\n      <td>5.2</td>\n      <td>3558</td>\n      <td>646</td>\n      <td>20</td>\n      <td>3651</td>\n      <td>0.73</td>\n      <td>0.99</td>\n      <td>0.49</td>\n      <td>0.97</td>\n      <td>0.66</td>\n      <td>...</td>\n      <td>289</td>\n      <td>1770</td>\n      <td>0.66</td>\n      <td>0.95</td>\n      <td>0.75</td>\n      <td>0.57</td>\n      <td>0.84</td>\n      <td>0.20</td>\n      <td>5</td>\n      <td>2</td>\n    </tr>\n    <tr>\n      <th>16</th>\n      <td>5.3</td>\n      <td>1443</td>\n      <td>138</td>\n      <td>8</td>\n      <td>2062</td>\n      <td>0.68</td>\n      <td>0.99</td>\n      <td>0.41</td>\n      <td>0.95</td>\n      <td>0.58</td>\n      <td>...</td>\n      <td>14</td>\n      <td>1188</td>\n      <td>0.78</td>\n      <td>0.99</td>\n      <td>0.66</td>\n      <td>0.90</td>\n      <td>0.79</td>\n      <td>0.23</td>\n      <td>5</td>\n      <td>3</td>\n    </tr>\n    <tr>\n      <th>17</th>\n      <td>5.4</td>\n      <td>4127</td>\n      <td>861</td>\n      <td>109</td>\n      <td>7541</td>\n      <td>0.62</td>\n      <td>0.97</td>\n      <td>0.35</td>\n      <td>0.89</td>\n      <td>0.52</td>\n      <td>...</td>\n      <td>64</td>\n      <td>3653</td>\n      <td>0.81</td>\n      <td>0.99</td>\n      <td>0.69</td>\n      <td>0.93</td>\n      <td>0.81</td>\n      <td>0.34</td>\n      <td>5</td>\n      <td>4</td>\n    </tr>\n    <tr>\n      <th>18</th>\n      <td>5.5</td>\n      <td>1783</td>\n      <td>172</td>\n      <td>7</td>\n      <td>4656</td>\n      <td>0.62</td>\n      <td>1.00</td>\n      <td>0.28</td>\n      <td>0.96</td>\n      <td>0.43</td>\n      <td>...</td>\n      <td>2</td>\n      <td>2682</td>\n      <td>0.79</td>\n      <td>1.00</td>\n      <td>0.58</td>\n      <td>0.99</td>\n      <td>0.74</td>\n      <td>0.19</td>\n      <td>5</td>\n      <td>5</td>\n    </tr>\n  </tbody>\n</table>\n<p>19 rows × 23 columns</p>\n</div>"
     },
     "execution_count": 20,
     "metadata": {},
     "output_type": "execute_result"
    }
   ],
   "source": [
    "# # # plot\n",
    "df_top.rename(columns={0: 'topologies'}, inplace=True)\n",
    "df_top[['c', 't']] = df_top['topologies'].str.split('.', expand=True)\n",
    "df_top[\"t\"] = pd.to_numeric(df_top[\"t\"])\n",
    "df_top = df_top.sort_values(['c', 't'])\n",
    "df_top"
   ],
   "metadata": {
    "collapsed": false,
    "ExecuteTime": {
     "end_time": "2023-05-19T14:48:07.180138952Z",
     "start_time": "2023-05-19T14:48:07.149225247Z"
    }
   }
  },
  {
   "cell_type": "code",
   "execution_count": 21,
   "outputs": [
    {
     "data": {
      "text/plain": "           id    RDB1                                                       \\\n   topologies      TP      TN     FP      FN  bacc     p    se    sp    f1   \n0         3.1   21800   23678   1469   24400  0.71  0.94  0.47  0.94  0.63   \n1         3.2   25852    8691    466   24801  0.73  0.98  0.51  0.95  0.67   \n2         3.3  143962  105461  16938  133984  0.69  0.89  0.52  0.86  0.66   \n3         3.4    3866    8736    411    6990  0.66  0.90  0.36  0.96  0.51   \n4         3.6       0     222      0   21944  0.50  0.00  0.00  1.00  0.00   \n5         4.1   73809   35322   6204   76248  0.67  0.92  0.49  0.85  0.64   \n7         4.2   28166   16777   2247   47295  0.63  0.93  0.37  0.88  0.53   \n8         4.3     268     754    110     626  0.59  0.71  0.30  0.87  0.42   \n9         4.4  102964   39899   3794  147209  0.66  0.96  0.41  0.91  0.58   \n10        4.5   13328    1483     41   18208  0.70  1.00  0.42  0.97  0.59   \n11        4.6    6331     823    271    2016  0.76  0.96  0.76  0.75  0.85   \n12        4.7     224       0      1       0  0.50  1.00  1.00  0.00  1.00   \n13        4.9    5780    1915    370    1279  0.83  0.94  0.82  0.84  0.88   \n6        4.10    1699      90     17    1097  0.72  0.99  0.61  0.84  0.75   \n14        5.1     753      10     11     492  0.54  0.99  0.60  0.48  0.75   \n15        5.2    3558     646     20    3651  0.73  0.99  0.49  0.97  0.66   \n16        5.3    1443     138      8    2062  0.68  0.99  0.41  0.95  0.58   \n17        5.4    4127     861    109    7541  0.62  0.97  0.35  0.89  0.52   \n18        5.5    1783     172      7    4656  0.62  1.00  0.28  0.96  0.43   \n\n    ...   RDB2                                            id      \n    ...     FP     FN  bacc     p    se    sp    f1   mcc  c   t  \n0   ...  12758   9060  0.65  0.74  0.80  0.49  0.77  0.31  3   1  \n1   ...   2568  14533  0.72  0.93  0.71  0.72  0.81  0.33  3   2  \n2   ...  69122  36203  0.65  0.78  0.87  0.44  0.82  0.34  3   3  \n3   ...   4371   2328  0.65  0.66  0.79  0.52  0.72  0.32  3   4  \n4   ...     36   4799  0.81  1.00  0.78  0.84  0.88  0.15  3   6  \n5   ...  18861  44949  0.62  0.85  0.70  0.55  0.77  0.21  4   1  \n7   ...   8986  23494  0.61  0.85  0.69  0.53  0.76  0.18  4   2  \n8   ...    434    543  0.45  0.45  0.39  0.50  0.42 -0.11  4   3  \n9   ...  12150  71626  0.72  0.94  0.71  0.72  0.81  0.32  4   4  \n10  ...    235   5676  0.83  0.99  0.82  0.85  0.90  0.34  4   5  \n11  ...    396   1912  0.70  0.94  0.77  0.64  0.85  0.29  4   6  \n12  ...      0    116  0.74  1.00  0.48  1.00  0.65  0.06  4   7  \n13  ...    961   2018  0.65  0.84  0.71  0.58  0.77  0.26  4   9  \n6   ...     13   1674  0.64  0.99  0.40  0.88  0.57  0.11  4  10  \n14  ...     12    420  0.55  0.99  0.66  0.43  0.79  0.02  5   1  \n15  ...    289   1770  0.66  0.95  0.75  0.57  0.84  0.20  5   2  \n16  ...     14   1188  0.78  0.99  0.66  0.90  0.79  0.23  5   3  \n17  ...     64   3653  0.81  0.99  0.69  0.93  0.81  0.34  5   4  \n18  ...      2   2682  0.79  1.00  0.58  0.99  0.74  0.19  5   5  \n\n[19 rows x 23 columns]",
      "text/html": "<div>\n<style scoped>\n    .dataframe tbody tr th:only-of-type {\n        vertical-align: middle;\n    }\n\n    .dataframe tbody tr th {\n        vertical-align: top;\n    }\n\n    .dataframe thead tr th {\n        text-align: left;\n    }\n</style>\n<table border=\"1\" class=\"dataframe\">\n  <thead>\n    <tr>\n      <th></th>\n      <th>id</th>\n      <th colspan=\"9\" halign=\"left\">RDB1</th>\n      <th>...</th>\n      <th colspan=\"8\" halign=\"left\">RDB2</th>\n      <th colspan=\"2\" halign=\"left\">id</th>\n    </tr>\n    <tr>\n      <th></th>\n      <th>topologies</th>\n      <th>TP</th>\n      <th>TN</th>\n      <th>FP</th>\n      <th>FN</th>\n      <th>bacc</th>\n      <th>p</th>\n      <th>se</th>\n      <th>sp</th>\n      <th>f1</th>\n      <th>...</th>\n      <th>FP</th>\n      <th>FN</th>\n      <th>bacc</th>\n      <th>p</th>\n      <th>se</th>\n      <th>sp</th>\n      <th>f1</th>\n      <th>mcc</th>\n      <th>c</th>\n      <th>t</th>\n    </tr>\n  </thead>\n  <tbody>\n    <tr>\n      <th>0</th>\n      <td>3.1</td>\n      <td>21800</td>\n      <td>23678</td>\n      <td>1469</td>\n      <td>24400</td>\n      <td>0.71</td>\n      <td>0.94</td>\n      <td>0.47</td>\n      <td>0.94</td>\n      <td>0.63</td>\n      <td>...</td>\n      <td>12758</td>\n      <td>9060</td>\n      <td>0.65</td>\n      <td>0.74</td>\n      <td>0.80</td>\n      <td>0.49</td>\n      <td>0.77</td>\n      <td>0.31</td>\n      <td>3</td>\n      <td>1</td>\n    </tr>\n    <tr>\n      <th>1</th>\n      <td>3.2</td>\n      <td>25852</td>\n      <td>8691</td>\n      <td>466</td>\n      <td>24801</td>\n      <td>0.73</td>\n      <td>0.98</td>\n      <td>0.51</td>\n      <td>0.95</td>\n      <td>0.67</td>\n      <td>...</td>\n      <td>2568</td>\n      <td>14533</td>\n      <td>0.72</td>\n      <td>0.93</td>\n      <td>0.71</td>\n      <td>0.72</td>\n      <td>0.81</td>\n      <td>0.33</td>\n      <td>3</td>\n      <td>2</td>\n    </tr>\n    <tr>\n      <th>2</th>\n      <td>3.3</td>\n      <td>143962</td>\n      <td>105461</td>\n      <td>16938</td>\n      <td>133984</td>\n      <td>0.69</td>\n      <td>0.89</td>\n      <td>0.52</td>\n      <td>0.86</td>\n      <td>0.66</td>\n      <td>...</td>\n      <td>69122</td>\n      <td>36203</td>\n      <td>0.65</td>\n      <td>0.78</td>\n      <td>0.87</td>\n      <td>0.44</td>\n      <td>0.82</td>\n      <td>0.34</td>\n      <td>3</td>\n      <td>3</td>\n    </tr>\n    <tr>\n      <th>3</th>\n      <td>3.4</td>\n      <td>3866</td>\n      <td>8736</td>\n      <td>411</td>\n      <td>6990</td>\n      <td>0.66</td>\n      <td>0.90</td>\n      <td>0.36</td>\n      <td>0.96</td>\n      <td>0.51</td>\n      <td>...</td>\n      <td>4371</td>\n      <td>2328</td>\n      <td>0.65</td>\n      <td>0.66</td>\n      <td>0.79</td>\n      <td>0.52</td>\n      <td>0.72</td>\n      <td>0.32</td>\n      <td>3</td>\n      <td>4</td>\n    </tr>\n    <tr>\n      <th>4</th>\n      <td>3.6</td>\n      <td>0</td>\n      <td>222</td>\n      <td>0</td>\n      <td>21944</td>\n      <td>0.50</td>\n      <td>0.00</td>\n      <td>0.00</td>\n      <td>1.00</td>\n      <td>0.00</td>\n      <td>...</td>\n      <td>36</td>\n      <td>4799</td>\n      <td>0.81</td>\n      <td>1.00</td>\n      <td>0.78</td>\n      <td>0.84</td>\n      <td>0.88</td>\n      <td>0.15</td>\n      <td>3</td>\n      <td>6</td>\n    </tr>\n    <tr>\n      <th>5</th>\n      <td>4.1</td>\n      <td>73809</td>\n      <td>35322</td>\n      <td>6204</td>\n      <td>76248</td>\n      <td>0.67</td>\n      <td>0.92</td>\n      <td>0.49</td>\n      <td>0.85</td>\n      <td>0.64</td>\n      <td>...</td>\n      <td>18861</td>\n      <td>44949</td>\n      <td>0.62</td>\n      <td>0.85</td>\n      <td>0.70</td>\n      <td>0.55</td>\n      <td>0.77</td>\n      <td>0.21</td>\n      <td>4</td>\n      <td>1</td>\n    </tr>\n    <tr>\n      <th>7</th>\n      <td>4.2</td>\n      <td>28166</td>\n      <td>16777</td>\n      <td>2247</td>\n      <td>47295</td>\n      <td>0.63</td>\n      <td>0.93</td>\n      <td>0.37</td>\n      <td>0.88</td>\n      <td>0.53</td>\n      <td>...</td>\n      <td>8986</td>\n      <td>23494</td>\n      <td>0.61</td>\n      <td>0.85</td>\n      <td>0.69</td>\n      <td>0.53</td>\n      <td>0.76</td>\n      <td>0.18</td>\n      <td>4</td>\n      <td>2</td>\n    </tr>\n    <tr>\n      <th>8</th>\n      <td>4.3</td>\n      <td>268</td>\n      <td>754</td>\n      <td>110</td>\n      <td>626</td>\n      <td>0.59</td>\n      <td>0.71</td>\n      <td>0.30</td>\n      <td>0.87</td>\n      <td>0.42</td>\n      <td>...</td>\n      <td>434</td>\n      <td>543</td>\n      <td>0.45</td>\n      <td>0.45</td>\n      <td>0.39</td>\n      <td>0.50</td>\n      <td>0.42</td>\n      <td>-0.11</td>\n      <td>4</td>\n      <td>3</td>\n    </tr>\n    <tr>\n      <th>9</th>\n      <td>4.4</td>\n      <td>102964</td>\n      <td>39899</td>\n      <td>3794</td>\n      <td>147209</td>\n      <td>0.66</td>\n      <td>0.96</td>\n      <td>0.41</td>\n      <td>0.91</td>\n      <td>0.58</td>\n      <td>...</td>\n      <td>12150</td>\n      <td>71626</td>\n      <td>0.72</td>\n      <td>0.94</td>\n      <td>0.71</td>\n      <td>0.72</td>\n      <td>0.81</td>\n      <td>0.32</td>\n      <td>4</td>\n      <td>4</td>\n    </tr>\n    <tr>\n      <th>10</th>\n      <td>4.5</td>\n      <td>13328</td>\n      <td>1483</td>\n      <td>41</td>\n      <td>18208</td>\n      <td>0.70</td>\n      <td>1.00</td>\n      <td>0.42</td>\n      <td>0.97</td>\n      <td>0.59</td>\n      <td>...</td>\n      <td>235</td>\n      <td>5676</td>\n      <td>0.83</td>\n      <td>0.99</td>\n      <td>0.82</td>\n      <td>0.85</td>\n      <td>0.90</td>\n      <td>0.34</td>\n      <td>4</td>\n      <td>5</td>\n    </tr>\n    <tr>\n      <th>11</th>\n      <td>4.6</td>\n      <td>6331</td>\n      <td>823</td>\n      <td>271</td>\n      <td>2016</td>\n      <td>0.76</td>\n      <td>0.96</td>\n      <td>0.76</td>\n      <td>0.75</td>\n      <td>0.85</td>\n      <td>...</td>\n      <td>396</td>\n      <td>1912</td>\n      <td>0.70</td>\n      <td>0.94</td>\n      <td>0.77</td>\n      <td>0.64</td>\n      <td>0.85</td>\n      <td>0.29</td>\n      <td>4</td>\n      <td>6</td>\n    </tr>\n    <tr>\n      <th>12</th>\n      <td>4.7</td>\n      <td>224</td>\n      <td>0</td>\n      <td>1</td>\n      <td>0</td>\n      <td>0.50</td>\n      <td>1.00</td>\n      <td>1.00</td>\n      <td>0.00</td>\n      <td>1.00</td>\n      <td>...</td>\n      <td>0</td>\n      <td>116</td>\n      <td>0.74</td>\n      <td>1.00</td>\n      <td>0.48</td>\n      <td>1.00</td>\n      <td>0.65</td>\n      <td>0.06</td>\n      <td>4</td>\n      <td>7</td>\n    </tr>\n    <tr>\n      <th>13</th>\n      <td>4.9</td>\n      <td>5780</td>\n      <td>1915</td>\n      <td>370</td>\n      <td>1279</td>\n      <td>0.83</td>\n      <td>0.94</td>\n      <td>0.82</td>\n      <td>0.84</td>\n      <td>0.88</td>\n      <td>...</td>\n      <td>961</td>\n      <td>2018</td>\n      <td>0.65</td>\n      <td>0.84</td>\n      <td>0.71</td>\n      <td>0.58</td>\n      <td>0.77</td>\n      <td>0.26</td>\n      <td>4</td>\n      <td>9</td>\n    </tr>\n    <tr>\n      <th>6</th>\n      <td>4.10</td>\n      <td>1699</td>\n      <td>90</td>\n      <td>17</td>\n      <td>1097</td>\n      <td>0.72</td>\n      <td>0.99</td>\n      <td>0.61</td>\n      <td>0.84</td>\n      <td>0.75</td>\n      <td>...</td>\n      <td>13</td>\n      <td>1674</td>\n      <td>0.64</td>\n      <td>0.99</td>\n      <td>0.40</td>\n      <td>0.88</td>\n      <td>0.57</td>\n      <td>0.11</td>\n      <td>4</td>\n      <td>10</td>\n    </tr>\n    <tr>\n      <th>14</th>\n      <td>5.1</td>\n      <td>753</td>\n      <td>10</td>\n      <td>11</td>\n      <td>492</td>\n      <td>0.54</td>\n      <td>0.99</td>\n      <td>0.60</td>\n      <td>0.48</td>\n      <td>0.75</td>\n      <td>...</td>\n      <td>12</td>\n      <td>420</td>\n      <td>0.55</td>\n      <td>0.99</td>\n      <td>0.66</td>\n      <td>0.43</td>\n      <td>0.79</td>\n      <td>0.02</td>\n      <td>5</td>\n      <td>1</td>\n    </tr>\n    <tr>\n      <th>15</th>\n      <td>5.2</td>\n      <td>3558</td>\n      <td>646</td>\n      <td>20</td>\n      <td>3651</td>\n      <td>0.73</td>\n      <td>0.99</td>\n      <td>0.49</td>\n      <td>0.97</td>\n      <td>0.66</td>\n      <td>...</td>\n      <td>289</td>\n      <td>1770</td>\n      <td>0.66</td>\n      <td>0.95</td>\n      <td>0.75</td>\n      <td>0.57</td>\n      <td>0.84</td>\n      <td>0.20</td>\n      <td>5</td>\n      <td>2</td>\n    </tr>\n    <tr>\n      <th>16</th>\n      <td>5.3</td>\n      <td>1443</td>\n      <td>138</td>\n      <td>8</td>\n      <td>2062</td>\n      <td>0.68</td>\n      <td>0.99</td>\n      <td>0.41</td>\n      <td>0.95</td>\n      <td>0.58</td>\n      <td>...</td>\n      <td>14</td>\n      <td>1188</td>\n      <td>0.78</td>\n      <td>0.99</td>\n      <td>0.66</td>\n      <td>0.90</td>\n      <td>0.79</td>\n      <td>0.23</td>\n      <td>5</td>\n      <td>3</td>\n    </tr>\n    <tr>\n      <th>17</th>\n      <td>5.4</td>\n      <td>4127</td>\n      <td>861</td>\n      <td>109</td>\n      <td>7541</td>\n      <td>0.62</td>\n      <td>0.97</td>\n      <td>0.35</td>\n      <td>0.89</td>\n      <td>0.52</td>\n      <td>...</td>\n      <td>64</td>\n      <td>3653</td>\n      <td>0.81</td>\n      <td>0.99</td>\n      <td>0.69</td>\n      <td>0.93</td>\n      <td>0.81</td>\n      <td>0.34</td>\n      <td>5</td>\n      <td>4</td>\n    </tr>\n    <tr>\n      <th>18</th>\n      <td>5.5</td>\n      <td>1783</td>\n      <td>172</td>\n      <td>7</td>\n      <td>4656</td>\n      <td>0.62</td>\n      <td>1.00</td>\n      <td>0.28</td>\n      <td>0.96</td>\n      <td>0.43</td>\n      <td>...</td>\n      <td>2</td>\n      <td>2682</td>\n      <td>0.79</td>\n      <td>1.00</td>\n      <td>0.58</td>\n      <td>0.99</td>\n      <td>0.74</td>\n      <td>0.19</td>\n      <td>5</td>\n      <td>5</td>\n    </tr>\n  </tbody>\n</table>\n<p>19 rows × 23 columns</p>\n</div>"
     },
     "execution_count": 21,
     "metadata": {},
     "output_type": "execute_result"
    }
   ],
   "source": [
    "df_top.columns=pd.MultiIndex.from_arrays([['id', 'RDB1', 'RDB1', 'RDB1', 'RDB1', 'RDB1', 'RDB1', 'RDB1', 'RDB1', 'RDB1', 'RDB1', 'RDB2', 'RDB2', 'RDB2', 'RDB2', 'RDB2', 'RDB2', 'RDB2', 'RDB2', 'RDB2', 'RDB2', 'id', 'id'], ['topologies', 'TP', 'TN', 'FP', 'FN', 'bacc', 'p', 'se', 'sp', 'f1', 'mcc', 'TP', 'TN', 'FP', 'FN', 'bacc', 'p', 'se', 'sp', 'f1', 'mcc', 'c', 't']])\n",
    "df_top"
   ],
   "metadata": {
    "collapsed": false,
    "ExecuteTime": {
     "end_time": "2023-05-19T14:48:07.180397296Z",
     "start_time": "2023-05-19T14:48:07.149437357Z"
    }
   }
  },
  {
   "cell_type": "code",
   "execution_count": 22,
   "outputs": [],
   "source": [
    "# table topologies\n",
    "df_1 = df_top\n",
    "df_1.columns = pd.MultiIndex.from_arrays([['topologies', 'TP', 'TN', 'FP', 'FN', 'bacc', 'p', 'se', 'sp', 'f1', 'mcc', 'TP', 'TN', 'FP', 'FN', 'bacc', 'p', 'se', 'sp', 'f1', 'mcc', 'c', 't']])\n",
    "df_1 = df_1.iloc[:,0:11]\n",
    "df_1['tool'] = 'RDBLITE1'\n",
    "\n",
    "df_2 = df_top\n",
    "df_2.columns = pd.MultiIndex.from_arrays([['topologies', 'TP', 'TN', 'FP', 'FN', 'bacc', 'p', 'se', 'sp', 'f1', 'mcc', 'TP', 'TN', 'FP', 'FN', 'bacc', 'p', 'se', 'sp', 'f1', 'mcc', 'c', 't']])\n",
    "df_2 = df_2.iloc[:,11:21]\n",
    "df_2['tool'] = 'RDBLITE2'\n",
    "df_2['topologies'] = df_1['topologies']\n",
    "\n",
    "cols = list(df_2.columns)\n",
    "cols = [cols[-1]] + cols[:-1]\n",
    "df_2 = df_2[cols]\n",
    "df_merge_top = pd.concat([df_1, df_2]).sort_index()\n",
    "df_merge_top.to_csv('tables/table_topologies.csv', index=False)"
   ],
   "metadata": {
    "collapsed": false,
    "ExecuteTime": {
     "end_time": "2023-05-19T14:48:07.180546548Z",
     "start_time": "2023-05-19T14:48:07.168791553Z"
    }
   }
  },
  {
   "cell_type": "code",
   "execution_count": 23,
   "outputs": [
    {
     "ename": "KeyError",
     "evalue": "'Key length (2) exceeds index depth (1)'",
     "output_type": "error",
     "traceback": [
      "\u001B[0;31m---------------------------------------------------------------------------\u001B[0m",
      "\u001B[0;31mKeyError\u001B[0m                                  Traceback (most recent call last)",
      "Cell \u001B[0;32mIn[23], line 12\u001B[0m\n\u001B[1;32m      8\u001B[0m \u001B[38;5;66;03m# RDBL 1\u001B[39;00m\n\u001B[1;32m     10\u001B[0m fig \u001B[38;5;241m=\u001B[39m make_subplots(rows\u001B[38;5;241m=\u001B[39m\u001B[38;5;241m2\u001B[39m, cols\u001B[38;5;241m=\u001B[39m\u001B[38;5;241m1\u001B[39m)\n\u001B[1;32m     11\u001B[0m fig\u001B[38;5;241m.\u001B[39madd_trace(go\u001B[38;5;241m.\u001B[39mBar(\n\u001B[0;32m---> 12\u001B[0m     y\u001B[38;5;241m=\u001B[39m np\u001B[38;5;241m.\u001B[39marray(\u001B[43mdf_top\u001B[49m\u001B[43m[\u001B[49m\u001B[43m(\u001B[49m\u001B[38;5;124;43m'\u001B[39;49m\u001B[38;5;124;43mRDB2\u001B[39;49m\u001B[38;5;124;43m'\u001B[39;49m\u001B[43m,\u001B[49m\u001B[38;5;124;43m'\u001B[39;49m\u001B[38;5;124;43mbacc\u001B[39;49m\u001B[38;5;124;43m'\u001B[39;49m\u001B[43m)\u001B[49m\u001B[43m]\u001B[49m\u001B[38;5;241m.\u001B[39mvalues\u001B[38;5;241m.\u001B[39mtolist()) \u001B[38;5;241m-\u001B[39m  np\u001B[38;5;241m.\u001B[39marray(df_top[(\u001B[38;5;124m'\u001B[39m\u001B[38;5;124mRDB1\u001B[39m\u001B[38;5;124m'\u001B[39m,\u001B[38;5;124m'\u001B[39m\u001B[38;5;124mbacc\u001B[39m\u001B[38;5;124m'\u001B[39m)]\u001B[38;5;241m.\u001B[39mvalues\u001B[38;5;241m.\u001B[39mtolist()),\n\u001B[1;32m     13\u001B[0m     x\u001B[38;5;241m=\u001B[39mx,\n\u001B[1;32m     14\u001B[0m     name\u001B[38;5;241m=\u001B[39m\u001B[38;5;124m'\u001B[39m\u001B[38;5;124maccuracy\u001B[39m\u001B[38;5;124m'\u001B[39m,\n\u001B[1;32m     15\u001B[0m     marker_color\u001B[38;5;241m=\u001B[39m\u001B[38;5;124m'\u001B[39m\u001B[38;5;124m#EDAE49\u001B[39m\u001B[38;5;124m'\u001B[39m\n\u001B[1;32m     16\u001B[0m ), row\u001B[38;5;241m=\u001B[39m\u001B[38;5;241m1\u001B[39m, col\u001B[38;5;241m=\u001B[39m\u001B[38;5;241m1\u001B[39m)\n\u001B[1;32m     17\u001B[0m fig\u001B[38;5;241m.\u001B[39madd_trace(go\u001B[38;5;241m.\u001B[39mBar(\n\u001B[1;32m     18\u001B[0m     y\u001B[38;5;241m=\u001B[39mnp\u001B[38;5;241m.\u001B[39marray(df_top[(\u001B[38;5;124m'\u001B[39m\u001B[38;5;124mRDB2\u001B[39m\u001B[38;5;124m'\u001B[39m,\u001B[38;5;124m'\u001B[39m\u001B[38;5;124mp\u001B[39m\u001B[38;5;124m'\u001B[39m)]\u001B[38;5;241m.\u001B[39mvalues\u001B[38;5;241m.\u001B[39mtolist()) \u001B[38;5;241m-\u001B[39m np\u001B[38;5;241m.\u001B[39marray(df_top[(\u001B[38;5;124m'\u001B[39m\u001B[38;5;124mRDB1\u001B[39m\u001B[38;5;124m'\u001B[39m,\u001B[38;5;124m'\u001B[39m\u001B[38;5;124mp\u001B[39m\u001B[38;5;124m'\u001B[39m)]\u001B[38;5;241m.\u001B[39mvalues\u001B[38;5;241m.\u001B[39mtolist()),\n\u001B[1;32m     19\u001B[0m     x\u001B[38;5;241m=\u001B[39mx,\n\u001B[1;32m     20\u001B[0m     name\u001B[38;5;241m=\u001B[39m\u001B[38;5;124m'\u001B[39m\u001B[38;5;124mprecision\u001B[39m\u001B[38;5;124m'\u001B[39m,\n\u001B[1;32m     21\u001B[0m     marker_color\u001B[38;5;241m=\u001B[39m\u001B[38;5;124m'\u001B[39m\u001B[38;5;124m#D1495B\u001B[39m\u001B[38;5;124m'\u001B[39m\n\u001B[1;32m     22\u001B[0m ), row\u001B[38;5;241m=\u001B[39m\u001B[38;5;241m1\u001B[39m, col\u001B[38;5;241m=\u001B[39m\u001B[38;5;241m1\u001B[39m)\n\u001B[1;32m     23\u001B[0m fig\u001B[38;5;241m.\u001B[39madd_trace(go\u001B[38;5;241m.\u001B[39mBar(\n\u001B[1;32m     24\u001B[0m     y\u001B[38;5;241m=\u001B[39mnp\u001B[38;5;241m.\u001B[39marray(df_top[(\u001B[38;5;124m'\u001B[39m\u001B[38;5;124mRDB2\u001B[39m\u001B[38;5;124m'\u001B[39m,\u001B[38;5;124m'\u001B[39m\u001B[38;5;124mse\u001B[39m\u001B[38;5;124m'\u001B[39m)]\u001B[38;5;241m.\u001B[39mvalues\u001B[38;5;241m.\u001B[39mtolist()) \u001B[38;5;241m-\u001B[39m np\u001B[38;5;241m.\u001B[39marray(df_top[(\u001B[38;5;124m'\u001B[39m\u001B[38;5;124mRDB1\u001B[39m\u001B[38;5;124m'\u001B[39m,\u001B[38;5;124m'\u001B[39m\u001B[38;5;124mse\u001B[39m\u001B[38;5;124m'\u001B[39m)]\u001B[38;5;241m.\u001B[39mvalues\u001B[38;5;241m.\u001B[39mtolist()),\n\u001B[1;32m     25\u001B[0m     x\u001B[38;5;241m=\u001B[39mx,\n\u001B[1;32m     26\u001B[0m     name\u001B[38;5;241m=\u001B[39m\u001B[38;5;124m'\u001B[39m\u001B[38;5;124mrecall\u001B[39m\u001B[38;5;124m'\u001B[39m,\n\u001B[1;32m     27\u001B[0m     marker_color\u001B[38;5;241m=\u001B[39m\u001B[38;5;124m'\u001B[39m\u001B[38;5;124m#00798C\u001B[39m\u001B[38;5;124m'\u001B[39m\n\u001B[1;32m     28\u001B[0m ), row\u001B[38;5;241m=\u001B[39m\u001B[38;5;241m1\u001B[39m, col\u001B[38;5;241m=\u001B[39m\u001B[38;5;241m1\u001B[39m)\n",
      "File \u001B[0;32m~/miniconda3/lib/python3.9/site-packages/pandas/core/frame.py:3505\u001B[0m, in \u001B[0;36mDataFrame.__getitem__\u001B[0;34m(self, key)\u001B[0m\n\u001B[1;32m   3503\u001B[0m \u001B[38;5;28;01mif\u001B[39;00m \u001B[38;5;28mself\u001B[39m\u001B[38;5;241m.\u001B[39mcolumns\u001B[38;5;241m.\u001B[39mnlevels \u001B[38;5;241m>\u001B[39m \u001B[38;5;241m1\u001B[39m:\n\u001B[1;32m   3504\u001B[0m     \u001B[38;5;28;01mreturn\u001B[39;00m \u001B[38;5;28mself\u001B[39m\u001B[38;5;241m.\u001B[39m_getitem_multilevel(key)\n\u001B[0;32m-> 3505\u001B[0m indexer \u001B[38;5;241m=\u001B[39m \u001B[38;5;28;43mself\u001B[39;49m\u001B[38;5;241;43m.\u001B[39;49m\u001B[43mcolumns\u001B[49m\u001B[38;5;241;43m.\u001B[39;49m\u001B[43mget_loc\u001B[49m\u001B[43m(\u001B[49m\u001B[43mkey\u001B[49m\u001B[43m)\u001B[49m\n\u001B[1;32m   3506\u001B[0m \u001B[38;5;28;01mif\u001B[39;00m is_integer(indexer):\n\u001B[1;32m   3507\u001B[0m     indexer \u001B[38;5;241m=\u001B[39m [indexer]\n",
      "File \u001B[0;32m~/miniconda3/lib/python3.9/site-packages/pandas/core/indexes/multi.py:2874\u001B[0m, in \u001B[0;36mMultiIndex.get_loc\u001B[0;34m(self, key, method)\u001B[0m\n\u001B[1;32m   2872\u001B[0m keylen \u001B[38;5;241m=\u001B[39m \u001B[38;5;28mlen\u001B[39m(key)\n\u001B[1;32m   2873\u001B[0m \u001B[38;5;28;01mif\u001B[39;00m \u001B[38;5;28mself\u001B[39m\u001B[38;5;241m.\u001B[39mnlevels \u001B[38;5;241m<\u001B[39m keylen:\n\u001B[0;32m-> 2874\u001B[0m     \u001B[38;5;28;01mraise\u001B[39;00m \u001B[38;5;167;01mKeyError\u001B[39;00m(\n\u001B[1;32m   2875\u001B[0m         \u001B[38;5;124mf\u001B[39m\u001B[38;5;124m\"\u001B[39m\u001B[38;5;124mKey length (\u001B[39m\u001B[38;5;132;01m{\u001B[39;00mkeylen\u001B[38;5;132;01m}\u001B[39;00m\u001B[38;5;124m) exceeds index depth (\u001B[39m\u001B[38;5;132;01m{\u001B[39;00m\u001B[38;5;28mself\u001B[39m\u001B[38;5;241m.\u001B[39mnlevels\u001B[38;5;132;01m}\u001B[39;00m\u001B[38;5;124m)\u001B[39m\u001B[38;5;124m\"\u001B[39m\n\u001B[1;32m   2876\u001B[0m     )\n\u001B[1;32m   2878\u001B[0m \u001B[38;5;28;01mif\u001B[39;00m keylen \u001B[38;5;241m==\u001B[39m \u001B[38;5;28mself\u001B[39m\u001B[38;5;241m.\u001B[39mnlevels \u001B[38;5;129;01mand\u001B[39;00m \u001B[38;5;28mself\u001B[39m\u001B[38;5;241m.\u001B[39mis_unique:\n\u001B[1;32m   2879\u001B[0m     \u001B[38;5;28;01mtry\u001B[39;00m:\n",
      "\u001B[0;31mKeyError\u001B[0m: 'Key length (2) exceeds index depth (1)'"
     ]
    }
   ],
   "source": [
    "# plot\n",
    "x = ['3.1 Beta-solenoid', '3.2 Alpha/beta solenoid',\n",
    "     '3.3 Alpha-solenoid', '3.4 Beta hairpins', '3.6 Box', '4.1 TIM-barrel', '4.2 Beta-barrel / beta hairpins',\n",
    "     '4.3 Beta-trefoil', '4.4 Propeller', '4.5 Alpha/beta prism',\n",
    "     '4.6 Alpha-barrel', '4.7 Alpha/beta barrel','4.9 Alpha/beta trefoil',  '4.10 Aligned prism',\n",
    "     '5.1 Alpha-beads', '5.2 Beta-beads', '5.3 Alpha/beta-beads', '5.4 Beta sandwich beads', '5.5 Alpha/beta sandwich beads']\n",
    "\n",
    "# RDBL 1\n",
    "\n",
    "fig = make_subplots(rows=2, cols=1)\n",
    "fig.add_trace(go.Bar(\n",
    "    y= np.array(df_top[('RDB2','bacc')].values.tolist()) -  np.array(df_top[('RDB1','bacc')].values.tolist()),\n",
    "    x=x,\n",
    "    name='accuracy',\n",
    "    marker_color='#EDAE49'\n",
    "), row=1, col=1)\n",
    "fig.add_trace(go.Bar(\n",
    "    y=np.array(df_top[('RDB2','p')].values.tolist()) - np.array(df_top[('RDB1','p')].values.tolist()),\n",
    "    x=x,\n",
    "    name='precision',\n",
    "    marker_color='#D1495B'\n",
    "), row=1, col=1)\n",
    "fig.add_trace(go.Bar(\n",
    "    y=np.array(df_top[('RDB2','se')].values.tolist()) - np.array(df_top[('RDB1','se')].values.tolist()),\n",
    "    x=x,\n",
    "    name='recall',\n",
    "    marker_color='#00798C'\n",
    "), row=1, col=1)\n",
    "fig.add_trace(go.Bar(\n",
    "    y=np.array(df_top[('RDB2','f1')].values.tolist()) - np.array(df_top[('RDB1','f1')].values.tolist()),\n",
    "    x=x,\n",
    "    name='f-score',\n",
    "    marker_color='#003D5B'\n",
    "), row=1, col=1)"
   ],
   "metadata": {
    "collapsed": false,
    "ExecuteTime": {
     "end_time": "2023-05-19T14:48:08.397177609Z",
     "start_time": "2023-05-19T14:48:07.177352266Z"
    }
   }
  },
  {
   "cell_type": "code",
   "execution_count": null,
   "outputs": [],
   "source": [
    " # PDBS distribution\n",
    "df_pdbs = pd.DataFrame.from_dict(Counter(df_topologies['topologies']), orient='index', columns=['#PDBs'])\n",
    "\n",
    "fig.add_trace(go.Bar(\n",
    "    y=df_pdbs['#PDBs'].values.tolist(),\n",
    "    x=x,\n",
    "    name='PDBs',\n",
    "    marker_color='#003D5F'\n",
    "), row=2, col=1)\n",
    "fig.update_layout(title='RepeatsDB-lite2 - RepeatsDB-lite1', width=1000, height=1000)\n",
    "# fig.write_image(\"plots/a_p_r_m_dataset_rdb3.png\")"
   ],
   "metadata": {
    "collapsed": false
   }
  },
  {
   "cell_type": "code",
   "execution_count": null,
   "outputs": [],
   "source": [
    "# RDBL 1\n",
    "\n",
    "fig1 = make_subplots(rows=1, cols=1)\n",
    "fig1.add_trace(go.Bar(\n",
    "    y= df_top[('RDB1','bacc')].values.tolist(),\n",
    "    x=x,\n",
    "    name='accuracy',\n",
    "    marker_color='#EDAE49'\n",
    "), row=1, col=1)\n",
    "fig1.add_trace(go.Bar(\n",
    "    y=df_top[('RDB1','p')].values.tolist(),\n",
    "    x=x,\n",
    "    name='precision',\n",
    "    marker_color='#D1495B'\n",
    "), row=1, col=1)\n",
    "fig1.add_trace(go.Bar(\n",
    "    y=df_top[('RDB1','se')].values.tolist(),\n",
    "    x=x,\n",
    "    name='recall',\n",
    "    marker_color='#00798C'\n",
    "), row=1, col=1)\n",
    "fig1.add_trace(go.Bar(\n",
    "    y=df_top[('RDB2','f1')].values.tolist(),\n",
    "    x=x,\n",
    "    name='f-score',\n",
    "    marker_color='#003D5B'\n",
    "), row=1, col=1)\n",
    "# fig1.write_image(\"plots/a_p_r_m_dataset_rdb1.png\")"
   ],
   "metadata": {
    "collapsed": false
   }
  },
  {
   "cell_type": "code",
   "execution_count": null,
   "outputs": [],
   "source": [
    "# RDBL 2\n",
    "\n",
    "fig2 = make_subplots(rows=1, cols=1)\n",
    "fig2.add_trace(go.Bar(\n",
    "    y= df_top[('RDB2','bacc')].values.tolist(),\n",
    "    x=x,\n",
    "    name='accuracy',\n",
    "    marker_color='#EDAE49'\n",
    "), row=1, col=1)\n",
    "fig2.add_trace(go.Bar(\n",
    "    y=df_top[('RDB2','p')].values.tolist(),\n",
    "    x=x,\n",
    "    name='precision',\n",
    "    marker_color='#D1495B'\n",
    "), row=1, col=1)\n",
    "fig2.add_trace(go.Bar(\n",
    "    y=df_top[('RDB2','se')].values.tolist(),\n",
    "    x=x,\n",
    "    name='recall',\n",
    "    marker_color='#00798C'\n",
    "), row=1, col=1)\n",
    "fig2.add_trace(go.Bar(\n",
    "    y=df_top[('RDB2','f1')].values.tolist(),\n",
    "    x=x,\n",
    "    name='f-score',\n",
    "    marker_color='#003D5B'\n",
    "), row=1, col=1)\n",
    "# fig2.write_image(\"plots/a_p_r_m_dataset_rdb2.png\")"
   ],
   "metadata": {
    "collapsed": false
   }
  },
  {
   "cell_type": "code",
   "execution_count": null,
   "outputs": [],
   "source": [
    "# boxplots PDB - topologies\n",
    "# apply calc_metrics function to each row for both RDB1 and RDB2\n",
    "data = []\n",
    "for index, row in df_prot.iterrows():\n",
    "    # print(*row['RDB1'], *calc_metrics(*row['RDB1']))\n",
    "    data.append([index[0], index[1], index[2], *row[:4], *calc_metrics(*row['RDB1']), *row[4:], *calc_metrics(*row['RDB2'])])\n",
    "df_classes = pd.DataFrame(data)\n",
    "df_classes\n",
    "df_classes.rename(columns={0: 'pdb_id'}, inplace=True)\n",
    "df_classes.rename(columns={1: 'pdb_chain'}, inplace=True)\n",
    "df_boxplots = df_classes.merge(df_topologies, how='right', on=['pdb_id', 'pdb_chain'])\n",
    "df_boxplots"
   ],
   "metadata": {
    "collapsed": false
   }
  },
  {
   "cell_type": "code",
   "execution_count": null,
   "outputs": [],
   "source": [
    "# accuracy\n",
    "df_boxplots.rename(columns={7: 'a1'}, inplace=True)\n",
    "df_boxplots.rename(columns={17: 'a2'}, inplace=True)\n",
    "df_plot1 = df_boxplots[['a1', 'topologies']].rename(columns={\"a1\": \"accuracy\"})\n",
    "df_plot2 = df_boxplots[['a2', 'topologies']].rename(columns={\"a2\": \"accuracy\"})\n",
    "df_plot1['tool'] = 'RepeatsDB-lite1'\n",
    "df_plot2['tool'] = 'RepeatsDB-lite2'\n",
    "\n",
    "df_final = pd.concat([df_plot1, df_plot2])\n",
    "df_final = df_final.sort_values(by=['topologies'], ascending=True)\n",
    "df_final[['class','subclass']] = df_final['topologies'].str.split('.',expand=True)\n",
    "\n",
    "fig = px.box(df_final, x=\"topologies\", y=\"accuracy\", color='tool')\n",
    "fig.update_layout(width=1000)\n",
    "fig.write_image(\"plots/accuracy_pdbs.png\")\n",
    "fig = px.box(df_final, x=\"class\", y=\"accuracy\", color='tool')\n",
    "fig.show()\n",
    "fig.update_layout(width=1000)\n",
    "fig.write_image(\"plots/accuracy_pdbs_classes.png\")"
   ],
   "metadata": {
    "collapsed": false
   }
  },
  {
   "cell_type": "code",
   "execution_count": null,
   "outputs": [],
   "source": [
    "# precision\n",
    "df_boxplots.rename(columns={8: 'p1'}, inplace=True)\n",
    "df_boxplots.rename(columns={18: 'p2'}, inplace=True)\n",
    "df_plot1 = df_boxplots[['p1', 'topologies']].rename(columns={'p1': \"precision\"})\n",
    "df_plot2 = df_boxplots[['p2', 'topologies']].rename(columns={'p2': \"precision\"})\n",
    "df_plot1['tool'] = 'RepeatsDB-lite1'\n",
    "df_plot2['tool'] = 'RepeatsDB-lite2'\n",
    "df_final = pd.concat([df_plot1, df_plot2])\n",
    "df_final = df_final.sort_values(by=['topologies'], ascending=True)\n",
    "df_final[['class','subclass']] = df_final['topologies'].str.split('.',expand=True)\n",
    "\n",
    "\n",
    "fig = px.box(df_final, x=\"topologies\", y=\"precision\", color='tool')\n",
    "fig.update_layout(width=1000)\n",
    "fig.write_image(\"plots/precision_pdbs.png\")\n",
    "fig = px.box(df_final, x=\"class\", y=\"precision\", color='tool')\n",
    "fig.update_layout(width=1000)\n",
    "fig.write_image(\"plots/precision_pdbs_classes.png\")\n"
   ],
   "metadata": {
    "collapsed": false
   }
  },
  {
   "cell_type": "code",
   "execution_count": null,
   "outputs": [],
   "source": [
    "# recall\n",
    "df_boxplots.rename(columns={9: 'r1'}, inplace=True)\n",
    "df_boxplots.rename(columns={19: 'r2'}, inplace=True)\n",
    "df_plot1 = df_boxplots[['r1', 'topologies']].rename(columns={\"r1\": \"recall\"})\n",
    "df_plot2 = df_boxplots[['r2', 'topologies']].rename(columns={\"r2\": \"recall\"})\n",
    "df_plot1['tool'] = 'RepeatsDB-lite1'\n",
    "df_plot2['tool'] = 'RepeatsDB-lite2'\n",
    "df_final = pd.concat([df_plot1, df_plot2])\n",
    "df_final = df_final.sort_values(by=['topologies'], ascending=True)\n",
    "df_final[['class','subclass']] = df_final['topologies'].str.split('.',expand=True)\n",
    "\n",
    "\n",
    "fig = px.box(df_final, x=\"topologies\", y=\"recall\", color='tool')\n",
    "fig.update_layout(width=1000)\n",
    "fig.write_image(\"plots/recall_pdbs.png\")\n",
    "fig = px.box(df_final, x=\"class\", y=\"recall\", color='tool')\n",
    "fig.update_layout(width=1000)\n",
    "fig.write_image(\"plots/recall_pdbs_classes.png\")\n"
   ],
   "metadata": {
    "collapsed": false
   }
  },
  {
   "cell_type": "code",
   "execution_count": null,
   "outputs": [],
   "source": [
    "# F score\n",
    "df_boxplots.rename(columns={10: 'f1'}, inplace=True)\n",
    "df_boxplots.rename(columns={20: 'f2'}, inplace=True)\n",
    "df_f1 = df_boxplots[['f1', 'topologies']].rename(columns={\"f1\": \"f-score\"})\n",
    "df_f2 = df_boxplots[['f2', 'topologies']].rename(columns={\"f2\": \"f-score\"})\n",
    "df_f1['tool'] = 'RepeatsDB-lite1'\n",
    "df_f2['tool'] = 'RepeatsDB-lite2'\n",
    "df_final = pd.concat([df_f1, df_f2])\n",
    "df_final = df_final.sort_values(by=['topologies'], ascending=True)\n",
    "df_final[['class','subclass']] = df_final['topologies'].str.split('.',expand=True)\n",
    "\n",
    "fig = px.box(df_final, x=\"topologies\", y=\"f-score\", color='tool')\n",
    "fig.update_layout(width=1000)\n",
    "fig.write_image(\"plots/f-score_pdbs.png\")\n",
    "fig = px.box(df_final, x=\"class\", y=\"f-score\", color='tool')\n",
    "fig.update_layout(width=1000)\n",
    "fig.write_image(\"plots/f-score_pdbs_classes.png\")\n",
    "\n",
    "# f1 by method\n",
    "fig = px.box(df_final, x=\"tool\", y=\"f-score\")\n",
    "fig.write_image(\"plots/f-score_by_method.png\")"
   ],
   "metadata": {
    "collapsed": false
   }
  },
  {
   "cell_type": "code",
   "execution_count": null,
   "outputs": [],
   "source": [],
   "metadata": {
    "collapsed": false
   }
  }
 ],
 "metadata": {
  "kernelspec": {
   "display_name": "Python 3",
   "language": "python",
   "name": "python3"
  },
  "language_info": {
   "codemirror_mode": {
    "name": "ipython",
    "version": 2
   },
   "file_extension": ".py",
   "mimetype": "text/x-python",
   "name": "python",
   "nbconvert_exporter": "python",
   "pygments_lexer": "ipython2",
   "version": "2.7.6"
  }
 },
 "nbformat": 4,
 "nbformat_minor": 0
}
