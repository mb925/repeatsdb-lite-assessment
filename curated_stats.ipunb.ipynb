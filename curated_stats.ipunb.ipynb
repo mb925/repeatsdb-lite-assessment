{
 "cells": [
  {
   "cell_type": "code",
   "execution_count": 9,
   "outputs": [],
   "source": [
    "from functools import reduce\n",
    "import pandas as pd\n",
    "import json"
   ],
   "metadata": {
    "collapsed": false,
    "ExecuteTime": {
     "end_time": "2023-05-22T08:26:10.538153507Z",
     "start_time": "2023-05-22T08:26:10.529959330Z"
    }
   }
  },
  {
   "cell_type": "code",
   "execution_count": 10,
   "outputs": [],
   "source": [
    "# Get info such as number of pdb, units...\n",
    "f = open('data/entries.json')\n",
    "pdbs_list = pd.read_csv('data/input.txt', sep=' ')\n",
    "\n",
    "data = json.load(f)\n",
    "data = pd.DataFrame.from_records(data)\n",
    "data = data.loc[data['class'] != \"\"]\n",
    "data = pd.merge(data, pdbs_list, on=['pdb_id', 'pdb_chain'], how='right')"
   ],
   "metadata": {
    "collapsed": false,
    "ExecuteTime": {
     "end_time": "2023-05-22T08:26:11.623184988Z",
     "start_time": "2023-05-22T08:26:10.533888624Z"
    }
   }
  },
  {
   "cell_type": "code",
   "execution_count": 11,
   "outputs": [
    {
     "name": "stderr",
     "output_type": "stream",
     "text": [
      "/tmp/ipykernel_1480133/186686533.py:4: FutureWarning: The frame.append method is deprecated and will be removed from pandas in a future version. Use pandas.concat instead.\n",
      "  pdbs_top = pdbs_top.append(pdbs_top.sum(numeric_only=True), ignore_index=True).fillna('Total')\n",
      "/tmp/ipykernel_1480133/186686533.py:7: FutureWarning: The frame.append method is deprecated and will be removed from pandas in a future version. Use pandas.concat instead.\n",
      "  pdbs_cl = pdbs_cl.append(pdbs_cl.sum(numeric_only=True), ignore_index=True).fillna('Total')\n"
     ]
    }
   ],
   "source": [
    " # pdb chains\n",
    "pdbs_top = data.groupby(['repeatsdb_id','class_topology'])['class_topology'].size().reset_index(name='PDB chains')\n",
    "pdbs_top = pdbs_top.groupby(['class_topology']).size().reset_index(name='PDB chains')\n",
    "pdbs_top = pdbs_top.append(pdbs_top.sum(numeric_only=True), ignore_index=True).fillna('Total')\n",
    "pdbs_cl = data.groupby(['repeatsdb_id','class'])['class'].size().reset_index(name='PDB chains')\n",
    "pdbs_cl = pdbs_cl.groupby(['class']).size().reset_index(name='PDB chains')\n",
    "pdbs_cl = pdbs_cl.append(pdbs_cl.sum(numeric_only=True), ignore_index=True).fillna('Total')"
   ],
   "metadata": {
    "collapsed": false,
    "ExecuteTime": {
     "end_time": "2023-05-22T08:26:11.663372879Z",
     "start_time": "2023-05-22T08:26:11.629874007Z"
    }
   }
  },
  {
   "cell_type": "code",
   "execution_count": 16,
   "outputs": [
    {
     "name": "stdout",
     "output_type": "stream",
     "text": [
      "   class  Regions\n",
      "0      2        1\n",
      "1      3     1520\n",
      "2      4     2036\n",
      "3      5      123\n",
      "4  Total     3680\n"
     ]
    },
    {
     "name": "stderr",
     "output_type": "stream",
     "text": [
      "/tmp/ipykernel_1480133/3404434773.py:4: FutureWarning: The frame.append method is deprecated and will be removed from pandas in a future version. Use pandas.concat instead.\n",
      "  regions_top = regions_top.append(regions_top.sum(numeric_only=True), ignore_index=True).fillna('Total')\n",
      "/tmp/ipykernel_1480133/3404434773.py:7: FutureWarning: The frame.append method is deprecated and will be removed from pandas in a future version. Use pandas.concat instead.\n",
      "  regions_cl = regions_cl.append(regions_cl.sum(numeric_only=True), ignore_index=True).fillna('Total')\n"
     ]
    }
   ],
   "source": [
    " # regions\n",
    "regions_top = data.groupby(['region_id','class_topology'])['class_topology'].size().reset_index(name='Regions')\n",
    "regions_top = regions_top.groupby(['class_topology']).size().reset_index(name='Regions')\n",
    "regions_top = regions_top.append(regions_top.sum(numeric_only=True), ignore_index=True).fillna('Total')\n",
    "regions_cl = data.groupby(['region_id','class'])['class'].size().reset_index(name='Regions')\n",
    "regions_cl = regions_cl.groupby(['class']).size().reset_index(name='Regions')\n",
    "regions_cl = regions_cl.append(regions_cl.sum(numeric_only=True), ignore_index=True).fillna('Total')\n",
    "print(regions_cl)"
   ],
   "metadata": {
    "collapsed": false,
    "ExecuteTime": {
     "end_time": "2023-05-22T08:27:41.168518057Z",
     "start_time": "2023-05-22T08:27:41.140724972Z"
    }
   }
  },
  {
   "cell_type": "code",
   "execution_count": 13,
   "outputs": [
    {
     "name": "stderr",
     "output_type": "stream",
     "text": [
      "/tmp/ipykernel_1480133/3976614780.py:4: FutureWarning: The frame.append method is deprecated and will be removed from pandas in a future version. Use pandas.concat instead.\n",
      "  units_top = units_top.append(units_top.sum(numeric_only=True), ignore_index=True).fillna('Total')\n",
      "/tmp/ipykernel_1480133/3976614780.py:6: FutureWarning: The frame.append method is deprecated and will be removed from pandas in a future version. Use pandas.concat instead.\n",
      "  units_cl = units_cl.append(units_cl.sum(numeric_only=True), ignore_index=True).fillna('Total')\n"
     ]
    }
   ],
   "source": [
    " # units\n",
    "units = data.loc[data['type'] == 'unit']\n",
    "units_top = units.groupby(['class_topology'])['class_topology'].size().reset_index(name='Units')\n",
    "units_top = units_top.append(units_top.sum(numeric_only=True), ignore_index=True).fillna('Total')\n",
    "units_cl = units.groupby(['class'])['class'].size().reset_index(name='Units')\n",
    "units_cl = units_cl.append(units_cl.sum(numeric_only=True), ignore_index=True).fillna('Total')"
   ],
   "metadata": {
    "collapsed": false,
    "ExecuteTime": {
     "end_time": "2023-05-22T08:26:11.755301733Z",
     "start_time": "2023-05-22T08:26:11.705666636Z"
    }
   }
  },
  {
   "cell_type": "code",
   "execution_count": 20,
   "outputs": [
    {
     "name": "stdout",
     "output_type": "stream",
     "text": [
      "   class  Unit len\n",
      "0      2     27.00\n",
      "1      3     33.58\n",
      "2      4     39.50\n",
      "3      5     75.00\n",
      "4  Total     43.77\n"
     ]
    },
    {
     "name": "stderr",
     "output_type": "stream",
     "text": [
      "/tmp/ipykernel_1480133/2089663907.py:3: FutureWarning: Dropping of nuisance columns in DataFrame reductions (with 'numeric_only=None') is deprecated; in a future version this will raise TypeError.  Select only valid columns before calling the reduction.\n",
      "  avg_units_top = avg_units_top.append(avg_units_top.mean().round(2), ignore_index=True).fillna('Total')\n",
      "/tmp/ipykernel_1480133/2089663907.py:3: FutureWarning: The frame.append method is deprecated and will be removed from pandas in a future version. Use pandas.concat instead.\n",
      "  avg_units_top = avg_units_top.append(avg_units_top.mean().round(2), ignore_index=True).fillna('Total')\n",
      "/tmp/ipykernel_1480133/2089663907.py:5: FutureWarning: The frame.append method is deprecated and will be removed from pandas in a future version. Use pandas.concat instead.\n",
      "  avg_units_cl = avg_units_cl.append({'class': 'Total', 'Unit len': avg_units_cl['Unit len'].mean()}, ignore_index=True)\n"
     ]
    }
   ],
   "source": [
    " # avg_units_len\n",
    "avg_units_top = units.groupby(['class_topology'])['region_average_unit_length'].mean().round(2).reset_index(name='Unit len')\n",
    "avg_units_top = avg_units_top.append(avg_units_top.mean().round(2), ignore_index=True).fillna('Total')\n",
    "avg_units_cl = units.groupby(['class'])['region_average_unit_length'].mean().round(2).reset_index(name='Unit len')\n",
    "avg_units_cl = avg_units_cl.append({'class': 'Total', 'Unit len': avg_units_cl['Unit len'].mean()}, ignore_index=True)"
   ],
   "metadata": {
    "collapsed": false,
    "ExecuteTime": {
     "end_time": "2023-05-22T08:28:47.820574316Z",
     "start_time": "2023-05-22T08:28:47.794175062Z"
    }
   }
  },
  {
   "cell_type": "code",
   "execution_count": 25,
   "outputs": [
    {
     "name": "stderr",
     "output_type": "stream",
     "text": [
      "/tmp/ipykernel_1480133/654298487.py:4: FutureWarning: The frame.append method is deprecated and will be removed from pandas in a future version. Use pandas.concat instead.\n",
      "  std_units_top = std_units_top.append({'class_topology': 'Total', 'Unit len STD': std_units_top['Unit len STD'].mean()}, ignore_index=True)\n",
      "/tmp/ipykernel_1480133/654298487.py:8: FutureWarning: The frame.append method is deprecated and will be removed from pandas in a future version. Use pandas.concat instead.\n",
      "  std_units_cl = std_units_cl.append({'class': 'Total', 'Unit len STD': std_units_top['Unit len STD'].mean()}, ignore_index=True).fillna('Total')\n"
     ]
    }
   ],
   "source": [
    "# std\n",
    "std_units_top = units.groupby(['class_topology'])['region_average_unit_length'].std().round(2).reset_index(\n",
    "    name='Unit len STD')\n",
    "std_units_top = std_units_top.append({'class_topology': 'Total', 'Unit len STD': std_units_top['Unit len STD'].mean()}, ignore_index=True)\n",
    "\n",
    "std_units_cl = units.groupby(['class'])['region_average_unit_length'].std().round(2).reset_index(\n",
    "    name='Unit len STD')\n",
    "std_units_cl = std_units_cl.append({'class': 'Total', 'Unit len STD': std_units_top['Unit len STD'].mean()}, ignore_index=True).fillna('Total')"
   ],
   "metadata": {
    "collapsed": false,
    "ExecuteTime": {
     "end_time": "2023-05-22T08:29:33.392978464Z",
     "start_time": "2023-05-22T08:29:33.350524978Z"
    }
   }
  },
  {
   "cell_type": "code",
   "execution_count": 26,
   "outputs": [
    {
     "name": "stderr",
     "output_type": "stream",
     "text": [
      "/tmp/ipykernel_1480133/1853083527.py:9: FutureWarning: The frame.append method is deprecated and will be removed from pandas in a future version. Use pandas.concat instead.\n",
      "  uniprot_top = uniprot_top.append(uniprot_top.sum(numeric_only=True), ignore_index=True).fillna('Total')\n",
      "/tmp/ipykernel_1480133/1853083527.py:12: FutureWarning: The frame.append method is deprecated and will be removed from pandas in a future version. Use pandas.concat instead.\n",
      "  uniprot_cl = uniprot_cl.append(uniprot_cl.sum(numeric_only=True), ignore_index=True).fillna('Total')\n"
     ]
    }
   ],
   "source": [
    "# uniprot\n",
    "uniprot = pd.read_csv('data/pdb_chain_uniprot.tsv',  sep='\\t', header=1, index_col='SP_PRIMARY').reset_index()\n",
    "uniprot['repeatsdb_id']=uniprot['PDB'] + uniprot['CHAIN']\n",
    "up = uniprot[['SP_PRIMARY', 'repeatsdb_id']]\n",
    "\n",
    "uniprot_pdb = data.merge(up, how='left', on='repeatsdb_id')\n",
    "uniprot_top = uniprot_pdb.groupby(['SP_PRIMARY','class_topology'])['class_topology'].size().reset_index(name='UniProt')\n",
    "uniprot_top = uniprot_top.groupby(['class_topology'])['class_topology'].size().reset_index(name='UniProt')\n",
    "uniprot_top = uniprot_top.append(uniprot_top.sum(numeric_only=True), ignore_index=True).fillna('Total')\n",
    "uniprot_cl = uniprot_pdb.groupby(['SP_PRIMARY', 'class'])['class'].size().reset_index(name='UniProt')\n",
    "uniprot_cl = uniprot_cl.groupby(['class'])['class'].size().reset_index(name='UniProt')\n",
    "uniprot_cl = uniprot_cl.append(uniprot_cl.sum(numeric_only=True), ignore_index=True).fillna('Total')"
   ],
   "metadata": {
    "collapsed": false,
    "ExecuteTime": {
     "end_time": "2023-05-22T08:29:38.502661346Z",
     "start_time": "2023-05-22T08:29:37.804538120Z"
    }
   }
  },
  {
   "cell_type": "code",
   "execution_count": 27,
   "outputs": [
    {
     "name": "stdout",
     "output_type": "stream",
     "text": [
      "   class  PDB chains  Regions  Units  Unit len  Unit len STD  UniProt\n",
      "0      2           1        1      3     27.00         0.000        1\n",
      "1      3        1462     1520  12174     33.58         9.110      615\n",
      "2      4        1895     2036  13523     39.50        11.830      927\n",
      "3      5         123      123    494     75.00        33.630       81\n",
      "4  Total        3481     3680  26194     43.77         7.712     1624\n"
     ]
    }
   ],
   "source": [
    "class_table = reduce(lambda x, y: pd.merge(x, y, on='class', how='outer'), [pdbs_cl, regions_cl, units_cl, avg_units_cl, std_units_cl, uniprot_cl])\n",
    "topology_table = reduce(lambda x, y: pd.merge(x, y, on='class_topology', how='outer'), [pdbs_top, regions_top, units_top, avg_units_top, std_units_top, uniprot_top])\n",
    "print(class_table)\n",
    "topology_table.to_csv(\"tables/topologies_count.csv\",index=False)\n",
    "class_table.to_csv(\"tables/classes_count.csv\",index=False)"
   ],
   "metadata": {
    "collapsed": false,
    "ExecuteTime": {
     "end_time": "2023-05-22T08:29:42.207165513Z",
     "start_time": "2023-05-22T08:29:42.201770591Z"
    }
   }
  }
 ],
 "metadata": {
  "kernelspec": {
   "display_name": "Python 3",
   "language": "python",
   "name": "python3"
  },
  "language_info": {
   "codemirror_mode": {
    "name": "ipython",
    "version": 2
   },
   "file_extension": ".py",
   "mimetype": "text/x-python",
   "name": "python",
   "nbconvert_exporter": "python",
   "pygments_lexer": "ipython2",
   "version": "2.7.6"
  }
 },
 "nbformat": 4,
 "nbformat_minor": 0
}
